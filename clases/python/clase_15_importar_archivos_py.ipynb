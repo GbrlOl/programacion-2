{
 "cells": [
  {
   "cell_type": "markdown",
   "metadata": {},
   "source": [
    "# **[EIE409] Programación 2**"
   ]
  },
  {
   "cell_type": "markdown",
   "metadata": {},
   "source": [
    "Esta clase todavía no sé como estructurarla, pero quiero ver qué es el **__init__.py**"
   ]
  },
  {
   "cell_type": "markdown",
   "metadata": {},
   "source": [
    "# **1. Módulos y paquetes**"
   ]
  },
  {
   "cell_type": "markdown",
   "metadata": {},
   "source": [
    "* **Modules**: Es un archivo python que contiene código python.\n",
    "* **Package**: Es un directorio que contiene archivos py para realizar distintas cosas."
   ]
  },
  {
   "cell_type": "markdown",
   "metadata": {},
   "source": [
    "Para crear un módulo, debemos crear un archivo ``.py``, este llevará un nombre de archivo. Supongamos que creamos un módulo que tiene funciones matemáticas y lo llamaremos `math_util` y dentro del archivo irán nuestras funciones, que tendrán como nombre `suma`, `resta`, etc. Una vez creado estos archivos, la idea es utilizarlos en otros archivos `.py` o `.ipynb`. La idea es importarlos y reutilizarlos."
   ]
  },
  {
   "cell_type": "code",
   "execution_count": 1,
   "metadata": {},
   "outputs": [],
   "source": [
    "from math_util import suma, resta"
   ]
  },
  {
   "cell_type": "code",
   "execution_count": 2,
   "metadata": {},
   "outputs": [
    {
     "data": {
      "text/plain": [
       "0"
      ]
     },
     "execution_count": 2,
     "metadata": {},
     "output_type": "execute_result"
    }
   ],
   "source": [
    "resta(2,2)"
   ]
  },
  {
   "cell_type": "markdown",
   "metadata": {},
   "source": [
    "Podemos crear otro módulo que contiene otras funciones y otro nombre e importarlo a nuestro notebook."
   ]
  },
  {
   "cell_type": "code",
   "execution_count": 3,
   "metadata": {},
   "outputs": [],
   "source": [
    "from print_util import saludar"
   ]
  },
  {
   "cell_type": "code",
   "execution_count": 4,
   "metadata": {},
   "outputs": [
    {
     "data": {
      "text/plain": [
       "'Hola Gabriel!!!'"
      ]
     },
     "execution_count": 4,
     "metadata": {},
     "output_type": "execute_result"
    }
   ],
   "source": [
    "saludar(\"Gabriel\")"
   ]
  },
  {
   "cell_type": "markdown",
   "metadata": {},
   "source": [
    "**¡Funciona!**, ahora podemos crear distintos módulos y llamarlos a nuestro código. Si te percataste, los códigos están en la misma ruta que mi notebook. Supongamos que tenemos muchos módulos con distintos nombres, nos gustaría ser más ordenados y contener nuestros módulos en una carpeta o subdirectorio. Es aquí donde entra el concepto de paquete, que es un conjunto de módulos."
   ]
  },
  {
   "cell_type": "markdown",
   "metadata": {},
   "source": [
    "**¿Qué ocurre si tenemos una carpeta o directorio con distintos módulos o archivos python en ese directorio?**, **¿Cómo los importo?**"
   ]
  },
  {
   "cell_type": "markdown",
   "metadata": {},
   "source": [
    "Crearemos un directorio denominado ``\"utils\"``, que contendrá nuestros módulos."
   ]
  },
  {
   "cell_type": "code",
   "execution_count": 2,
   "metadata": {},
   "outputs": [],
   "source": [
    "from utils.mult import multiplicar"
   ]
  },
  {
   "cell_type": "code",
   "execution_count": 3,
   "metadata": {},
   "outputs": [
    {
     "data": {
      "text/plain": [
       "50"
      ]
     },
     "execution_count": 3,
     "metadata": {},
     "output_type": "execute_result"
    }
   ],
   "source": [
    "multiplicar(5,5,2)"
   ]
  },
  {
   "cell_type": "markdown",
   "metadata": {},
   "source": [
    "### **¿Para qué sirve el archivo ``__init__.py``?**"
   ]
  },
  {
   "cell_type": "markdown",
   "metadata": {},
   "source": [
    "El archivo ``__init__.py`` es un archivo especial en Python que se utiliza para indicar que un directorio debe ser tratado como un paquete.\n",
    "\n",
    "Cuando Python encuentra un directorio con un archivo ``__init__.py`` dentro de él, reconoce ese directorio como un paquete y permite importar los módulos que contiene. Sin este archivo, Python no consideraría el directorio como un paquete, y no podrías importar sus módulos de manera normal."
   ]
  },
  {
   "cell_type": "markdown",
   "metadata": {},
   "source": [
    "*Nos permite importar los módulos del paquete utils, incluso constantes u otros datos.*"
   ]
  },
  {
   "cell_type": "code",
   "execution_count": 1,
   "metadata": {},
   "outputs": [],
   "source": [
    "from utils import mult, saludar, suma, COLOR"
   ]
  },
  {
   "cell_type": "code",
   "execution_count": 2,
   "metadata": {},
   "outputs": [
    {
     "data": {
      "text/plain": [
       "'red'"
      ]
     },
     "execution_count": 2,
     "metadata": {},
     "output_type": "execute_result"
    }
   ],
   "source": [
    "COLOR"
   ]
  },
  {
   "cell_type": "markdown",
   "metadata": {},
   "source": [
    "**Nota**: a partir de Python 3.3 3l archivo ``__init__.py`` no es estrictamente necesario para que un directorio sea considerado un paquete, ya que Python introduce los ``namespace packages``. Sin embargo, sigue siendo una práctica común y útil para mantener la compatibilidad con versiones anteriores y para permitir la personalización del comportamiento del paquete."
   ]
  },
  {
   "cell_type": "markdown",
   "metadata": {},
   "source": [
    "## **1.1 Múltiples Paquetes (Multiple Packages)**"
   ]
  },
  {
   "cell_type": "markdown",
   "metadata": {},
   "source": [
    "Para este ejemplo pondremos como nombre de directorio `multiple_packages`. Va a seguir esta estructura:\n",
    "\n",
    "```md\n",
    "multiple_package/\n",
    "│\n",
    "├── __init__.py\n",
    "├── math/\n",
    "│   ├── __init__.py\n",
    "│   ├── suma.py\n",
    "│   ├── resta.py\n",
    "│   ├── multiplicacion.py\n",
    "│   └── division.py\n",
    "└── math_input/\n",
    "    ├── __init__.py\n",
    "    ├── suma_in.py\n",
    "    ├── resta_in.py\n",
    "    ├── multiplicacion_in.py\n",
    "    └── division_in.py\n",
    "```"
   ]
  },
  {
   "cell_type": "markdown",
   "metadata": {},
   "source": [
    "* En el directorio ``math``, se tendrán operaciones de suma, resta, mult y división donde al llamarlas se debe ingresar dos parámetros.\n",
    "* En el directorio ``math_input``, similar al anterior pero pide los datos por usuario."
   ]
  },
  {
   "cell_type": "markdown",
   "metadata": {},
   "source": [
    "**¿Cómo lo importamos al notebook u otro archvio .py?**\n",
    "\n",
    "Existen dos formas:\n",
    "\n",
    "* Importando directamente multiple_package (pero debemos utilizar la notación del punto).\n",
    "* De multiple_package importamos los módulos (pero debemos utilizar la notación del punto).\n"
   ]
  },
  {
   "cell_type": "code",
   "execution_count": 6,
   "metadata": {},
   "outputs": [],
   "source": [
    "import multiple_package"
   ]
  },
  {
   "cell_type": "code",
   "execution_count": null,
   "metadata": {},
   "outputs": [
    {
     "name": "stdout",
     "output_type": "stream",
     "text": [
      "11\n",
      "-1\n",
      "30\n",
      "0.8333333333333334\n"
     ]
    }
   ],
   "source": [
    "# Utilizando el módulo math\n",
    "\n",
    "a = 5\n",
    "b = 6\n",
    "\n",
    "suma = multiple_package.suma(a, b)\n",
    "resta = multiple_package.resta(a, b)\n",
    "multiplicar = multiple_package.multiplicacion(a, b)\n",
    "dividir = multiple_package.division(a, b)\n",
    "\n",
    "print(suma)\n",
    "print(resta)\n",
    "print(multiplicar)\n",
    "print(dividir)"
   ]
  },
  {
   "cell_type": "code",
   "execution_count": 2,
   "metadata": {},
   "outputs": [
    {
     "name": "stdout",
     "output_type": "stream",
     "text": [
      "11.0\n"
     ]
    }
   ],
   "source": [
    "# Utilizando el módulo math_input\n",
    "\n",
    "suma = multiple_package.suma_in()\n",
    "print(suma)"
   ]
  },
  {
   "cell_type": "code",
   "execution_count": 3,
   "metadata": {},
   "outputs": [
    {
     "name": "stdout",
     "output_type": "stream",
     "text": [
      "-1.0\n"
     ]
    }
   ],
   "source": [
    "resta = multiple_package.resta_in()\n",
    "print(resta)"
   ]
  },
  {
   "cell_type": "code",
   "execution_count": 7,
   "metadata": {},
   "outputs": [
    {
     "ename": "TypeError",
     "evalue": "multiplicacion_in() missing 2 required positional arguments: 'a' and 'b'",
     "output_type": "error",
     "traceback": [
      "\u001b[1;31m---------------------------------------------------------------------------\u001b[0m",
      "\u001b[1;31mTypeError\u001b[0m                                 Traceback (most recent call last)",
      "Cell \u001b[1;32mIn[7], line 1\u001b[0m\n\u001b[1;32m----> 1\u001b[0m multi \u001b[38;5;241m=\u001b[39m \u001b[43mmultiple_package\u001b[49m\u001b[38;5;241;43m.\u001b[39;49m\u001b[43mmultiplicacion_in\u001b[49m\u001b[43m(\u001b[49m\u001b[43m)\u001b[49m\n\u001b[0;32m      2\u001b[0m \u001b[38;5;28mprint\u001b[39m(multi)\n",
      "\u001b[1;31mTypeError\u001b[0m: multiplicacion_in() missing 2 required positional arguments: 'a' and 'b'"
     ]
    }
   ],
   "source": [
    "multi = multiple_package.multiplicacion_in()\n",
    "print(multi)"
   ]
  },
  {
   "cell_type": "code",
   "execution_count": null,
   "metadata": {},
   "outputs": [
    {
     "ename": "TypeError",
     "evalue": "multiplicacion_in() missing 2 required positional arguments: 'a' and 'b'",
     "output_type": "error",
     "traceback": [
      "\u001b[1;31m---------------------------------------------------------------------------\u001b[0m",
      "\u001b[1;31mTypeError\u001b[0m                                 Traceback (most recent call last)",
      "Cell \u001b[1;32mIn[9], line 6\u001b[0m\n\u001b[0;32m      4\u001b[0m suma \u001b[38;5;241m=\u001b[39m multiple_package\u001b[38;5;241m.\u001b[39msuma_in()\n\u001b[0;32m      5\u001b[0m resta \u001b[38;5;241m=\u001b[39m multiple_package\u001b[38;5;241m.\u001b[39mresta_in()\n\u001b[1;32m----> 6\u001b[0m multiplicar \u001b[38;5;241m=\u001b[39m \u001b[43mmultiple_package\u001b[49m\u001b[38;5;241;43m.\u001b[39;49m\u001b[43mmultiplicacion_in\u001b[49m\u001b[43m(\u001b[49m\u001b[43m)\u001b[49m\n\u001b[0;32m      7\u001b[0m dividir \u001b[38;5;241m=\u001b[39m multiple_package\u001b[38;5;241m.\u001b[39mdivision_in()\n\u001b[0;32m      9\u001b[0m \u001b[38;5;28mprint\u001b[39m(suma)\n",
      "\u001b[1;31mTypeError\u001b[0m: multiplicacion_in() missing 2 required positional arguments: 'a' and 'b'"
     ]
    }
   ],
   "source": [
    "# Utilizando el módulo math_input\n",
    "\n",
    "\n",
    "suma = multiple_package.suma_in()\n",
    "resta = multiple_package.resta_in()\n",
    "multi = multiple_package.multiplicacion_in()\n",
    "dividir = multiple_package.division_in()\n",
    "\n",
    "print(suma)\n",
    "print(resta)\n",
    "print(multiplicar)\n",
    "print(dividir)"
   ]
  },
  {
   "cell_type": "markdown",
   "metadata": {},
   "source": [
    "### **Podemos dentro de un paquete, tener otros sub directorios con módulos**"
   ]
  },
  {
   "cell_type": "markdown",
   "metadata": {},
   "source": [
    "https://www.youtube.com/watch?v=VEbuZox5qC4&t=405s"
   ]
  },
  {
   "cell_type": "markdown",
   "metadata": {},
   "source": [
    "### **¿Qué es if __name__ == '__main__' en python?**"
   ]
  },
  {
   "cell_type": "markdown",
   "metadata": {},
   "source": [
    "https://www.youtube.com/watch?v=x5IbdKnvt6k"
   ]
  },
  {
   "cell_type": "markdown",
   "metadata": {},
   "source": [
    "# **Try y Except**"
   ]
  },
  {
   "cell_type": "markdown",
   "metadata": {},
   "source": [
    "En Python u otro lenguaje podemos anticipar errores de ejecución, errores causados por entradas de datos inválidos o inconsistencias predecibles. Es por eso que en Python podemos utilizar los bloques `try` y `except` para manejar estos errores como excepciones."
   ]
  },
  {
   "cell_type": "markdown",
   "metadata": {},
   "source": [
    "**Sintáxis de ``Try`` y ``Except``**\n",
    "\n",
    "```python\n",
    "try:\n",
    "\t# Dentro de este bloque está el código que queremos ejecutar\n",
    "\t# Pero podría haber errores en este bloque\n",
    "\t# Cuando falle este bloque, salta al siguiente (except)\n",
    "    \n",
    "except <tipo de error>:\n",
    "\t# Haz esto para manejar la excepcion\n",
    "\t# El bloque except se ejecutara si el bloque try lanza un error\n",
    "    \n",
    "else:\n",
    "\t# Esto se ejecutara si el bloque try se ejecuta sin errores\n",
    "   \n",
    "finally:\n",
    "\t# Este bloque se ejecutara siempre\n",
    "```"
   ]
  },
  {
   "cell_type": "markdown",
   "metadata": {},
   "source": [
    "## **1. Entendamos el `try` `except` con un ejemplo**"
   ]
  },
  {
   "cell_type": "code",
   "execution_count": 2,
   "metadata": {},
   "outputs": [],
   "source": [
    "def division(a: float, b: float) -> float:\n",
    "    \"\"\"Esta función recibe dos parámetros y retorna un parámetro\"\"\"\n",
    "    return a / b"
   ]
  },
  {
   "cell_type": "markdown",
   "metadata": {},
   "source": [
    "El ejemplo clásico es dividir un número entre cero, por lo cual nos entregará un error."
   ]
  },
  {
   "cell_type": "code",
   "execution_count": 3,
   "metadata": {},
   "outputs": [
    {
     "ename": "ZeroDivisionError",
     "evalue": "division by zero",
     "output_type": "error",
     "traceback": [
      "\u001b[1;31m---------------------------------------------------------------------------\u001b[0m",
      "\u001b[1;31mZeroDivisionError\u001b[0m                         Traceback (most recent call last)",
      "Cell \u001b[1;32mIn[3], line 1\u001b[0m\n\u001b[1;32m----> 1\u001b[0m \u001b[43mdivision\u001b[49m\u001b[43m(\u001b[49m\u001b[38;5;241;43m15\u001b[39;49m\u001b[43m,\u001b[49m\u001b[43m \u001b[49m\u001b[38;5;241;43m0\u001b[39;49m\u001b[43m)\u001b[49m\n",
      "Cell \u001b[1;32mIn[2], line 3\u001b[0m, in \u001b[0;36mdivision\u001b[1;34m(a, b)\u001b[0m\n\u001b[0;32m      1\u001b[0m \u001b[38;5;28;01mdef\u001b[39;00m \u001b[38;5;21mdivision\u001b[39m(a: \u001b[38;5;28mfloat\u001b[39m, b: \u001b[38;5;28mfloat\u001b[39m) \u001b[38;5;241m-\u001b[39m\u001b[38;5;241m>\u001b[39m \u001b[38;5;28mfloat\u001b[39m:\n\u001b[0;32m      2\u001b[0m \u001b[38;5;250m    \u001b[39m\u001b[38;5;124;03m\"\"\"Esta función recibe dos parámetros y retorna un parámetro\"\"\"\u001b[39;00m\n\u001b[1;32m----> 3\u001b[0m     \u001b[38;5;28;01mreturn\u001b[39;00m \u001b[43ma\u001b[49m\u001b[43m \u001b[49m\u001b[38;5;241;43m/\u001b[39;49m\u001b[43m \u001b[49m\u001b[43mb\u001b[49m\n",
      "\u001b[1;31mZeroDivisionError\u001b[0m: division by zero"
     ]
    }
   ],
   "source": [
    "division(15, 0)"
   ]
  },
  {
   "cell_type": "code",
   "execution_count": 4,
   "metadata": {},
   "outputs": [
    {
     "name": "stdout",
     "output_type": "stream",
     "text": [
      "Recuerda que no puedes dividir entre cero\n"
     ]
    }
   ],
   "source": [
    "try:\n",
    "    a = float(input(\"Ingrese el primer parámetro: \"))\n",
    "    b = float(input(\"Ingrese el segundo parámetro: \"))\n",
    "    print(division(a, b))\n",
    "except ZeroDivisionError:\n",
    "    print(\"Recuerda que no puedes dividir entre cero\")\n"
   ]
  }
 ],
 "metadata": {
  "kernelspec": {
   "display_name": "programacion_2",
   "language": "python",
   "name": "python3"
  },
  "language_info": {
   "codemirror_mode": {
    "name": "ipython",
    "version": 3
   },
   "file_extension": ".py",
   "mimetype": "text/x-python",
   "name": "python",
   "nbconvert_exporter": "python",
   "pygments_lexer": "ipython3",
   "version": "3.10.16"
  }
 },
 "nbformat": 4,
 "nbformat_minor": 2
}
