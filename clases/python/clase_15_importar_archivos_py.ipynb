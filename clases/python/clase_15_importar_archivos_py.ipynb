{
 "cells": [
  {
   "cell_type": "markdown",
   "metadata": {},
   "source": [
    "# **[EIE409] Programación 2**"
   ]
  },
  {
   "cell_type": "markdown",
   "metadata": {},
   "source": [
    "## **Clase 15:**\n",
    "\n",
    "### **Tabla de contenido**\n",
    "\n",
    "1. Módulos y paquetes (en detalle).\n",
    "2. ¿Qué es `if __name__=='__main__'`.\n",
    "3. Try y Except.\n",
    "\n"
   ]
  },
  {
   "cell_type": "markdown",
   "metadata": {},
   "source": [
    "# **1. Módulos y paquetes**"
   ]
  },
  {
   "cell_type": "markdown",
   "metadata": {},
   "source": [
    "* **Modules**: Es un archivo python que contiene código python.\n",
    "* **Package**: Es un directorio que contiene archivos py para realizar distintas cosas."
   ]
  },
  {
   "cell_type": "markdown",
   "metadata": {},
   "source": [
    "Para crear un módulo, debemos crear un archivo ``.py``, este llevará un nombre de archivo. Supongamos que creamos un módulo que tiene funciones matemáticas y lo llamaremos `math_util` y dentro del archivo irán nuestras funciones, que tendrán como nombre `suma`, `resta`, etc. Una vez creado estos archivos, la idea es utilizarlos en otros archivos `.py` o `.ipynb`. La idea es importarlos y reutilizarlos."
   ]
  },
  {
   "cell_type": "code",
   "execution_count": 1,
   "metadata": {},
   "outputs": [],
   "source": [
    "from math_util import suma, resta"
   ]
  },
  {
   "cell_type": "code",
   "execution_count": 2,
   "metadata": {},
   "outputs": [
    {
     "data": {
      "text/plain": [
       "0"
      ]
     },
     "execution_count": 2,
     "metadata": {},
     "output_type": "execute_result"
    }
   ],
   "source": [
    "resta(2,2)"
   ]
  },
  {
   "cell_type": "markdown",
   "metadata": {},
   "source": [
    "Podemos crear otro módulo que contiene otras funciones y otros nombres e importarlos a nuestro notebook."
   ]
  },
  {
   "cell_type": "code",
   "execution_count": 3,
   "metadata": {},
   "outputs": [],
   "source": [
    "from print_util import saludar"
   ]
  },
  {
   "cell_type": "code",
   "execution_count": 4,
   "metadata": {},
   "outputs": [
    {
     "data": {
      "text/plain": [
       "'Hola Gabriel!!!'"
      ]
     },
     "execution_count": 4,
     "metadata": {},
     "output_type": "execute_result"
    }
   ],
   "source": [
    "saludar(\"Gabriel\")"
   ]
  },
  {
   "cell_type": "markdown",
   "metadata": {},
   "source": [
    "**¡Funciona!**, ahora podemos crear distintos módulos y llamarlos a nuestro código. Si te percataste, los códigos están en la misma ruta que mi notebook. Supongamos que tenemos muchos módulos con distintos nombres, nos gustaría ser más ordenados y contener nuestros módulos en una carpeta o subdirectorio. Es aquí donde entra el concepto de paquete, que es un conjunto de módulos."
   ]
  },
  {
   "cell_type": "markdown",
   "metadata": {},
   "source": [
    "**¿Qué ocurre si tenemos una carpeta o directorio con distintos módulos o archivos python en ese directorio?**, **¿Cómo los importo?**"
   ]
  },
  {
   "cell_type": "markdown",
   "metadata": {},
   "source": [
    "Crearemos un directorio denominado ``\"utils\"``, que contendrá nuestros módulos."
   ]
  },
  {
   "cell_type": "code",
   "execution_count": 2,
   "metadata": {},
   "outputs": [],
   "source": [
    "from utils.mult import multiplicar"
   ]
  },
  {
   "cell_type": "code",
   "execution_count": 3,
   "metadata": {},
   "outputs": [
    {
     "data": {
      "text/plain": [
       "50"
      ]
     },
     "execution_count": 3,
     "metadata": {},
     "output_type": "execute_result"
    }
   ],
   "source": [
    "multiplicar(5,5,2)"
   ]
  },
  {
   "cell_type": "markdown",
   "metadata": {},
   "source": [
    "### **1.1 ¿Para qué sirve el archivo ``__init__.py``?**"
   ]
  },
  {
   "cell_type": "markdown",
   "metadata": {},
   "source": [
    "El archivo ``__init__.py`` es un archivo especial en Python que se utiliza para indicar que un directorio debe ser tratado como un paquete.\n",
    "\n",
    "Cuando Python encuentra un directorio con un archivo ``__init__.py`` dentro de él, reconoce ese directorio como un paquete y permite importar los módulos que contiene. Sin este archivo, Python no consideraría el directorio como un paquete, y no podrías importar sus módulos de manera normal."
   ]
  },
  {
   "cell_type": "markdown",
   "metadata": {},
   "source": [
    "*Nos permite importar los módulos del paquete utils, incluso constantes u otros datos.*"
   ]
  },
  {
   "cell_type": "code",
   "execution_count": 1,
   "metadata": {},
   "outputs": [],
   "source": [
    "from utils import mult, saludar, suma, COLOR"
   ]
  },
  {
   "cell_type": "code",
   "execution_count": 2,
   "metadata": {},
   "outputs": [
    {
     "data": {
      "text/plain": [
       "'red'"
      ]
     },
     "execution_count": 2,
     "metadata": {},
     "output_type": "execute_result"
    }
   ],
   "source": [
    "COLOR"
   ]
  },
  {
   "cell_type": "markdown",
   "metadata": {},
   "source": [
    "**Nota**: a partir de Python 3.3 3l archivo ``__init__.py`` no es estrictamente necesario para que un directorio sea considerado un paquete, ya que Python introduce los ``namespace packages``. Sin embargo, sigue siendo una práctica común y útil para mantener la compatibilidad con versiones anteriores y para permitir la personalización del comportamiento del paquete."
   ]
  },
  {
   "cell_type": "markdown",
   "metadata": {},
   "source": [
    "### **1.2 Múltiples Paquetes (Multiple Packages)**"
   ]
  },
  {
   "cell_type": "markdown",
   "metadata": {},
   "source": [
    "Para este ejemplo pondremos como nombre de directorio `multiple_packages`. Va a seguir esta estructura:\n",
    "\n",
    "```md\n",
    "multiple_package/\n",
    "│\n",
    "├── __init__.py\n",
    "├── math/\n",
    "│   ├── __init__.py # Este archivo puede estar vacío o puede importar módulos específicos si lo deseas.\n",
    "│   ├── suma.py\n",
    "│   ├── resta.py\n",
    "│   ├── multiplicacion.py\n",
    "│   └── division.py\n",
    "└── math_input/\n",
    "    ├── __init__.py # Este archivo puede estar vacío o puede importar módulos específicos si lo deseas.\n",
    "    ├── suma_in.py\n",
    "    ├── resta_in.py\n",
    "    ├── multiplicacion_in.py\n",
    "    └── division_in.py\n",
    "```"
   ]
  },
  {
   "cell_type": "markdown",
   "metadata": {},
   "source": [
    "* En el directorio ``math``, se tendrá un módulo llamado `math_module`, este contendrá las operaciones básicas aritméticas. Las funciones deben recibir dos parámetros si desea sumar, restar, multiplicar o dividir.\n",
    "* En el directorio ``math_input``, similar al anterior pero pide los datos a ingresar al usuario y las funciones se nombran de la siguiente manera, suma_in, resta_in, ..., etc."
   ]
  },
  {
   "cell_type": "markdown",
   "metadata": {},
   "source": [
    "**¿Cómo lo importamos al notebook u otro archvio .py?**\n",
    "\n",
    "* Importando directamente multiple_package. Por otro lado, debemos utilizar la notación del punto para llamar a las funciones del módulo.\n"
   ]
  },
  {
   "cell_type": "code",
   "execution_count": 2,
   "metadata": {},
   "outputs": [],
   "source": [
    "import multiple_package"
   ]
  },
  {
   "cell_type": "code",
   "execution_count": null,
   "metadata": {},
   "outputs": [
    {
     "name": "stdout",
     "output_type": "stream",
     "text": [
      "11\n",
      "-1\n",
      "30\n",
      "0.8333333333333334\n"
     ]
    }
   ],
   "source": [
    "# Utilizando el módulo math\n",
    "\n",
    "a = 5\n",
    "b = 6\n",
    "\n",
    "suma = multiple_package.suma(a, b)\n",
    "resta = multiple_package.resta(a, b)\n",
    "multiplicar = multiple_package.multiplicacion(a, b)\n",
    "dividir = multiple_package.division(a, b)\n",
    "\n",
    "print(suma)\n",
    "print(resta)\n",
    "print(multiplicar)\n",
    "print(dividir)"
   ]
  },
  {
   "cell_type": "code",
   "execution_count": 2,
   "metadata": {},
   "outputs": [
    {
     "name": "stdout",
     "output_type": "stream",
     "text": [
      "11.0\n"
     ]
    }
   ],
   "source": [
    "# Utilizando el módulo math_input\n",
    "\n",
    "suma = multiple_package.suma_in()\n",
    "print(suma)"
   ]
  },
  {
   "cell_type": "code",
   "execution_count": 3,
   "metadata": {},
   "outputs": [
    {
     "name": "stdout",
     "output_type": "stream",
     "text": [
      "-1.0\n"
     ]
    }
   ],
   "source": [
    "resta = multiple_package.resta_in()\n",
    "print(resta)"
   ]
  },
  {
   "cell_type": "code",
   "execution_count": 3,
   "metadata": {},
   "outputs": [
    {
     "name": "stdout",
     "output_type": "stream",
     "text": [
      "30.0\n"
     ]
    }
   ],
   "source": [
    "multi = multiple_package.multiplicacion_in()\n",
    "print(multi)"
   ]
  },
  {
   "cell_type": "code",
   "execution_count": 4,
   "metadata": {},
   "outputs": [
    {
     "name": "stdout",
     "output_type": "stream",
     "text": [
      "0.8333333333333334\n"
     ]
    }
   ],
   "source": [
    "dividir = multiple_package.division_in()\n",
    "print(dividir)"
   ]
  },
  {
   "cell_type": "markdown",
   "metadata": {},
   "source": [
    "# **2. ¿Qué es `if __name__=='__main__'`**"
   ]
  },
  {
   "cell_type": "markdown",
   "metadata": {},
   "source": [
    "El propósito de ``if __name__ == \"__main__\"`` en Python es determinar si un archivo Python se está ejecutando como un programa principal o si está siendo importado como un módulo en otro script."
   ]
  },
  {
   "cell_type": "markdown",
   "metadata": {},
   "source": [
    "``__name__`` es una variable especial en Python. Cuando un archivo Python se ejecuta directamente, el valor de ``__name__`` es`` __main__``. Sin embargo, cuando el archivo es importado como módulo en otro script, el valor de ``__name__`` es el nombre del archivo (sin la extensión .py)."
   ]
  },
  {
   "cell_type": "markdown",
   "metadata": {},
   "source": [
    "Para entender el propósito de ``if __name__=='__main__'`` lo veremos con un ejemplo, supongamos que tenemos un archivo `.py` llamado ``clase_15_calculadora.py`` y dentro tenemos dos funciones que permiten sumar y resta."
   ]
  },
  {
   "cell_type": "markdown",
   "metadata": {},
   "source": [
    "1. Ahora supongamos que ese módulo lo queremos reutilizar en otro código.\n",
    "2. Al reutilizarlo se ejecutarán las funciones que piden datos a los usuarios y nosotros no queremos eso, queremos utilizar únicamente las funciones de ese módulo. **¿Cómo lo solucionamos**, utilizando `if __name__=='__main__'`, con eso indicamos cual es el código principal. Es decir, si utilizamos ese script en otro script (como módulo), deja de ser el código principal, por lo cual `__name__` ya no será `__main__` y la condición es falsa."
   ]
  },
  {
   "cell_type": "markdown",
   "metadata": {},
   "source": [
    "# **3. Try y Except**"
   ]
  },
  {
   "cell_type": "markdown",
   "metadata": {},
   "source": [
    "En Python u otro lenguaje podemos anticipar errores de ejecución, errores causados por entradas de datos inválidos o inconsistencias predecibles. Es por eso que en Python podemos utilizar los bloques `try` y `except` para manejar estos errores como excepciones."
   ]
  },
  {
   "cell_type": "markdown",
   "metadata": {},
   "source": [
    "**Sintáxis de ``Try`` y ``Except``**\n",
    "\n",
    "```python\n",
    "try:\n",
    "\t# Dentro de este bloque está el código que queremos ejecutar\n",
    "\t# Pero podría haber errores en este bloque\n",
    "\t# Cuando falle este bloque, salta al siguiente (except)\n",
    "    \n",
    "except <tipo de error>:\n",
    "\t# Haz esto para manejar la excepcion\n",
    "\t# El bloque except se ejecutara si el bloque try lanza un error\n",
    "    \n",
    "else:\n",
    "\t# Esto se ejecutara si el bloque try se ejecuta sin errores\n",
    "   \n",
    "finally:\n",
    "\t# Este bloque se ejecutara siempre\n",
    "```"
   ]
  },
  {
   "cell_type": "markdown",
   "metadata": {},
   "source": [
    "## **3.1 Entendamos el `try` `except` con un ejemplo**"
   ]
  },
  {
   "cell_type": "code",
   "execution_count": 9,
   "metadata": {},
   "outputs": [],
   "source": [
    "def division(a: float, b: float) -> float:\n",
    "    \"\"\"Esta función recibe dos parámetros y retorna un parámetro\"\"\"\n",
    "    return a / b"
   ]
  },
  {
   "cell_type": "markdown",
   "metadata": {},
   "source": [
    "El ejemplo clásico es dividir un número entre cero, por lo cual nos entregará un error."
   ]
  },
  {
   "cell_type": "code",
   "execution_count": 3,
   "metadata": {},
   "outputs": [
    {
     "ename": "ZeroDivisionError",
     "evalue": "division by zero",
     "output_type": "error",
     "traceback": [
      "\u001b[1;31m---------------------------------------------------------------------------\u001b[0m",
      "\u001b[1;31mZeroDivisionError\u001b[0m                         Traceback (most recent call last)",
      "Cell \u001b[1;32mIn[3], line 1\u001b[0m\n\u001b[1;32m----> 1\u001b[0m \u001b[43mdivision\u001b[49m\u001b[43m(\u001b[49m\u001b[38;5;241;43m15\u001b[39;49m\u001b[43m,\u001b[49m\u001b[43m \u001b[49m\u001b[38;5;241;43m0\u001b[39;49m\u001b[43m)\u001b[49m\n",
      "Cell \u001b[1;32mIn[2], line 3\u001b[0m, in \u001b[0;36mdivision\u001b[1;34m(a, b)\u001b[0m\n\u001b[0;32m      1\u001b[0m \u001b[38;5;28;01mdef\u001b[39;00m \u001b[38;5;21mdivision\u001b[39m(a: \u001b[38;5;28mfloat\u001b[39m, b: \u001b[38;5;28mfloat\u001b[39m) \u001b[38;5;241m-\u001b[39m\u001b[38;5;241m>\u001b[39m \u001b[38;5;28mfloat\u001b[39m:\n\u001b[0;32m      2\u001b[0m \u001b[38;5;250m    \u001b[39m\u001b[38;5;124;03m\"\"\"Esta función recibe dos parámetros y retorna un parámetro\"\"\"\u001b[39;00m\n\u001b[1;32m----> 3\u001b[0m     \u001b[38;5;28;01mreturn\u001b[39;00m \u001b[43ma\u001b[49m\u001b[43m \u001b[49m\u001b[38;5;241;43m/\u001b[39;49m\u001b[43m \u001b[49m\u001b[43mb\u001b[49m\n",
      "\u001b[1;31mZeroDivisionError\u001b[0m: division by zero"
     ]
    }
   ],
   "source": [
    "division(15, 0)"
   ]
  },
  {
   "cell_type": "markdown",
   "metadata": {},
   "source": [
    "Podemos apreciar que al ejecutar la celda de código nos entrega un error y ese error bloque el flujo del programa. Ahora vamos a manejar el error con excepciones."
   ]
  },
  {
   "cell_type": "code",
   "execution_count": 11,
   "metadata": {},
   "outputs": [
    {
     "name": "stdout",
     "output_type": "stream",
     "text": [
      "Recuerda que no puedes dividir entre cero\n"
     ]
    }
   ],
   "source": [
    "try:\n",
    "    a = float(input(\"Ingrese el primer parámetro: \"))\n",
    "    b = float(input(\"Ingrese el segundo parámetro: \"))\n",
    "    print(division(a, b))\n",
    "except ZeroDivisionError:\n",
    "    print(\"Recuerda que no puedes dividir entre cero\")\n"
   ]
  },
  {
   "cell_type": "markdown",
   "metadata": {},
   "source": [
    "Por lo tanto, cuando dividimos entre cero en vez de afectar el flujo del código, podemos manejar el error con una excepción."
   ]
  },
  {
   "cell_type": "markdown",
   "metadata": {},
   "source": [
    "Ahora utilizaremos los otros componentes de las excepciones para entender el flujo."
   ]
  },
  {
   "cell_type": "code",
   "execution_count": 12,
   "metadata": {},
   "outputs": [
    {
     "name": "stdout",
     "output_type": "stream",
     "text": [
      "5.0\n",
      "Entramos dentro del else\n",
      "Este bloque siempre se ejecutará\n"
     ]
    }
   ],
   "source": [
    "# Ingresaremos a=10, b=2\n",
    "try:\n",
    "    a = float(input(\"Ingrese el primer parámetro: \"))\n",
    "    b = float(input(\"Ingrese el segundo parámetro: \"))\n",
    "    print(division(a, b))\n",
    "except ZeroDivisionError:\n",
    "    print(\"Recuerda que no puedes dividir entre cero\")\n",
    "else:\n",
    "    print(\"Entramos dentro del else\")\n",
    "finally:\n",
    "    print(\"Este bloque siempre se ejecutará\")"
   ]
  },
  {
   "cell_type": "code",
   "execution_count": 13,
   "metadata": {},
   "outputs": [
    {
     "name": "stdout",
     "output_type": "stream",
     "text": [
      "Recuerda que no puedes dividir entre cero\n",
      "Este bloque siempre se ejecutará\n"
     ]
    }
   ],
   "source": [
    "# Ingresaremos a=10, b=0\n",
    "try:\n",
    "    a = float(input(\"Ingrese el primer parámetro: \"))\n",
    "    b = float(input(\"Ingrese el segundo parámetro: \"))\n",
    "    print(division(a, b))\n",
    "except ZeroDivisionError:\n",
    "    print(\"Recuerda que no puedes dividir entre cero\")\n",
    "else:\n",
    "    print(\"Entramos dentro del else\")\n",
    "finally:\n",
    "    print(\"Este bloque siempre se ejecutará\")"
   ]
  },
  {
   "cell_type": "markdown",
   "metadata": {},
   "source": [
    "## **3.2 Errores en Python**"
   ]
  },
  {
   "cell_type": "markdown",
   "metadata": {},
   "source": [
    "La clase `ZeroDivisionError` es un tipo de excepción y es un subtipo de `ArithmeticError`, lo que significa que pertenece a los errores matemáticos. A continuación, les dejo algunos tipos de excepciones que podemos encontrar.\n",
    "\n",
    "1. ``BaseException`` → Clase base de todas las excepciones.\n",
    "2. `ArithmeticError` → Clase base para errores matemáticos..\n",
    "    * ``ZeroDivisionError`` → División por cero.\n",
    "    * ``FloatingPointError`` → Error en operaciones de punto flotante.\n",
    "    * ``OverflowError`` → Resultado demasiado grande para ser representado.\n",
    "3. ``IndexError`` → Índice fuera de rango en una lista o tupla.\n",
    "4. ``KeyboardInterrupt`` → Ocurre cuando el usuario interrumpe la ejecución (por ejemplo, presionando ``Ctrl + C``).\n",
    "5. ``TypeError`` → Operación con un tipo de dato incorrecto.\n",
    "\n",
    "Existen muchas otras excepciones en Python."
   ]
  },
  {
   "cell_type": "markdown",
   "metadata": {},
   "source": [
    "Volvamos al ejemplo visto anteriormente, podemos asignar el contenido de la clase `ZeroDivisionError` a un valor e imprimir su contenido."
   ]
  },
  {
   "cell_type": "code",
   "execution_count": 14,
   "metadata": {},
   "outputs": [
    {
     "name": "stdout",
     "output_type": "stream",
     "text": [
      "No se puede dividir por cero. division by zero\n"
     ]
    }
   ],
   "source": [
    "try:\n",
    "    x = 10 / 0  # Esto lanza ZeroDivisionError\n",
    "except ZeroDivisionError as a:\n",
    "    print(f\"No se puede dividir por cero. {a}\")\n",
    "except Exception as e:  # Captura cualquier otra excepción\n",
    "    print(f\"Ocurrió un error: {e}\")\n"
   ]
  },
  {
   "cell_type": "markdown",
   "metadata": {},
   "source": [
    "## **3.3 ¿Dónde podemos ver una aplicación práctica de esto?**"
   ]
  },
  {
   "cell_type": "markdown",
   "metadata": {},
   "source": [
    "Supongamos que hacemos un programa que pide dos números enteros. El usuario lo que debe hacer es ingresar dos números enteros y funcionará perfectamente el código. Pero existen personas que no siguen las indicaciones que uno espera y realiza otras acciones."
   ]
  },
  {
   "cell_type": "code",
   "execution_count": 15,
   "metadata": {},
   "outputs": [],
   "source": [
    "def suma(a: int, b: int) -> int:\n",
    "    return a + b"
   ]
  },
  {
   "cell_type": "markdown",
   "metadata": {},
   "source": [
    "Un usuario para romper el programa ingresó un tipo de dato str y no un int. Esto resulta en el siguiente error:"
   ]
  },
  {
   "cell_type": "code",
   "execution_count": 16,
   "metadata": {},
   "outputs": [
    {
     "ename": "TypeError",
     "evalue": "can only concatenate str (not \"int\") to str",
     "output_type": "error",
     "traceback": [
      "\u001b[1;31m---------------------------------------------------------------------------\u001b[0m",
      "\u001b[1;31mTypeError\u001b[0m                                 Traceback (most recent call last)",
      "Cell \u001b[1;32mIn[16], line 4\u001b[0m\n\u001b[0;32m      1\u001b[0m a \u001b[38;5;241m=\u001b[39m \u001b[38;5;124m\"\u001b[39m\u001b[38;5;124m1\u001b[39m\u001b[38;5;124m\"\u001b[39m\n\u001b[0;32m      2\u001b[0m b \u001b[38;5;241m=\u001b[39m \u001b[38;5;241m2\u001b[39m\n\u001b[1;32m----> 4\u001b[0m \u001b[43msuma\u001b[49m\u001b[43m(\u001b[49m\u001b[43ma\u001b[49m\u001b[43m,\u001b[49m\u001b[43m \u001b[49m\u001b[43mb\u001b[49m\u001b[43m)\u001b[49m\n",
      "Cell \u001b[1;32mIn[15], line 2\u001b[0m, in \u001b[0;36msuma\u001b[1;34m(a, b)\u001b[0m\n\u001b[0;32m      1\u001b[0m \u001b[38;5;28;01mdef\u001b[39;00m \u001b[38;5;21msuma\u001b[39m(a: \u001b[38;5;28mint\u001b[39m, b: \u001b[38;5;28mint\u001b[39m) \u001b[38;5;241m-\u001b[39m\u001b[38;5;241m>\u001b[39m \u001b[38;5;28mint\u001b[39m:\n\u001b[1;32m----> 2\u001b[0m     \u001b[38;5;28;01mreturn\u001b[39;00m \u001b[43ma\u001b[49m\u001b[43m \u001b[49m\u001b[38;5;241;43m+\u001b[39;49m\u001b[43m \u001b[49m\u001b[43mb\u001b[49m\n",
      "\u001b[1;31mTypeError\u001b[0m: can only concatenate str (not \"int\") to str"
     ]
    }
   ],
   "source": [
    "a = \"1\"\n",
    "b = 2\n",
    "\n",
    "suma(a, b)"
   ]
  },
  {
   "cell_type": "markdown",
   "metadata": {},
   "source": [
    "Ahora vamos a manejar el código anterior con bloques de excepciones. Nos tenemos que dar cuenta que es un erro de tipo (`TypeError`)."
   ]
  },
  {
   "cell_type": "code",
   "execution_count": 22,
   "metadata": {},
   "outputs": [
    {
     "name": "stdout",
     "output_type": "stream",
     "text": [
      "Ingresaste un dato que no es del tipo entero (No puedes ingresar caracteres)\n",
      "3\n"
     ]
    }
   ],
   "source": [
    "try:\n",
    "    a = \"1\"\n",
    "    b = 2\n",
    "\n",
    "    suma(a, b)\n",
    "except TypeError:\n",
    "    print(\"Ingresaste un dato que no es del tipo entero (No puedes ingresar caracteres)\")\n",
    "\n",
    "finally:\n",
    "    a = int(a)\n",
    "    b = int(b)\n",
    "\n",
    "    resultado = suma(a, b)\n",
    "    print(resultado)\n"
   ]
  },
  {
   "cell_type": "markdown",
   "metadata": {},
   "source": [
    "Es importante tener en cuenta cómo piensa el usuario, dado que buscarán algunos romper un programa. También, ocurrirá que tus programas tendrán bug y esos debemos solucionarlos."
   ]
  },
  {
   "cell_type": "markdown",
   "metadata": {},
   "source": [
    "## **3.4 Ejercicios Try & Except**"
   ]
  },
  {
   "cell_type": "markdown",
   "metadata": {},
   "source": [
    "### **3.4.1 Error: Tipos de datos**"
   ]
  },
  {
   "cell_type": "code",
   "execution_count": 2,
   "metadata": {},
   "outputs": [
    {
     "name": "stdout",
     "output_type": "stream",
     "text": [
      "Error: invalid literal for int() with base 10: 'hola'\n"
     ]
    }
   ],
   "source": [
    "try:\n",
    "    numero = int(\"hola\")\n",
    "except ValueError as e:\n",
    "    print(f\"Error: {e}\")"
   ]
  },
  {
   "cell_type": "markdown",
   "metadata": {},
   "source": [
    "### **3.4.2 Error: Índice fuera de rango**"
   ]
  },
  {
   "cell_type": "code",
   "execution_count": 3,
   "metadata": {},
   "outputs": [
    {
     "name": "stdout",
     "output_type": "stream",
     "text": [
      "Error: list index out of range\n"
     ]
    }
   ],
   "source": [
    "try:\n",
    "    lista = [1, 2, 3]\n",
    "    print(lista[5])\n",
    "\n",
    "except IndexError as e:\n",
    "    print(f\"Error: {e}\")"
   ]
  },
  {
   "cell_type": "markdown",
   "metadata": {},
   "source": [
    "### **3.4.3 Error: Clave en un diccionario**"
   ]
  },
  {
   "cell_type": "code",
   "execution_count": 4,
   "metadata": {},
   "outputs": [
    {
     "name": "stdout",
     "output_type": "stream",
     "text": [
      "Se capturó el siguiente error: 'clave 3'\n"
     ]
    }
   ],
   "source": [
    "try:\n",
    "    diccionario = {\"clave 1\": 15,\n",
    "                   \"clave 2\": 16\n",
    "                   }\n",
    "    print(diccionario[\"clave 3\"])\n",
    "except Exception as e:\n",
    "    print(f\"Se capturó el siguiente error: {e}\")"
   ]
  }
 ],
 "metadata": {
  "kernelspec": {
   "display_name": "programacion_2",
   "language": "python",
   "name": "python3"
  },
  "language_info": {
   "codemirror_mode": {
    "name": "ipython",
    "version": 3
   },
   "file_extension": ".py",
   "mimetype": "text/x-python",
   "name": "python",
   "nbconvert_exporter": "python",
   "pygments_lexer": "ipython3",
   "version": "3.10.16"
  }
 },
 "nbformat": 4,
 "nbformat_minor": 2
}
