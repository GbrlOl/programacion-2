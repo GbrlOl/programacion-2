{
 "cells": [
  {
   "cell_type": "markdown",
   "id": "2f504087",
   "metadata": {},
   "source": [
    "# **[EIE-409] Programación 2: Preparación Prueba 1**"
   ]
  },
  {
   "cell_type": "markdown",
   "id": "fbb4f2a1",
   "metadata": {},
   "source": [
    "## **1. Módulo os, shutil y leer archivos**"
   ]
  },
  {
   "cell_type": "markdown",
   "id": "13c5fb6c",
   "metadata": {},
   "source": [
    "A continuación, se detallarán una serie de ejercicios para dominar el módulo os.\n",
    "\n",
    "1. Cree una carpeta.\n",
    "2. Vuelva a crear esa misma carpeta manejando errores.\n",
    "3. Liste un directorio y muestre el contenido de ese directorio.\n",
    "4. Verifica si el string termina con ciertos caracteres, por ejemplo: Se recibe `Hola` indicar si termina con la a (``endswith(\"caracter_de_termino\")``).\n",
    "5. Copiar un directorio a otro.\n",
    "6. Copiar un archivo a otro directorio.\n",
    "7. Cree una lista de string, que contengan un nombre y extensión, ejemplo:\n",
    "    * [\"mi_pdf.pdf\", \"archivo.txt\", \"imagen.jpg\"]\n",
    "    * Debe recorrer la lista, e indicar el tipo de extensión con un print().\n",
    "8. Tome un conjunto de archivos de un directorio y con un print() muestre su nombre y extensión.\n",
    "9. Junte una ruta (path), puede ser una ruta de origen como un directorio (que contiene únicamente archivos) y construya otra ruta con los archivos y cópielos a otro directorio. **Recomendación**: Primero debe mostrar los path construidos y luego cópielos.\n",
    "10. Carge un archivo de texto que contenga algún contenido y cuente la cantidad de caracteres que tiene ese archivo (sin utilizar ``len()``)."
   ]
  },
  {
   "cell_type": "markdown",
   "id": "8da5b520",
   "metadata": {},
   "source": [
    "### **Breve Recordatorio**"
   ]
  },
  {
   "cell_type": "markdown",
   "id": "a82547cd",
   "metadata": {},
   "source": [
    "#### **Recordatorio os**\n",
    "\n",
    "| **Categoría**                 | **Método**                  | **Descripción**                                  | **Ejemplo**                             |\n",
    "|-------------------------------|-----------------------------|--------------------------------------------------|-----------------------------------------|\n",
    "| **Directorios**               | `os.getcwd()`               | Obtiene el directorio de trabajo actual         | `os.getcwd()`                           |\n",
    "|                               | `os.chdir(ruta)`            | Cambia el directorio de trabajo                 | `os.chdir('C:\\\\nuevo_directorio')`     |\n",
    "|                               | `os.listdir(ruta)`          | Lista archivos y carpetas en un directorio      | `os.listdir('.')`                       |\n",
    "|                               | `os.mkdir(ruta)`            | Crea un directorio                             | `os.mkdir('mi_carpeta')`               |\n",
    "|                               | `os.rmdir(ruta)`            | Elimina un directorio vacío                    | `os.rmdir('mi_carpeta')`               |\n",
    "|                               | `os.makedirs(ruta)`         | Crea directorios anidados                      | `os.makedirs('carpeta1/carpeta2')`     |\n",
    "|                               | `os.removedirs(ruta)`       | Elimina directorios anidados                   | `os.removedirs('carpeta1/carpeta2')`   |\n",
    "\n",
    "#### **Recordatorio shutil**\n",
    "\n",
    "| **Categoría**                 | **Método**                  | **Descripción**                                  | **Ejemplo**                             |\n",
    "|-------------------------------|-----------------------------|--------------------------------------------------|-----------------------------------------|\n",
    "|               | `shutil.copy(ruta_origen, ruta_destino)`               | Copia un archivo (de un path de origen) a otro lugar        | `shutil.copy('archivo_origen.txt', 'archivo_destino.txt')`                           |\n",
    "|                               | `shutil.copy2(ruta_origen, ruta_destino)`            |               | `shutil.copy2(ruta_origen, ruta_destino)`     |\n",
    "|                               | `shutil.move(archivo_origen, archivo_destino)`          | Mueve un archivo de origen a otro lugar      |        `shutil.move(archivo_origen, archivo_destino)`                |\n",
    "|                               | `shutil.copytree('directorio_origen', 'directorio_destino_que_no_exista')`            | Copia un directorio de origen a otro lugar                            |      `shutil.copytree('directorio_origen', 'directorio_destino_que_no_exista')`         |\n",
    "                         "
   ]
  },
  {
   "cell_type": "markdown",
   "id": "b91ebacc",
   "metadata": {},
   "source": [
    "### **Desarrolle los ejercicios**"
   ]
  },
  {
   "cell_type": "markdown",
   "id": "65d22d71",
   "metadata": {},
   "source": [
    "# **2. Crear funciones**"
   ]
  },
  {
   "cell_type": "markdown",
   "id": "17c86c28",
   "metadata": {},
   "source": [
    "1. Crear una función que permita calcular el área de un rectángulo. La función debe solicitar los datos al usuario y luego debe retornar el resultado.\n",
    "2. Crear una función que recibe una palabra o frase y cuenta la cantidad de vocales de la palabra o frase."
   ]
  },
  {
   "cell_type": "markdown",
   "id": "3eb25a43",
   "metadata": {},
   "source": [
    "### **Desarrolle los ejercicios**"
   ]
  },
  {
   "cell_type": "markdown",
   "id": "da0d08b7",
   "metadata": {},
   "source": [
    "# **3. Estructura de control**"
   ]
  },
  {
   "cell_type": "markdown",
   "id": "925c7fcb",
   "metadata": {},
   "source": [
    "1. Cree un array 1D que contenga valores aleatorios entre 10 y 100. Luego, utilizando un bucle for recorra el array y guarde sus valores en una lista de manera inversa. Por último, muestre la suma total, el valor mínimo y el valor máximo."
   ]
  },
  {
   "cell_type": "markdown",
   "id": "02a79bb8",
   "metadata": {},
   "source": [
    "### **Desarrolle los ejercicios**"
   ]
  }
 ],
 "metadata": {
  "kernelspec": {
   "display_name": "programacion_2",
   "language": "python",
   "name": "python3"
  },
  "language_info": {
   "codemirror_mode": {
    "name": "ipython",
    "version": 3
   },
   "file_extension": ".py",
   "mimetype": "text/x-python",
   "name": "python",
   "nbconvert_exporter": "python",
   "pygments_lexer": "ipython3",
   "version": "3.10.16"
  }
 },
 "nbformat": 4,
 "nbformat_minor": 5
}
