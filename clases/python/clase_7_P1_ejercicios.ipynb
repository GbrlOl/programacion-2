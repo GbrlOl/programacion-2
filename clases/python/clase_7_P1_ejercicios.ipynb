{
 "cells": [
  {
   "cell_type": "markdown",
   "id": "2f504087",
   "metadata": {},
   "source": [
    "# **[EIE-409] Programación 2: Preparación Prueba 1**"
   ]
  },
  {
   "cell_type": "markdown",
   "id": "fbb4f2a1",
   "metadata": {},
   "source": [
    "## **2. Módulo os, shutil**"
   ]
  },
  {
   "cell_type": "markdown",
   "id": "13c5fb6c",
   "metadata": {},
   "source": [
    "A continuación, se detallarán una serie de ejercicios para dominar el módulo os.\n",
    "\n",
    "1. Cree una carpeta.\n",
    "2. Vuelva a crear esa misma carpeta manejando errores.\n",
    "3. Liste un directorio y muestre el contenido de ese directorio.\n",
    "4. Verifica si el string termina con ciertos caracteres (endswith(\"caracter\")).\n",
    "5. Copiar un directorio a otro."
   ]
  }
 ],
 "metadata": {
  "kernelspec": {
   "display_name": "programacion_2",
   "language": "python",
   "name": "python3"
  },
  "language_info": {
   "codemirror_mode": {
    "name": "ipython",
    "version": 3
   },
   "file_extension": ".py",
   "mimetype": "text/x-python",
   "name": "python",
   "nbconvert_exporter": "python",
   "pygments_lexer": "ipython3",
   "version": "3.10.16"
  }
 },
 "nbformat": 4,
 "nbformat_minor": 5
}
