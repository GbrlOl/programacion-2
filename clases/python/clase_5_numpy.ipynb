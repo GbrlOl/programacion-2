{
 "cells": [
  {
   "cell_type": "markdown",
   "metadata": {},
   "source": [
    "# **[EIE409] Programación 2**"
   ]
  },
  {
   "cell_type": "markdown",
   "metadata": {},
   "source": [
    "## **Clase 5:**\n",
    "\n",
    "### **Tabla de contenido**\n",
    "\n",
    "1. Numpy.\n",
    "\n"
   ]
  },
  {
   "cell_type": "markdown",
   "metadata": {},
   "source": [
    "## **1. NumPy**"
   ]
  },
  {
   "cell_type": "markdown",
   "metadata": {},
   "source": [
    "NumPy (Numerical Python) es una biblioteca fundamental para la computación científica en Python. Proporciona soporte para matrices y arrays multidimensionales, además de funciones matemáticas de alto rendimiento."
   ]
  },
  {
   "cell_type": "markdown",
   "metadata": {},
   "source": [
    "A continuación, te dejo la página oficial:\n",
    "\n",
    "* https://numpy.org/doc/2.2/"
   ]
  },
  {
   "cell_type": "markdown",
   "metadata": {},
   "source": [
    "[¿Qué es un Array?](https://numpy.org/doc/2.2/user/absolute_beginners.html#what-is-an-array)"
   ]
  },
  {
   "cell_type": "markdown",
   "metadata": {},
   "source": [
    "### **1.1 Instalar NumPy**\n",
    "\n",
    "Instalar la dependencia se ejecuta una única vez en tú ambiente. En Google Colab ya viene instalado NumPy, pero en tu dispositivo no. "
   ]
  },
  {
   "cell_type": "code",
   "execution_count": 2,
   "metadata": {},
   "outputs": [],
   "source": [
    "!pip install -q numpy"
   ]
  },
  {
   "cell_type": "code",
   "execution_count": 1,
   "metadata": {},
   "outputs": [
    {
     "name": "stdout",
     "output_type": "stream",
     "text": [
      "Name: numpy\n",
      "Version: 2.1.3\n",
      "Summary: Fundamental package for array computing in Python\n",
      "Home-page: https://numpy.org\n",
      "Author: Travis E. Oliphant et al.\n",
      "Author-email: \n",
      "License: Copyright (c) 2005-2024, NumPy Developers.\n",
      "         All rights reserved.\n",
      "         \n",
      "         Redistribution and use in source and binary forms, with or without\n",
      "         modification, are permitted provided that the following conditions are\n",
      "         met:\n",
      "         \n",
      "             * Redistributions of source code must retain the above copyright\n",
      "                notice, this list of conditions and the following disclaimer.\n",
      "         \n",
      "             * Redistributions in binary form must reproduce the above\n",
      "                copyright notice, this list of conditions and the following\n",
      "                disclaimer in the documentation and/or other materials provided\n",
      "                with the distribution.\n",
      "         \n",
      "             * Neither the name of the NumPy Developers nor the names of any\n",
      "                contributors may be used to endorse or promote products derived\n",
      "                from this software without specific prior written permission.\n",
      "         \n",
      "         THIS SOFTWARE IS PROVIDED BY THE COPYRIGHT HOLDERS AND CONTRIBUTORS\n",
      "         \"AS IS\" AND ANY EXPRESS OR IMPLIED WARRANTIES, INCLUDING, BUT NOT\n",
      "         LIMITED TO, THE IMPLIED WARRANTIES OF MERCHANTABILITY AND FITNESS FOR\n",
      "         A PARTICULAR PURPOSE ARE DISCLAIMED. IN NO EVENT SHALL THE COPYRIGHT\n",
      "         OWNER OR CONTRIBUTORS BE LIABLE FOR ANY DIRECT, INDIRECT, INCIDENTAL,\n",
      "         SPECIAL, EXEMPLARY, OR CONSEQUENTIAL DAMAGES (INCLUDING, BUT NOT\n",
      "         LIMITED TO, PROCUREMENT OF SUBSTITUTE GOODS OR SERVICES; LOSS OF USE,\n",
      "         DATA, OR PROFITS; OR BUSINESS INTERRUPTION) HOWEVER CAUSED AND ON ANY\n",
      "         THEORY OF LIABILITY, WHETHER IN CONTRACT, STRICT LIABILITY, OR TORT\n",
      "         (INCLUDING NEGLIGENCE OR OTHERWISE) ARISING IN ANY WAY OUT OF THE USE\n",
      "         OF THIS SOFTWARE, EVEN IF ADVISED OF THE POSSIBILITY OF SUCH DAMAGE.\n",
      "         \n",
      "         ----\n",
      "         \n",
      "         The NumPy repository and source distributions bundle several libraries that are\n",
      "         compatibly licensed.  We list these here.\n",
      "         \n",
      "         Name: lapack-lite\n",
      "         Files: numpy/linalg/lapack_lite/*\n",
      "         License: BSD-3-Clause\n",
      "           For details, see numpy/linalg/lapack_lite/LICENSE.txt\n",
      "         \n",
      "         Name: dragon4\n",
      "         Files: numpy/_core/src/multiarray/dragon4.c\n",
      "         License: MIT\n",
      "           For license text, see numpy/_core/src/multiarray/dragon4.c\n",
      "         \n",
      "         Name: libdivide\n",
      "         Files: numpy/_core/include/numpy/libdivide/*\n",
      "         License: Zlib\n",
      "           For license text, see numpy/_core/include/numpy/libdivide/LICENSE.txt\n",
      "         \n",
      "         \n",
      "         Note that the following files are vendored in the repository and sdist but not\n",
      "         installed in built numpy packages:\n",
      "         \n",
      "         Name: Meson\n",
      "         Files: vendored-meson/meson/*\n",
      "         License: Apache 2.0\n",
      "           For license text, see vendored-meson/meson/COPYING\n",
      "         \n",
      "         Name: spin\n",
      "         Files: .spin/cmds.py\n",
      "         License: BSD-3\n",
      "           For license text, see .spin/LICENSE\n",
      "         \n",
      "         Name: tempita\n",
      "         Files: numpy/_build_utils/tempita/*\n",
      "         License: MIT\n",
      "           For details, see numpy/_build_utils/tempita/LICENCE.txt\n",
      "         \n",
      "         ----\n",
      "         \n",
      "         This binary distribution of NumPy also bundles the following software:\n",
      "         \n",
      "         \n",
      "         Name: OpenBLAS\n",
      "         Files: numpy.libs\\libscipy_openblas*.dll\n",
      "         Description: bundled as a dynamically linked library\n",
      "         Availability: https://github.com/OpenMathLib/OpenBLAS/\n",
      "         License: BSD-3-Clause\n",
      "           Copyright (c) 2011-2014, The OpenBLAS Project\n",
      "           All rights reserved.\n",
      "         \n",
      "           Redistribution and use in source and binary forms, with or without\n",
      "           modification, are permitted provided that the following conditions are\n",
      "           met:\n",
      "         \n",
      "              1. Redistributions of source code must retain the above copyright\n",
      "                 notice, this list of conditions and the following disclaimer.\n",
      "         \n",
      "              2. Redistributions in binary form must reproduce the above copyright\n",
      "                 notice, this list of conditions and the following disclaimer in\n",
      "                 the documentation and/or other materials provided with the\n",
      "                 distribution.\n",
      "              3. Neither the name of the OpenBLAS project nor the names of\n",
      "                 its contributors may be used to endorse or promote products\n",
      "                 derived from this software without specific prior written\n",
      "                 permission.\n",
      "         \n",
      "           THIS SOFTWARE IS PROVIDED BY THE COPYRIGHT HOLDERS AND CONTRIBUTORS \"AS IS\"\n",
      "           AND ANY EXPRESS OR IMPLIED WARRANTIES, INCLUDING, BUT NOT LIMITED TO, THE\n",
      "           IMPLIED WARRANTIES OF MERCHANTABILITY AND FITNESS FOR A PARTICULAR PURPOSE\n",
      "           ARE DISCLAIMED. IN NO EVENT SHALL THE COPYRIGHT OWNER OR CONTRIBUTORS BE\n",
      "           LIABLE FOR ANY DIRECT, INDIRECT, INCIDENTAL, SPECIAL, EXEMPLARY, OR CONSEQUENTIAL\n",
      "           DAMAGES (INCLUDING, BUT NOT LIMITED TO, PROCUREMENT OF SUBSTITUTE GOODS OR\n",
      "           SERVICES; LOSS OF USE, DATA, OR PROFITS; OR BUSINESS INTERRUPTION) HOWEVER\n",
      "           CAUSED AND ON ANY THEORY OF LIABILITY, WHETHER IN CONTRACT, STRICT LIABILITY,\n",
      "           OR TORT (INCLUDING NEGLIGENCE OR OTHERWISE) ARISING IN ANY WAY OUT OF THE\n",
      "           USE OF THIS SOFTWARE, EVEN IF ADVISED OF THE POSSIBILITY OF SUCH DAMAGE.\n",
      "         \n",
      "         \n",
      "         Name: LAPACK\n",
      "         Files: numpy.libs\\libscipy_openblas*.dll\n",
      "         Description: bundled in OpenBLAS\n",
      "         Availability: https://github.com/OpenMathLib/OpenBLAS/\n",
      "         License: BSD-3-Clause-Attribution\n",
      "           Copyright (c) 1992-2013 The University of Tennessee and The University\n",
      "                                   of Tennessee Research Foundation.  All rights\n",
      "                                   reserved.\n",
      "           Copyright (c) 2000-2013 The University of California Berkeley. All\n",
      "                                   rights reserved.\n",
      "           Copyright (c) 2006-2013 The University of Colorado Denver.  All rights\n",
      "                                   reserved.\n",
      "         \n",
      "           $COPYRIGHT$\n",
      "         \n",
      "           Additional copyrights may follow\n",
      "         \n",
      "           $HEADER$\n",
      "         \n",
      "           Redistribution and use in source and binary forms, with or without\n",
      "           modification, are permitted provided that the following conditions are\n",
      "           met:\n",
      "         \n",
      "           - Redistributions of source code must retain the above copyright\n",
      "             notice, this list of conditions and the following disclaimer.\n",
      "         \n",
      "           - Redistributions in binary form must reproduce the above copyright\n",
      "             notice, this list of conditions and the following disclaimer listed\n",
      "             in this license in the documentation and/or other materials\n",
      "             provided with the distribution.\n",
      "         \n",
      "           - Neither the name of the copyright holders nor the names of its\n",
      "             contributors may be used to endorse or promote products derived from\n",
      "             this software without specific prior written permission.\n",
      "         \n",
      "           The copyright holders provide no reassurances that the source code\n",
      "           provided does not infringe any patent, copyright, or any other\n",
      "           intellectual property rights of third parties.  The copyright holders\n",
      "           disclaim any liability to any recipient for claims brought against\n",
      "           recipient by any third party for infringement of that parties\n",
      "           intellectual property rights.\n",
      "         \n",
      "           THIS SOFTWARE IS PROVIDED BY THE COPYRIGHT HOLDERS AND CONTRIBUTORS\n",
      "           \"AS IS\" AND ANY EXPRESS OR IMPLIED WARRANTIES, INCLUDING, BUT NOT\n",
      "           LIMITED TO, THE IMPLIED WARRANTIES OF MERCHANTABILITY AND FITNESS FOR\n",
      "           A PARTICULAR PURPOSE ARE DISCLAIMED. IN NO EVENT SHALL THE COPYRIGHT\n",
      "           OWNER OR CONTRIBUTORS BE LIABLE FOR ANY DIRECT, INDIRECT, INCIDENTAL,\n",
      "           SPECIAL, EXEMPLARY, OR CONSEQUENTIAL DAMAGES (INCLUDING, BUT NOT\n",
      "           LIMITED TO, PROCUREMENT OF SUBSTITUTE GOODS OR SERVICES; LOSS OF USE,\n",
      "           DATA, OR PROFITS; OR BUSINESS INTERRUPTION) HOWEVER CAUSED AND ON ANY\n",
      "           THEORY OF LIABILITY, WHETHER IN CONTRACT, STRICT LIABILITY, OR TORT\n",
      "           (INCLUDING NEGLIGENCE OR OTHERWISE) ARISING IN ANY WAY OUT OF THE USE\n",
      "           OF THIS SOFTWARE, EVEN IF ADVISED OF THE POSSIBILITY OF SUCH DAMAGE.\n",
      "         \n",
      "         \n",
      "         Name: GCC runtime library\n",
      "         Files: numpy.libs\\libscipy_openblas*.dll\n",
      "         Description: statically linked to files compiled with gcc\n",
      "         Availability: https://gcc.gnu.org/git/?p=gcc.git;a=tree;f=libgfortran\n",
      "         License: GPL-3.0-with-GCC-exception\n",
      "           Copyright (C) 2002-2017 Free Software Foundation, Inc.\n",
      "         \n",
      "           Libgfortran is free software; you can redistribute it and/or modify\n",
      "           it under the terms of the GNU General Public License as published by\n",
      "           the Free Software Foundation; either version 3, or (at your option)\n",
      "           any later version.\n",
      "         \n",
      "           Libgfortran is distributed in the hope that it will be useful,\n",
      "           but WITHOUT ANY WARRANTY; without even the implied warranty of\n",
      "           MERCHANTABILITY or FITNESS FOR A PARTICULAR PURPOSE.  See the\n",
      "           GNU General Public License for more details.\n",
      "         \n",
      "           Under Section 7 of GPL version 3, you are granted additional\n",
      "           permissions described in the GCC Runtime Library Exception, version\n",
      "           3.1, as published by the Free Software Foundation.\n",
      "         \n",
      "           You should have received a copy of the GNU General Public License and\n",
      "           a copy of the GCC Runtime Library Exception along with this program;\n",
      "           see the files COPYING3 and COPYING.RUNTIME respectively.  If not, see\n",
      "           <http://www.gnu.org/licenses/>.\n",
      "         \n",
      "         ----\n",
      "         \n",
      "         Full text of license texts referred to above follows (that they are\n",
      "         listed below does not necessarily imply the conditions apply to the\n",
      "         present binary release):\n",
      "         \n",
      "         ----\n",
      "         \n",
      "         GCC RUNTIME LIBRARY EXCEPTION\n",
      "         \n",
      "         Version 3.1, 31 March 2009\n",
      "         \n",
      "         Copyright (C) 2009 Free Software Foundation, Inc. <http://fsf.org/>\n",
      "         \n",
      "         Everyone is permitted to copy and distribute verbatim copies of this\n",
      "         license document, but changing it is not allowed.\n",
      "         \n",
      "         This GCC Runtime Library Exception (\"Exception\") is an additional\n",
      "         permission under section 7 of the GNU General Public License, version\n",
      "         3 (\"GPLv3\"). It applies to a given file (the \"Runtime Library\") that\n",
      "         bears a notice placed by the copyright holder of the file stating that\n",
      "         the file is governed by GPLv3 along with this Exception.\n",
      "         \n",
      "         When you use GCC to compile a program, GCC may combine portions of\n",
      "         certain GCC header files and runtime libraries with the compiled\n",
      "         program. The purpose of this Exception is to allow compilation of\n",
      "         non-GPL (including proprietary) programs to use, in this way, the\n",
      "         header files and runtime libraries covered by this Exception.\n",
      "         \n",
      "         0. Definitions.\n",
      "         \n",
      "         A file is an \"Independent Module\" if it either requires the Runtime\n",
      "         Library for execution after a Compilation Process, or makes use of an\n",
      "         interface provided by the Runtime Library, but is not otherwise based\n",
      "         on the Runtime Library.\n",
      "         \n",
      "         \"GCC\" means a version of the GNU Compiler Collection, with or without\n",
      "         modifications, governed by version 3 (or a specified later version) of\n",
      "         the GNU General Public License (GPL) with the option of using any\n",
      "         subsequent versions published by the FSF.\n",
      "         \n",
      "         \"GPL-compatible Software\" is software whose conditions of propagation,\n",
      "         modification and use would permit combination with GCC in accord with\n",
      "         the license of GCC.\n",
      "         \n",
      "         \"Target Code\" refers to output from any compiler for a real or virtual\n",
      "         target processor architecture, in executable form or suitable for\n",
      "         input to an assembler, loader, linker and/or execution\n",
      "         phase. Notwithstanding that, Target Code does not include data in any\n",
      "         format that is used as a compiler intermediate representation, or used\n",
      "         for producing a compiler intermediate representation.\n",
      "         \n",
      "         The \"Compilation Process\" transforms code entirely represented in\n",
      "         non-intermediate languages designed for human-written code, and/or in\n",
      "         Java Virtual Machine byte code, into Target Code. Thus, for example,\n",
      "         use of source code generators and preprocessors need not be considered\n",
      "         part of the Compilation Process, since the Compilation Process can be\n",
      "         understood as starting with the output of the generators or\n",
      "         preprocessors.\n",
      "         \n",
      "         A Compilation Process is \"Eligible\" if it is done using GCC, alone or\n",
      "         with other GPL-compatible software, or if it is done without using any\n",
      "         work based on GCC. For example, using non-GPL-compatible Software to\n",
      "         optimize any GCC intermediate representations would not qualify as an\n",
      "         Eligible Compilation Process.\n",
      "         \n",
      "         1. Grant of Additional Permission.\n",
      "         \n",
      "         You have permission to propagate a work of Target Code formed by\n",
      "         combining the Runtime Library with Independent Modules, even if such\n",
      "         propagation would otherwise violate the terms of GPLv3, provided that\n",
      "         all Target Code was generated by Eligible Compilation Processes. You\n",
      "         may then convey such a combination under terms of your choice,\n",
      "         consistent with the licensing of the Independent Modules.\n",
      "         \n",
      "         2. No Weakening of GCC Copyleft.\n",
      "         \n",
      "         The availability of this Exception does not imply any general\n",
      "         presumption that third-party software is unaffected by the copyleft\n",
      "         requirements of the license of GCC.\n",
      "         \n",
      "         ----\n",
      "         \n",
      "                             GNU GENERAL PUBLIC LICENSE\n",
      "                                Version 3, 29 June 2007\n",
      "         \n",
      "          Copyright (C) 2007 Free Software Foundation, Inc. <http://fsf.org/>\n",
      "          Everyone is permitted to copy and distribute verbatim copies\n",
      "          of this license document, but changing it is not allowed.\n",
      "         \n",
      "                                     Preamble\n",
      "         \n",
      "           The GNU General Public License is a free, copyleft license for\n",
      "         software and other kinds of works.\n",
      "         \n",
      "           The licenses for most software and other practical works are designed\n",
      "         to take away your freedom to share and change the works.  By contrast,\n",
      "         the GNU General Public License is intended to guarantee your freedom to\n",
      "         share and change all versions of a program--to make sure it remains free\n",
      "         software for all its users.  We, the Free Software Foundation, use the\n",
      "         GNU General Public License for most of our software; it applies also to\n",
      "         any other work released this way by its authors.  You can apply it to\n",
      "         your programs, too.\n",
      "         \n",
      "           When we speak of free software, we are referring to freedom, not\n",
      "         price.  Our General Public Licenses are designed to make sure that you\n",
      "         have the freedom to distribute copies of free software (and charge for\n",
      "         them if you wish), that you receive source code or can get it if you\n",
      "         want it, that you can change the software or use pieces of it in new\n",
      "         free programs, and that you know you can do these things.\n",
      "         \n",
      "           To protect your rights, we need to prevent others from denying you\n",
      "         these rights or asking you to surrender the rights.  Therefore, you have\n",
      "         certain responsibilities if you distribute copies of the software, or if\n",
      "         you modify it: responsibilities to respect the freedom of others.\n",
      "         \n",
      "           For example, if you distribute copies of such a program, whether\n",
      "         gratis or for a fee, you must pass on to the recipients the same\n",
      "         freedoms that you received.  You must make sure that they, too, receive\n",
      "         or can get the source code.  And you must show them these terms so they\n",
      "         know their rights.\n",
      "         \n",
      "           Developers that use the GNU GPL protect your rights with two steps:\n",
      "         (1) assert copyright on the software, and (2) offer you this License\n",
      "         giving you legal permission to copy, distribute and/or modify it.\n",
      "         \n",
      "           For the developers' and authors' protection, the GPL clearly explains\n",
      "         that there is no warranty for this free software.  For both users' and\n",
      "         authors' sake, the GPL requires that modified versions be marked as\n",
      "         changed, so that their problems will not be attributed erroneously to\n",
      "         authors of previous versions.\n",
      "         \n",
      "           Some devices are designed to deny users access to install or run\n",
      "         modified versions of the software inside them, although the manufacturer\n",
      "         can do so.  This is fundamentally incompatible with the aim of\n",
      "         protecting users' freedom to change the software.  The systematic\n",
      "         pattern of such abuse occurs in the area of products for individuals to\n",
      "         use, which is precisely where it is most unacceptable.  Therefore, we\n",
      "         have designed this version of the GPL to prohibit the practice for those\n",
      "         products.  If such problems arise substantially in other domains, we\n",
      "         stand ready to extend this provision to those domains in future versions\n",
      "         of the GPL, as needed to protect the freedom of users.\n",
      "         \n",
      "           Finally, every program is threatened constantly by software patents.\n",
      "         States should not allow patents to restrict development and use of\n",
      "         software on general-purpose computers, but in those that do, we wish to\n",
      "         avoid the special danger that patents applied to a free program could\n",
      "         make it effectively proprietary.  To prevent this, the GPL assures that\n",
      "         patents cannot be used to render the program non-free.\n",
      "         \n",
      "           The precise terms and conditions for copying, distribution and\n",
      "         modification follow.\n",
      "         \n",
      "                                TERMS AND CONDITIONS\n",
      "         \n",
      "           0. Definitions.\n",
      "         \n",
      "           \"This License\" refers to version 3 of the GNU General Public License.\n",
      "         \n",
      "           \"Copyright\" also means copyright-like laws that apply to other kinds of\n",
      "         works, such as semiconductor masks.\n",
      "         \n",
      "           \"The Program\" refers to any copyrightable work licensed under this\n",
      "         License.  Each licensee is addressed as \"you\".  \"Licensees\" and\n",
      "         \"recipients\" may be individuals or organizations.\n",
      "         \n",
      "           To \"modify\" a work means to copy from or adapt all or part of the work\n",
      "         in a fashion requiring copyright permission, other than the making of an\n",
      "         exact copy.  The resulting work is called a \"modified version\" of the\n",
      "         earlier work or a work \"based on\" the earlier work.\n",
      "         \n",
      "           A \"covered work\" means either the unmodified Program or a work based\n",
      "         on the Program.\n",
      "         \n",
      "           To \"propagate\" a work means to do anything with it that, without\n",
      "         permission, would make you directly or secondarily liable for\n",
      "         infringement under applicable copyright law, except executing it on a\n",
      "         computer or modifying a private copy.  Propagation includes copying,\n",
      "         distribution (with or without modification), making available to the\n",
      "         public, and in some countries other activities as well.\n",
      "         \n",
      "           To \"convey\" a work means any kind of propagation that enables other\n",
      "         parties to make or receive copies.  Mere interaction with a user through\n",
      "         a computer network, with no transfer of a copy, is not conveying.\n",
      "         \n",
      "           An interactive user interface displays \"Appropriate Legal Notices\"\n",
      "         to the extent that it includes a convenient and prominently visible\n",
      "         feature that (1) displays an appropriate copyright notice, and (2)\n",
      "         tells the user that there is no warranty for the work (except to the\n",
      "         extent that warranties are provided), that licensees may convey the\n",
      "         work under this License, and how to view a copy of this License.  If\n",
      "         the interface presents a list of user commands or options, such as a\n",
      "         menu, a prominent item in the list meets this criterion.\n",
      "         \n",
      "           1. Source Code.\n",
      "         \n",
      "           The \"source code\" for a work means the preferred form of the work\n",
      "         for making modifications to it.  \"Object code\" means any non-source\n",
      "         form of a work.\n",
      "         \n",
      "           A \"Standard Interface\" means an interface that either is an official\n",
      "         standard defined by a recognized standards body, or, in the case of\n",
      "         interfaces specified for a particular programming language, one that\n",
      "         is widely used among developers working in that language.\n",
      "         \n",
      "           The \"System Libraries\" of an executable work include anything, other\n",
      "         than the work as a whole, that (a) is included in the normal form of\n",
      "         packaging a Major Component, but which is not part of that Major\n",
      "         Component, and (b) serves only to enable use of the work with that\n",
      "         Major Component, or to implement a Standard Interface for which an\n",
      "         implementation is available to the public in source code form.  A\n",
      "         \"Major Component\", in this context, means a major essential component\n",
      "         (kernel, window system, and so on) of the specific operating system\n",
      "         (if any) on which the executable work runs, or a compiler used to\n",
      "         produce the work, or an object code interpreter used to run it.\n",
      "         \n",
      "           The \"Corresponding Source\" for a work in object code form means all\n",
      "         the source code needed to generate, install, and (for an executable\n",
      "         work) run the object code and to modify the work, including scripts to\n",
      "         control those activities.  However, it does not include the work's\n",
      "         System Libraries, or general-purpose tools or generally available free\n",
      "         programs which are used unmodified in performing those activities but\n",
      "         which are not part of the work.  For example, Corresponding Source\n",
      "         includes interface definition files associated with source files for\n",
      "         the work, and the source code for shared libraries and dynamically\n",
      "         linked subprograms that the work is specifically designed to require,\n",
      "         such as by intimate data communication or control flow between those\n",
      "         subprograms and other parts of the work.\n",
      "         \n",
      "           The Corresponding Source need not include anything that users\n",
      "         can regenerate automatically from other parts of the Corresponding\n",
      "         Source.\n",
      "         \n",
      "           The Corresponding Source for a work in source code form is that\n",
      "         same work.\n",
      "         \n",
      "           2. Basic Permissions.\n",
      "         \n",
      "           All rights granted under this License are granted for the term of\n",
      "         copyright on the Program, and are irrevocable provided the stated\n",
      "         conditions are met.  This License explicitly affirms your unlimited\n",
      "         permission to run the unmodified Program.  The output from running a\n",
      "         covered work is covered by this License only if the output, given its\n",
      "         content, constitutes a covered work.  This License acknowledges your\n",
      "         rights of fair use or other equivalent, as provided by copyright law.\n",
      "         \n",
      "           You may make, run and propagate covered works that you do not\n",
      "         convey, without conditions so long as your license otherwise remains\n",
      "         in force.  You may convey covered works to others for the sole purpose\n",
      "         of having them make modifications exclusively for you, or provide you\n",
      "         with facilities for running those works, provided that you comply with\n",
      "         the terms of this License in conveying all material for which you do\n",
      "         not control copyright.  Those thus making or running the covered works\n",
      "         for you must do so exclusively on your behalf, under your direction\n",
      "         and control, on terms that prohibit them from making any copies of\n",
      "         your copyrighted material outside their relationship with you.\n",
      "         \n",
      "           Conveying under any other circumstances is permitted solely under\n",
      "         the conditions stated below.  Sublicensing is not allowed; section 10\n",
      "         makes it unnecessary.\n",
      "         \n",
      "           3. Protecting Users' Legal Rights From Anti-Circumvention Law.\n",
      "         \n",
      "           No covered work shall be deemed part of an effective technological\n",
      "         measure under any applicable law fulfilling obligations under article\n",
      "         11 of the WIPO copyright treaty adopted on 20 December 1996, or\n",
      "         similar laws prohibiting or restricting circumvention of such\n",
      "         measures.\n",
      "         \n",
      "           When you convey a covered work, you waive any legal power to forbid\n",
      "         circumvention of technological measures to the extent such circumvention\n",
      "         is effected by exercising rights under this License with respect to\n",
      "         the covered work, and you disclaim any intention to limit operation or\n",
      "         modification of the work as a means of enforcing, against the work's\n",
      "         users, your or third parties' legal rights to forbid circumvention of\n",
      "         technological measures.\n",
      "         \n",
      "           4. Conveying Verbatim Copies.\n",
      "         \n",
      "           You may convey verbatim copies of the Program's source code as you\n",
      "         receive it, in any medium, provided that you conspicuously and\n",
      "         appropriately publish on each copy an appropriate copyright notice;\n",
      "         keep intact all notices stating that this License and any\n",
      "         non-permissive terms added in accord with section 7 apply to the code;\n",
      "         keep intact all notices of the absence of any warranty; and give all\n",
      "         recipients a copy of this License along with the Program.\n",
      "         \n",
      "           You may charge any price or no price for each copy that you convey,\n",
      "         and you may offer support or warranty protection for a fee.\n",
      "         \n",
      "           5. Conveying Modified Source Versions.\n",
      "         \n",
      "           You may convey a work based on the Program, or the modifications to\n",
      "         produce it from the Program, in the form of source code under the\n",
      "         terms of section 4, provided that you also meet all of these conditions:\n",
      "         \n",
      "             a) The work must carry prominent notices stating that you modified\n",
      "             it, and giving a relevant date.\n",
      "         \n",
      "             b) The work must carry prominent notices stating that it is\n",
      "             released under this License and any conditions added under section\n",
      "             7.  This requirement modifies the requirement in section 4 to\n",
      "             \"keep intact all notices\".\n",
      "         \n",
      "             c) You must license the entire work, as a whole, under this\n",
      "             License to anyone who comes into possession of a copy.  This\n",
      "             License will therefore apply, along with any applicable section 7\n",
      "             additional terms, to the whole of the work, and all its parts,\n",
      "             regardless of how they are packaged.  This License gives no\n",
      "             permission to license the work in any other way, but it does not\n",
      "             invalidate such permission if you have separately received it.\n",
      "         \n",
      "             d) If the work has interactive user interfaces, each must display\n",
      "             Appropriate Legal Notices; however, if the Program has interactive\n",
      "             interfaces that do not display Appropriate Legal Notices, your\n",
      "             work need not make them do so.\n",
      "         \n",
      "           A compilation of a covered work with other separate and independent\n",
      "         works, which are not by their nature extensions of the covered work,\n",
      "         and which are not combined with it such as to form a larger program,\n",
      "         in or on a volume of a storage or distribution medium, is called an\n",
      "         \"aggregate\" if the compilation and its resulting copyright are not\n",
      "         used to limit the access or legal rights of the compilation's users\n",
      "         beyond what the individual works permit.  Inclusion of a covered work\n",
      "         in an aggregate does not cause this License to apply to the other\n",
      "         parts of the aggregate.\n",
      "         \n",
      "           6. Conveying Non-Source Forms.\n",
      "         \n",
      "           You may convey a covered work in object code form under the terms\n",
      "         of sections 4 and 5, provided that you also convey the\n",
      "         machine-readable Corresponding Source under the terms of this License,\n",
      "         in one of these ways:\n",
      "         \n",
      "             a) Convey the object code in, or embodied in, a physical product\n",
      "             (including a physical distribution medium), accompanied by the\n",
      "             Corresponding Source fixed on a durable physical medium\n",
      "             customarily used for software interchange.\n",
      "         \n",
      "             b) Convey the object code in, or embodied in, a physical product\n",
      "             (including a physical distribution medium), accompanied by a\n",
      "             written offer, valid for at least three years and valid for as\n",
      "             long as you offer spare parts or customer support for that product\n",
      "             model, to give anyone who possesses the object code either (1) a\n",
      "             copy of the Corresponding Source for all the software in the\n",
      "             product that is covered by this License, on a durable physical\n",
      "             medium customarily used for software interchange, for a price no\n",
      "             more than your reasonable cost of physically performing this\n",
      "             conveying of source, or (2) access to copy the\n",
      "             Corresponding Source from a network server at no charge.\n",
      "         \n",
      "             c) Convey individual copies of the object code with a copy of the\n",
      "             written offer to provide the Corresponding Source.  This\n",
      "             alternative is allowed only occasionally and noncommercially, and\n",
      "             only if you received the object code with such an offer, in accord\n",
      "             with subsection 6b.\n",
      "         \n",
      "             d) Convey the object code by offering access from a designated\n",
      "             place (gratis or for a charge), and offer equivalent access to the\n",
      "             Corresponding Source in the same way through the same place at no\n",
      "             further charge.  You need not require recipients to copy the\n",
      "             Corresponding Source along with the object code.  If the place to\n",
      "             copy the object code is a network server, the Corresponding Source\n",
      "             may be on a different server (operated by you or a third party)\n",
      "             that supports equivalent copying facilities, provided you maintain\n",
      "             clear directions next to the object code saying where to find the\n",
      "             Corresponding Source.  Regardless of what server hosts the\n",
      "             Corresponding Source, you remain obligated to ensure that it is\n",
      "             available for as long as needed to satisfy these requirements.\n",
      "         \n",
      "             e) Convey the object code using peer-to-peer transmission, provided\n",
      "             you inform other peers where the object code and Corresponding\n",
      "             Source of the work are being offered to the general public at no\n",
      "             charge under subsection 6d.\n",
      "         \n",
      "           A separable portion of the object code, whose source code is excluded\n",
      "         from the Corresponding Source as a System Library, need not be\n",
      "         included in conveying the object code work.\n",
      "         \n",
      "           A \"User Product\" is either (1) a \"consumer product\", which means any\n",
      "         tangible personal property which is normally used for personal, family,\n",
      "         or household purposes, or (2) anything designed or sold for incorporation\n",
      "         into a dwelling.  In determining whether a product is a consumer product,\n",
      "         doubtful cases shall be resolved in favor of coverage.  For a particular\n",
      "         product received by a particular user, \"normally used\" refers to a\n",
      "         typical or common use of that class of product, regardless of the status\n",
      "         of the particular user or of the way in which the particular user\n",
      "         actually uses, or expects or is expected to use, the product.  A product\n",
      "         is a consumer product regardless of whether the product has substantial\n",
      "         commercial, industrial or non-consumer uses, unless such uses represent\n",
      "         the only significant mode of use of the product.\n",
      "         \n",
      "           \"Installation Information\" for a User Product means any methods,\n",
      "         procedures, authorization keys, or other information required to install\n",
      "         and execute modified versions of a covered work in that User Product from\n",
      "         a modified version of its Corresponding Source.  The information must\n",
      "         suffice to ensure that the continued functioning of the modified object\n",
      "         code is in no case prevented or interfered with solely because\n",
      "         modification has been made.\n",
      "         \n",
      "           If you convey an object code work under this section in, or with, or\n",
      "         specifically for use in, a User Product, and the conveying occurs as\n",
      "         part of a transaction in which the right of possession and use of the\n",
      "         User Product is transferred to the recipient in perpetuity or for a\n",
      "         fixed term (regardless of how the transaction is characterized), the\n",
      "         Corresponding Source conveyed under this section must be accompanied\n",
      "         by the Installation Information.  But this requirement does not apply\n",
      "         if neither you nor any third party retains the ability to install\n",
      "         modified object code on the User Product (for example, the work has\n",
      "         been installed in ROM).\n",
      "         \n",
      "           The requirement to provide Installation Information does not include a\n",
      "         requirement to continue to provide support service, warranty, or updates\n",
      "         for a work that has been modified or installed by the recipient, or for\n",
      "         the User Product in which it has been modified or installed.  Access to a\n",
      "         network may be denied when the modification itself materially and\n",
      "         adversely affects the operation of the network or violates the rules and\n",
      "         protocols for communication across the network.\n",
      "         \n",
      "           Corresponding Source conveyed, and Installation Information provided,\n",
      "         in accord with this section must be in a format that is publicly\n",
      "         documented (and with an implementation available to the public in\n",
      "         source code form), and must require no special password or key for\n",
      "         unpacking, reading or copying.\n",
      "         \n",
      "           7. Additional Terms.\n",
      "         \n",
      "           \"Additional permissions\" are terms that supplement the terms of this\n",
      "         License by making exceptions from one or more of its conditions.\n",
      "         Additional permissions that are applicable to the entire Program shall\n",
      "         be treated as though they were included in this License, to the extent\n",
      "         that they are valid under applicable law.  If additional permissions\n",
      "         apply only to part of the Program, that part may be used separately\n",
      "         under those permissions, but the entire Program remains governed by\n",
      "         this License without regard to the additional permissions.\n",
      "         \n",
      "           When you convey a copy of a covered work, you may at your option\n",
      "         remove any additional permissions from that copy, or from any part of\n",
      "         it.  (Additional permissions may be written to require their own\n",
      "         removal in certain cases when you modify the work.)  You may place\n",
      "         additional permissions on material, added by you to a covered work,\n",
      "         for which you have or can give appropriate copyright permission.\n",
      "         \n",
      "           Notwithstanding any other provision of this License, for material you\n",
      "         add to a covered work, you may (if authorized by the copyright holders of\n",
      "         that material) supplement the terms of this License with terms:\n",
      "         \n",
      "             a) Disclaiming warranty or limiting liability differently from the\n",
      "             terms of sections 15 and 16 of this License; or\n",
      "         \n",
      "             b) Requiring preservation of specified reasonable legal notices or\n",
      "             author attributions in that material or in the Appropriate Legal\n",
      "             Notices displayed by works containing it; or\n",
      "         \n",
      "             c) Prohibiting misrepresentation of the origin of that material, or\n",
      "             requiring that modified versions of such material be marked in\n",
      "             reasonable ways as different from the original version; or\n",
      "         \n",
      "             d) Limiting the use for publicity purposes of names of licensors or\n",
      "             authors of the material; or\n",
      "         \n",
      "             e) Declining to grant rights under trademark law for use of some\n",
      "             trade names, trademarks, or service marks; or\n",
      "         \n",
      "             f) Requiring indemnification of licensors and authors of that\n",
      "             material by anyone who conveys the material (or modified versions of\n",
      "             it) with contractual assumptions of liability to the recipient, for\n",
      "             any liability that these contractual assumptions directly impose on\n",
      "             those licensors and authors.\n",
      "         \n",
      "           All other non-permissive additional terms are considered \"further\n",
      "         restrictions\" within the meaning of section 10.  If the Program as you\n",
      "         received it, or any part of it, contains a notice stating that it is\n",
      "         governed by this License along with a term that is a further\n",
      "         restriction, you may remove that term.  If a license document contains\n",
      "         a further restriction but permits relicensing or conveying under this\n",
      "         License, you may add to a covered work material governed by the terms\n",
      "         of that license document, provided that the further restriction does\n",
      "         not survive such relicensing or conveying.\n",
      "         \n",
      "           If you add terms to a covered work in accord with this section, you\n",
      "         must place, in the relevant source files, a statement of the\n",
      "         additional terms that apply to those files, or a notice indicating\n",
      "         where to find the applicable terms.\n",
      "         \n",
      "           Additional terms, permissive or non-permissive, may be stated in the\n",
      "         form of a separately written license, or stated as exceptions;\n",
      "         the above requirements apply either way.\n",
      "         \n",
      "           8. Termination.\n",
      "         \n",
      "           You may not propagate or modify a covered work except as expressly\n",
      "         provided under this License.  Any attempt otherwise to propagate or\n",
      "         modify it is void, and will automatically terminate your rights under\n",
      "         this License (including any patent licenses granted under the third\n",
      "         paragraph of section 11).\n",
      "         \n",
      "           However, if you cease all violation of this License, then your\n",
      "         license from a particular copyright holder is reinstated (a)\n",
      "         provisionally, unless and until the copyright holder explicitly and\n",
      "         finally terminates your license, and (b) permanently, if the copyright\n",
      "         holder fails to notify you of the violation by some reasonable means\n",
      "         prior to 60 days after the cessation.\n",
      "         \n",
      "           Moreover, your license from a particular copyright holder is\n",
      "         reinstated permanently if the copyright holder notifies you of the\n",
      "         violation by some reasonable means, this is the first time you have\n",
      "         received notice of violation of this License (for any work) from that\n",
      "         copyright holder, and you cure the violation prior to 30 days after\n",
      "         your receipt of the notice.\n",
      "         \n",
      "           Termination of your rights under this section does not terminate the\n",
      "         licenses of parties who have received copies or rights from you under\n",
      "         this License.  If your rights have been terminated and not permanently\n",
      "         reinstated, you do not qualify to receive new licenses for the same\n",
      "         material under section 10.\n",
      "         \n",
      "           9. Acceptance Not Required for Having Copies.\n",
      "         \n",
      "           You are not required to accept this License in order to receive or\n",
      "         run a copy of the Program.  Ancillary propagation of a covered work\n",
      "         occurring solely as a consequence of using peer-to-peer transmission\n",
      "         to receive a copy likewise does not require acceptance.  However,\n",
      "         nothing other than this License grants you permission to propagate or\n",
      "         modify any covered work.  These actions infringe copyright if you do\n",
      "         not accept this License.  Therefore, by modifying or propagating a\n",
      "         covered work, you indicate your acceptance of this License to do so.\n",
      "         \n",
      "           10. Automatic Licensing of Downstream Recipients.\n",
      "         \n",
      "           Each time you convey a covered work, the recipient automatically\n",
      "         receives a license from the original licensors, to run, modify and\n",
      "         propagate that work, subject to this License.  You are not responsible\n",
      "         for enforcing compliance by third parties with this License.\n",
      "         \n",
      "           An \"entity transaction\" is a transaction transferring control of an\n",
      "         organization, or substantially all assets of one, or subdividing an\n",
      "         organization, or merging organizations.  If propagation of a covered\n",
      "         work results from an entity transaction, each party to that\n",
      "         transaction who receives a copy of the work also receives whatever\n",
      "         licenses to the work the party's predecessor in interest had or could\n",
      "         give under the previous paragraph, plus a right to possession of the\n",
      "         Corresponding Source of the work from the predecessor in interest, if\n",
      "         the predecessor has it or can get it with reasonable efforts.\n",
      "         \n",
      "           You may not impose any further restrictions on the exercise of the\n",
      "         rights granted or affirmed under this License.  For example, you may\n",
      "         not impose a license fee, royalty, or other charge for exercise of\n",
      "         rights granted under this License, and you may not initiate litigation\n",
      "         (including a cross-claim or counterclaim in a lawsuit) alleging that\n",
      "         any patent claim is infringed by making, using, selling, offering for\n",
      "         sale, or importing the Program or any portion of it.\n",
      "         \n",
      "           11. Patents.\n",
      "         \n",
      "           A \"contributor\" is a copyright holder who authorizes use under this\n",
      "         License of the Program or a work on which the Program is based.  The\n",
      "         work thus licensed is called the contributor's \"contributor version\".\n",
      "         \n",
      "           A contributor's \"essential patent claims\" are all patent claims\n",
      "         owned or controlled by the contributor, whether already acquired or\n",
      "         hereafter acquired, that would be infringed by some manner, permitted\n",
      "         by this License, of making, using, or selling its contributor version,\n",
      "         but do not include claims that would be infringed only as a\n",
      "         consequence of further modification of the contributor version.  For\n",
      "         purposes of this definition, \"control\" includes the right to grant\n",
      "         patent sublicenses in a manner consistent with the requirements of\n",
      "         this License.\n",
      "         \n",
      "           Each contributor grants you a non-exclusive, worldwide, royalty-free\n",
      "         patent license under the contributor's essential patent claims, to\n",
      "         make, use, sell, offer for sale, import and otherwise run, modify and\n",
      "         propagate the contents of its contributor version.\n",
      "         \n",
      "           In the following three paragraphs, a \"patent license\" is any express\n",
      "         agreement or commitment, however denominated, not to enforce a patent\n",
      "         (such as an express permission to practice a patent or covenant not to\n",
      "         sue for patent infringement).  To \"grant\" such a patent license to a\n",
      "         party means to make such an agreement or commitment not to enforce a\n",
      "         patent against the party.\n",
      "         \n",
      "           If you convey a covered work, knowingly relying on a patent license,\n",
      "         and the Corresponding Source of the work is not available for anyone\n",
      "         to copy, free of charge and under the terms of this License, through a\n",
      "         publicly available network server or other readily accessible means,\n",
      "         then you must either (1) cause the Corresponding Source to be so\n",
      "         available, or (2) arrange to deprive yourself of the benefit of the\n",
      "         patent license for this particular work, or (3) arrange, in a manner\n",
      "         consistent with the requirements of this License, to extend the patent\n",
      "         license to downstream recipients.  \"Knowingly relying\" means you have\n",
      "         actual knowledge that, but for the patent license, your conveying the\n",
      "         covered work in a country, or your recipient's use of the covered work\n",
      "         in a country, would infringe one or more identifiable patents in that\n",
      "         country that you have reason to believe are valid.\n",
      "         \n",
      "           If, pursuant to or in connection with a single transaction or\n",
      "         arrangement, you convey, or propagate by procuring conveyance of, a\n",
      "         covered work, and grant a patent license to some of the parties\n",
      "         receiving the covered work authorizing them to use, propagate, modify\n",
      "         or convey a specific copy of the covered work, then the patent license\n",
      "         you grant is automatically extended to all recipients of the covered\n",
      "         work and works based on it.\n",
      "         \n",
      "           A patent license is \"discriminatory\" if it does not include within\n",
      "         the scope of its coverage, prohibits the exercise of, or is\n",
      "         conditioned on the non-exercise of one or more of the rights that are\n",
      "         specifically granted under this License.  You may not convey a covered\n",
      "         work if you are a party to an arrangement with a third party that is\n",
      "         in the business of distributing software, under which you make payment\n",
      "         to the third party based on the extent of your activity of conveying\n",
      "         the work, and under which the third party grants, to any of the\n",
      "         parties who would receive the covered work from you, a discriminatory\n",
      "         patent license (a) in connection with copies of the covered work\n",
      "         conveyed by you (or copies made from those copies), or (b) primarily\n",
      "         for and in connection with specific products or compilations that\n",
      "         contain the covered work, unless you entered into that arrangement,\n",
      "         or that patent license was granted, prior to 28 March 2007.\n",
      "         \n",
      "           Nothing in this License shall be construed as excluding or limiting\n",
      "         any implied license or other defenses to infringement that may\n",
      "         otherwise be available to you under applicable patent law.\n",
      "         \n",
      "           12. No Surrender of Others' Freedom.\n",
      "         \n",
      "           If conditions are imposed on you (whether by court order, agreement or\n",
      "         otherwise) that contradict the conditions of this License, they do not\n",
      "         excuse you from the conditions of this License.  If you cannot convey a\n",
      "         covered work so as to satisfy simultaneously your obligations under this\n",
      "         License and any other pertinent obligations, then as a consequence you may\n",
      "         not convey it at all.  For example, if you agree to terms that obligate you\n",
      "         to collect a royalty for further conveying from those to whom you convey\n",
      "         the Program, the only way you could satisfy both those terms and this\n",
      "         License would be to refrain entirely from conveying the Program.\n",
      "         \n",
      "           13. Use with the GNU Affero General Public License.\n",
      "         \n",
      "           Notwithstanding any other provision of this License, you have\n",
      "         permission to link or combine any covered work with a work licensed\n",
      "         under version 3 of the GNU Affero General Public License into a single\n",
      "         combined work, and to convey the resulting work.  The terms of this\n",
      "         License will continue to apply to the part which is the covered work,\n",
      "         but the special requirements of the GNU Affero General Public License,\n",
      "         section 13, concerning interaction through a network will apply to the\n",
      "         combination as such.\n",
      "         \n",
      "           14. Revised Versions of this License.\n",
      "         \n",
      "           The Free Software Foundation may publish revised and/or new versions of\n",
      "         the GNU General Public License from time to time.  Such new versions will\n",
      "         be similar in spirit to the present version, but may differ in detail to\n",
      "         address new problems or concerns.\n",
      "         \n",
      "           Each version is given a distinguishing version number.  If the\n",
      "         Program specifies that a certain numbered version of the GNU General\n",
      "         Public License \"or any later version\" applies to it, you have the\n",
      "         option of following the terms and conditions either of that numbered\n",
      "         version or of any later version published by the Free Software\n",
      "         Foundation.  If the Program does not specify a version number of the\n",
      "         GNU General Public License, you may choose any version ever published\n",
      "         by the Free Software Foundation.\n",
      "         \n",
      "           If the Program specifies that a proxy can decide which future\n",
      "         versions of the GNU General Public License can be used, that proxy's\n",
      "         public statement of acceptance of a version permanently authorizes you\n",
      "         to choose that version for the Program.\n",
      "         \n",
      "           Later license versions may give you additional or different\n",
      "         permissions.  However, no additional obligations are imposed on any\n",
      "         author or copyright holder as a result of your choosing to follow a\n",
      "         later version.\n",
      "         \n",
      "           15. Disclaimer of Warranty.\n",
      "         \n",
      "           THERE IS NO WARRANTY FOR THE PROGRAM, TO THE EXTENT PERMITTED BY\n",
      "         APPLICABLE LAW.  EXCEPT WHEN OTHERWISE STATED IN WRITING THE COPYRIGHT\n",
      "         HOLDERS AND/OR OTHER PARTIES PROVIDE THE PROGRAM \"AS IS\" WITHOUT WARRANTY\n",
      "         OF ANY KIND, EITHER EXPRESSED OR IMPLIED, INCLUDING, BUT NOT LIMITED TO,\n",
      "         THE IMPLIED WARRANTIES OF MERCHANTABILITY AND FITNESS FOR A PARTICULAR\n",
      "         PURPOSE.  THE ENTIRE RISK AS TO THE QUALITY AND PERFORMANCE OF THE PROGRAM\n",
      "         IS WITH YOU.  SHOULD THE PROGRAM PROVE DEFECTIVE, YOU ASSUME THE COST OF\n",
      "         ALL NECESSARY SERVICING, REPAIR OR CORRECTION.\n",
      "         \n",
      "           16. Limitation of Liability.\n",
      "         \n",
      "           IN NO EVENT UNLESS REQUIRED BY APPLICABLE LAW OR AGREED TO IN WRITING\n",
      "         WILL ANY COPYRIGHT HOLDER, OR ANY OTHER PARTY WHO MODIFIES AND/OR CONVEYS\n",
      "         THE PROGRAM AS PERMITTED ABOVE, BE LIABLE TO YOU FOR DAMAGES, INCLUDING ANY\n",
      "         GENERAL, SPECIAL, INCIDENTAL OR CONSEQUENTIAL DAMAGES ARISING OUT OF THE\n",
      "         USE OR INABILITY TO USE THE PROGRAM (INCLUDING BUT NOT LIMITED TO LOSS OF\n",
      "         DATA OR DATA BEING RENDERED INACCURATE OR LOSSES SUSTAINED BY YOU OR THIRD\n",
      "         PARTIES OR A FAILURE OF THE PROGRAM TO OPERATE WITH ANY OTHER PROGRAMS),\n",
      "         EVEN IF SUCH HOLDER OR OTHER PARTY HAS BEEN ADVISED OF THE POSSIBILITY OF\n",
      "         SUCH DAMAGES.\n",
      "         \n",
      "           17. Interpretation of Sections 15 and 16.\n",
      "         \n",
      "           If the disclaimer of warranty and limitation of liability provided\n",
      "         above cannot be given local legal effect according to their terms,\n",
      "         reviewing courts shall apply local law that most closely approximates\n",
      "         an absolute waiver of all civil liability in connection with the\n",
      "         Program, unless a warranty or assumption of liability accompanies a\n",
      "         copy of the Program in return for a fee.\n",
      "         \n",
      "                              END OF TERMS AND CONDITIONS\n",
      "         \n",
      "                     How to Apply These Terms to Your New Programs\n",
      "         \n",
      "           If you develop a new program, and you want it to be of the greatest\n",
      "         possible use to the public, the best way to achieve this is to make it\n",
      "         free software which everyone can redistribute and change under these terms.\n",
      "         \n",
      "           To do so, attach the following notices to the program.  It is safest\n",
      "         to attach them to the start of each source file to most effectively\n",
      "         state the exclusion of warranty; and each file should have at least\n",
      "         the \"copyright\" line and a pointer to where the full notice is found.\n",
      "         \n",
      "             <one line to give the program's name and a brief idea of what it does.>\n",
      "             Copyright (C) <year>  <name of author>\n",
      "         \n",
      "             This program is free software: you can redistribute it and/or modify\n",
      "             it under the terms of the GNU General Public License as published by\n",
      "             the Free Software Foundation, either version 3 of the License, or\n",
      "             (at your option) any later version.\n",
      "         \n",
      "             This program is distributed in the hope that it will be useful,\n",
      "             but WITHOUT ANY WARRANTY; without even the implied warranty of\n",
      "             MERCHANTABILITY or FITNESS FOR A PARTICULAR PURPOSE.  See the\n",
      "             GNU General Public License for more details.\n",
      "         \n",
      "             You should have received a copy of the GNU General Public License\n",
      "             along with this program.  If not, see <http://www.gnu.org/licenses/>.\n",
      "         \n",
      "         Also add information on how to contact you by electronic and paper mail.\n",
      "         \n",
      "           If the program does terminal interaction, make it output a short\n",
      "         notice like this when it starts in an interactive mode:\n",
      "         \n",
      "             <program>  Copyright (C) <year>  <name of author>\n",
      "             This program comes with ABSOLUTELY NO WARRANTY; for details type `show w'.\n",
      "             This is free software, and you are welcome to redistribute it\n",
      "             under certain conditions; type `show c' for details.\n",
      "         \n",
      "         The hypothetical commands `show w' and `show c' should show the appropriate\n",
      "         parts of the General Public License.  Of course, your program's commands\n",
      "         might be different; for a GUI interface, you would use an \"about box\".\n",
      "         \n",
      "           You should also get your employer (if you work as a programmer) or school,\n",
      "         if any, to sign a \"copyright disclaimer\" for the program, if necessary.\n",
      "         For more information on this, and how to apply and follow the GNU GPL, see\n",
      "         <http://www.gnu.org/licenses/>.\n",
      "         \n",
      "           The GNU General Public License does not permit incorporating your program\n",
      "         into proprietary programs.  If your program is a subroutine library, you\n",
      "         may consider it more useful to permit linking proprietary applications with\n",
      "         the library.  If this is what you want to do, use the GNU Lesser General\n",
      "         Public License instead of this License.  But first, please read\n",
      "         <http://www.gnu.org/philosophy/why-not-lgpl.html>.\n",
      "         \n",
      "         \n",
      "Location: c:\\users\\gol_m\\anaconda3\\envs\\programacion_2\\lib\\site-packages\n",
      "Requires: \n",
      "Required-by: contourpy, gradio, librosa, matplotlib, numba, opencv-python, pandas, scikit-learn, scipy, soundfile, soxr, torchvision\n"
     ]
    }
   ],
   "source": [
    "!pip show numpy"
   ]
  },
  {
   "cell_type": "markdown",
   "metadata": {},
   "source": [
    "### **1.2 Importar NumPy**"
   ]
  },
  {
   "cell_type": "code",
   "execution_count": 2,
   "metadata": {},
   "outputs": [],
   "source": [
    "import numpy as np"
   ]
  },
  {
   "cell_type": "markdown",
   "metadata": {},
   "source": [
    "### **1.3 Creación de Arrays (Arreglos)**"
   ]
  },
  {
   "cell_type": "code",
   "execution_count": 6,
   "metadata": {},
   "outputs": [],
   "source": [
    "number_list = list(range(1, 11)) # Creamos una lista de números\n",
    "\n",
    "# Muestre el resultado "
   ]
  },
  {
   "cell_type": "code",
   "execution_count": null,
   "metadata": {},
   "outputs": [],
   "source": [
    "# Muestra tu arreglo"
   ]
  },
  {
   "cell_type": "code",
   "execution_count": 7,
   "metadata": {},
   "outputs": [],
   "source": [
    "# Podemos crear únicamente un array de ceros\n",
    "array_ceros = np.zeros((3))"
   ]
  },
  {
   "cell_type": "code",
   "execution_count": 9,
   "metadata": {},
   "outputs": [],
   "source": [
    "# Muestra tu arreglo"
   ]
  },
  {
   "cell_type": "code",
   "execution_count": 11,
   "metadata": {},
   "outputs": [],
   "source": [
    "# Podemos crear únicamente un array de unos \n",
    "array_ceros = np.ones((7))"
   ]
  },
  {
   "cell_type": "code",
   "execution_count": null,
   "metadata": {},
   "outputs": [],
   "source": [
    "# Muestra tu arreglo de unos"
   ]
  },
  {
   "cell_type": "code",
   "execution_count": 11,
   "metadata": {},
   "outputs": [],
   "source": [
    "# Podemos crear un array con una secuencia de valores\n",
    "arr_range = np.arange(0, 10, 2)"
   ]
  },
  {
   "cell_type": "code",
   "execution_count": null,
   "metadata": {},
   "outputs": [],
   "source": [
    "# Muestra tu secuencia de numeros"
   ]
  },
  {
   "cell_type": "code",
   "execution_count": 12,
   "metadata": {},
   "outputs": [],
   "source": [
    "# Podemos crear un array con una secuencia de valores\n",
    "arr_range = np.arange(0, 1, 0.1)"
   ]
  },
  {
   "cell_type": "code",
   "execution_count": null,
   "metadata": {},
   "outputs": [],
   "source": [
    "# Muestra tu secuencia de numerps"
   ]
  },
  {
   "cell_type": "code",
   "execution_count": 14,
   "metadata": {},
   "outputs": [],
   "source": [
    "# Podemos crear un arreglo con valores equidistantes\n",
    "arr_linspace = np.linspace(0, 10, 5)"
   ]
  },
  {
   "cell_type": "code",
   "execution_count": 17,
   "metadata": {},
   "outputs": [],
   "source": [
    "# Muestra tu arreglo de numeros"
   ]
  },
  {
   "cell_type": "markdown",
   "metadata": {},
   "source": [
    "#### **Diferencia entre `arange()` y `linspace()`**"
   ]
  },
  {
   "cell_type": "markdown",
   "metadata": {},
   "source": [
    "La diferencia principal entre `np.arange()` y `np.linspace()` radica en la forma en que generan los valores:\n",
    "\n",
    "1. **`np.arange(start, stop, step)`**  \n",
    "   - Genera valores en un rango con un **paso constante** entre ellos.\n",
    "   - No necesariamente incluye el valor de `stop` si no coincide con el paso exacto.\n",
    "   - Es similar a `range()` en Python, pero funciona con arrays de NumPy.\n",
    "   - Ejemplo:\n",
    "     ```python\n",
    "     import numpy as np\n",
    "     arr = np.arange(0, 10, 2)\n",
    "     print(arr)  # Output: [0 2 4 6 8]\n",
    "     ```\n",
    "\n",
    "2. **`np.linspace(start, stop, cantidad_elemento)`**  \n",
    "   - Genera un número `num` de valores equidistantes entre `start` y `stop`.\n",
    "   - SIEMPRE incluye el valor de `stop`.\n",
    "   - Se usa cuando quieres un número específico de puntos en un intervalo.\n",
    "   - Ejemplo:\n",
    "     ```python\n",
    "     arr = np.linspace(0, 10, 5)\n",
    "     print(arr)  # Output: [ 0.   2.5  5.   7.5 10. ]\n",
    "     ```\n",
    "\n",
    "#### Resumen:\n",
    "- **`arange()`**: Define valores con un paso fijo.\n",
    "- **`linspace()`**: Define valores con un número fijo de puntos entre dos límites.\n",
    "\n",
    "¿Cuál usar?  \n",
    "- Usa `arange()` si sabes el **paso exacto** que quieres.  \n",
    "- Usa `linspace()` si sabes **cuántos puntos** necesitas. "
   ]
  },
  {
   "cell_type": "markdown",
   "metadata": {},
   "source": [
    "### **1.4 Creación de matrices**"
   ]
  },
  {
   "cell_type": "code",
   "execution_count": 18,
   "metadata": {},
   "outputs": [],
   "source": [
    "lista = list(range(1, 4)) # Creamos una lista de números\n",
    "matriz = np.array([lista, lista, lista])"
   ]
  },
  {
   "cell_type": "code",
   "execution_count": 20,
   "metadata": {},
   "outputs": [],
   "source": [
    "# Muestra tu matriz"
   ]
  },
  {
   "cell_type": "markdown",
   "metadata": {},
   "source": [
    "### **1.5 Atributos de NumPy**"
   ]
  },
  {
   "cell_type": "markdown",
   "metadata": {},
   "source": [
    "Recordemos que en Python todo es un objeto, dado eso tenemos objetos que tienen métodos y atributos. En NumPy existen atributos importantes, como:\n",
    "\n",
    "* Saber la dimensión del arreglo o matriz.\n",
    "* El número de dimensiones.\n",
    "* Cantidad total de elementos.\n",
    "* El tipo de dato de los elementos."
   ]
  },
  {
   "cell_type": "code",
   "execution_count": 21,
   "metadata": {},
   "outputs": [
    {
     "data": {
      "text/plain": [
       "array([ 1.,  2.,  3.,  4.,  5.,  6.,  7.,  8.,  9., 10.])"
      ]
     },
     "execution_count": 21,
     "metadata": {},
     "output_type": "execute_result"
    }
   ],
   "source": [
    "array = np.linspace(1, 10, 10)\n",
    "array"
   ]
  },
  {
   "cell_type": "code",
   "execution_count": 25,
   "metadata": {},
   "outputs": [
    {
     "data": {
      "text/plain": [
       "(10,)"
      ]
     },
     "execution_count": 25,
     "metadata": {},
     "output_type": "execute_result"
    }
   ],
   "source": [
    "# Saber la dimensión o forma\n",
    "array.shape"
   ]
  },
  {
   "cell_type": "code",
   "execution_count": null,
   "metadata": {},
   "outputs": [
    {
     "data": {
      "text/plain": [
       "1"
      ]
     },
     "execution_count": 26,
     "metadata": {},
     "output_type": "execute_result"
    }
   ],
   "source": [
    "# Saber el número de dimensiones\n",
    "array.ndim"
   ]
  },
  {
   "cell_type": "code",
   "execution_count": 24,
   "metadata": {},
   "outputs": [
    {
     "data": {
      "text/plain": [
       "10"
      ]
     },
     "execution_count": 24,
     "metadata": {},
     "output_type": "execute_result"
    }
   ],
   "source": [
    "# SAber la cantidad de elementos\n",
    "array.size"
   ]
  },
  {
   "cell_type": "code",
   "execution_count": 28,
   "metadata": {},
   "outputs": [
    {
     "data": {
      "text/plain": [
       "dtype('float64')"
      ]
     },
     "execution_count": 28,
     "metadata": {},
     "output_type": "execute_result"
    }
   ],
   "source": [
    "# Saber el tipo de dato de los elementos\n",
    "array.dtype"
   ]
  },
  {
   "cell_type": "markdown",
   "metadata": {},
   "source": [
    "### **1.6 Operaciones Matemáticas**"
   ]
  },
  {
   "cell_type": "markdown",
   "metadata": {},
   "source": [
    "Revisar más operaciones"
   ]
  },
  {
   "cell_type": "markdown",
   "metadata": {},
   "source": [
    "#### **1.6.1 Suma (Punto a punto)**"
   ]
  },
  {
   "cell_type": "code",
   "execution_count": 25,
   "metadata": {},
   "outputs": [],
   "source": [
    "# 1º: Podemos sumar ndarrays\n",
    "\n",
    "vector1 = np.ones(5)\n",
    "vector2 = np.ones(5)"
   ]
  },
  {
   "cell_type": "code",
   "execution_count": 27,
   "metadata": {},
   "outputs": [
    {
     "data": {
      "text/plain": [
       "array([1., 1., 1., 1., 1.])"
      ]
     },
     "execution_count": 27,
     "metadata": {},
     "output_type": "execute_result"
    }
   ],
   "source": [
    "# Mostrar los vectores por pantalla\n",
    "vector1"
   ]
  },
  {
   "cell_type": "code",
   "execution_count": 28,
   "metadata": {},
   "outputs": [
    {
     "data": {
      "text/plain": [
       "array([1., 1., 1., 1., 1.])"
      ]
     },
     "execution_count": 28,
     "metadata": {},
     "output_type": "execute_result"
    }
   ],
   "source": [
    "vector2"
   ]
  },
  {
   "cell_type": "code",
   "execution_count": 26,
   "metadata": {},
   "outputs": [
    {
     "data": {
      "text/plain": [
       "array([2., 2., 2., 2., 2.])"
      ]
     },
     "execution_count": 26,
     "metadata": {},
     "output_type": "execute_result"
    }
   ],
   "source": [
    "suma = vector1 + vector2 \n",
    "suma"
   ]
  },
  {
   "cell_type": "code",
   "execution_count": 32,
   "metadata": {},
   "outputs": [],
   "source": [
    "# 2º: Podemos sumar un ndarray con cualquier tipo de dato, int, float, de python.\n",
    "\n",
    "vector1 = np.ones(5)\n",
    "\n",
    "escalar = np.array(6) "
   ]
  },
  {
   "cell_type": "code",
   "execution_count": 33,
   "metadata": {},
   "outputs": [
    {
     "data": {
      "text/plain": [
       "array([1., 1., 1., 1., 1.])"
      ]
     },
     "execution_count": 33,
     "metadata": {},
     "output_type": "execute_result"
    }
   ],
   "source": [
    "vector1"
   ]
  },
  {
   "cell_type": "code",
   "execution_count": 34,
   "metadata": {},
   "outputs": [
    {
     "data": {
      "text/plain": [
       "array(6)"
      ]
     },
     "execution_count": 34,
     "metadata": {},
     "output_type": "execute_result"
    }
   ],
   "source": [
    "escalar"
   ]
  },
  {
   "cell_type": "code",
   "execution_count": 35,
   "metadata": {},
   "outputs": [
    {
     "data": {
      "text/plain": [
       "array([7., 7., 7., 7., 7.])"
      ]
     },
     "execution_count": 35,
     "metadata": {},
     "output_type": "execute_result"
    }
   ],
   "source": [
    "suma = vector1 + escalar \n",
    "suma"
   ]
  },
  {
   "cell_type": "code",
   "execution_count": 12,
   "metadata": {},
   "outputs": [
    {
     "data": {
      "text/plain": [
       "array([26.987, 26.987, 26.987, 26.987])"
      ]
     },
     "execution_count": 12,
     "metadata": {},
     "output_type": "execute_result"
    }
   ],
   "source": [
    "# Otro ejemplo, \n",
    "suma = np.ones(4) + 25.987 \n",
    "suma"
   ]
  },
  {
   "cell_type": "code",
   "execution_count": 36,
   "metadata": {},
   "outputs": [],
   "source": [
    "# 3º: Podemos sumar matrices punto a punto\n",
    "\n",
    "matriz1 = np.ones((3,3))\n",
    "matriz2 = np.ones((3,3))"
   ]
  },
  {
   "cell_type": "code",
   "execution_count": 38,
   "metadata": {},
   "outputs": [
    {
     "data": {
      "text/plain": [
       "array([[1., 1., 1.],\n",
       "       [1., 1., 1.],\n",
       "       [1., 1., 1.]])"
      ]
     },
     "execution_count": 38,
     "metadata": {},
     "output_type": "execute_result"
    }
   ],
   "source": [
    "matriz2"
   ]
  },
  {
   "cell_type": "code",
   "execution_count": 19,
   "metadata": {},
   "outputs": [
    {
     "data": {
      "text/plain": [
       "array([[2., 2., 2.],\n",
       "       [2., 2., 2.],\n",
       "       [2., 2., 2.]])"
      ]
     },
     "execution_count": 19,
     "metadata": {},
     "output_type": "execute_result"
    }
   ],
   "source": [
    "suma_punto_punto = matriz1 + matriz2 \n",
    "suma_punto_punto"
   ]
  },
  {
   "cell_type": "code",
   "execution_count": 40,
   "metadata": {},
   "outputs": [
    {
     "data": {
      "text/plain": [
       "array([[29., 29., 29.],\n",
       "       [29., 29., 29.],\n",
       "       [29., 29., 29.]])"
      ]
     },
     "execution_count": 40,
     "metadata": {},
     "output_type": "execute_result"
    }
   ],
   "source": [
    "# 4º: Podemos sumar matrices punto a punto pero con un escalar\n",
    "\n",
    "matriz1 = np.ones((3,3)) + 28\n",
    "matriz1\n"
   ]
  },
  {
   "cell_type": "markdown",
   "metadata": {},
   "source": [
    "#### **1.6.2 Resta (Punto a punto)**"
   ]
  },
  {
   "cell_type": "markdown",
   "metadata": {},
   "source": [
    "De igual manera que lo hicimos anteriormente, podemos realizar la resta de vectores, matrices, etc."
   ]
  },
  {
   "cell_type": "code",
   "execution_count": 23,
   "metadata": {},
   "outputs": [],
   "source": [
    "vector1 = np.ones(4)\n",
    "vector2 = np.ones(4)"
   ]
  },
  {
   "cell_type": "code",
   "execution_count": null,
   "metadata": {},
   "outputs": [],
   "source": [
    "# Muestra el resultado de los dos vectores"
   ]
  },
  {
   "cell_type": "code",
   "execution_count": 25,
   "metadata": {},
   "outputs": [],
   "source": [
    "resta = vector1 - vector2"
   ]
  },
  {
   "cell_type": "code",
   "execution_count": null,
   "metadata": {},
   "outputs": [],
   "source": [
    "# Muestra el resultado de los dos vectores"
   ]
  },
  {
   "cell_type": "code",
   "execution_count": 28,
   "metadata": {},
   "outputs": [],
   "source": [
    "vector1 = np.ones(5) + 25 \n",
    "escalar = 5\n",
    "\n",
    "resta = vector1 - escalar "
   ]
  },
  {
   "cell_type": "code",
   "execution_count": null,
   "metadata": {},
   "outputs": [],
   "source": [
    "# ¿Qué resultado debería dar?"
   ]
  },
  {
   "cell_type": "markdown",
   "metadata": {},
   "source": [
    "#### **1.6.3 Multiplicación (Punto a punto)**"
   ]
  },
  {
   "cell_type": "code",
   "execution_count": 29,
   "metadata": {},
   "outputs": [],
   "source": [
    "vector1 = np.ones(4) + 1\n",
    "vector2 = np.ones(4) + 1\n",
    "\n",
    "mult = vector1 * vector2 "
   ]
  },
  {
   "cell_type": "code",
   "execution_count": null,
   "metadata": {},
   "outputs": [],
   "source": [
    "# Muestra el resultado"
   ]
  },
  {
   "cell_type": "code",
   "execution_count": 41,
   "metadata": {},
   "outputs": [],
   "source": [
    "vector = (np.ones(4) + 1) * 5"
   ]
  },
  {
   "cell_type": "code",
   "execution_count": null,
   "metadata": {},
   "outputs": [],
   "source": [
    "# ¿Qué debería obtener?"
   ]
  },
  {
   "cell_type": "code",
   "execution_count": 33,
   "metadata": {},
   "outputs": [],
   "source": [
    "matriz1 = np.ones((2,2))\n",
    "matriz2 = np.zeros((2,2))"
   ]
  },
  {
   "cell_type": "code",
   "execution_count": 35,
   "metadata": {},
   "outputs": [],
   "source": [
    "mult = matriz1 * matriz2 "
   ]
  },
  {
   "cell_type": "code",
   "execution_count": null,
   "metadata": {},
   "outputs": [],
   "source": [
    "# ¿Qué debería obtener?"
   ]
  },
  {
   "cell_type": "code",
   "execution_count": 44,
   "metadata": {},
   "outputs": [],
   "source": [
    "matriz = (np.ones((2,2)) + 1) * 3"
   ]
  },
  {
   "cell_type": "code",
   "execution_count": 46,
   "metadata": {},
   "outputs": [],
   "source": [
    "# ¿Qué debería obtener?"
   ]
  },
  {
   "cell_type": "markdown",
   "metadata": {},
   "source": [
    "#### **1.6.4 División (Punto a punto)**"
   ]
  },
  {
   "cell_type": "code",
   "execution_count": 41,
   "metadata": {},
   "outputs": [
    {
     "data": {
      "text/plain": [
       "array([2., 2., 2., 2.])"
      ]
     },
     "execution_count": 41,
     "metadata": {},
     "output_type": "execute_result"
    }
   ],
   "source": [
    "vector1 = np.ones(4) + 1\n",
    "vector2 = np.ones(4)\n",
    "\n",
    "div = vector1 / vector2 \n",
    "div"
   ]
  },
  {
   "cell_type": "code",
   "execution_count": 47,
   "metadata": {},
   "outputs": [],
   "source": [
    "vector = np.ones(5) / 2 "
   ]
  },
  {
   "cell_type": "markdown",
   "metadata": {},
   "source": [
    "#### **1.6.5 Suma Total**"
   ]
  },
  {
   "cell_type": "code",
   "execution_count": null,
   "metadata": {},
   "outputs": [
    {
     "data": {
      "text/plain": [
       "np.float64(7.0)"
      ]
     },
     "execution_count": 44,
     "metadata": {},
     "output_type": "execute_result"
    }
   ],
   "source": [
    "suma_1d = np.sum(np.ones(7))\n",
    "suma_1d"
   ]
  },
  {
   "cell_type": "code",
   "execution_count": 45,
   "metadata": {},
   "outputs": [
    {
     "data": {
      "text/plain": [
       "np.float64(4.0)"
      ]
     },
     "execution_count": 45,
     "metadata": {},
     "output_type": "execute_result"
    }
   ],
   "source": [
    "suma_2d = np.sum(np.ones((2,2)))\n",
    "suma_2d"
   ]
  },
  {
   "cell_type": "markdown",
   "metadata": {},
   "source": [
    "Veamos otro ejemplo con números aleatorios."
   ]
  },
  {
   "cell_type": "code",
   "execution_count": 64,
   "metadata": {},
   "outputs": [
    {
     "data": {
      "text/plain": [
       "array([[0.22199317, 0.87073231],\n",
       "       [0.20671916, 0.91861091]])"
      ]
     },
     "execution_count": 64,
     "metadata": {},
     "output_type": "execute_result"
    }
   ],
   "source": [
    "np.random.seed(5)\n",
    "\n",
    "matriz = np.random.random((2,2))\n",
    "matriz"
   ]
  },
  {
   "cell_type": "code",
   "execution_count": 65,
   "metadata": {},
   "outputs": [
    {
     "data": {
      "text/plain": [
       "np.float64(2.2180555405444635)"
      ]
     },
     "execution_count": 65,
     "metadata": {},
     "output_type": "execute_result"
    }
   ],
   "source": [
    "np.sum(matriz)"
   ]
  },
  {
   "cell_type": "markdown",
   "metadata": {},
   "source": [
    "Verifiquemos el resultado obtenido..."
   ]
  },
  {
   "cell_type": "code",
   "execution_count": 66,
   "metadata": {},
   "outputs": [
    {
     "data": {
      "text/plain": [
       "2.21805555"
      ]
     },
     "execution_count": 66,
     "metadata": {},
     "output_type": "execute_result"
    }
   ],
   "source": [
    "result = 0.22199317 + 0.87073231 + 0.20671916 + 0.91861091\n",
    "result"
   ]
  },
  {
   "cell_type": "code",
   "execution_count": 70,
   "metadata": {},
   "outputs": [
    {
     "data": {
      "text/plain": [
       "2"
      ]
     },
     "execution_count": 70,
     "metadata": {},
     "output_type": "execute_result"
    }
   ],
   "source": [
    "len(matriz)"
   ]
  },
  {
   "cell_type": "markdown",
   "metadata": {},
   "source": [
    "Por lo tanto, podemos ahorrarnos el uso de tener que recorrer el array y sumar dentro de dos for, ¿Cómo?"
   ]
  },
  {
   "cell_type": "code",
   "execution_count": 51,
   "metadata": {},
   "outputs": [
    {
     "data": {
      "text/plain": [
       "np.float64(2.2180555405444635)"
      ]
     },
     "execution_count": 51,
     "metadata": {},
     "output_type": "execute_result"
    }
   ],
   "source": [
    "sum = 0\n",
    "\n",
    "for i in range(len(matriz[:])):\n",
    "    for j in range(len(matriz[0, :])):\n",
    "        sum = sum + matriz[i,j]\n",
    "\n",
    "sum "
   ]
  },
  {
   "cell_type": "markdown",
   "metadata": {},
   "source": [
    "Supongamos que tenemos una matriz de 4x4."
   ]
  },
  {
   "cell_type": "code",
   "execution_count": 55,
   "metadata": {},
   "outputs": [
    {
     "data": {
      "text/plain": [
       "array([[0.22199317, 0.87073231, 0.20671916, 0.91861091],\n",
       "       [0.48841119, 0.61174386, 0.76590786, 0.51841799],\n",
       "       [0.2968005 , 0.18772123, 0.08074127, 0.7384403 ],\n",
       "       [0.44130922, 0.15830987, 0.87993703, 0.27408646]])"
      ]
     },
     "execution_count": 55,
     "metadata": {},
     "output_type": "execute_result"
    }
   ],
   "source": [
    "np.random.seed(5)\n",
    "\n",
    "matriz = np.random.random((4,4))\n",
    "matriz"
   ]
  },
  {
   "cell_type": "code",
   "execution_count": 57,
   "metadata": {},
   "outputs": [
    {
     "name": "stdout",
     "output_type": "stream",
     "text": [
      "Suma al utilizar numpy:  7.659882315598623\n",
      "Suma al utilizar el for:  7.659882315598622\n"
     ]
    }
   ],
   "source": [
    "sum = 0\n",
    "\n",
    "for i in range(len(matriz[:])):\n",
    "    for j in range(len(matriz[0, :])):\n",
    "        sum = sum + matriz[i,j]\n",
    "\n",
    "print(\"Suma al utilizar numpy: \", np.sum(matriz))\n",
    "print(\"Suma al utilizar el for: \", sum)"
   ]
  },
  {
   "cell_type": "markdown",
   "metadata": {},
   "source": [
    "### **1.7 Slicing en NumPy**"
   ]
  },
  {
   "cell_type": "markdown",
   "metadata": {},
   "source": [
    "En esta sección vamos a ver cómo acceder a un o conjuntos de elementos, modificación de elementos, etc."
   ]
  },
  {
   "cell_type": "markdown",
   "metadata": {},
   "source": [
    "#### **1.7.1 Array**"
   ]
  },
  {
   "cell_type": "code",
   "execution_count": 77,
   "metadata": {},
   "outputs": [
    {
     "data": {
      "text/plain": [
       "array([0.22199317, 0.87073231, 0.20671916, 0.91861091, 0.48841119])"
      ]
     },
     "execution_count": 77,
     "metadata": {},
     "output_type": "execute_result"
    }
   ],
   "source": [
    "np.random.seed(5)\n",
    "\n",
    "vector = np.random.random(5)\n",
    "vector"
   ]
  },
  {
   "cell_type": "code",
   "execution_count": 78,
   "metadata": {},
   "outputs": [
    {
     "data": {
      "text/plain": [
       "np.float64(0.48841118879482914)"
      ]
     },
     "execution_count": 78,
     "metadata": {},
     "output_type": "execute_result"
    }
   ],
   "source": [
    "# Mostrar primer elemento\n",
    "vector[-1]"
   ]
  },
  {
   "cell_type": "code",
   "execution_count": 5,
   "metadata": {},
   "outputs": [
    {
     "data": {
      "text/plain": [
       "np.float64(0.8707323061773764)"
      ]
     },
     "execution_count": 5,
     "metadata": {},
     "output_type": "execute_result"
    }
   ],
   "source": [
    "# Mostrar segundo elemento\n",
    "vector[1]"
   ]
  },
  {
   "cell_type": "code",
   "execution_count": 7,
   "metadata": {},
   "outputs": [
    {
     "data": {
      "text/plain": [
       "np.float64(0.48841118879482914)"
      ]
     },
     "execution_count": 7,
     "metadata": {},
     "output_type": "execute_result"
    }
   ],
   "source": [
    "# Mostrar último elemento\n",
    "vector[4]"
   ]
  },
  {
   "cell_type": "code",
   "execution_count": null,
   "metadata": {},
   "outputs": [],
   "source": [
    "# Mostrar último elemento\n",
    "vector[-1]"
   ]
  },
  {
   "cell_type": "code",
   "execution_count": 79,
   "metadata": {},
   "outputs": [
    {
     "data": {
      "text/plain": [
       "5"
      ]
     },
     "execution_count": 79,
     "metadata": {},
     "output_type": "execute_result"
    }
   ],
   "source": [
    "len(vector)"
   ]
  },
  {
   "cell_type": "code",
   "execution_count": 83,
   "metadata": {},
   "outputs": [
    {
     "data": {
      "text/plain": [
       "np.float64(0.48841118879482914)"
      ]
     },
     "execution_count": 83,
     "metadata": {},
     "output_type": "execute_result"
    }
   ],
   "source": [
    "# Mostrar último elemento\n",
    "vector[len(vector)-1]"
   ]
  },
  {
   "cell_type": "markdown",
   "metadata": {},
   "source": [
    "**Podemos cambiar los elementos**"
   ]
  },
  {
   "cell_type": "code",
   "execution_count": 85,
   "metadata": {},
   "outputs": [
    {
     "data": {
      "text/plain": [
       "array([25.        ,  0.87073231,  0.20671916,  0.91861091,  0.48841119])"
      ]
     },
     "execution_count": 85,
     "metadata": {},
     "output_type": "execute_result"
    }
   ],
   "source": [
    "# Cambiando el primer elemento por un número entero\n",
    "vector[0] = 25\n",
    "vector"
   ]
  },
  {
   "cell_type": "markdown",
   "metadata": {},
   "source": [
    "**Slicing permite cambiar un conjunto de elementos**"
   ]
  },
  {
   "cell_type": "code",
   "execution_count": 86,
   "metadata": {},
   "outputs": [
    {
     "data": {
      "text/plain": [
       "array([25.        , -4.        , -4.        ,  0.91861091,  0.48841119])"
      ]
     },
     "execution_count": 86,
     "metadata": {},
     "output_type": "execute_result"
    }
   ],
   "source": [
    "vector[1:3] = -4\n",
    "vector"
   ]
  },
  {
   "cell_type": "markdown",
   "metadata": {},
   "source": [
    "**Puedo mostrar los datos cambiados**"
   ]
  },
  {
   "cell_type": "code",
   "execution_count": 11,
   "metadata": {},
   "outputs": [
    {
     "data": {
      "text/plain": [
       "array([25., -4., -4.])"
      ]
     },
     "execution_count": 11,
     "metadata": {},
     "output_type": "execute_result"
    }
   ],
   "source": [
    "vector[0:3]"
   ]
  },
  {
   "cell_type": "code",
   "execution_count": 88,
   "metadata": {},
   "outputs": [
    {
     "data": {
      "text/plain": [
       "array([0.91861091, 0.48841119])"
      ]
     },
     "execution_count": 88,
     "metadata": {},
     "output_type": "execute_result"
    }
   ],
   "source": [
    "vector[3:]"
   ]
  },
  {
   "cell_type": "markdown",
   "metadata": {},
   "source": [
    "#### **1.7.2 Matriz**"
   ]
  },
  {
   "cell_type": "code",
   "execution_count": 89,
   "metadata": {},
   "outputs": [],
   "source": [
    "matriz = [[1,2,3],\n",
    "          [4,5,6],\n",
    "          [7,8,9]]"
   ]
  },
  {
   "cell_type": "code",
   "execution_count": 93,
   "metadata": {},
   "outputs": [
    {
     "data": {
      "text/plain": [
       "array([[0.22199317, 0.87073231, 0.20671916, 0.91861091, 0.48841119],\n",
       "       [0.61174386, 0.76590786, 0.51841799, 0.2968005 , 0.18772123],\n",
       "       [0.08074127, 0.7384403 , 0.44130922, 0.15830987, 0.87993703],\n",
       "       [0.27408646, 0.41423502, 0.29607993, 0.62878791, 0.57983781],\n",
       "       [0.5999292 , 0.26581912, 0.28468588, 0.25358821, 0.32756395]])"
      ]
     },
     "execution_count": 93,
     "metadata": {},
     "output_type": "execute_result"
    }
   ],
   "source": [
    "np.random.seed(5)\n",
    "\n",
    "matriz = np.random.random((5,5))\n",
    "matriz"
   ]
  },
  {
   "cell_type": "code",
   "execution_count": 13,
   "metadata": {},
   "outputs": [
    {
     "data": {
      "text/plain": [
       "array([0.22199317, 0.87073231, 0.20671916, 0.91861091, 0.48841119])"
      ]
     },
     "execution_count": 13,
     "metadata": {},
     "output_type": "execute_result"
    }
   ],
   "source": [
    "# Mostrar el primer elemento\n",
    "matriz[0]"
   ]
  },
  {
   "cell_type": "markdown",
   "metadata": {},
   "source": [
    "Al utilizar los corchetes e indicar \"el primer elemento\", nos retorna la primera fila. Para acceder al primer elemento se debe hacer lo siguiente:\n",
    "\n",
    "$$\n",
    "\\text{matriz}[fila, columna]\n",
    "$$"
   ]
  },
  {
   "cell_type": "code",
   "execution_count": 15,
   "metadata": {},
   "outputs": [
    {
     "data": {
      "text/plain": [
       "np.float64(0.22199317108973948)"
      ]
     },
     "execution_count": 15,
     "metadata": {},
     "output_type": "execute_result"
    }
   ],
   "source": [
    "# Mostrar el primer elemento\n",
    "matriz[0,0]"
   ]
  },
  {
   "cell_type": "code",
   "execution_count": null,
   "metadata": {},
   "outputs": [
    {
     "data": {
      "text/plain": [
       "np.float64(0.22199317108973948)"
      ]
     },
     "execution_count": 16,
     "metadata": {},
     "output_type": "execute_result"
    }
   ],
   "source": [
    "# Otra forma de acceder utilizando otra notación\n",
    "matriz[0][0]"
   ]
  },
  {
   "cell_type": "code",
   "execution_count": 18,
   "metadata": {},
   "outputs": [
    {
     "data": {
      "text/plain": [
       "np.float64(0.8707323061773764)"
      ]
     },
     "execution_count": 18,
     "metadata": {},
     "output_type": "execute_result"
    }
   ],
   "source": [
    "# Podemos acceder al segundo elemento de la primera fila\n",
    "matriz[0,1]"
   ]
  },
  {
   "cell_type": "code",
   "execution_count": 19,
   "metadata": {},
   "outputs": [
    {
     "data": {
      "text/plain": [
       "array([0.08074127, 0.7384403 , 0.44130922])"
      ]
     },
     "execution_count": 19,
     "metadata": {},
     "output_type": "execute_result"
    }
   ],
   "source": [
    "# Podemos acceder a la segunda fila y seleccionar tres elementos\n",
    "matriz[2,0:3]"
   ]
  },
  {
   "cell_type": "code",
   "execution_count": 20,
   "metadata": {},
   "outputs": [
    {
     "data": {
      "text/plain": [
       "array([0.48841119, 0.18772123, 0.87993703, 0.57983781, 0.32756395])"
      ]
     },
     "execution_count": 20,
     "metadata": {},
     "output_type": "execute_result"
    }
   ],
   "source": [
    "# Podemos acceder a la última columna\n",
    "matriz[:,-1]"
   ]
  },
  {
   "cell_type": "markdown",
   "metadata": {},
   "source": [
    "**Podemos cambiar el valor**"
   ]
  },
  {
   "cell_type": "code",
   "execution_count": 24,
   "metadata": {},
   "outputs": [
    {
     "data": {
      "text/plain": [
       "array([[1.        , 1.        , 1.        , 1.        , 1.        ],\n",
       "       [0.61174386, 0.76590786, 0.51841799, 0.2968005 , 0.18772123],\n",
       "       [0.08074127, 0.7384403 , 0.44130922, 0.15830987, 0.87993703],\n",
       "       [0.27408646, 0.41423502, 0.29607993, 0.62878791, 0.57983781],\n",
       "       [0.5999292 , 0.26581912, 0.28468588, 0.25358821, 0.32756395]])"
      ]
     },
     "execution_count": 24,
     "metadata": {},
     "output_type": "execute_result"
    }
   ],
   "source": [
    "# Cambiar toda la primera fila por unos\n",
    "matriz[0] = 1\n",
    "matriz"
   ]
  },
  {
   "cell_type": "code",
   "execution_count": 26,
   "metadata": {},
   "outputs": [
    {
     "data": {
      "text/plain": [
       "array([[1.        , 1.        , 1.        , 1.        , 0.        ],\n",
       "       [0.61174386, 0.76590786, 0.51841799, 0.2968005 , 0.        ],\n",
       "       [0.08074127, 0.7384403 , 0.44130922, 0.15830987, 0.        ],\n",
       "       [0.27408646, 0.41423502, 0.29607993, 0.62878791, 0.        ],\n",
       "       [0.5999292 , 0.26581912, 0.28468588, 0.25358821, 0.        ]])"
      ]
     },
     "execution_count": 26,
     "metadata": {},
     "output_type": "execute_result"
    }
   ],
   "source": [
    "# Cambiar la última columna por cero\n",
    "matriz[:,-1] = 0\n",
    "matriz"
   ]
  },
  {
   "cell_type": "code",
   "execution_count": 28,
   "metadata": {},
   "outputs": [
    {
     "data": {
      "text/plain": [
       "array([[ 1.        ,  1.        ,  1.        ,  1.        ,  0.        ],\n",
       "       [ 0.61174386,  0.76590786,  0.51841799,  0.2968005 ,  0.        ],\n",
       "       [ 0.08074127,  0.7384403 , 55.        ,  0.15830987,  0.        ],\n",
       "       [ 0.27408646,  0.41423502,  0.29607993,  0.62878791,  0.        ],\n",
       "       [ 0.5999292 ,  0.26581912,  0.28468588,  0.25358821,  0.        ]])"
      ]
     },
     "execution_count": 28,
     "metadata": {},
     "output_type": "execute_result"
    }
   ],
   "source": [
    "# Cambiar el valor del centro\n",
    "matriz[2,2] = 55\n",
    "matriz"
   ]
  },
  {
   "cell_type": "markdown",
   "metadata": {},
   "source": [
    "### **1.8 Cambiar la forma del Array**"
   ]
  },
  {
   "cell_type": "markdown",
   "metadata": {},
   "source": [
    "| [Información de referencia](https://numpy.org/doc/2.2/reference/routines.array-manipulation.html#changing-array-shape) |"
   ]
  },
  {
   "cell_type": "markdown",
   "metadata": {},
   "source": [
    "#### **1.8.1 Reshape**"
   ]
  },
  {
   "cell_type": "markdown",
   "metadata": {},
   "source": [
    "Cambia la forma (dimensiones) de un array sin cambiar sus datos. Si los nuevos tamaños no son compatibles con el número de elementos en el array, lanzará un error."
   ]
  },
  {
   "cell_type": "code",
   "execution_count": 3,
   "metadata": {},
   "outputs": [
    {
     "data": {
      "text/plain": [
       "array([[1., 1., 1., 1.],\n",
       "       [1., 1., 1., 1.]])"
      ]
     },
     "execution_count": 3,
     "metadata": {},
     "output_type": "execute_result"
    }
   ],
   "source": [
    "matriz_original = np.ones((2,4))\n",
    "matriz_original"
   ]
  },
  {
   "cell_type": "code",
   "execution_count": null,
   "metadata": {},
   "outputs": [
    {
     "data": {
      "text/plain": [
       "array([[1., 1.],\n",
       "       [1., 1.],\n",
       "       [1., 1.],\n",
       "       [1., 1.]])"
      ]
     },
     "execution_count": 4,
     "metadata": {},
     "output_type": "execute_result"
    }
   ],
   "source": [
    "matriz_original.reshape((4,2)) # Podemos invertir las dimensiones, sin afectar el objeto instanciado"
   ]
  },
  {
   "cell_type": "code",
   "execution_count": null,
   "metadata": {},
   "outputs": [
    {
     "data": {
      "text/plain": [
       "array([[1.],\n",
       "       [1.],\n",
       "       [1.],\n",
       "       [1.],\n",
       "       [1.],\n",
       "       [1.],\n",
       "       [1.],\n",
       "       [1.]])"
      ]
     },
     "execution_count": 7,
     "metadata": {},
     "output_type": "execute_result"
    }
   ],
   "source": [
    "matriz_original.reshape((8,1))"
   ]
  },
  {
   "cell_type": "markdown",
   "metadata": {},
   "source": [
    "#### **1.8.2 Flatten**"
   ]
  },
  {
   "cell_type": "markdown",
   "metadata": {},
   "source": [
    "Convierte un array multidimensional en un array unidimensional (plano). Esto \"aplana\" el array sin modificar sus datos, es decir, toma todos los elementos del array y los coloca en una sola dimensión."
   ]
  },
  {
   "cell_type": "code",
   "execution_count": 8,
   "metadata": {},
   "outputs": [
    {
     "data": {
      "text/plain": [
       "array([[1., 1., 1., 1.],\n",
       "       [1., 1., 1., 1.]])"
      ]
     },
     "execution_count": 8,
     "metadata": {},
     "output_type": "execute_result"
    }
   ],
   "source": [
    "matriz_original = np.ones((2,4))\n",
    "matriz_original"
   ]
  },
  {
   "cell_type": "code",
   "execution_count": 9,
   "metadata": {},
   "outputs": [
    {
     "data": {
      "text/plain": [
       "array([1., 1., 1., 1., 1., 1., 1., 1.])"
      ]
     },
     "execution_count": 9,
     "metadata": {},
     "output_type": "execute_result"
    }
   ],
   "source": [
    "matriz_original.flatten()"
   ]
  },
  {
   "cell_type": "markdown",
   "metadata": {},
   "source": [
    "### **1.9 Operaciones de Transpuesta**"
   ]
  },
  {
   "cell_type": "markdown",
   "metadata": {},
   "source": [
    "| [Información de referencia](https://numpy.org/doc/2.2/reference/routines.array-manipulation.html#transpose-like-operations) |"
   ]
  },
  {
   "cell_type": "markdown",
   "metadata": {},
   "source": [
    " Cambia las dimensiones del array. Para un array 2D, es equivalente a la transposición estándar, y en arrays de mayor dimensión se pueden permutar las dimensiones"
   ]
  },
  {
   "cell_type": "code",
   "execution_count": 12,
   "metadata": {},
   "outputs": [
    {
     "data": {
      "text/plain": [
       "array([1, 2, 3, 4, 5, 6, 7, 8, 9])"
      ]
     },
     "execution_count": 12,
     "metadata": {},
     "output_type": "execute_result"
    }
   ],
   "source": [
    "vector = np.arange(1,10)\n",
    "vector"
   ]
  },
  {
   "cell_type": "code",
   "execution_count": 13,
   "metadata": {},
   "outputs": [
    {
     "data": {
      "text/plain": [
       "array([1, 2, 3, 4, 5, 6, 7, 8, 9])"
      ]
     },
     "execution_count": 13,
     "metadata": {},
     "output_type": "execute_result"
    }
   ],
   "source": [
    "vector.T"
   ]
  },
  {
   "cell_type": "code",
   "execution_count": 21,
   "metadata": {},
   "outputs": [
    {
     "data": {
      "text/plain": [
       "array([[3, 6, 6, 0],\n",
       "       [9, 8, 4, 7]], dtype=int32)"
      ]
     },
     "execution_count": 21,
     "metadata": {},
     "output_type": "execute_result"
    }
   ],
   "source": [
    "np.random.seed(5)\n",
    "\n",
    "# Le estoy diciendo que genere valores enteros del 0 al 10 y que tenga tamaño 2x4\n",
    "matriz = np.random.randint(0,10,(2,4))\n",
    "matriz"
   ]
  },
  {
   "cell_type": "code",
   "execution_count": 23,
   "metadata": {},
   "outputs": [
    {
     "data": {
      "text/plain": [
       "(2, 4)"
      ]
     },
     "execution_count": 23,
     "metadata": {},
     "output_type": "execute_result"
    }
   ],
   "source": [
    "matriz.shape"
   ]
  },
  {
   "cell_type": "code",
   "execution_count": 24,
   "metadata": {},
   "outputs": [
    {
     "data": {
      "text/plain": [
       "array([[3, 9],\n",
       "       [6, 8],\n",
       "       [6, 4],\n",
       "       [0, 7]], dtype=int32)"
      ]
     },
     "execution_count": 24,
     "metadata": {},
     "output_type": "execute_result"
    }
   ],
   "source": [
    "matriz_transpuesta = matriz.T\n",
    "matriz_transpuesta"
   ]
  },
  {
   "cell_type": "code",
   "execution_count": 25,
   "metadata": {},
   "outputs": [
    {
     "data": {
      "text/plain": [
       "(4, 2)"
      ]
     },
     "execution_count": 25,
     "metadata": {},
     "output_type": "execute_result"
    }
   ],
   "source": [
    "matriz_transpuesta.shape"
   ]
  },
  {
   "cell_type": "markdown",
   "metadata": {},
   "source": [
    "### **2.1 Broadcasting en NumPy**"
   ]
  },
  {
   "cell_type": "markdown",
   "metadata": {},
   "source": [
    "El **broadcasting** permite realizar operaciones aritméticas entre arrays de diferentes formas sin necesidad de replicar datos. NumPy expande automáticamente las dimensiones cuando es posible.\n",
    "\n",
    "**Reglas de Broadcasting**\n",
    "\n",
    "* Si las dimensiones no coinciden, NumPy añade dimensiones de tamaño 1 a la izquierda.\n",
    "* Si una dimensión es 1, se expande para que coincida con la otra.\n",
    "* Si las dimensiones no son compatibles, NumPy genera un error."
   ]
  },
  {
   "cell_type": "markdown",
   "metadata": {},
   "source": [
    "Anteriormente vimos la **suma punto a punto** que es una operación de broadcasting, ahora lo haremos cuando tenemos matrices con distintas dimensiones."
   ]
  },
  {
   "cell_type": "markdown",
   "metadata": {},
   "source": [
    "Vamos a crear una **matriz de 2x3** con números enteros aleatorios, utilizando el método ``randint()``. Este método recibe tres parámetros de entrada:\n",
    "\n",
    "1. **Primer parámetro**: Es el valor mínimo que generará aleatoriamente.\n",
    "2. **Segundo parámetro**: Es el valor máximo que generará aleatoriamente.\n",
    "3. **Tercer parámetro**: Es una tupla que recibe el tamaño que debe retornar de ese array."
   ]
  },
  {
   "cell_type": "code",
   "execution_count": 2,
   "metadata": {},
   "outputs": [
    {
     "data": {
      "text/plain": [
       "array([[3, 6, 6],\n",
       "       [0, 9, 8]], dtype=int32)"
      ]
     },
     "execution_count": 2,
     "metadata": {},
     "output_type": "execute_result"
    }
   ],
   "source": [
    "np.random.seed(5)\n",
    "\n",
    "A = np.random.randint(0,10,(2,3))\n",
    "A"
   ]
  },
  {
   "cell_type": "code",
   "execution_count": 29,
   "metadata": {},
   "outputs": [
    {
     "data": {
      "text/plain": [
       "(2, 3)"
      ]
     },
     "execution_count": 29,
     "metadata": {},
     "output_type": "execute_result"
    }
   ],
   "source": [
    "A.shape"
   ]
  },
  {
   "cell_type": "code",
   "execution_count": 3,
   "metadata": {},
   "outputs": [
    {
     "data": {
      "text/plain": [
       "array([[3],\n",
       "       [6]], dtype=int32)"
      ]
     },
     "execution_count": 3,
     "metadata": {},
     "output_type": "execute_result"
    }
   ],
   "source": [
    "np.random.seed(5)\n",
    "\n",
    "B = np.random.randint(0,10,(2,1))\n",
    "B"
   ]
  },
  {
   "cell_type": "code",
   "execution_count": 35,
   "metadata": {},
   "outputs": [
    {
     "data": {
      "text/plain": [
       "(2, 1)"
      ]
     },
     "execution_count": 35,
     "metadata": {},
     "output_type": "execute_result"
    }
   ],
   "source": [
    "B.shape"
   ]
  },
  {
   "cell_type": "code",
   "execution_count": 4,
   "metadata": {},
   "outputs": [
    {
     "data": {
      "text/plain": [
       "array([[ 6,  9,  9],\n",
       "       [ 6, 15, 14]], dtype=int32)"
      ]
     },
     "execution_count": 4,
     "metadata": {},
     "output_type": "execute_result"
    }
   ],
   "source": [
    "suma = A + B # Ocurre que B se suma a cada fila de A\n",
    "suma"
   ]
  },
  {
   "cell_type": "markdown",
   "metadata": {},
   "source": [
    "Veamos otro ejemplo, tiene que crear dos matrices, una que tenga tamaño 3x3 y la otra 3x1. Súmelas y muestre el resultado."
   ]
  },
  {
   "cell_type": "code",
   "execution_count": 8,
   "metadata": {},
   "outputs": [],
   "source": [
    "np.random.seed(8)\n",
    "\n",
    "matrix1 = np.random.randint(10, 20, (3,3))\n",
    "matrix2 = np.random.randint(0,3, (3,1))"
   ]
  },
  {
   "cell_type": "markdown",
   "metadata": {},
   "source": [
    "### **2.2 Squeeze en NumPy**"
   ]
  },
  {
   "cell_type": "markdown",
   "metadata": {},
   "source": [
    "El método **squeeze():** Elimina las dimensiones de tamaño 1 de un tensor. Por ejemplo, si tienes un tensor de forma ``(1, 3, 1, 5)``, usar ``squeeze()`` eliminará las dimensiones que tienen un tamaño de 1, quedando un tensor de forma ``(3, 5)``.\n",
    "\n",
    "***\"elimina dimensiones de tamaño 1 de un array\"***."
   ]
  },
  {
   "cell_type": "code",
   "execution_count": 37,
   "metadata": {},
   "outputs": [
    {
     "data": {
      "text/plain": [
       "array([[[1, 2, 3]]])"
      ]
     },
     "execution_count": 37,
     "metadata": {},
     "output_type": "execute_result"
    }
   ],
   "source": [
    "A = np.array([[[1,2,3]]])\n",
    "A"
   ]
  },
  {
   "cell_type": "code",
   "execution_count": 38,
   "metadata": {},
   "outputs": [
    {
     "data": {
      "text/plain": [
       "(1, 1, 3)"
      ]
     },
     "execution_count": 38,
     "metadata": {},
     "output_type": "execute_result"
    }
   ],
   "source": [
    "A.shape"
   ]
  },
  {
   "cell_type": "code",
   "execution_count": 41,
   "metadata": {},
   "outputs": [],
   "source": [
    "B = A.squeeze()"
   ]
  },
  {
   "cell_type": "code",
   "execution_count": 42,
   "metadata": {},
   "outputs": [
    {
     "data": {
      "text/plain": [
       "array([1, 2, 3])"
      ]
     },
     "execution_count": 42,
     "metadata": {},
     "output_type": "execute_result"
    }
   ],
   "source": [
    "B"
   ]
  },
  {
   "cell_type": "code",
   "execution_count": 43,
   "metadata": {},
   "outputs": [
    {
     "data": {
      "text/plain": [
       "(3,)"
      ]
     },
     "execution_count": 43,
     "metadata": {},
     "output_type": "execute_result"
    }
   ],
   "source": [
    "B.shape"
   ]
  },
  {
   "cell_type": "markdown",
   "metadata": {},
   "source": [
    "Veamos distintos ejemplos para comprender el ``squeeze()``."
   ]
  },
  {
   "cell_type": "code",
   "execution_count": 16,
   "metadata": {},
   "outputs": [],
   "source": [
    "object_array_1 = np.array([[[0], [1], [2]]]) "
   ]
  },
  {
   "cell_type": "code",
   "execution_count": null,
   "metadata": {},
   "outputs": [],
   "source": [
    "# Muestre la forma de object_array_1"
   ]
  },
  {
   "cell_type": "code",
   "execution_count": 22,
   "metadata": {},
   "outputs": [
    {
     "data": {
      "text/plain": [
       "array([0, 1, 2])"
      ]
     },
     "execution_count": 22,
     "metadata": {},
     "output_type": "execute_result"
    }
   ],
   "source": [
    "# Método 1 (visto anteriormente), donde utilizamos el método de la instancia\n",
    "object_array_1.squeeze()"
   ]
  },
  {
   "cell_type": "code",
   "execution_count": 23,
   "metadata": {},
   "outputs": [
    {
     "data": {
      "text/plain": [
       "(1, 3, 1)"
      ]
     },
     "execution_count": 23,
     "metadata": {},
     "output_type": "execute_result"
    }
   ],
   "source": [
    "object_array_1.shape"
   ]
  },
  {
   "cell_type": "code",
   "execution_count": null,
   "metadata": {},
   "outputs": [],
   "source": [
    "# Método 2, creamos un objeto array, utilizamos el método y el eje.\n",
    "# Recordemos que los ejes empiezan, (axis=0, axis=1, axis=2, ..., axis=n)\n",
    "\n",
    "# Eliminemos la dimensión del eje 0\n",
    "obj_squeeze_1 = np.squeeze(object_array_1, axis=0)"
   ]
  },
  {
   "cell_type": "code",
   "execution_count": 27,
   "metadata": {},
   "outputs": [],
   "source": [
    "# Muestre el objeto y la forma del objeto"
   ]
  },
  {
   "cell_type": "code",
   "execution_count": null,
   "metadata": {},
   "outputs": [],
   "source": [
    "# Eliminemos la dimensión del eje 1\n",
    "obj_squeeze_2 = np.squeeze(object_array_1, axis=1)"
   ]
  },
  {
   "cell_type": "markdown",
   "metadata": {},
   "source": [
    "**¿Qué ocurrió?**"
   ]
  },
  {
   "cell_type": "code",
   "execution_count": 29,
   "metadata": {},
   "outputs": [],
   "source": [
    "# Eliminemos la dimensión del eje 2\n",
    "obj_squeeze_3 = np.squeeze(object_array_1, axis=2)"
   ]
  },
  {
   "cell_type": "code",
   "execution_count": null,
   "metadata": {},
   "outputs": [],
   "source": [
    "# Muestre el objeto y la forma del objeto"
   ]
  },
  {
   "cell_type": "markdown",
   "metadata": {},
   "source": [
    "Veamos un ejemplo donde tenemos un array con más dimensiones, es decir, utilizando 5 dimensiones."
   ]
  },
  {
   "cell_type": "code",
   "execution_count": 33,
   "metadata": {},
   "outputs": [],
   "source": [
    "obj1 = np.array([[[[[0], [1], [5]]]]])"
   ]
  },
  {
   "cell_type": "code",
   "execution_count": 43,
   "metadata": {},
   "outputs": [],
   "source": [
    "# Muestra el objeto y sus dimensiones"
   ]
  },
  {
   "cell_type": "code",
   "execution_count": null,
   "metadata": {},
   "outputs": [],
   "source": [
    "# Elimina la última dimensión, **Debes ingresar el eje a eliminar**\n",
    "obj_squeeze1 = np.squeeze(obj1, )"
   ]
  },
  {
   "cell_type": "markdown",
   "metadata": {},
   "source": [
    "Volvamos a instanciar el objeto de recién, vimos que tiene varias dimensiones de tamaño 1. **¿Cómo podemos eliminarlas todas directamente?** "
   ]
  },
  {
   "cell_type": "code",
   "execution_count": null,
   "metadata": {},
   "outputs": [],
   "source": [
    "obj1 = np.array([[[[[0], [1], [5]]]]])"
   ]
  },
  {
   "cell_type": "code",
   "execution_count": 41,
   "metadata": {},
   "outputs": [],
   "source": [
    "result = obj1.squeeze()"
   ]
  },
  {
   "cell_type": "code",
   "execution_count": 42,
   "metadata": {},
   "outputs": [
    {
     "data": {
      "text/plain": [
       "(3,)"
      ]
     },
     "execution_count": 42,
     "metadata": {},
     "output_type": "execute_result"
    }
   ],
   "source": [
    "result.shape"
   ]
  },
  {
   "cell_type": "markdown",
   "metadata": {},
   "source": [
    "Ahora veamos el penúltimo ejemplo, donde vamos a crear una matriz con un único elemento."
   ]
  },
  {
   "cell_type": "code",
   "execution_count": 44,
   "metadata": {},
   "outputs": [],
   "source": [
    "x = np.array([[5.23]])"
   ]
  },
  {
   "cell_type": "markdown",
   "metadata": {},
   "source": [
    "Eliminemos su última dimensión."
   ]
  },
  {
   "cell_type": "code",
   "execution_count": 47,
   "metadata": {},
   "outputs": [],
   "source": [
    "a = np.squeeze(x)"
   ]
  },
  {
   "cell_type": "code",
   "execution_count": null,
   "metadata": {},
   "outputs": [],
   "source": [
    "# Muestre su forma"
   ]
  },
  {
   "cell_type": "markdown",
   "metadata": {},
   "source": [
    "Es decir, nos quedamos con un escalar o un array de dimensión 0. Podemos resumir esto de la siguiente manera:\n",
    "\n",
    "* Un escalar es un array de dimensión 0 (Escalar -> 0D).\n",
    "* Un vector es un array de dimensión 1 (Vector -> 1D).\n",
    "* Una matriz es un array de dimensión 2 (Matriz -> 2D).\n",
    "* Una matriz de tres canales es de dimensión 3 (Imagen a color -> 3D).\n"
   ]
  },
  {
   "cell_type": "code",
   "execution_count": null,
   "metadata": {},
   "outputs": [
    {
     "data": {
      "text/plain": [
       "()"
      ]
     },
     "execution_count": 50,
     "metadata": {},
     "output_type": "execute_result"
    }
   ],
   "source": [
    "np.array(51).shape # Escalar"
   ]
  },
  {
   "cell_type": "code",
   "execution_count": null,
   "metadata": {},
   "outputs": [
    {
     "data": {
      "text/plain": [
       "(1,)"
      ]
     },
     "execution_count": 51,
     "metadata": {},
     "output_type": "execute_result"
    }
   ],
   "source": [
    "np.array([51]).shape # Vector"
   ]
  },
  {
   "cell_type": "code",
   "execution_count": null,
   "metadata": {},
   "outputs": [
    {
     "data": {
      "text/plain": [
       "(1, 1)"
      ]
     },
     "execution_count": 52,
     "metadata": {},
     "output_type": "execute_result"
    }
   ],
   "source": [
    "np.array([[51]]).shape # Matriz"
   ]
  },
  {
   "cell_type": "code",
   "execution_count": null,
   "metadata": {},
   "outputs": [
    {
     "data": {
      "text/plain": [
       "(1, 1, 1)"
      ]
     },
     "execution_count": 53,
     "metadata": {},
     "output_type": "execute_result"
    }
   ],
   "source": [
    "np.array([[[51]]]).shape # Imagen de 1 canal, es decir que tiene un elemento"
   ]
  },
  {
   "cell_type": "code",
   "execution_count": 56,
   "metadata": {},
   "outputs": [
    {
     "data": {
      "text/plain": [
       "(1, 1, 3)"
      ]
     },
     "execution_count": 56,
     "metadata": {},
     "output_type": "execute_result"
    }
   ],
   "source": [
    "np.array([[[51, 42, 31]]]).shape # Imagen de 1 canal, es decir que tiene un elemento"
   ]
  },
  {
   "cell_type": "markdown",
   "metadata": {},
   "source": [
    "Finalmente, vamos a crear una matriz de tamalo 2x3 con valores enteros aleatorios. Los números mínimo y máximos que deben tomar son 1 y 5, respectivamente. Una vez creado, elimine la dimensión del eje 1, ¿Qué sucedió?."
   ]
  },
  {
   "cell_type": "code",
   "execution_count": null,
   "metadata": {},
   "outputs": [],
   "source": [
    "# Escriba su código aquí."
   ]
  },
  {
   "cell_type": "markdown",
   "metadata": {},
   "source": [
    "### **2.3 Concatenación en NumPy**"
   ]
  },
  {
   "cell_type": "markdown",
   "metadata": {},
   "source": [
    "El método **concatenate()** une arrays a lo largo de un eje, sin agregar nuevas dimensiones."
   ]
  },
  {
   "cell_type": "code",
   "execution_count": 61,
   "metadata": {},
   "outputs": [],
   "source": [
    "A = np.array([1,2,3])\n",
    "B = np.array([4,5,6])"
   ]
  },
  {
   "cell_type": "code",
   "execution_count": null,
   "metadata": {},
   "outputs": [],
   "source": [
    "# Muestre los arrays"
   ]
  },
  {
   "cell_type": "code",
   "execution_count": null,
   "metadata": {},
   "outputs": [],
   "source": [
    "C = np.concatenate((A, B))\n",
    "C"
   ]
  },
  {
   "cell_type": "markdown",
   "metadata": {},
   "source": [
    "Ahora vamos a ver un ejemplo con matrices."
   ]
  },
  {
   "cell_type": "code",
   "execution_count": 68,
   "metadata": {},
   "outputs": [],
   "source": [
    "A = np.array([[1, 2, 3], [4, 5, 6]]) \n",
    "B = np.array([[7, 8, 9], [10, 11, 12]])  "
   ]
  },
  {
   "cell_type": "code",
   "execution_count": null,
   "metadata": {},
   "outputs": [],
   "source": [
    "# Muestre los arrays"
   ]
  },
  {
   "cell_type": "markdown",
   "metadata": {},
   "source": [
    "* **axis=0**: Une verticalmente\n",
    "* **axis=1**: Une horizontalmente"
   ]
  },
  {
   "cell_type": "code",
   "execution_count": 66,
   "metadata": {},
   "outputs": [],
   "source": [
    "C = np.concatenate((A, B), axis=0)  # Une en filas (verticalmente)"
   ]
  },
  {
   "cell_type": "code",
   "execution_count": null,
   "metadata": {},
   "outputs": [],
   "source": [
    "C = np.concatenate((A, B), axis=1) # Concatena las matrices horizontalmente"
   ]
  },
  {
   "cell_type": "markdown",
   "metadata": {},
   "source": [
    "### **2.4 Stack en NumPy**"
   ]
  },
  {
   "cell_type": "markdown",
   "metadata": {},
   "source": [
    "El método **stack** apila arrays creando una nueva dimensión, lo que aumenta el número de ejes en el resultado."
   ]
  },
  {
   "cell_type": "code",
   "execution_count": 71,
   "metadata": {},
   "outputs": [],
   "source": [
    "np.random.seed(5)\n",
    "\n",
    "vector1 = np.arange(0,3,1)\n",
    "vector2 = np.random.randint(0,4,(3))"
   ]
  },
  {
   "cell_type": "code",
   "execution_count": 77,
   "metadata": {},
   "outputs": [],
   "source": [
    "stack = np.stack((vector1, vector2), axis=-1) # Concatena verticalmente, es lo mismo que axis=1\n",
    "# stack"
   ]
  },
  {
   "cell_type": "code",
   "execution_count": 79,
   "metadata": {},
   "outputs": [],
   "source": [
    "stack = np.stack((vector1, vector2), axis=0)\n",
    "# stack"
   ]
  },
  {
   "cell_type": "code",
   "execution_count": null,
   "metadata": {},
   "outputs": [],
   "source": [
    "stack = np.stack((vector1, vector2), axis=1)\n",
    "stack"
   ]
  },
  {
   "cell_type": "markdown",
   "metadata": {},
   "source": [
    "##### **Diferencias Clave**\n",
    "| Función       | ¿Crea nueva dimensión? | Modifica la forma del array | Ejemplo típico |\n",
    "|--------------|----------------------|----------------------------|----------------|\n",
    "| `concatenate` | ❌ No                 | Une sobre un eje existente | Juntar matrices en filas o columnas |\n",
    "| `stack`       | ✅ Sí                 | Agrega un nuevo eje        | Crear un tensor 3D o mayor |"
   ]
  },
  {
   "cell_type": "markdown",
   "metadata": {},
   "source": [
    "### **2.5 Flips en NumPy**"
   ]
  },
  {
   "cell_type": "markdown",
   "metadata": {},
   "source": [
    "Invierte un array a lo largo de una o más dimensiones."
   ]
  },
  {
   "cell_type": "code",
   "execution_count": 61,
   "metadata": {},
   "outputs": [
    {
     "data": {
      "text/plain": [
       "array([[ 99, 206, 239],\n",
       "       [189, 230, 118],\n",
       "       [144,  73,   8]], dtype=int32)"
      ]
     },
     "execution_count": 61,
     "metadata": {},
     "output_type": "execute_result"
    }
   ],
   "source": [
    "np.random.seed(5)\n",
    "\n",
    "matriz = np.random.randint(0,255,(3,3))\n",
    "matriz"
   ]
  },
  {
   "cell_type": "code",
   "execution_count": 62,
   "metadata": {},
   "outputs": [
    {
     "data": {
      "text/plain": [
       "array([[144,  73,   8],\n",
       "       [189, 230, 118],\n",
       "       [ 99, 206, 239]], dtype=int32)"
      ]
     },
     "execution_count": 62,
     "metadata": {},
     "output_type": "execute_result"
    }
   ],
   "source": [
    "flip_1 = np.flip(matriz, 0)\n",
    "flip_1"
   ]
  },
  {
   "cell_type": "code",
   "execution_count": 63,
   "metadata": {},
   "outputs": [
    {
     "data": {
      "text/plain": [
       "array([[239, 206,  99],\n",
       "       [118, 230, 189],\n",
       "       [  8,  73, 144]], dtype=int32)"
      ]
     },
     "execution_count": 63,
     "metadata": {},
     "output_type": "execute_result"
    }
   ],
   "source": [
    "flip_2 = np.flip(matriz, 1)\n",
    "flip_2"
   ]
  },
  {
   "cell_type": "markdown",
   "metadata": {},
   "source": [
    "### **2.6 Reshape en NumPy**"
   ]
  },
  {
   "cell_type": "markdown",
   "metadata": {},
   "source": [
    "Cambia la forma (dimensiones) de un array sin cambiar sus datos. Si los nuevos tamaños no son compatibles con el número de elementos en el array, lanzará un error."
   ]
  },
  {
   "cell_type": "code",
   "execution_count": 64,
   "metadata": {},
   "outputs": [
    {
     "data": {
      "text/plain": [
       "array([0, 1, 2, 3, 4, 5, 6, 7])"
      ]
     },
     "execution_count": 64,
     "metadata": {},
     "output_type": "execute_result"
    }
   ],
   "source": [
    "vector = np.arange(8)\n",
    "vector"
   ]
  },
  {
   "cell_type": "code",
   "execution_count": 67,
   "metadata": {},
   "outputs": [],
   "source": [
    "# Ahora convertiremos el vector a una matriz\n",
    "matriz = vector.reshape(2,4)"
   ]
  },
  {
   "cell_type": "code",
   "execution_count": 68,
   "metadata": {},
   "outputs": [],
   "source": [
    "# Muestra el contenido de la matriz"
   ]
  },
  {
   "cell_type": "markdown",
   "metadata": {},
   "source": [
    "### **2.7 Expandir dimensión (Unsqueeze)**"
   ]
  },
  {
   "cell_type": "markdown",
   "metadata": {},
   "source": [
    "Este proceso también se le denomina unsqueeze."
   ]
  },
  {
   "cell_type": "code",
   "execution_count": 2,
   "metadata": {},
   "outputs": [],
   "source": [
    "x = np.array([1,2])"
   ]
  },
  {
   "cell_type": "code",
   "execution_count": null,
   "metadata": {},
   "outputs": [],
   "source": [
    "# Consulta su dimensión y forma"
   ]
  },
  {
   "cell_type": "markdown",
   "metadata": {},
   "source": [
    "Para agregar una dimensión a la forma, es decir, pasar de (2,) a (1,2) debemos utilizar el método `expand_dims(array, axis=0)`."
   ]
  },
  {
   "cell_type": "code",
   "execution_count": 5,
   "metadata": {},
   "outputs": [],
   "source": [
    "y = np.expand_dims(x, axis=0)"
   ]
  },
  {
   "cell_type": "code",
   "execution_count": null,
   "metadata": {},
   "outputs": [],
   "source": [
    "# Consulta su dimensión y forma"
   ]
  },
  {
   "cell_type": "markdown",
   "metadata": {},
   "source": [
    "Acabamos de convertir un vector a una matriz de 1 fila con 2 columnas, pero podemos convertirlo a una matriz de 2 filas y 1 columna."
   ]
  },
  {
   "cell_type": "code",
   "execution_count": null,
   "metadata": {},
   "outputs": [],
   "source": [
    "# Debe agregar el valor que permita realizar la operación anterior.\n",
    "\n",
    "y2 = np.expand_dims(x, axis=)"
   ]
  },
  {
   "cell_type": "code",
   "execution_count": null,
   "metadata": {},
   "outputs": [],
   "source": [
    "# Consulta su dimensión y forma"
   ]
  },
  {
   "cell_type": "markdown",
   "metadata": {},
   "source": [
    "## **2. Ejercicios**"
   ]
  },
  {
   "cell_type": "markdown",
   "metadata": {},
   "source": [
    "1. Crear un arreglo de 10 números enteros al azar usando numpy. Debe establecer una semilla, para poder replicar el arreglo. Utilice los atributos para ver su forma, dimensión, tamaño y tipo de dato."
   ]
  },
  {
   "cell_type": "markdown",
   "metadata": {},
   "source": [
    "2. Crea dos arreglos aleatorios usando valores aleatorios enteros. Luego concaténalos (verticalmente), mostrando los arreglos aleatorio y el concatenado. Por último, deben ser de tipo de dato uint8. (Utiliza la misma semilla)"
   ]
  },
  {
   "cell_type": "markdown",
   "metadata": {},
   "source": [
    "## **Resumen NumPy**"
   ]
  },
  {
   "cell_type": "markdown",
   "metadata": {},
   "source": [
    "### **Atributos Importantes**"
   ]
  },
  {
   "cell_type": "markdown",
   "metadata": {},
   "source": [
    "* array.shape -> tuple: (Saber la dimensión o forma, retorna una tupla)\n",
    "* array.ndim -> int (retorna el número de dimensiones)\n",
    "* array.size -> int (retorna la cantidad de elementos)\n",
    "* array.dtype -> obj (Retorna un objeto que muestra el tipo de dato)"
   ]
  }
 ],
 "metadata": {
  "kernelspec": {
   "display_name": "programacion_2",
   "language": "python",
   "name": "python3"
  },
  "language_info": {
   "codemirror_mode": {
    "name": "ipython",
    "version": 3
   },
   "file_extension": ".py",
   "mimetype": "text/x-python",
   "name": "python",
   "nbconvert_exporter": "python",
   "pygments_lexer": "ipython3",
   "version": "3.10.16"
  }
 },
 "nbformat": 4,
 "nbformat_minor": 2
}
