{
 "cells": [
  {
   "cell_type": "markdown",
   "metadata": {},
   "source": [
    "# **[EIE409] Programación 2**"
   ]
  },
  {
   "cell_type": "markdown",
   "metadata": {},
   "source": [
    "## **Clase 14:**\n",
    "\n",
    "### **Tabla de contenido**\n",
    "\n",
    "1. Decoradores.\n"
   ]
  },
  {
   "cell_type": "markdown",
   "metadata": {},
   "source": [
    "## **1. Decoradores**"
   ]
  },
  {
   "cell_type": "markdown",
   "metadata": {},
   "source": [
    "### **1.1 ¿Qué son los decoradores?**"
   ]
  },
  {
   "cell_type": "markdown",
   "metadata": {},
   "source": [
    "Un decorador es una función que toma otra función como entrada y devuelve una nueva función con comportamiento modificado o extendido sin cambiar su código original. Dicho de otro modo, una función puede ser asignada a una variable, puede ser utilizada como argumento para otra función, o inclusive puede ser retornada."
   ]
  },
  {
   "cell_type": "markdown",
   "metadata": {},
   "source": [
    "Veamos un ejemplo..."
   ]
  },
  {
   "cell_type": "code",
   "execution_count": 1,
   "metadata": {},
   "outputs": [
    {
     "name": "stdout",
     "output_type": "stream",
     "text": [
      "Hola soy una función\n"
     ]
    }
   ],
   "source": [
    "def saludar(): \n",
    "    print('Hola soy una función') \n",
    "\n",
    "def super_funcion(funcion): \n",
    "    funcion() \n",
    "\n",
    "funcion = saludar  # Asignamos la función a una variable!\n",
    "\n",
    "super_funcion(funcion)    "
   ]
  },
  {
   "cell_type": "markdown",
   "metadata": {},
   "source": [
    "Creamos una función llamada **saludar()** y creamos una función llamada **super_funcion()** donde su parámetro de entrada es una función. Luego, la función **saludar** se le asigna a una variable y se utiliza como parámetro."
   ]
  },
  {
   "cell_type": "markdown",
   "metadata": {},
   "source": [
    "Al trabajar con decoradores estaremos trabajando con tres funciones $a(b) -> c$. Veamos otro ejemplo:"
   ]
  },
  {
   "cell_type": "markdown",
   "metadata": {},
   "source": [
    "```python\n",
    "def funcion_a(funcion_b):\n",
    "    def funcion_c():\n",
    "        print('Antes de la ejecución de la función a decorar')\n",
    "        funcion_b()\n",
    "        print('Después de la ejecución de la función a decorar')\n",
    "\n",
    "    return funcion_c\n",
    "```"
   ]
  },
  {
   "cell_type": "markdown",
   "metadata": {},
   "source": [
    "Una analogía para entender los decoradores es con un pastel de cumpleaños, la base del pastel (el pan) no es suficiente para una fiesta y debemos añadir elementos extras, quizás glaseado, velas, aderezos, etc. De esta forma, el pastel se verá mucho mejor y lo más importante sabrá mucho mejor."
   ]
  },
  {
   "cell_type": "markdown",
   "metadata": {},
   "source": [
    "**En Python para decorar una función se debe utilizar el prefijo @ arriba de la función**. Entendiendo esto de otro modo, con el decorador podemos transferirle métodos a nuestra función."
   ]
  },
  {
   "cell_type": "code",
   "execution_count": null,
   "metadata": {},
   "outputs": [],
   "source": []
  }
 ],
 "metadata": {
  "kernelspec": {
   "display_name": "programacion_2",
   "language": "python",
   "name": "python3"
  },
  "language_info": {
   "codemirror_mode": {
    "name": "ipython",
    "version": 3
   },
   "file_extension": ".py",
   "mimetype": "text/x-python",
   "name": "python",
   "nbconvert_exporter": "python",
   "pygments_lexer": "ipython3",
   "version": "3.10.16"
  }
 },
 "nbformat": 4,
 "nbformat_minor": 2
}
