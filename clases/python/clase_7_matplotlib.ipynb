{
 "cells": [
  {
   "cell_type": "markdown",
   "metadata": {},
   "source": [
    "# **[EIE409] Programación 2**"
   ]
  },
  {
   "cell_type": "markdown",
   "metadata": {},
   "source": [
    "## **Clase 7:**\n",
    "\n",
    "### **Tabla de contenido**\n",
    "\n",
    "1. Matplotlib.\n",
    "\n"
   ]
  },
  {
   "cell_type": "markdown",
   "metadata": {},
   "source": [
    "## **1. Matplotlib**"
   ]
  },
  {
   "cell_type": "markdown",
   "metadata": {},
   "source": [
    "*\"Matplotlib es una biblioteca para crear visualizaciones estáticas, animadas e interactivas en Python. Matplotlib hace fácil lo fácil y posible lo difícil.\"*\n",
    "\n",
    "[Página oficial](https://matplotlib.org)"
   ]
  },
  {
   "cell_type": "markdown",
   "metadata": {},
   "source": [
    "### **1.1 Instalación**"
   ]
  },
  {
   "cell_type": "markdown",
   "metadata": {},
   "source": [
    "Si estás trabajando en google colab, no es necesario instalar la biblioteca de matplotlib debido a que ya está instalada. Caso contrario, si estás trabajando en tu propio ambiente, debes instalarla."
   ]
  },
  {
   "cell_type": "code",
   "execution_count": null,
   "metadata": {},
   "outputs": [],
   "source": [
    "!pip install -q matplotlib"
   ]
  },
  {
   "cell_type": "markdown",
   "metadata": {},
   "source": [
    "#### **1.1.1 Importar Matplotlib**"
   ]
  },
  {
   "cell_type": "markdown",
   "metadata": {},
   "source": [
    "Para importar matplotlib se debe realizar de la siguiente forma:"
   ]
  },
  {
   "cell_type": "code",
   "execution_count": 1,
   "metadata": {},
   "outputs": [],
   "source": [
    "import matplotlib.pyplot as plt"
   ]
  },
  {
   "cell_type": "markdown",
   "metadata": {},
   "source": [
    "### **1.2 Introducción a Matplotlib**"
   ]
  },
  {
   "cell_type": "markdown",
   "metadata": {},
   "source": [
    "Puedes revisar todo lo que ofrece esta biblioteca en la [guía de usuarios](https://matplotlib.org/stable/users/index.html)."
   ]
  },
  {
   "cell_type": "markdown",
   "metadata": {},
   "source": [
    "#### **1.2.1 Primer Gráfico**"
   ]
  },
  {
   "cell_type": "code",
   "execution_count": null,
   "metadata": {},
   "outputs": [],
   "source": [
    "import numpy as np\n",
    "\n",
    "x = np.linspace(0,10,100) # Recuerda que linspace le debo entregar la cantidad de \"puntos\" de nuestro array y considera el último valor indicado\n",
    "y = np.sin(x)"
   ]
  },
  {
   "cell_type": "markdown",
   "metadata": {},
   "source": [
    "Para graficar mis datos en una señal sinusoidal, debemos realizar lo siguiente:"
   ]
  },
  {
   "cell_type": "code",
   "execution_count": null,
   "metadata": {},
   "outputs": [],
   "source": [
    "plt.plot(x, y)\n",
    "plt.show() # El utilizar el método .show() es obligatorio cuando no se utiliza Google Colab, si están en vscode lo más problable es que no se muestre nada."
   ]
  },
  {
   "cell_type": "markdown",
   "metadata": {},
   "source": [
    "Podemos personalizar nuestro gráfico de distintas formas, como se muestra a continuación."
   ]
  },
  {
   "cell_type": "code",
   "execution_count": null,
   "metadata": {},
   "outputs": [],
   "source": [
    "plt.plot(x, y)\n",
    "plt.grid() # Añadimos una grilla\n",
    "plt.show() "
   ]
  },
  {
   "cell_type": "code",
   "execution_count": null,
   "metadata": {},
   "outputs": [],
   "source": [
    "plt.plot(x, y)\n",
    "plt.title(\"Función sinusoidal\") # Podemos añadir un título\n",
    "plt.grid() \n",
    "plt.show() "
   ]
  },
  {
   "cell_type": "code",
   "execution_count": null,
   "metadata": {},
   "outputs": [],
   "source": [
    "plt.plot(x, y)\n",
    "plt.title(\"Función sinusoidal\")\n",
    "plt.xlabel(\"tiempo [s]\") # Añadimos un label al eje x\n",
    "plt.ylabel(\"f(x)\")       # Añadimos un label al eje y\n",
    "plt.grid() \n",
    "plt.show() "
   ]
  },
  {
   "cell_type": "markdown",
   "metadata": {},
   "source": [
    "#### **1.2.2 Subgráficos**"
   ]
  },
  {
   "cell_type": "markdown",
   "metadata": {},
   "source": [
    "Para crear subgráficos necesitamos de dos señales."
   ]
  },
  {
   "cell_type": "code",
   "execution_count": 9,
   "metadata": {},
   "outputs": [],
   "source": [
    "x = np.linspace(0,10,100)\n",
    "y1 = np.sin(x)\n",
    "y2 = np.cos(x)"
   ]
  },
  {
   "cell_type": "code",
   "execution_count": null,
   "metadata": {},
   "outputs": [],
   "source": [
    "plt.subplot(1,2,1)\n",
    "plt.plot(x, y1)\n",
    "\n",
    "plt.subplot(1,2,2)\n",
    "plt.plot(x,y2)\n",
    "\n",
    "plt.show()"
   ]
  },
  {
   "cell_type": "markdown",
   "metadata": {},
   "source": [
    "**¿Qué significa los números dentro del subplot()?**\n",
    "\n",
    "$\n",
    "\\text{plt.subplot}(\\text{fila}, \\text{columna}, \\text{ubicación de la gráfica})\n",
    "$\n",
    "\n",
    "Podemos añadir más personalización a nuestra gráfica."
   ]
  },
  {
   "cell_type": "code",
   "execution_count": null,
   "metadata": {},
   "outputs": [],
   "source": [
    "plt.subplot(1,2,1)\n",
    "plt.plot(x, y1, color='r', linewidth=2, label='Seno')\n",
    "plt.title(\"Señal Sinusoidal\")\n",
    "plt.xlabel(\"tiempo [s]\")\n",
    "plt.ylabel(\"f(x)\")\n",
    "plt.legend() # Necesitamos habilitar la leyenda para que se vea el label\n",
    "plt.grid()\n",
    "\n",
    "plt.subplot(1,2,2)\n",
    "plt.plot(x,y2, color='b', linewidth=2, label='Coseno')\n",
    "plt.title(\"Señal Cosenoidal\")\n",
    "plt.xlabel(\"tiempo [s]\")\n",
    "plt.ylabel(\"f(x)\")\n",
    "plt.legend() # Necesitamos habilitar la leyenda para que se vea el label\n",
    "plt.grid()\n",
    "\n",
    "\n",
    "plt.show()"
   ]
  },
  {
   "cell_type": "markdown",
   "metadata": {},
   "source": [
    "#### **1.2.3 Gráficos Superpuestos**"
   ]
  },
  {
   "cell_type": "code",
   "execution_count": 18,
   "metadata": {},
   "outputs": [],
   "source": [
    "x = np.linspace(0,10,100)\n",
    "y1 = np.sin(x)\n",
    "y2 = np.cos(x)"
   ]
  },
  {
   "cell_type": "code",
   "execution_count": null,
   "metadata": {},
   "outputs": [],
   "source": [
    "plt.plot(x,y1, color='r', linestyle='--')\n",
    "plt.plot(x,y2, color='b', linestyle='-')\n",
    "plt.grid()\n",
    "plt.show()"
   ]
  },
  {
   "cell_type": "markdown",
   "metadata": {},
   "source": [
    "#### **1.2.4 Gráfico Scatter (Scatter plot)**"
   ]
  },
  {
   "cell_type": "code",
   "execution_count": null,
   "metadata": {},
   "outputs": [],
   "source": [
    "np.random.seed(5)\n",
    "x = np.random.rand(50)\n",
    "y = np.random.rand(50)\n",
    "plt.scatter(x, y, color=\"b\", marker=\"o\")\n",
    "plt.title(\"Gráfico de dispersión\")\n",
    "plt.show()"
   ]
  },
  {
   "cell_type": "markdown",
   "metadata": {},
   "source": [
    "#### **1.2.5 Gráfico de Barra (Bar plot)**"
   ]
  },
  {
   "cell_type": "code",
   "execution_count": null,
   "metadata": {},
   "outputs": [],
   "source": [
    "x = 0.5 + np.arange(8)\n",
    "y = [4.8, 5.5, 3.5, 4.6, 6.5, 6.6, 2.6, 3.0]\n",
    "\n",
    "plt.bar(x, y, width=1, edgecolor=\"white\", linewidth=0.7)\n",
    "plt.show()"
   ]
  },
  {
   "cell_type": "markdown",
   "metadata": {},
   "source": [
    "### **1.3 Gráficas Estadísticas**"
   ]
  },
  {
   "cell_type": "markdown",
   "metadata": {},
   "source": [
    "Para conocer más información puedes revisar el siguiente [link](https://matplotlib.org/stable/plot_types/stats/index.html)."
   ]
  },
  {
   "cell_type": "markdown",
   "metadata": {},
   "source": [
    "#### **1.3.1 Histograma**"
   ]
  },
  {
   "cell_type": "markdown",
   "metadata": {},
   "source": [
    "Un histograma es una representación gráfica que se utiliza para mostrar la distribución de una variable numérica continua. Se compone de barras rectangulares adyacentes, donde la altura de cada barra representa la frecuencia (o la densidad) de los datos dentro de un intervalo específico, conocido como clase o intervalo de clase .\n",
    "\n",
    "Características principales del histograma:\n",
    "\n",
    "* **Eje horizontal (eje X)**:\n",
    "    * Representa los valores de la variable que se está analizando.\n",
    "    * Los datos se dividen en intervalos o clases consecutivas.\n",
    "* **Eje vertical (eje Y)**:\n",
    "    * Representa la frecuencia absoluta (número de observaciones) o la frecuencia relativa (proporción de observaciones) en cada intervalo.\n",
    "    * En algunos casos, puede representar la densidad de frecuencia, lo que permite comparar histogramas con diferentes anchos de intervalo.\n",
    "* **Barras**:\n",
    "    * Las barras son adyacentes entre sí, ya que los datos son continuos y no hay \"gaps\" entre los intervalos.\n",
    "    * El área de cada barra es proporcional a la frecuencia de los datos en ese intervalo."
   ]
  },
  {
   "cell_type": "code",
   "execution_count": 29,
   "metadata": {},
   "outputs": [],
   "source": [
    "np.random.seed(1)\n",
    "x = 4 + np.random.normal(0, 1.5, 200)"
   ]
  },
  {
   "cell_type": "code",
   "execution_count": null,
   "metadata": {},
   "outputs": [],
   "source": [
    "plt.hist(x, bins=8, linewidth=0.5, edgecolor=\"white\")\n",
    "plt.show()"
   ]
  },
  {
   "cell_type": "markdown",
   "metadata": {},
   "source": [
    "#### **1.3.2 Gráfico de Barra**"
   ]
  },
  {
   "cell_type": "code",
   "execution_count": null,
   "metadata": {},
   "outputs": [],
   "source": [
    "x = [1, 2, 3, 4]\n",
    "\n",
    "colors = plt.get_cmap('Blues')(np.linspace(0.2, 0.7, len(x)))\n",
    "\n",
    "plt.pie(x, colors=colors, radius=3, center=(4, 4),\n",
    "       wedgeprops={\"linewidth\": 1, \"edgecolor\": \"white\"}, frame=True)\n",
    "plt.show()"
   ]
  },
  {
   "cell_type": "markdown",
   "metadata": {},
   "source": [
    "### **1.4 Mostrar Imágenes**"
   ]
  },
  {
   "cell_type": "markdown",
   "metadata": {},
   "source": [
    "Vamos a crear una matriz con datos aleatorios."
   ]
  },
  {
   "cell_type": "code",
   "execution_count": 37,
   "metadata": {},
   "outputs": [],
   "source": [
    "# Vamos a crear una matriz de 28x28\n",
    "\n",
    "np.random.seed(5)\n",
    "img = np.random.random((28,28))"
   ]
  },
  {
   "cell_type": "code",
   "execution_count": null,
   "metadata": {},
   "outputs": [],
   "source": [
    "plt.imshow(img)\n",
    "plt.show()"
   ]
  },
  {
   "cell_type": "markdown",
   "metadata": {},
   "source": [
    "Podemos realizar un mapeo a escala de grises."
   ]
  },
  {
   "cell_type": "code",
   "execution_count": null,
   "metadata": {},
   "outputs": [],
   "source": [
    "plt.imshow(img, cmap='gray')\n",
    "plt.show()"
   ]
  },
  {
   "cell_type": "code",
   "execution_count": null,
   "metadata": {},
   "outputs": [],
   "source": [
    "# ¿Qué tipo de dato es img?"
   ]
  },
  {
   "cell_type": "markdown",
   "metadata": {},
   "source": [
    "Vamos a crear una imagen de 8bit sin signo."
   ]
  },
  {
   "cell_type": "code",
   "execution_count": 5,
   "metadata": {},
   "outputs": [],
   "source": [
    "# Vamos a crear una matriz de 28x28\n",
    "\n",
    "img = np.ones((28,28), dtype=np.uint8)"
   ]
  },
  {
   "cell_type": "code",
   "execution_count": null,
   "metadata": {},
   "outputs": [],
   "source": [
    "plt.imshow(img, cmap='gray')\n",
    "plt.show()"
   ]
  },
  {
   "cell_type": "markdown",
   "metadata": {},
   "source": [
    "Acabamos de crear una imagen con el tipo de dato **uint8**, esto quiere decir que podemos representar 256 números en total. El 0 indica el primer número y que el píxel está apagado, y el 255 es el máximo número y representa la máxima intensidad del píxel.\n",
    "\n",
    "Ejercicio:\n",
    "\n",
    "1. **Cambia el píxel del centro por 255.**"
   ]
  },
  {
   "cell_type": "markdown",
   "metadata": {},
   "source": [
    "### **1.5 PyTorch y Matplotlib**"
   ]
  },
  {
   "cell_type": "markdown",
   "metadata": {},
   "source": [
    "Para mostrar un tensor de PyTorch utilizando Matplotlib podemos pasar directamente el tensor (antes no se podía)."
   ]
  },
  {
   "cell_type": "code",
   "execution_count": null,
   "metadata": {},
   "outputs": [],
   "source": [
    "import torch \n",
    "\n",
    "x = torch.linspace(0,10,100)\n",
    "y = torch.sin(x)\n",
    "\n",
    "plt.plot(x, y)\n",
    "plt.show()"
   ]
  },
  {
   "cell_type": "markdown",
   "metadata": {},
   "source": [
    "**¿Cómo se realizaba antes cuando Matplotlib no admitía tensores?**"
   ]
  },
  {
   "cell_type": "code",
   "execution_count": null,
   "metadata": {},
   "outputs": [],
   "source": [
    "x = torch.linspace(0,10,100)\n",
    "y = torch.sin(x)\n",
    "\n",
    "plt.plot(x.numpy(), y.numpy())\n",
    "plt.show()"
   ]
  },
  {
   "cell_type": "markdown",
   "metadata": {},
   "source": [
    "Si te diste cuenta, al utilizar directamente los tensores tardó demasiado en mostrar la gráfica la primera vez. Comprobémoslo!."
   ]
  },
  {
   "cell_type": "code",
   "execution_count": null,
   "metadata": {},
   "outputs": [],
   "source": [
    "import time \n",
    "\n",
    "inicio = time.time()\n",
    "\n",
    "x = torch.linspace(0,10,100)\n",
    "y = torch.sin(x)\n",
    "\n",
    "plt.plot(x, y)\n",
    "plt.show()\n",
    "fin = time.time()\n",
    "\n",
    "print(\"Tiempo: \", fin-inicio)"
   ]
  },
  {
   "cell_type": "code",
   "execution_count": null,
   "metadata": {},
   "outputs": [],
   "source": [
    "import time \n",
    "\n",
    "inicio = time.time()\n",
    "\n",
    "x = torch.linspace(0,10,100)\n",
    "y = torch.sin(x)\n",
    "\n",
    "plt.plot(x.numpy(), y.numpy())\n",
    "plt.show()\n",
    "fin = time.time()\n",
    "\n",
    "print(\"Tiempo: \", fin-inicio)"
   ]
  },
  {
   "cell_type": "markdown",
   "metadata": {},
   "source": [
    "## **2. Ejercicios**"
   ]
  },
  {
   "cell_type": "markdown",
   "metadata": {},
   "source": [
    "1. Grafique correctamente las señales sinusoidal y cosenoidal utilizando numpy. La señal debe estar entre 0 y 2 $\\pi$, grafica para una primera fila una señal con 5 muestras, para la segunda fila con 10 muestras, para la tercera con 20 muestras y 50 muestras. Las gráficas debe contener:\n",
    "\n",
    "    * La primera columna tiene la señal sinusoidal y la segunda columna contiene la señal cosenoidal.\n",
    "    * Grillas.\n",
    "    * Título indicando la cantidad de muestras.\n",
    "    * Debe utilizar estructura de control."
   ]
  },
  {
   "cell_type": "markdown",
   "metadata": {},
   "source": [
    "2. Diseñar un programa en Python que permita graficar en el intervalo [-10,10] las siguientes señales:\n",
    "\n",
    "    * Parabólica: $y_1 = x^2 - 1$\t \n",
    "    * Lineal: $y_2 = 6x$\t \n",
    "    * Valor absoluto: $y_3 = 10|x|$\n",
    "    * Agregar título, etiquetas, grilla, leyenda y guardar en un archivo ``.png``.\n"
   ]
  },
  {
   "cell_type": "markdown",
   "metadata": {},
   "source": [
    "3. Crear un histograma utilizando numpy que contenga 30 bins.\n",
    "\n",
    "    * Utilizar numpy.random.normal(loc, scale, size)\n",
    "\n",
    "        * `loc`: Es el valor de la media ($\\mu$) de la distribución normal. Define el centro (o punto medio) de la distribución. La mayoría de los valores generados estarán cerca de este valor. Debe utilizar `loc=0`, el cual indica que la distribución estará centrada en 0.\n",
    "\n",
    "        * `scale`: Es la desviación estándar (σ) de la distribución normal. Controla qué tan \"dispersos\" están los valores alrededor de la media (loc). Una desviación estándar pequeña significa que los valores estarán muy cerca de la media, mientras que una desviación estándar grande significa que los valores estarán más dispersos. Debe utilizar `scale=1`, donde los valores estarán dispersos aproximadamente entre -3 y 3 (ya que, en una distribución normal, aproximadamente el 99.7% de los datos caen dentro de μ±3σ)\n",
    "\n",
    "        * `size`: Es el número total de valores aleatorios que se generarán. Debe utilizar 1000 valores aleatorios."
   ]
  },
  {
   "cell_type": "markdown",
   "metadata": {},
   "source": [
    "4. Utilizando la misma distribución normal, mostrar una imagen de tamaño 28x28. Debe normalizar los datos entre 0 y 1."
   ]
  },
  {
   "cell_type": "markdown",
   "metadata": {},
   "source": [
    "5. Genere una matriz de 28x28 con valores aleatorios enteros entre 0 y 255, muéstrelo como una imagen."
   ]
  }
 ],
 "metadata": {
  "kernelspec": {
   "display_name": "programacion_2",
   "language": "python",
   "name": "python3"
  },
  "language_info": {
   "codemirror_mode": {
    "name": "ipython",
    "version": 3
   },
   "file_extension": ".py",
   "mimetype": "text/x-python",
   "name": "python",
   "nbconvert_exporter": "python",
   "pygments_lexer": "ipython3",
   "version": "3.10.16"
  }
 },
 "nbformat": 4,
 "nbformat_minor": 2
}
