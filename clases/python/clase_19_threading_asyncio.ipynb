{
 "cells": [
  {
   "cell_type": "markdown",
   "metadata": {},
   "source": [
    "# **[EIE409] Programación 2**"
   ]
  },
  {
   "cell_type": "markdown",
   "metadata": {},
   "source": [
    "## **Clase 19:**\n",
    "\n",
    "### **Tabla de contenido**\n",
    "\n",
    "1. Threading.\n",
    "2. Asyncio\n",
    "3. Yield.\n"
   ]
  },
  {
   "cell_type": "markdown",
   "metadata": {},
   "source": [
    "## **1. Threading**"
   ]
  },
  {
   "cell_type": "markdown",
   "metadata": {},
   "source": [
    "Los **hilos (threads)** permiten ejecutar múltiples tareas en paralelo dentro de un mismo proceso. En sistemas operativos modernos, un hilo es la unidad más pequeña de ejecución de un proceso. Python nos permite manejar hilos usando el módulo ``threading``."
   ]
  },
  {
   "cell_type": "markdown",
   "metadata": {},
   "source": [
    "**Importante**: Python tiene el **Global Interpreter Lock (GIL)**, lo que significa que solo un hilo puede ejecutarse a la vez en Python puro. Sin embargo, threading sigue siendo útil cuando estamos manejando tareas de entrada/salida (I/O bound), como descargar archivos, realizar consultas HTTP o leer archivos grandes."
   ]
  },
  {
   "cell_type": "markdown",
   "metadata": {},
   "source": [
    "### **1.1 Global Interpreter Lock (GIL)**"
   ]
  },
  {
   "cell_type": "code",
   "execution_count": 1,
   "metadata": {},
   "outputs": [],
   "source": [
    "import threading\n",
    "import time \n",
    "\n",
    "def tarea(nombre: str) -> None:\n",
    "    print(f\"Inicio de {nombre}\")\n",
    "\n",
    "    time.sleep(5)\n",
    "\n",
    "    print(f\"Fin de {nombre}\")"
   ]
  },
  {
   "cell_type": "code",
   "execution_count": 2,
   "metadata": {},
   "outputs": [],
   "source": [
    "hilo1 = threading.Thread(target=tarea, args=(\"Hilo 1\",))\n",
    "hilo2 = threading.Thread(target=tarea, args=(\"Hilo 2\",))"
   ]
  },
  {
   "cell_type": "code",
   "execution_count": 3,
   "metadata": {},
   "outputs": [
    {
     "name": "stdout",
     "output_type": "stream",
     "text": [
      "Inicio de Hilo 1\n",
      "Inicio de Hilo 2\n"
     ]
    },
    {
     "name": "stdout",
     "output_type": "stream",
     "text": [
      "Fin de Hilo 1Fin de Hilo 2\n",
      "\n"
     ]
    }
   ],
   "source": [
    "hilo1.start()\n",
    "hilo2.start()"
   ]
  },
  {
   "cell_type": "code",
   "execution_count": 4,
   "metadata": {},
   "outputs": [],
   "source": [
    "hilo1.join()\n",
    "hilo2.join()"
   ]
  },
  {
   "cell_type": "code",
   "execution_count": 7,
   "metadata": {},
   "outputs": [
    {
     "name": "stdout",
     "output_type": "stream",
     "text": [
      "🌟 Hilo 1 - Iteración 1\n",
      "🌟 Hilo 1 - Iteración 2\n",
      "🌟 Hilo 1 - Iteración 3\n",
      "🔥 Hilo 2 - Iteración 1\n",
      "🌟 Hilo 1 - Iteración 4\n",
      "🌟 Hilo 1 - Iteración 5\n",
      "🔥 Hilo 2 - Iteración 2\n",
      "🔥 Hilo 2 - Iteración 3\n",
      "🔥 Hilo 2 - Iteración 4\n",
      "🔥 Hilo 2 - Iteración 5\n",
      "✅ Finalizado\n"
     ]
    }
   ],
   "source": [
    "import threading\n",
    "import time\n",
    "\n",
    "def imprimir_mensaje(mensaje, delay):\n",
    "    \"\"\"Función que imprime un mensaje con un retraso\"\"\"\n",
    "    for i in range(5):\n",
    "        time.sleep(delay)\n",
    "        print(f\"{mensaje} - Iteración {i+1}\")\n",
    "\n",
    "# Crear dos hilos con diferentes tiempos de espera\n",
    "hilo1 = threading.Thread(target=imprimir_mensaje, args=(\"🌟 Hilo 1\", 1))\n",
    "hilo2 = threading.Thread(target=imprimir_mensaje, args=(\"🔥 Hilo 2\", 4))\n",
    "\n",
    "# Iniciar los hilos\n",
    "hilo1.start()\n",
    "hilo2.start()\n",
    "\n",
    "# Esperar a que terminen\n",
    "hilo1.join()\n",
    "hilo2.join()\n",
    "\n",
    "print(\"✅ Finalizado\")\n"
   ]
  },
  {
   "cell_type": "markdown",
   "metadata": {},
   "source": [
    "Fíjate que Hilo 1 imprime cada 1 segundo, mientras que Hilo 2 lo hace cada 4 segundos. Analicemos lo que está ocurriendo:\n",
    "\n",
    "1. El hilo 1 va a ejecutarse en 1s, 2s, 3s y sabemos que el hilo 2 cada 4s, entonces cuando llegemos a 4s deben imprimirse simultáneamente esos dos hilos, y luego debería seguir el hilo 1 hasta terminar en 5s."
   ]
  },
  {
   "cell_type": "code",
   "execution_count": 10,
   "metadata": {},
   "outputs": [
    {
     "name": "stdout",
     "output_type": "stream",
     "text": [
      "Valor final del contador: 2000000\n"
     ]
    }
   ],
   "source": [
    "contador = 0  # Variable compartida\n",
    "\n",
    "def incrementar():\n",
    "    global contador\n",
    "    for _ in range(1000000):\n",
    "        contador += 1  # Posible condición de carrera\n",
    "\n",
    "hilo1 = threading.Thread(target=incrementar)\n",
    "hilo2 = threading.Thread(target=incrementar)\n",
    "\n",
    "hilo1.start()\n",
    "hilo2.start()\n",
    "\n",
    "hilo1.join()\n",
    "hilo2.join()\n",
    "\n",
    "print(f\"Valor final del contador: {contador}\")  # Debería ser 2,000,000 pero no lo será siempre"
   ]
  },
  {
   "cell_type": "markdown",
   "metadata": {},
   "source": [
    "## **2. Asyncio**"
   ]
  },
  {
   "cell_type": "markdown",
   "metadata": {},
   "source": [
    "## **3. Yield**"
   ]
  }
 ],
 "metadata": {
  "kernelspec": {
   "display_name": "programacion_2",
   "language": "python",
   "name": "python3"
  },
  "language_info": {
   "codemirror_mode": {
    "name": "ipython",
    "version": 3
   },
   "file_extension": ".py",
   "mimetype": "text/x-python",
   "name": "python",
   "nbconvert_exporter": "python",
   "pygments_lexer": "ipython3",
   "version": "3.10.16"
  }
 },
 "nbformat": 4,
 "nbformat_minor": 2
}
