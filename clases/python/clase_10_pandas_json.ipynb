{
 "cells": [
  {
   "cell_type": "markdown",
   "metadata": {},
   "source": [
    "# **[EIE409] Programación 2**"
   ]
  },
  {
   "cell_type": "markdown",
   "metadata": {},
   "source": [
    "## **Clase 10:**\n",
    "\n",
    "### **Tabla de contenido**\n",
    "\n",
    "1. Pandas.\n",
    "2. JSON.\n",
    "\n",
    "\n"
   ]
  },
  {
   "cell_type": "markdown",
   "metadata": {},
   "source": [
    "## **1. Recordatorio de Pandas**"
   ]
  },
  {
   "cell_type": "markdown",
   "metadata": {},
   "source": [
    "## **2. JSON**"
   ]
  },
  {
   "cell_type": "markdown",
   "metadata": {},
   "source": [
    "**JSON (JavaScript Object Notation)** es un formato de texto ligero y fácil de leer que se utiliza para el intercambio de datos entre aplicaciones, especialmente en entornos web. Por otro lado, **JSON** es una estructura basada en texto que representa datos en pares clave-valor y listas ordenadas de valores. Aunque se basa en JavaScript, es compatible con la mayoría de los lenguajes de programación.\n",
    "\n",
    "```json\n",
    "{\n",
    "  \"nombre\": \"Juan\",\n",
    "  \"edad\": 25,\n",
    "  \"es_estudiante\": true,\n",
    "  \"cursos\": [\"Matemáticas\", \"Física\", \"Programación\"],\n",
    "  \"direccion\": {\n",
    "    \"calle\": \"Avenida Siempre Viva\",\n",
    "    \"numero\": 742,\n",
    "    \"ciudad\": \"Springfield\"\n",
    "  }\n",
    "}\n",
    "```"
   ]
  },
  {
   "cell_type": "markdown",
   "metadata": {},
   "source": [
    "**¿Para qué sirve JSON?**\n",
    "\n",
    "* **Intercambio de datos**: Se usa para transmitir información entre servidores y clientes web.\n",
    "* **APIs**: JSON es el formato estándar en APIs REST para enviar respuestas y peticiones.\n",
    "* **Configuraciones**: Muchos archivos de configuración usan JSON, como package.json en Node.js.\n",
    "* **Bases de datos**: Algunas bases como MongoDB almacenan documentos en formato JSON."
   ]
  },
  {
   "cell_type": "markdown",
   "metadata": {},
   "source": [
    "**¿Qué tipos de datos admite?**\n",
    "\n",
    "1. **Objetos ({})** → Colección de pares clave-valor.\n",
    "2. **Arreglos ([])** → Lista ordenada de valores.\n",
    "3. **Cadenas de texto (\"Texto\")** → Entre comillas dobles.\n",
    "4. **Números (123, -45.67)** → No requieren comillas.\n",
    "5. **Booleanos (true, false)** → Valores lógicos.\n",
    "6. **Null (null)** → Representa un valor vacío o desconocido."
   ]
  },
  {
   "cell_type": "markdown",
   "metadata": {},
   "source": [
    "### **2.1.0 Importar JSON**"
   ]
  },
  {
   "cell_type": "code",
   "execution_count": 1,
   "metadata": {},
   "outputs": [],
   "source": [
    "import json"
   ]
  },
  {
   "cell_type": "markdown",
   "metadata": {},
   "source": [
    "### **2.1.1 Crear JSON**"
   ]
  },
  {
   "cell_type": "code",
   "execution_count": 11,
   "metadata": {},
   "outputs": [],
   "source": [
    "dic = {\n",
    "  \"id\": 1,\n",
    "  \"nombre\": \"Ejemplo\",\n",
    "  \"activo\": True,\n",
    "  \"precio\": 49.99,\n",
    "  \"categorias\": [\"tecnología\", \"hogar\"],\n",
    "  \"detalles\": {\n",
    "    \"fabricante\": \"TechCorp\",\n",
    "    \"garantia\": None,\n",
    "  }\n",
    "}"
   ]
  },
  {
   "cell_type": "markdown",
   "metadata": {},
   "source": [
    "### **2.1.2 Cargar como un JSON**"
   ]
  },
  {
   "cell_type": "markdown",
   "metadata": {},
   "source": [
    "Anteriormente creamos un diccionario, pero ahora vamos a convertirlo a un objeto JSON."
   ]
  },
  {
   "cell_type": "code",
   "execution_count": null,
   "metadata": {},
   "outputs": [],
   "source": [
    "json_obj = json.dumps(dic)"
   ]
  },
  {
   "cell_type": "code",
   "execution_count": 13,
   "metadata": {},
   "outputs": [
    {
     "data": {
      "text/plain": [
       "'{\"id\": 1, \"nombre\": \"Ejemplo\", \"activo\": true, \"precio\": 49.99, \"categorias\": [\"tecnolog\\\\u00eda\", \"hogar\"], \"detalles\": {\"fabricante\": \"TechCorp\", \"garantia\": null}}'"
      ]
     },
     "execution_count": 13,
     "metadata": {},
     "output_type": "execute_result"
    }
   ],
   "source": [
    "json_obj"
   ]
  },
  {
   "cell_type": "markdown",
   "metadata": {},
   "source": [
    "### **2.1.3 Cargar JSON (Codificación)**"
   ]
  },
  {
   "cell_type": "markdown",
   "metadata": {},
   "source": [
    "El significado de los parámetros es el siguiente:\n",
    "\n",
    "* **ensure_ascii**: Permite visualizar caracteres especiales correctamente.\n",
    "* **indent**: Es el espacio de identación."
   ]
  },
  {
   "cell_type": "code",
   "execution_count": 14,
   "metadata": {},
   "outputs": [
    {
     "data": {
      "text/plain": [
       "'{\\n    \"id\": 1,\\n    \"nombre\": \"Ejemplo\",\\n    \"activo\": true,\\n    \"precio\": 49.99,\\n    \"categorias\": [\\n        \"tecnología\",\\n        \"hogar\"\\n    ],\\n    \"detalles\": {\\n        \"fabricante\": \"TechCorp\",\\n        \"garantia\": null\\n    }\\n}'"
      ]
     },
     "execution_count": 14,
     "metadata": {},
     "output_type": "execute_result"
    }
   ],
   "source": [
    "json_obj = json.dumps(dic, ensure_ascii=False, indent=4)\n",
    "json_obj"
   ]
  },
  {
   "cell_type": "code",
   "execution_count": 15,
   "metadata": {},
   "outputs": [
    {
     "name": "stdout",
     "output_type": "stream",
     "text": [
      "{\n",
      "    \"id\": 1,\n",
      "    \"nombre\": \"Ejemplo\",\n",
      "    \"activo\": true,\n",
      "    \"precio\": 49.99,\n",
      "    \"categorias\": [\n",
      "        \"tecnología\",\n",
      "        \"hogar\"\n",
      "    ],\n",
      "    \"detalles\": {\n",
      "        \"fabricante\": \"TechCorp\",\n",
      "        \"garantia\": null\n",
      "    }\n",
      "}\n"
     ]
    }
   ],
   "source": [
    "print(json_obj)"
   ]
  },
  {
   "cell_type": "code",
   "execution_count": 18,
   "metadata": {},
   "outputs": [
    {
     "name": "stdout",
     "output_type": "stream",
     "text": [
      "{\"id\": 1, \"nombre\": \"Ejemplo\", \"activo\": true, \"precio\": 49.99, \"categorias\": [\"tecnología\", \"hogar\"], \"detalles\": {\"fabricante\": \"TechCorp\", \"garantia\": null}}\n",
      "<class 'str'>\n"
     ]
    }
   ],
   "source": [
    "json_obj = json.dumps(dic, ensure_ascii=False)\n",
    "print(json_obj)\n",
    "print(type(json_obj))"
   ]
  },
  {
   "cell_type": "markdown",
   "metadata": {},
   "source": [
    "### **2.1.4 Guardar JSON (Forma Correcta)**"
   ]
  },
  {
   "cell_type": "code",
   "execution_count": 21,
   "metadata": {},
   "outputs": [],
   "source": [
    "dic = {\n",
    "  \"id\": 1,\n",
    "  \"nombre\": \"Ejemplo\",\n",
    "  \"activo\": True,\n",
    "  \"precio\": 49.99,\n",
    "  \"categorias\": [\"tecnología\", \"hogar\"],\n",
    "  \"detalles\": {\n",
    "    \"fabricante\": \"TechCorp\",\n",
    "    \"garantia\": None,\n",
    "  }\n",
    "}"
   ]
  },
  {
   "cell_type": "code",
   "execution_count": 22,
   "metadata": {},
   "outputs": [],
   "source": [
    "path_name = \"mi_primer_json.json\"\n",
    "\n",
    "with open(path_name, 'w') as archivo:\n",
    "    json.dump(dic, archivo, indent=2, ensure_ascii=False)"
   ]
  },
  {
   "cell_type": "markdown",
   "metadata": {},
   "source": [
    "### **2.1.5 Cargar JSON (Forma Correcta)**"
   ]
  },
  {
   "cell_type": "code",
   "execution_count": 23,
   "metadata": {},
   "outputs": [],
   "source": [
    "ruta_archivo = r\"C:\\Users\\gol_m\\OneDrive\\Desktop\\Magíster en Ciencias de la Ingeniería\\2025\\Cursos Dictados\\Primer Semestre\\EIE409 - PROGRAMACIÓN 2\\CLASES\\materiales\\test.json\"\n",
    "\n",
    "with open(ruta_archivo, 'r') as archivo:\n",
    "    datos = json.load(archivo)"
   ]
  }
 ],
 "metadata": {
  "kernelspec": {
   "display_name": "programacion_2",
   "language": "python",
   "name": "python3"
  },
  "language_info": {
   "codemirror_mode": {
    "name": "ipython",
    "version": 3
   },
   "file_extension": ".py",
   "mimetype": "text/x-python",
   "name": "python",
   "nbconvert_exporter": "python",
   "pygments_lexer": "ipython3",
   "version": "3.10.16"
  }
 },
 "nbformat": 4,
 "nbformat_minor": 2
}
