{
 "cells": [
  {
   "cell_type": "markdown",
   "metadata": {},
   "source": [
    "# **[EIE409] Programación 2**"
   ]
  },
  {
   "cell_type": "markdown",
   "metadata": {},
   "source": [
    "# **1. Módulo Typing**"
   ]
  },
  {
   "cell_type": "markdown",
   "metadata": {},
   "source": [
    "Recordemos que Python es un lenguaje de tipado dinámico (es decir, no necesitas especificar tipos de datos). Las **anotaciones de tipo** permiten especificar los tipos de las variables y los valores de retorno de las funciones. En Python, ``typing`` es un módulo que introduce la posibilidad de usar anotaciones de tipo en las funciones, variables y estructuras de datos. Estas anotaciones permiten especificar qué tipo de datos se espera que sean utilizados, lo que ayuda a mejorar la legibilidad del código, detectar errores antes de la ejecución (en tiempo de desarrollo) y, en algunos casos, facilita la integración con herramientas de análisis estático del código."
   ]
  },
  {
   "cell_type": "markdown",
   "metadata": {},
   "source": [
    "Primero que todo, recordemos que podemos especificar los tipos básicos de datos."
   ]
  },
  {
   "cell_type": "code",
   "execution_count": 1,
   "metadata": {},
   "outputs": [],
   "source": [
    "def division(a: float, b: float) -> float: #En esta línea de código estamos indicando que a y b serán flotantes y la salidar nos retornará un flotante.\n",
    "    return a / b"
   ]
  },
  {
   "cell_type": "markdown",
   "metadata": {},
   "source": [
    "LA función anterior especificamos anotaciones básicas, pero ¿Podemos especificar anotaciones más avanzadas?. Por ejemplo, listas, diccionarios, objetos, etc."
   ]
  },
  {
   "cell_type": "markdown",
   "metadata": {},
   "source": [
    "## **1.1 Usando ``typing`` para tipos más complejos**"
   ]
  },
  {
   "cell_type": "markdown",
   "metadata": {},
   "source": [
    "Para utilizar el módulo `typing` debo importar las clases o tipos de datos más complejos."
   ]
  },
  {
   "cell_type": "markdown",
   "metadata": {},
   "source": [
    "### **1.1.1 Listas**"
   ]
  },
  {
   "cell_type": "markdown",
   "metadata": {},
   "source": [
    "Supongamos que queremos sumar una lista (arreglo, array, vector, como quieras llamarlo). El usuario debe entregar una lista como input y la salida será un entero."
   ]
  },
  {
   "cell_type": "code",
   "execution_count": 2,
   "metadata": {},
   "outputs": [],
   "source": [
    "from typing import List\n",
    "\n",
    "# Si te das cuenta especifico la lista y además los tipos de datos dentro de la lista y lo que retorna\n",
    "def suma_lista(lista: List[int]) -> int:\n",
    "    return sum(lista)"
   ]
  },
  {
   "cell_type": "code",
   "execution_count": null,
   "metadata": {},
   "outputs": [
    {
     "data": {
      "text/plain": [
       "[1, 2, 3, 4, 5, 6, 7, 8, 9, 10]"
      ]
     },
     "execution_count": 3,
     "metadata": {},
     "output_type": "execute_result"
    }
   ],
   "source": [
    "# Creo una lista de 10 números\n",
    "mi_lista = list(range(1,11))\n",
    "mi_lista"
   ]
  },
  {
   "cell_type": "code",
   "execution_count": 4,
   "metadata": {},
   "outputs": [
    {
     "data": {
      "text/plain": [
       "55"
      ]
     },
     "execution_count": 4,
     "metadata": {},
     "output_type": "execute_result"
    }
   ],
   "source": [
    "suma_lista(mi_lista)"
   ]
  },
  {
   "cell_type": "markdown",
   "metadata": {},
   "source": [
    "### **1.1.2 Diccionarios**"
   ]
  },
  {
   "cell_type": "code",
   "execution_count": null,
   "metadata": {},
   "outputs": [],
   "source": [
    "from typing import Dict \n",
    "\n"
   ]
  }
 ],
 "metadata": {
  "kernelspec": {
   "display_name": "programacion_2",
   "language": "python",
   "name": "python3"
  },
  "language_info": {
   "codemirror_mode": {
    "name": "ipython",
    "version": 3
   },
   "file_extension": ".py",
   "mimetype": "text/x-python",
   "name": "python",
   "nbconvert_exporter": "python",
   "pygments_lexer": "ipython3",
   "version": "3.10.16"
  }
 },
 "nbformat": 4,
 "nbformat_minor": 2
}
