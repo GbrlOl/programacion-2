{
 "cells": [
  {
   "cell_type": "markdown",
   "metadata": {},
   "source": [
    "# **[EIE409] Programación 2**"
   ]
  },
  {
   "cell_type": "markdown",
   "metadata": {},
   "source": [
    "# **1. Módulo Typing**"
   ]
  },
  {
   "cell_type": "markdown",
   "metadata": {},
   "source": [
    "Recordemos que Python es un lenguaje de tipado dinámico (es decir, no necesitas especificar tipos de datos). Las **anotaciones de tipo** permiten especificar los tipos de las variables y los valores de retorno de las funciones. En Python, ``typing`` es un módulo que introduce la posibilidad de usar anotaciones de tipo en las funciones, variables y estructuras de datos. Estas anotaciones permiten especificar qué tipo de datos se espera que sean utilizados, lo que ayuda a mejorar la legibilidad del código, detectar errores antes de la ejecución (en tiempo de desarrollo) y, en algunos casos, facilita la integración con herramientas de análisis estático del código."
   ]
  },
  {
   "cell_type": "markdown",
   "metadata": {},
   "source": [
    "Primero que todo, recordemos que podemos especificar los tipos básicos de datos."
   ]
  },
  {
   "cell_type": "code",
   "execution_count": 1,
   "metadata": {},
   "outputs": [],
   "source": [
    "def division(a: float, b: float) -> float: #En esta línea de código estamos indicando que a y b serán flotantes y la salidar nos retornará un flotante.\n",
    "    return a / b"
   ]
  },
  {
   "cell_type": "markdown",
   "metadata": {},
   "source": [
    "LA función anterior especificamos anotaciones básicas, pero ¿Podemos especificar anotaciones más avanzadas?. Por ejemplo, listas, diccionarios, objetos, etc. Por último, podemos anotar el tipo de variables a utilizar."
   ]
  },
  {
   "cell_type": "code",
   "execution_count": null,
   "metadata": {},
   "outputs": [
    {
     "name": "stdout",
     "output_type": "stream",
     "text": [
      "Gabriel\n",
      "None\n",
      "5\n"
     ]
    }
   ],
   "source": [
    "# Cabe mencionar que el tipo de dato que queda definido es el tipo de dato asignado\n",
    "\n",
    "nombre: str = \"Gabriel\"\n",
    "nombre2: str = None\n",
    "tipo_entero: int = 5\n",
    "\n",
    "print(nombre)\n",
    "print(nombre2)\n",
    "print(tipo_entero)\n"
   ]
  },
  {
   "cell_type": "markdown",
   "metadata": {},
   "source": [
    "## **1.1 Usando ``typing`` para tipos más complejos**"
   ]
  },
  {
   "cell_type": "markdown",
   "metadata": {},
   "source": [
    "Para utilizar el módulo `typing` debo importar las clases o tipos de datos más complejos."
   ]
  },
  {
   "cell_type": "markdown",
   "metadata": {},
   "source": [
    "### **1.1.1 Listas**"
   ]
  },
  {
   "cell_type": "markdown",
   "metadata": {},
   "source": [
    "Supongamos que queremos sumar una lista (arreglo, array, vector, como quieras llamarlo). El usuario debe entregar una lista como input y la salida será un entero."
   ]
  },
  {
   "cell_type": "code",
   "execution_count": 2,
   "metadata": {},
   "outputs": [],
   "source": [
    "from typing import List\n",
    "\n",
    "# Si te das cuenta especifico la lista y además los tipos de datos dentro de la lista y lo que retorna\n",
    "def suma_lista(lista: List[int]) -> int:\n",
    "    return sum(lista)"
   ]
  },
  {
   "cell_type": "code",
   "execution_count": null,
   "metadata": {},
   "outputs": [
    {
     "data": {
      "text/plain": [
       "[1, 2, 3, 4, 5, 6, 7, 8, 9, 10]"
      ]
     },
     "execution_count": 3,
     "metadata": {},
     "output_type": "execute_result"
    }
   ],
   "source": [
    "# Creo una lista de 10 números\n",
    "mi_lista = list(range(1,11))\n",
    "mi_lista"
   ]
  },
  {
   "cell_type": "code",
   "execution_count": 4,
   "metadata": {},
   "outputs": [
    {
     "data": {
      "text/plain": [
       "55"
      ]
     },
     "execution_count": 4,
     "metadata": {},
     "output_type": "execute_result"
    }
   ],
   "source": [
    "suma_lista(mi_lista)"
   ]
  },
  {
   "cell_type": "markdown",
   "metadata": {},
   "source": [
    "### **1.1.2 Diccionarios**"
   ]
  },
  {
   "cell_type": "markdown",
   "metadata": {},
   "source": [
    "Vamos a crear un código que suma las edades de cada estudiantes para obtener el promedio."
   ]
  },
  {
   "cell_type": "code",
   "execution_count": 7,
   "metadata": {},
   "outputs": [],
   "source": [
    "from typing import Dict \n",
    "\n",
    "def suma_edad(diccionario: Dict[str, int]) -> int:\n",
    "    return sum(diccionario.values())"
   ]
  },
  {
   "cell_type": "code",
   "execution_count": 8,
   "metadata": {},
   "outputs": [
    {
     "data": {
      "text/plain": [
       "92"
      ]
     },
     "execution_count": 8,
     "metadata": {},
     "output_type": "execute_result"
    }
   ],
   "source": [
    "diccionario = {\n",
    "    \"Juan\": 21,\n",
    "    \"Pedro\": 26,\n",
    "    \"Alfonso\": 23,\n",
    "    \"Daniel\": 22\n",
    "}\n",
    "\n",
    "suma_edad(diccionario)"
   ]
  },
  {
   "cell_type": "markdown",
   "metadata": {},
   "source": [
    "### **1.1.3 Tuplas**"
   ]
  },
  {
   "cell_type": "code",
   "execution_count": 11,
   "metadata": {},
   "outputs": [],
   "source": [
    "from typing import Tuple\n",
    "\n",
    "# Función que devuelve una tupla con un entero y un flotante\n",
    "def obtener_datos() -> Tuple[int, float]:\n",
    "    return 10, 3.14"
   ]
  },
  {
   "cell_type": "code",
   "execution_count": 12,
   "metadata": {},
   "outputs": [
    {
     "name": "stdout",
     "output_type": "stream",
     "text": [
      "(10, 3.14)\n"
     ]
    }
   ],
   "source": [
    "print(obtener_datos())  # (10, 3.14)"
   ]
  },
  {
   "cell_type": "markdown",
   "metadata": {},
   "source": [
    "### **1.1.5 Optional**"
   ]
  },
  {
   "cell_type": "markdown",
   "metadata": {},
   "source": [
    "``Optional`` es básicamente un caso específico de ``Union``, donde uno de los tipos es ``None``. Se utiliza para indicar que una variable puede ser de un tipo o ``None``."
   ]
  },
  {
   "cell_type": "code",
   "execution_count": 13,
   "metadata": {},
   "outputs": [],
   "source": [
    "from typing import Optional\n",
    "\n",
    "# Función que recibe una cadena opcional y devuelve un mensaje\n",
    "def saludo(nombre: Optional[str]) -> str:\n",
    "    if nombre:\n",
    "        return f\"Hola, {nombre}!\"\n",
    "    else:\n",
    "        return \"Hola, invitado!\""
   ]
  },
  {
   "cell_type": "code",
   "execution_count": 14,
   "metadata": {},
   "outputs": [
    {
     "data": {
      "text/plain": [
       "'Hola, Gabriel!'"
      ]
     },
     "execution_count": 14,
     "metadata": {},
     "output_type": "execute_result"
    }
   ],
   "source": [
    "saludo(\"Gabriel\")"
   ]
  },
  {
   "cell_type": "code",
   "execution_count": 16,
   "metadata": {},
   "outputs": [
    {
     "data": {
      "text/plain": [
       "'Hola, invitado!'"
      ]
     },
     "execution_count": 16,
     "metadata": {},
     "output_type": "execute_result"
    }
   ],
   "source": [
    "saludo(None)"
   ]
  },
  {
   "cell_type": "markdown",
   "metadata": {},
   "source": [
    "### **1.1.6 Union**"
   ]
  },
  {
   "cell_type": "markdown",
   "metadata": {},
   "source": [
    "``Union`` permite especificar que una variable puede ser de más de un tipo. Esto es útil cuando una función o variable puede aceptar diferentes tipos de datos. Por otro lado, desde las versiones de Python 3.10 en adelante se puede utilizar el operador de ``|`` para representar lo mismo."
   ]
  },
  {
   "cell_type": "code",
   "execution_count": 26,
   "metadata": {},
   "outputs": [],
   "source": [
    "from typing import Union\n",
    "\n",
    "# Función que acepta un número entero o una cadena y devuelve una cadena\n",
    "def descripcion(valor: Union[int, str]) -> str:\n",
    "    return f\"El valor es: {valor}\"\n"
   ]
  },
  {
   "cell_type": "code",
   "execution_count": 27,
   "metadata": {},
   "outputs": [
    {
     "name": "stdout",
     "output_type": "stream",
     "text": [
      "El valor es: 5\n",
      "El valor es: Hola\n"
     ]
    }
   ],
   "source": [
    "print(descripcion(5)) \n",
    "print(descripcion(\"Hola\")) "
   ]
  },
  {
   "cell_type": "code",
   "execution_count": 28,
   "metadata": {},
   "outputs": [],
   "source": [
    "def descripcion(valor: int | str) -> str:\n",
    "    return f\"El valor es: {valor}\""
   ]
  },
  {
   "cell_type": "code",
   "execution_count": 29,
   "metadata": {},
   "outputs": [
    {
     "name": "stdout",
     "output_type": "stream",
     "text": [
      "El valor es: 5\n",
      "El valor es: Hola\n"
     ]
    }
   ],
   "source": [
    "print(descripcion(5)) \n",
    "print(descripcion(\"Hola\")) "
   ]
  },
  {
   "cell_type": "markdown",
   "metadata": {},
   "source": [
    "### **1.1.7 Callable**"
   ]
  },
  {
   "cell_type": "markdown",
   "metadata": {},
   "source": [
    "``Callable`` **se utiliza para indicar que una variable o parámetro es una función**. Permite especificar los tipos de los parámetros y el tipo de retorno de la función. La sintáxis de lectura es la siguiente:\n",
    "\n",
    "```python\n",
    "Callable[[valores_entrada_funcion, valor de retorno]]\n",
    "```\n",
    "Visto de otro modo\n",
    "```python\n",
    "Callable[[TipoArg1, TipoArg2, ...], TipoDeRetorno]\n",
    "```"
   ]
  },
  {
   "cell_type": "code",
   "execution_count": 17,
   "metadata": {},
   "outputs": [],
   "source": [
    "from typing import Callable \n",
    "\n",
    "# Podemos apreciar que callable (que es una función) recibirá dos parámetros enteros de entrada y la salida será un entero.\n",
    "# Por otro lado, ejecutar operación recibirá dos parámetros de entrada que serán enteros y retornará un entero.\n",
    "def ejecutar_operacion(operacion: Callable[[int, int], int], a: int, b: int) -> int:\n",
    "    return operacion(a, b)\n",
    "\n",
    "def mi_suma(a: int, b: int) -> int:\n",
    "    return a + b"
   ]
  },
  {
   "cell_type": "code",
   "execution_count": 19,
   "metadata": {},
   "outputs": [
    {
     "data": {
      "text/plain": [
       "12"
      ]
     },
     "execution_count": 19,
     "metadata": {},
     "output_type": "execute_result"
    }
   ],
   "source": [
    "# Si te das cuenta, ejecutar operación recibe una función y mis dos parámetros de entrada.\n",
    "ejecutar_operacion(mi_suma, 6, 6)"
   ]
  },
  {
   "cell_type": "markdown",
   "metadata": {},
   "source": [
    "**Importante**: Esto es tipado estático que nos ayuda a tener un mejor entendimiento de los datos que se reciben y los datos que se devuelven. **¿Qué ocurre si ingresamos otros tipos de datos que no son los especificados en el tipado?**. No ocurre nada en Python (si es admitida la operación). Veamos un ejemplo, sabemos que podemos concatenar strings, por lo cual podemos utilizar la función ``mi_suma`` para sumar los ``str``."
   ]
  },
  {
   "cell_type": "code",
   "execution_count": null,
   "metadata": {},
   "outputs": [
    {
     "data": {
      "text/plain": [
       "'hola que tal?'"
      ]
     },
     "execution_count": 20,
     "metadata": {},
     "output_type": "execute_result"
    }
   ],
   "source": [
    "ejecutar_operacion(mi_suma, \"hola \", \"que tal?\")"
   ]
  },
  {
   "cell_type": "markdown",
   "metadata": {},
   "source": [
    "Si no se ha entendido el tipado que denota una función, veamos otro ejemplo."
   ]
  },
  {
   "cell_type": "code",
   "execution_count": 22,
   "metadata": {},
   "outputs": [],
   "source": [
    "from typing import Callable, Union, Optional\n",
    "\n",
    "def ejecutar_operacion(a: Union[int, str], b: Union[int, str], \n",
    "                       operacion: Optional[Callable[[int, int], int]] = None) -> Union[int, str]:\n",
    "    if isinstance(a, str) and isinstance(b, str):\n",
    "        return f\"Hola {a} {b}\"\n",
    "    elif isinstance(a, int) and isinstance(b, int) and operacion:\n",
    "        return operacion(a, b)\n",
    "    else:\n",
    "        raise ValueError(\"Los tipos de datos no son compatibles con la operación.\")\n",
    "\n",
    "def mi_suma(a: int, b: int) -> int:\n",
    "    return a + b\n"
   ]
  },
  {
   "cell_type": "code",
   "execution_count": 23,
   "metadata": {},
   "outputs": [
    {
     "data": {
      "text/plain": [
       "'Hola Gabriel Olmos'"
      ]
     },
     "execution_count": 23,
     "metadata": {},
     "output_type": "execute_result"
    }
   ],
   "source": [
    "ejecutar_operacion(\"Gabriel\", \"Olmos\")"
   ]
  },
  {
   "cell_type": "code",
   "execution_count": 25,
   "metadata": {},
   "outputs": [
    {
     "data": {
      "text/plain": [
       "3"
      ]
     },
     "execution_count": 25,
     "metadata": {},
     "output_type": "execute_result"
    }
   ],
   "source": [
    "ejecutar_operacion(1, 2, mi_suma)"
   ]
  },
  {
   "cell_type": "markdown",
   "metadata": {},
   "source": [
    "| Notación de `Callable` | Significado |\n",
    "|------------------------|------------|\n",
    "| `Callable[[int, int], int]` | Función que recibe dos enteros y devuelve un entero. |\n",
    "| `Callable[[str], bool]` | Función que recibe un `str` y devuelve un `bool`. |\n",
    "| `Callable[[], float]` | Función que no recibe argumentos y devuelve un `float`. |\n",
    "| `Callable[..., Any]` | Función con cualquier número de argumentos y cualquier retorno. |\n",
    "| `Callable[[Union[int, str]], str]` | Función que recibe `int` o `str` y devuelve `str`. |"
   ]
  },
  {
   "cell_type": "markdown",
   "metadata": {},
   "source": [
    "### **1.1.8 TypeVar**"
   ]
  },
  {
   "cell_type": "markdown",
   "metadata": {},
   "source": [
    "# **n. Gradio (Leer docs)**"
   ]
  },
  {
   "cell_type": "markdown",
   "metadata": {},
   "source": [
    "**¿Cómo nos puede ayudar la notación de tipo?**\n",
    "\n",
    "Veamos un ejemplo con un framework llamado Gradio."
   ]
  },
  {
   "cell_type": "markdown",
   "metadata": {},
   "source": [
    "* https://www.gradio.app/docs/gradio/textbox"
   ]
  },
  {
   "cell_type": "code",
   "execution_count": null,
   "metadata": {},
   "outputs": [
    {
     "name": "stdout",
     "output_type": "stream",
     "text": [
      "* Running on local URL:  http://127.0.0.1:7861\n",
      "\n",
      "To create a public link, set `share=True` in `launch()`.\n"
     ]
    },
    {
     "data": {
      "text/html": [
       "<div><iframe src=\"http://127.0.0.1:7861/\" width=\"100%\" height=\"500\" allow=\"autoplay; camera; microphone; clipboard-read; clipboard-write;\" frameborder=\"0\" allowfullscreen></iframe></div>"
      ],
      "text/plain": [
       "<IPython.core.display.HTML object>"
      ]
     },
     "metadata": {},
     "output_type": "display_data"
    },
    {
     "data": {
      "text/plain": []
     },
     "execution_count": 33,
     "metadata": {},
     "output_type": "execute_result"
    }
   ],
   "source": [
    "import gradio as gr \n",
    "\n",
    "with gr.Blocks() as demo:\n",
    "\n",
    "    caja = gr.Textbox() # Componente de gradio\n",
    "\n",
    "demo.launch(share=False)"
   ]
  },
  {
   "cell_type": "markdown",
   "metadata": {},
   "source": [
    "En Gradio podemos definir que tiene los parámetros inicializadores de cada ``componente de gradio (Gradio component)`` y cada componente tiene su ``evento de escucha (Event Listeners)``. Los eventos de escucha son las acciones que realizará el usuario con el componente, en este caso ingresar texto. Debemos programar la lógica, ¿Qué queremos hacer con ese texto?.\n",
    "\n",
    "1. Vamos a inicializar la caja con un mensaje de placeholder que diga: `Ingresa tu nombre`:\n",
    "2. El usuario ingresa el nombre.\n",
    "3. Luego, por otra caja devolveremos un saludo personalizados.\n"
   ]
  },
  {
   "cell_type": "code",
   "execution_count": null,
   "metadata": {},
   "outputs": [],
   "source": [
    "def saludo(a: str) -> str:\n",
    "    return f\"Hola, {a}!!\""
   ]
  },
  {
   "cell_type": "code",
   "execution_count": 47,
   "metadata": {},
   "outputs": [
    {
     "name": "stdout",
     "output_type": "stream",
     "text": [
      "* Running on local URL:  http://127.0.0.1:7873\n",
      "\n",
      "To create a public link, set `share=True` in `launch()`.\n"
     ]
    },
    {
     "data": {
      "text/html": [
       "<div><iframe src=\"http://127.0.0.1:7873/\" width=\"100%\" height=\"500\" allow=\"autoplay; camera; microphone; clipboard-read; clipboard-write;\" frameborder=\"0\" allowfullscreen></iframe></div>"
      ],
      "text/plain": [
       "<IPython.core.display.HTML object>"
      ]
     },
     "metadata": {},
     "output_type": "display_data"
    },
    {
     "data": {
      "text/plain": []
     },
     "execution_count": 47,
     "metadata": {},
     "output_type": "execute_result"
    }
   ],
   "source": [
    "import gradio as gr \n",
    "\n",
    "with gr.Blocks() as demo:\n",
    "\n",
    "    caja_input = gr.Textbox(placeholder=\"Ingresa tu nombre\") # Componente de gradio\n",
    "    caja_output = gr.Textbox() # Componente de gradio\n",
    "\n",
    "\n",
    "    caja_input.input(saludo, caja_input, caja_output)\n",
    "\n",
    "demo.launch(share=False)"
   ]
  },
  {
   "cell_type": "markdown",
   "metadata": {},
   "source": [
    "Incluso, podemos retornar el valor de nuestra función a otro conjunto de componentes. Pero debemos adaptar la función saludo para que devuelva ese conjunto de valores."
   ]
  },
  {
   "cell_type": "code",
   "execution_count": 49,
   "metadata": {},
   "outputs": [],
   "source": [
    "def saludo(a: str) -> str:\n",
    "    return f\"Hola, {a}!!\", f\"Hola, {a}!!\", f\"Hola, {a}!!\""
   ]
  },
  {
   "cell_type": "code",
   "execution_count": 50,
   "metadata": {},
   "outputs": [
    {
     "name": "stdout",
     "output_type": "stream",
     "text": [
      "* Running on local URL:  http://127.0.0.1:7875\n",
      "\n",
      "To create a public link, set `share=True` in `launch()`.\n"
     ]
    },
    {
     "data": {
      "text/html": [
       "<div><iframe src=\"http://127.0.0.1:7875/\" width=\"100%\" height=\"500\" allow=\"autoplay; camera; microphone; clipboard-read; clipboard-write;\" frameborder=\"0\" allowfullscreen></iframe></div>"
      ],
      "text/plain": [
       "<IPython.core.display.HTML object>"
      ]
     },
     "metadata": {},
     "output_type": "display_data"
    },
    {
     "data": {
      "text/plain": []
     },
     "execution_count": 50,
     "metadata": {},
     "output_type": "execute_result"
    }
   ],
   "source": [
    "import gradio as gr \n",
    "\n",
    "with gr.Blocks() as demo:\n",
    "\n",
    "    caja_input = gr.Textbox(placeholder=\"Ingresa tu nombre\") # Componente de gradio\n",
    "    caja_output_1 = gr.Textbox() # Componente de gradio\n",
    "    caja_output_2 = gr.Textbox() # Componente de gradio\n",
    "    caja_output_3 = gr.Textbox() # Componente de gradio\n",
    "\n",
    "\n",
    "\n",
    "    caja_input.input(saludo, caja_input, [caja_output_1, caja_output_2, caja_output_3])\n",
    "\n",
    "demo.launch(share=False)"
   ]
  },
  {
   "cell_type": "markdown",
   "metadata": {},
   "source": []
  }
 ],
 "metadata": {
  "kernelspec": {
   "display_name": "programacion_2",
   "language": "python",
   "name": "python3"
  },
  "language_info": {
   "codemirror_mode": {
    "name": "ipython",
    "version": 3
   },
   "file_extension": ".py",
   "mimetype": "text/x-python",
   "name": "python",
   "nbconvert_exporter": "python",
   "pygments_lexer": "ipython3",
   "version": "3.10.16"
  }
 },
 "nbformat": 4,
 "nbformat_minor": 2
}
