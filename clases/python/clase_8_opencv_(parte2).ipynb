{
  "nbformat": 4,
  "nbformat_minor": 0,
  "metadata": {
    "colab": {
      "provenance": [],
      "collapsed_sections": [
        "-RJfUuc77Fk-",
        "DzcMihR17faO",
        "gDOU8I4t703_",
        "2QIdGylX9QGM",
        "yZYLSdqP-LSX",
        "uK23xyvF_dR4",
        "-db5EM_tAM4w",
        "UNggflcTBLPO",
        "Yni9jnYcBrzm",
        "n7Xzq7W7DhuB"
      ]
    },
    "kernelspec": {
      "name": "python3",
      "display_name": "Python 3"
    },
    "language_info": {
      "name": "python"
    }
  },
  "cells": [
    {
      "cell_type": "markdown",
      "source": [
        "# **2. OpenCV**"
      ],
      "metadata": {
        "id": "3c3O5t3c7BmG"
      }
    },
    {
      "cell_type": "markdown",
      "source": [
        "## **2.1 Importar OpenCV**"
      ],
      "metadata": {
        "id": "-RJfUuc77Fk-"
      }
    },
    {
      "cell_type": "code",
      "execution_count": 1,
      "metadata": {
        "id": "rx-qwjxp6519"
      },
      "outputs": [],
      "source": [
        "import cv2"
      ]
    },
    {
      "cell_type": "code",
      "source": [
        "!git clone https://github.com/GbrlOl/programacion-2.git"
      ],
      "metadata": {
        "colab": {
          "base_uri": "https://localhost:8080/"
        },
        "id": "liNPV1p96_rI",
        "outputId": "38560ed3-702f-4371-bf9c-d4bb801efbb8"
      },
      "execution_count": 2,
      "outputs": [
        {
          "output_type": "stream",
          "name": "stdout",
          "text": [
            "Cloning into 'programacion-2'...\n",
            "remote: Enumerating objects: 1001, done.\u001b[K\n",
            "remote: Total 1001 (delta 0), reused 0 (delta 0), pack-reused 1001 (from 2)\u001b[K\n",
            "Receiving objects: 100% (1001/1001), 11.32 MiB | 19.29 MiB/s, done.\n",
            "Resolving deltas: 100% (567/567), done.\n"
          ]
        }
      ]
    },
    {
      "cell_type": "markdown",
      "source": [
        "## **2.2 Cargar Imagen**"
      ],
      "metadata": {
        "id": "DzcMihR17faO"
      }
    },
    {
      "cell_type": "code",
      "source": [
        "import cv2\n",
        "\n",
        "path = \"/content/programacion-2/materiales/dos_palos.png\"\n",
        "\n",
        "img = cv2.imread(path, 0)"
      ],
      "metadata": {
        "id": "bK9O7bXm7jvZ"
      },
      "execution_count": 3,
      "outputs": []
    },
    {
      "cell_type": "code",
      "source": [
        "# img"
      ],
      "metadata": {
        "id": "hqYb_Gtu7ssn"
      },
      "execution_count": 6,
      "outputs": []
    },
    {
      "cell_type": "markdown",
      "source": [
        "## **2.3 Mostrar Imagen (Google Colab)**"
      ],
      "metadata": {
        "id": "gDOU8I4t703_"
      }
    },
    {
      "cell_type": "code",
      "source": [
        "from google.colab.patches import cv2_imshow\n",
        "\n",
        "# cv2_imshow(img)"
      ],
      "metadata": {
        "id": "7yycqgU474WA"
      },
      "execution_count": 10,
      "outputs": []
    },
    {
      "cell_type": "markdown",
      "source": [
        "### **2.3.1 Resize**"
      ],
      "metadata": {
        "id": "2QIdGylX9QGM"
      }
    },
    {
      "cell_type": "code",
      "source": [
        "nuevo_ancho = 300\n",
        "nuevo_alto = 200\n",
        "img_redimensionada = cv2.resize(img, (nuevo_ancho, nuevo_alto))"
      ],
      "metadata": {
        "id": "0WT42gZJ9S4G"
      },
      "execution_count": 7,
      "outputs": []
    },
    {
      "cell_type": "code",
      "source": [
        "# cv2_imshow(img_redimensionada)"
      ],
      "metadata": {
        "id": "gsYC5uSk9WyH"
      },
      "execution_count": 9,
      "outputs": []
    },
    {
      "cell_type": "markdown",
      "source": [
        "### **2.3.2 Invertir**"
      ],
      "metadata": {
        "id": "yZYLSdqP-LSX"
      }
    },
    {
      "cell_type": "markdown",
      "source": [
        "El segundo parámetro del método flip permite:\n",
        "\n",
        "1. `0`: Para invertir en el eje x.\n",
        "2. `> 0`: Voltea la imagen horizontalmente. Ejemplo: 1\n",
        "3. `< 0`: Voltea la imagen tanto horizontalmente como verticalmente. Ejemplo: -1"
      ],
      "metadata": {
        "id": "F6Ps8uYA-eGE"
      }
    },
    {
      "cell_type": "code",
      "source": [
        "path = \"/content/programacion-2/materiales/archivos_desordenados/numero_5.png\"\n",
        "img = cv2.imread(path)\n",
        "\n",
        "flip = cv2.flip(img, 0)"
      ],
      "metadata": {
        "id": "XEu3x7GW-QUQ"
      },
      "execution_count": 20,
      "outputs": []
    },
    {
      "cell_type": "code",
      "source": [
        "# cv2_imshow(flip)"
      ],
      "metadata": {
        "id": "yQHj5R3L-Wlv"
      },
      "execution_count": 22,
      "outputs": []
    },
    {
      "cell_type": "code",
      "source": [],
      "metadata": {
        "id": "_Wvbr_Sv-ZJy"
      },
      "execution_count": null,
      "outputs": []
    },
    {
      "cell_type": "markdown",
      "source": [
        "## **2.4 Filtros Básicos**"
      ],
      "metadata": {
        "id": "uK23xyvF_dR4"
      }
    },
    {
      "cell_type": "code",
      "source": [
        "import urllib.request\n",
        "\n",
        "# Cargar imagen\n",
        "url = 'https://cdn.sanity.io/images/5vm5yn1d/pro/5cb1f9400891d9da5a4926d7814bd1b89127ecba-1300x867.jpg?fm=webp&q=80'\n",
        "urllib.request.urlretrieve(url, 'perro_internet.png')\n",
        "img = cv2.imread('perro_internet.png')"
      ],
      "metadata": {
        "id": "0UsD19XG_kaX"
      },
      "execution_count": 26,
      "outputs": []
    },
    {
      "cell_type": "code",
      "source": [
        "# cv2_imshow(img)"
      ],
      "metadata": {
        "id": "OOFd_H51_5GG"
      },
      "execution_count": 28,
      "outputs": []
    },
    {
      "cell_type": "markdown",
      "source": [
        "### **2.4.1 Filtro de Desenfoque (Blur)**"
      ],
      "metadata": {
        "id": "-db5EM_tAM4w"
      }
    },
    {
      "cell_type": "code",
      "source": [
        "# Aplicar desenfoque (kernel de 5x5)\n",
        "img_blur = cv2.blur(img, (10, 10)) # Cambia el tamaño del kernel\n",
        "\n",
        "# cv2_imshow(img)  # Original\n",
        "# cv2_imshow(img_blur)  # Desenfocada"
      ],
      "metadata": {
        "id": "-W8-Q9pPAPd_"
      },
      "execution_count": 31,
      "outputs": []
    },
    {
      "cell_type": "code",
      "source": [
        "# Aplicar desenfoque gaussiano (kernel de 5x5)\n",
        "img_gaussian_blur = cv2.GaussianBlur(img, (15, 15), 0)\n",
        "\n",
        "# cv2_imshow(img)  # Original\n",
        "# cv2_imshow(img_gaussian_blur)  # Desenfoque Gaussiano"
      ],
      "metadata": {
        "id": "seg5dFmqACP-"
      },
      "execution_count": 34,
      "outputs": []
    },
    {
      "cell_type": "markdown",
      "source": [
        "### **2.4.2 Canny (Detección de bordes)**"
      ],
      "metadata": {
        "id": "UNggflcTBLPO"
      }
    },
    {
      "cell_type": "code",
      "source": [
        "# Convertir a escala de grises\n",
        "gray = cv2.cvtColor(img, cv2.COLOR_BGR2GRAY)\n",
        "\n",
        "# Detectar bordes usando Canny\n",
        "edges = cv2.Canny(gray, threshold1=100, threshold2=200) # Cambia los valores del umbral, por ej: 50 y 50\n",
        "\n",
        "# cv2_imshow(img)  # Original\n",
        "# cv2_imshow(edges)  # Bordes detectados"
      ],
      "metadata": {
        "id": "XJu3jt0RBO7-"
      },
      "execution_count": 39,
      "outputs": []
    },
    {
      "cell_type": "markdown",
      "source": [
        "### **2.4.3 Filtro de Detección de Contornos (Laplacian)**"
      ],
      "metadata": {
        "id": "Yni9jnYcBrzm"
      }
    },
    {
      "cell_type": "code",
      "source": [
        "import numpy as np\n",
        "\n",
        "# Convertir a escala de grises\n",
        "gray = cv2.cvtColor(img, cv2.COLOR_BGR2GRAY)\n",
        "\n",
        "# Aplicar el filtro Laplaciano\n",
        "laplacian = cv2.Laplacian(gray, cv2.CV_64F)\n",
        "\n",
        "# Convertir a uint8 para visualización\n",
        "laplacian = np.uint8(np.absolute(laplacian))\n",
        "\n",
        "# cv2_imshow(img)  # Original\n",
        "# cv2_imshow(laplacian)  # Contornos detectados"
      ],
      "metadata": {
        "id": "R2F7rHWjBXuH"
      },
      "execution_count": 40,
      "outputs": []
    },
    {
      "cell_type": "markdown",
      "source": [
        "## **3. NumPy y OpenCV**"
      ],
      "metadata": {
        "id": "n7Xzq7W7DhuB"
      }
    },
    {
      "cell_type": "markdown",
      "source": [
        "Si te fijaste en un inicio, cuando cargamos una imagen nos retornó un array, por lo tanto, podemos crear un array y mostrarlo como una imagen. A continuación, vamos a crear un array 2D (matriz)."
      ],
      "metadata": {
        "id": "PUZn-ABaDl-n"
      }
    },
    {
      "cell_type": "code",
      "source": [
        "import numpy as np\n",
        "\n",
        "img = np.random.randint(0, 255, (525,525), dtype=np.uint8)\n",
        "\n",
        "# cv2_imshow(img)"
      ],
      "metadata": {
        "id": "uyLQIOvtDqc_"
      },
      "execution_count": 69,
      "outputs": []
    },
    {
      "cell_type": "markdown",
      "source": [
        "A continuación debe diseñar un filtro que cambie los píxeles (valores del array) que son menores a 126 a 0 y los mayores a 126 a 255 (Utilizando condicionales). Debe reemplazar los valores en otro array (np.empty_like) y compararlos."
      ],
      "metadata": {
        "id": "b0LSMxUnFBdf"
      }
    }
  ]
}