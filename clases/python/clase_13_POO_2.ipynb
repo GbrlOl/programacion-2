{
 "cells": [
  {
   "cell_type": "markdown",
   "metadata": {},
   "source": [
    "# **[EIE409] Programación 2**"
   ]
  },
  {
   "cell_type": "markdown",
   "metadata": {},
   "source": [
    "## **Clase 13:**\n",
    "\n",
    "### **Tabla de contenido**\n",
    "\n",
    "1. Métodos Mágicos.\n"
   ]
  },
  {
   "cell_type": "markdown",
   "metadata": {},
   "source": [
    "## **1. Métodos Mágicos** "
   ]
  },
  {
   "cell_type": "markdown",
   "metadata": {},
   "source": [
    "Los **métodos mágicos** , también llamados **dunder methods** (porque empiezan y terminan con dos guiones bajos), son funciones especiales en Python que te permiten personalizar cómo funcionan tus clases. Con ellos, puedes hacer que tus objetos se comporten de manera más intuitiva y parecida a los tipos de datos nativos del lenguaje Python."
   ]
  },
  {
   "cell_type": "markdown",
   "metadata": {},
   "source": [
    "### **1.1 Inicialización y Representación**"
   ]
  },
  {
   "cell_type": "markdown",
   "metadata": {},
   "source": [
    "#### **1.1.1 Inicialización**"
   ]
  },
  {
   "cell_type": "markdown",
   "metadata": {},
   "source": [
    "* ``__init__(self, ...):``\n",
    "\n",
    "Es el constructor de la clase. Se llama al crear una nueva instancia para inicializar los atributos del objeto."
   ]
  },
  {
   "cell_type": "code",
   "execution_count": 4,
   "metadata": {},
   "outputs": [],
   "source": [
    "class Persona:\n",
    "    def __init__(self, nombre, edad):\n",
    "        self.nombre = nombre\n",
    "        self.edad = edad"
   ]
  },
  {
   "cell_type": "markdown",
   "metadata": {},
   "source": [
    "#### **1.1.2 Representación**"
   ]
  },
  {
   "cell_type": "markdown",
   "metadata": {},
   "source": [
    "* ``__repr__(self):``\n",
    "\n",
    "Devuelve una representación “oficial” de la instancia, ideal para fines de depuración. Debe ser, idealmente, una cadena que permita reconstruir el objeto."
   ]
  },
  {
   "cell_type": "code",
   "execution_count": 5,
   "metadata": {},
   "outputs": [],
   "source": [
    "def __repr__(self):\n",
    "    return f\"Persona('{self.nombre}', {self.edad})\""
   ]
  },
  {
   "cell_type": "markdown",
   "metadata": {},
   "source": [
    "#### **1.1.3 Representación al Usuario**"
   ]
  },
  {
   "cell_type": "markdown",
   "metadata": {},
   "source": [
    "* ``__str__(self):``\n",
    "\n",
    "Devuelve una representación en forma de cadena más legible para el usuario. Se usa cuando se imprime el objeto."
   ]
  },
  {
   "cell_type": "code",
   "execution_count": null,
   "metadata": {},
   "outputs": [],
   "source": [
    "def __str__(self):\n",
    "    return f\"{self.nombre}, {self.edad} años\""
   ]
  },
  {
   "cell_type": "markdown",
   "metadata": {},
   "source": [
    "Ahora utilicemos todo junto..."
   ]
  },
  {
   "cell_type": "code",
   "execution_count": 9,
   "metadata": {},
   "outputs": [],
   "source": [
    "class Persona:\n",
    "    def __init__(self, nombre, edad):\n",
    "        self.nombre = nombre\n",
    "        self.edad = edad\n",
    "\n",
    "    def __repr__(self):\n",
    "        return f\"Persona('{self.nombre}', {self.edad})\"\n",
    "    \n",
    "    def __str__(self):\n",
    "        return f\"{self.nombre}, {self.edad} años\""
   ]
  },
  {
   "cell_type": "code",
   "execution_count": 10,
   "metadata": {},
   "outputs": [],
   "source": [
    "persona_1 = Persona(\"Gabriel\", \"26\")\n",
    "# persona_1"
   ]
  },
  {
   "cell_type": "code",
   "execution_count": null,
   "metadata": {},
   "outputs": [],
   "source": [
    "print(persona_1)"
   ]
  },
  {
   "cell_type": "markdown",
   "metadata": {},
   "source": [
    "Esto es lo mismo, cuando utilizamos un framework como PyTorch y creamos un tensor, y queremos visualizarlo."
   ]
  },
  {
   "cell_type": "code",
   "execution_count": 1,
   "metadata": {},
   "outputs": [],
   "source": [
    "import torch"
   ]
  },
  {
   "cell_type": "code",
   "execution_count": 2,
   "metadata": {},
   "outputs": [],
   "source": [
    "tensor = torch.tensor([1,2,3])"
   ]
  },
  {
   "cell_type": "code",
   "execution_count": 7,
   "metadata": {},
   "outputs": [],
   "source": [
    "# tensor"
   ]
  },
  {
   "cell_type": "code",
   "execution_count": 6,
   "metadata": {},
   "outputs": [],
   "source": [
    "# print(tensor)"
   ]
  },
  {
   "cell_type": "markdown",
   "metadata": {},
   "source": [
    "Veamos otro ejemplo al utilizar los métodos mágicos."
   ]
  },
  {
   "cell_type": "code",
   "execution_count": 1,
   "metadata": {},
   "outputs": [],
   "source": [
    "class Perro:\n",
    "    def __init__(self, nombre, color, edad, nombre_dueño, raza):\n",
    "        self.nombre_perro = nombre \n",
    "        self.color = color \n",
    "        self.edad = edad \n",
    "        self.nombre_dueño = nombre_dueño\n",
    "        self.raza = raza \n",
    "\n",
    "    def __repr__(self):\n",
    "        string = f\"\"\"\n",
    "Perro(\n",
    "Nombre del animal: {self.nombre_perro}\n",
    "Color del animal: {self.color}\n",
    "Edad del animal: {self.edad}\n",
    "Nombre del dueño: {self.nombre_dueño}\n",
    "Raza del animal: {self.raza}\n",
    ")\n",
    "\"\"\".strip()\n",
    "        return string\n",
    "    def __str__(self):\n",
    "        return \"Instancia creada correctamente!\""
   ]
  },
  {
   "cell_type": "code",
   "execution_count": 5,
   "metadata": {},
   "outputs": [],
   "source": [
    "mi_perro = Perro(\"Tito\", \"Negro\", \"13\", \"Gabriel\", \"Labrador\")\n",
    "# print(mi_perro)"
   ]
  },
  {
   "cell_type": "code",
   "execution_count": 4,
   "metadata": {},
   "outputs": [],
   "source": [
    "# mi_perro"
   ]
  },
  {
   "cell_type": "markdown",
   "metadata": {},
   "source": [
    "### **1.2 Operaciones Matemáticas**"
   ]
  },
  {
   "cell_type": "markdown",
   "metadata": {},
   "source": [
    "¿Por qué podemos sumar, restar, multiplicar, etc utilizando NumPy, PyTorch, Pandas?, esto se debe a los métodos mágicos que permiten definir cómo los objetos de una clase responden a operadores como **+**, **-**, **\\***, **/**, etc."
   ]
  },
  {
   "cell_type": "code",
   "execution_count": 14,
   "metadata": {},
   "outputs": [],
   "source": [
    "import numpy as np\n",
    "\n",
    "vector1 = np.array(2)\n",
    "vector2 = np.array(5)"
   ]
  },
  {
   "cell_type": "code",
   "execution_count": 16,
   "metadata": {},
   "outputs": [],
   "source": [
    "suma = vector1 + vector2\n",
    "# suma"
   ]
  },
  {
   "cell_type": "code",
   "execution_count": 17,
   "metadata": {},
   "outputs": [],
   "source": [
    "import torch\n",
    "\n",
    "tensor1 = torch.tensor(2)\n",
    "tensor2 = torch.tensor(5)"
   ]
  },
  {
   "cell_type": "code",
   "execution_count": 19,
   "metadata": {},
   "outputs": [],
   "source": [
    "suma = tensor1 + tensor2\n",
    "# suma"
   ]
  },
  {
   "cell_type": "markdown",
   "metadata": {},
   "source": [
    "Primero veamos si podemos sumar dos objetos instanciados a partir de la misma clase."
   ]
  },
  {
   "cell_type": "code",
   "execution_count": 4,
   "metadata": {},
   "outputs": [],
   "source": [
    "class Vector:\n",
    "    def __init__(self, x, y):\n",
    "        self.x = x\n",
    "        self.y = y "
   ]
  },
  {
   "cell_type": "code",
   "execution_count": 6,
   "metadata": {},
   "outputs": [],
   "source": [
    "vect1 = Vector(1,1)\n",
    "vect2 = Vector(2,2)"
   ]
  },
  {
   "cell_type": "code",
   "execution_count": 12,
   "metadata": {},
   "outputs": [],
   "source": [
    "# suma = vect1 + vect2"
   ]
  },
  {
   "cell_type": "markdown",
   "metadata": {},
   "source": [
    "El error nos muestra que la operación **+** no es soportada por la clase **Vector**. **¿Cómo podemos arreglar esto?**"
   ]
  },
  {
   "cell_type": "code",
   "execution_count": 1,
   "metadata": {},
   "outputs": [],
   "source": [
    "class Vector:\n",
    "    def __init__(self, x, y):\n",
    "        self.x = x\n",
    "        self.y = y \n",
    "\n",
    "    # Representamos el vector en formato de cadena\n",
    "    def __repr__(self):\n",
    "        return f\"Vector({self.x}, {self.y})\"\n",
    "    \n",
    "    # Ahora escribiremos las operaciones matemáticas\n",
    "    def __add__(self, other):\n",
    "        # if isinstance(other, Vector):\n",
    "        return Vector(self.x + other.x, self.y + other.y)\n",
    "\n",
    "    # Operación resta    \n",
    "    def __sub__(self, other):\n",
    "        return Vector(self.x - other.x, self.y - other.y)\n",
    "    \n",
    "    # Operación multiplicación \n",
    "    def __mul__(self, other):\n",
    "        return Vector(self.x * other.x, self.y * other.y)\n"
   ]
  },
  {
   "cell_type": "code",
   "execution_count": 2,
   "metadata": {},
   "outputs": [],
   "source": [
    "vector1 = Vector(1,1)\n",
    "vector2 = Vector(2,2)"
   ]
  },
  {
   "cell_type": "code",
   "execution_count": null,
   "metadata": {},
   "outputs": [],
   "source": [
    "suma = vector1 + vector2 \n",
    "suma"
   ]
  },
  {
   "cell_type": "markdown",
   "metadata": {},
   "source": [
    "Luego nombrar todos los otros métodos mágicos que existen para operaciones."
   ]
  },
  {
   "cell_type": "markdown",
   "metadata": {},
   "source": [
    "### **1.3 Operaciones de Comparación**"
   ]
  },
  {
   "cell_type": "markdown",
   "metadata": {},
   "source": [
    "A continuación, se utilizarán los siguientes métodos mágicos para comparar objetos usando operadores como **==**, **!=**, **<**, **>**, etc.\n",
    "\n",
    "* **__eq__(self, other):** Define ==\n",
    "* **__ne__(self, other):** Define !=\n",
    "* **__lt__(self, other):** Define <\n",
    "* **__le__(self, other):** Define <=\n",
    "* **__gt__(self, other):** Define >\n",
    "* **__ge__(self, other):** Define >=\n",
    "\n",
    "Si no se implementan, Python utiliza la identidad del objeto por defecto (compara las referencias en memoria).\n",
    "\n",
    " "
   ]
  },
  {
   "cell_type": "code",
   "execution_count": null,
   "metadata": {},
   "outputs": [],
   "source": [
    "class Vector:\n",
    "    def __init__(self, x, y):\n",
    "        self.x = x\n",
    "        self.y = y \n",
    "\n",
    "    # Representamos el vector en formato de cadena\n",
    "    def __repr__(self):\n",
    "        return f\"Vector({self.x}, {self.y})\"\n",
    "    \n",
    "    # Ahora escribiremos las operación de igualdad (equal)\n",
    "    def __eq__(self, other):\n",
    "        if (self.x == other.x) & (self.y == other.y):\n",
    "            return f\"El vector ({self.x}, {self.y}) es igual a ({other.x}, {other.y})\"\n",
    "        else:\n",
    "            return f\"El vector ({self.x}, {self.y}) es distinto a ({other.x}, {other.y})\"\n",
    "        \n",
    "    # Ahora utilizaremos el no igualdad (not equal)    \n",
    "    def __ne__(self, other):\n",
    "        if (self.x != other.x) & (self.y != other.y):\n",
    "            return f\"Los vectores son distintos\"\n",
    "    # Mayor estricto o Greater Than (gt)    \n",
    "    def __gt__(self, other):\n",
    "        \"\"\"En este método mágico haré que compare la suma de ambas coordenadas\"\"\"\n",
    "        if (self.x + self.y) > (other.x + other.y):\n",
    "            return f\"La suma del Vector({self.x}, {self.y}) es mayor que el Vector({other.x}, {other.y})\"\n",
    "        else:\n",
    "            return f\"La suma del Vector({self.x}, {self.y}) es menor o igual que el Vector({other.x}, {other.y})\"\n"
   ]
  },
  {
   "cell_type": "code",
   "execution_count": 30,
   "metadata": {},
   "outputs": [],
   "source": [
    "vector1 = Vector(2,1)\n",
    "vector2 = Vector(1,1)"
   ]
  },
  {
   "cell_type": "code",
   "execution_count": 31,
   "metadata": {},
   "outputs": [
    {
     "data": {
      "text/plain": [
       "'La suma del Vector(2, 1) es mayor que el Vector(1, 1)'"
      ]
     },
     "execution_count": 31,
     "metadata": {},
     "output_type": "execute_result"
    }
   ],
   "source": [
    "vector1 > vector2"
   ]
  },
  {
   "cell_type": "markdown",
   "metadata": {},
   "source": [
    "Faltaría implementar los siguientes métodos mágicos:\n",
    "\n",
    "* **__lt__**: Less Than\n",
    "* **__le__**: Less Equal\n",
    "* **__ge__**: Greater Equal\n"
   ]
  },
  {
   "cell_type": "markdown",
   "metadata": {},
   "source": [
    "### **1.4 Protocolo de Iteración**"
   ]
  },
  {
   "cell_type": "markdown",
   "metadata": {},
   "source": [
    "Podemos hacer que un objeto sea un iterable, esto nos permite recorrer el objeto. Por otro lado, podemos crear un objeto que sea un iterador."
   ]
  },
  {
   "cell_type": "markdown",
   "metadata": {},
   "source": [
    "tenemos los siguiente métodos:\n",
    "\n",
    "* __iter__\n",
    "* __next__ \n",
    "\n",
    "Para manejar recursos\n",
    "\n",
    "* __enter__\n",
    "* __exit__"
   ]
  },
  {
   "cell_type": "markdown",
   "metadata": {},
   "source": [
    "Veamos un ejemplo del concepto anterior con los framework torch y numpy. Vamos a crear un tensor y un array para recorrer esta estructura y mostrar sus datos."
   ]
  },
  {
   "cell_type": "code",
   "execution_count": 24,
   "metadata": {},
   "outputs": [],
   "source": [
    "import torch\n",
    "\n",
    "tensor = torch.arange(0, 10, 1)\n",
    "# tensor"
   ]
  },
  {
   "cell_type": "code",
   "execution_count": null,
   "metadata": {},
   "outputs": [],
   "source": [
    "for i in tensor:\n",
    "    print(i)"
   ]
  },
  {
   "cell_type": "code",
   "execution_count": 27,
   "metadata": {},
   "outputs": [],
   "source": [
    "import numpy as np \n",
    "\n",
    "array = np.arange(0, 10, 1)\n",
    "# array"
   ]
  },
  {
   "cell_type": "code",
   "execution_count": 29,
   "metadata": {},
   "outputs": [],
   "source": [
    "# for i in array:\n",
    "#     print(i)"
   ]
  },
  {
   "cell_type": "markdown",
   "metadata": {},
   "source": [
    "Ahora vamos a crear nuestro propio objeto iterable."
   ]
  },
  {
   "cell_type": "code",
   "execution_count": 30,
   "metadata": {},
   "outputs": [],
   "source": [
    "class MiArange:\n",
    "    def __init__(self, start, stop=None, step=1):\n",
    "        if stop is None:\n",
    "            start, stop = 0, start\n",
    "        self.start = start\n",
    "        self.stop = stop\n",
    "        self.step = step\n",
    "        self.current = start\n",
    "\n",
    "    def __iter__(self):\n",
    "        return self\n",
    "\n",
    "    def __next__(self):\n",
    "\n",
    "        if self.current >= self.stop:\n",
    "            raise StopIteration\n",
    "        value = self.current\n",
    "        self.current += self.step\n",
    "\n",
    "        return value   \n",
    "        \n",
    "    def to_list(self):\n",
    "        return list(self)"
   ]
  },
  {
   "cell_type": "code",
   "execution_count": 31,
   "metadata": {},
   "outputs": [
    {
     "name": "stdout",
     "output_type": "stream",
     "text": [
      "1\n",
      "3\n",
      "5\n",
      "7\n",
      "9\n",
      "[]\n"
     ]
    }
   ],
   "source": [
    "# Crear un objeto MiArange\n",
    "mi_rango = MiArange(1, 10, 2)\n",
    "\n",
    "# Recorrerlo con for\n",
    "for num in mi_rango:\n",
    "    print(num)\n",
    "\n",
    "# Convertir a lista\n",
    "lista = mi_rango.to_list()\n",
    "print(lista)"
   ]
  },
  {
   "cell_type": "markdown",
   "metadata": {},
   "source": [
    "## **2. Método Estáticos**"
   ]
  },
  {
   "cell_type": "markdown",
   "metadata": {},
   "source": [
    "referencia https://realpython.com/python-classes/#static-methods-with-staticmethod"
   ]
  }
 ],
 "metadata": {
  "kernelspec": {
   "display_name": "programacion_2",
   "language": "python",
   "name": "python3"
  },
  "language_info": {
   "codemirror_mode": {
    "name": "ipython",
    "version": 3
   },
   "file_extension": ".py",
   "mimetype": "text/x-python",
   "name": "python",
   "nbconvert_exporter": "python",
   "pygments_lexer": "ipython3",
   "version": "3.10.16"
  }
 },
 "nbformat": 4,
 "nbformat_minor": 2
}
