{
 "cells": [
  {
   "cell_type": "markdown",
   "metadata": {},
   "source": [
    "# **[EIE409] Programación 2**"
   ]
  },
  {
   "cell_type": "markdown",
   "metadata": {},
   "source": [
    "## **Clase 13:**\n",
    "\n",
    "### **Tabla de contenido**\n",
    "\n",
    "1. Métodos Mágicos.\n"
   ]
  },
  {
   "cell_type": "markdown",
   "metadata": {},
   "source": [
    "## **1. Métodos Mágicos** "
   ]
  },
  {
   "cell_type": "markdown",
   "metadata": {},
   "source": [
    "Los **métodos mágicos** , también llamados **dunder methods** (porque empiezan y terminan con dos guiones bajos), son funciones especiales en Python que te permiten personalizar cómo funcionan tus clases. Con ellos, puedes hacer que tus objetos se comporten de manera más intuitiva y parecida a los tipos de datos nativos del lenguaje Python."
   ]
  },
  {
   "cell_type": "markdown",
   "metadata": {},
   "source": [
    "### **1.1 Inicialización y Representación**"
   ]
  },
  {
   "cell_type": "markdown",
   "metadata": {},
   "source": [
    "#### **1.1.1 Inicialización**"
   ]
  },
  {
   "cell_type": "markdown",
   "metadata": {},
   "source": [
    "* ``__init__(self, ...):``\n",
    "\n",
    "Es el constructor de la clase. Se llama al crear una nueva instancia para inicializar los atributos del objeto."
   ]
  },
  {
   "cell_type": "code",
   "execution_count": 4,
   "metadata": {},
   "outputs": [],
   "source": [
    "class Persona:\n",
    "    def __init__(self, nombre, edad):\n",
    "        self.nombre = nombre\n",
    "        self.edad = edad"
   ]
  },
  {
   "cell_type": "markdown",
   "metadata": {},
   "source": [
    "#### **1.1.2 Representación**"
   ]
  },
  {
   "cell_type": "markdown",
   "metadata": {},
   "source": [
    "* ``__repr__(self):``\n",
    "\n",
    "Devuelve una representación “oficial” de la instancia, ideal para fines de depuración. Debe ser, idealmente, una cadena que permita reconstruir el objeto."
   ]
  },
  {
   "cell_type": "code",
   "execution_count": 5,
   "metadata": {},
   "outputs": [],
   "source": [
    "def __repr__(self):\n",
    "    return f\"Persona('{self.nombre}', {self.edad})\""
   ]
  },
  {
   "cell_type": "markdown",
   "metadata": {},
   "source": [
    "#### **1.1.3 Representación al Usuario**"
   ]
  },
  {
   "cell_type": "markdown",
   "metadata": {},
   "source": [
    "* ``__str__(self):``\n",
    "\n",
    "Devuelve una representación en forma de cadena más legible para el usuario. Se usa cuando se imprime el objeto."
   ]
  },
  {
   "cell_type": "code",
   "execution_count": null,
   "metadata": {},
   "outputs": [],
   "source": [
    "def __str__(self):\n",
    "    return f\"{self.nombre}, {self.edad} años\""
   ]
  },
  {
   "cell_type": "markdown",
   "metadata": {},
   "source": [
    "Ahora utilicemos todo junto..."
   ]
  },
  {
   "cell_type": "code",
   "execution_count": 6,
   "metadata": {},
   "outputs": [],
   "source": [
    "class Persona:\n",
    "    def __init__(self, nombre, edad):\n",
    "        self.nombre = nombre\n",
    "        self.edad = edad\n",
    "\n",
    "    def __repr__(self):\n",
    "        return f\"Persona('{self.nombre}', {self.edad})\"\n",
    "    \n",
    "    def __str__(self):\n",
    "        return f\"{self.nombre}, {self.edad} años\""
   ]
  },
  {
   "cell_type": "code",
   "execution_count": 8,
   "metadata": {},
   "outputs": [
    {
     "data": {
      "text/plain": [
       "Persona('Gabriel', 26)"
      ]
     },
     "execution_count": 8,
     "metadata": {},
     "output_type": "execute_result"
    }
   ],
   "source": [
    "persona_1 = Persona(\"Gabriel\", \"26\")\n",
    "persona_1"
   ]
  },
  {
   "cell_type": "code",
   "execution_count": 9,
   "metadata": {},
   "outputs": [
    {
     "name": "stdout",
     "output_type": "stream",
     "text": [
      "Gabriel, 26 años\n"
     ]
    }
   ],
   "source": [
    "print(persona_1)"
   ]
  },
  {
   "cell_type": "markdown",
   "metadata": {},
   "source": [
    "Esto es lo mismo, cuando utilizamos un framework como PyTorch y creamos un tensor, y queremos visualizarlo."
   ]
  },
  {
   "cell_type": "code",
   "execution_count": 1,
   "metadata": {},
   "outputs": [],
   "source": [
    "import torch"
   ]
  },
  {
   "cell_type": "code",
   "execution_count": 2,
   "metadata": {},
   "outputs": [],
   "source": [
    "tensor = torch.tensor([1,2,3])"
   ]
  },
  {
   "cell_type": "code",
   "execution_count": 3,
   "metadata": {},
   "outputs": [
    {
     "data": {
      "text/plain": [
       "tensor([1, 2, 3])"
      ]
     },
     "execution_count": 3,
     "metadata": {},
     "output_type": "execute_result"
    }
   ],
   "source": [
    "tensor"
   ]
  },
  {
   "cell_type": "code",
   "execution_count": 10,
   "metadata": {},
   "outputs": [
    {
     "name": "stdout",
     "output_type": "stream",
     "text": [
      "tensor([1, 2, 3])\n"
     ]
    }
   ],
   "source": [
    "print(tensor)"
   ]
  },
  {
   "cell_type": "markdown",
   "metadata": {},
   "source": [
    "Veamos otro ejemplo al utilizar los métodos mágicos."
   ]
  },
  {
   "cell_type": "code",
   "execution_count": 23,
   "metadata": {},
   "outputs": [],
   "source": [
    "class Perro:\n",
    "    def __init__(self, nombre, color, edad, nombre_dueño, raza):\n",
    "        self.nombre_perro = nombre \n",
    "        self.color = color \n",
    "        self.edad = edad \n",
    "        self.nombre_dueño = nombre_dueño\n",
    "        self.raza = raza \n",
    "\n",
    "    def __repr__(self):\n",
    "        string = f\"\"\"\n",
    "Perro(\n",
    "Nombre del animal: {self.nombre_perro}\n",
    "Color del animal: {self.color}\n",
    "Edad del animal: {self.edad}\n",
    "Nombre del dueño: {self.nombre_dueño}\n",
    "Raza del animal: {self.raza}\n",
    ")\n",
    "\"\"\".strip()\n",
    "        return string\n",
    "    def __str__(self):\n",
    "        return \"Instancia creada correctamente!\""
   ]
  },
  {
   "cell_type": "code",
   "execution_count": 25,
   "metadata": {},
   "outputs": [
    {
     "name": "stdout",
     "output_type": "stream",
     "text": [
      "Instancia creada correctamente!\n"
     ]
    }
   ],
   "source": [
    "mi_perro = Perro(\"Tito\", \"Negro\", \"13\", \"Gabriel\", \"Labrador\")\n",
    "print(mi_perro)"
   ]
  },
  {
   "cell_type": "markdown",
   "metadata": {},
   "source": [
    "### **1.2 Operaciones Matemáticas**"
   ]
  },
  {
   "cell_type": "markdown",
   "metadata": {},
   "source": [
    "Estos métodos permiten definir cómo los objetos de una clase responden a operadores como **+**, **-**, **\\***, **/**, etc."
   ]
  },
  {
   "cell_type": "markdown",
   "metadata": {},
   "source": [
    "Primero veamos si podemos sumar dos objetos instanciados a partir de la misma clase."
   ]
  },
  {
   "cell_type": "code",
   "execution_count": 4,
   "metadata": {},
   "outputs": [],
   "source": [
    "class Vector:\n",
    "    def __init__(self, x, y):\n",
    "        self.x = x\n",
    "        self.y = y "
   ]
  },
  {
   "cell_type": "code",
   "execution_count": 6,
   "metadata": {},
   "outputs": [],
   "source": [
    "vect1 = Vector(1,1)\n",
    "vect2 = Vector(2,2)"
   ]
  },
  {
   "cell_type": "code",
   "execution_count": 7,
   "metadata": {},
   "outputs": [
    {
     "ename": "TypeError",
     "evalue": "unsupported operand type(s) for +: 'Vector' and 'Vector'",
     "output_type": "error",
     "traceback": [
      "\u001b[1;31m---------------------------------------------------------------------------\u001b[0m",
      "\u001b[1;31mTypeError\u001b[0m                                 Traceback (most recent call last)",
      "Cell \u001b[1;32mIn[7], line 1\u001b[0m\n\u001b[1;32m----> 1\u001b[0m suma \u001b[38;5;241m=\u001b[39m \u001b[43mvect1\u001b[49m\u001b[43m \u001b[49m\u001b[38;5;241;43m+\u001b[39;49m\u001b[43m \u001b[49m\u001b[43mvect2\u001b[49m\n",
      "\u001b[1;31mTypeError\u001b[0m: unsupported operand type(s) for +: 'Vector' and 'Vector'"
     ]
    }
   ],
   "source": [
    "suma = vect1 + vect2"
   ]
  },
  {
   "cell_type": "markdown",
   "metadata": {},
   "source": [
    "El error nos muestra que la operación **+** no es soportada por la clase **Vector**. **¿Cómo podemos arreglar esto?**"
   ]
  },
  {
   "cell_type": "code",
   "execution_count": 1,
   "metadata": {},
   "outputs": [],
   "source": [
    "class Vector:\n",
    "    def __init__(self, x, y):\n",
    "        self.x = x\n",
    "        self.y = y \n",
    "\n",
    "    # Representamos el vector en formato de cadena\n",
    "    def __repr__(self):\n",
    "        return f\"Vector({self.x}, {self.y})\"\n",
    "    \n",
    "    # Ahora escribiremos las operaciones matemáticas\n",
    "    def __add__(self, other):\n",
    "        # if isinstance(other, Vector):\n",
    "        return Vector(self.x + other.x, self.y + other.y)\n",
    "\n",
    "    # Operación resta    \n",
    "    def __sub__(self, other):\n",
    "        return Vector(self.x - other.x, self.y - other.y)\n",
    "    \n",
    "    # Operación multiplicación \n",
    "    def __mul__(self, other):\n",
    "        return Vector(self.x * other.x, self.y * other.y)\n"
   ]
  },
  {
   "cell_type": "code",
   "execution_count": 2,
   "metadata": {},
   "outputs": [],
   "source": [
    "vector1 = Vector(1,1)\n",
    "vector2 = Vector(2,2)"
   ]
  },
  {
   "cell_type": "code",
   "execution_count": 3,
   "metadata": {},
   "outputs": [
    {
     "data": {
      "text/plain": [
       "Vector(3, 3)"
      ]
     },
     "execution_count": 3,
     "metadata": {},
     "output_type": "execute_result"
    }
   ],
   "source": [
    "suma = vector1 + vector2 \n",
    "suma"
   ]
  },
  {
   "cell_type": "markdown",
   "metadata": {},
   "source": [
    "Luego nombrar todos los otros métodos mágicos que existen para operaciones."
   ]
  },
  {
   "cell_type": "markdown",
   "metadata": {},
   "source": [
    "### **1.3 Operaciones de Comparación**"
   ]
  },
  {
   "cell_type": "markdown",
   "metadata": {},
   "source": [
    "A continuación, se utilizarán los siguientes métodos mágicos para comparar objetos usando operadores como **==**, **!=**, **<**, **>**, etc.\n",
    "\n",
    "* **__eq__(self, other):** Define ==\n",
    "* **__ne__(self, other):** Define !=\n",
    "* **__lt__(self, other):** Define <\n",
    "* **__le__(self, other):** Define <=\n",
    "* **__gt__(self, other):** Define >\n",
    "* **__ge__(self, other):** Define >=\n",
    "\n",
    "Si no se implementan, Python utiliza la identidad del objeto por defecto (compara las referencias en memoria).\n",
    "\n",
    " "
   ]
  },
  {
   "cell_type": "code",
   "execution_count": null,
   "metadata": {},
   "outputs": [],
   "source": [
    "class Vector:\n",
    "    def __init__(self, x, y):\n",
    "        self.x = x\n",
    "        self.y = y \n",
    "\n",
    "    # Representamos el vector en formato de cadena\n",
    "    def __repr__(self):\n",
    "        return f\"Vector({self.x}, {self.y})\"\n",
    "    \n",
    "    # Ahora escribiremos las operación de igualdad (equal)\n",
    "    def __eq__(self, other):\n",
    "        if (self.x == other.x) & (self.y == other.y):\n",
    "            return f\"El vector ({self.x}, {self.y}) es igual a ({other.x}, {other.y})\"\n",
    "        else:\n",
    "            return f\"El vector ({self.x}, {self.y}) es distinto a ({other.x}, {other.y})\"\n",
    "        \n",
    "    # Ahora utilizaremos el no igualdad (not equal)    \n",
    "    def __ne__(self, other):\n",
    "        if (self.x != other.x) & (self.y != other.y):\n",
    "            return f\"Los vectores son distintos\"\n",
    "    # Mayor estricto o Greater Than (gt)    \n",
    "    def __gt__(self, other):\n",
    "        \"\"\"En este método mágico haré que compare la suma de ambas coordenadas\"\"\"\n",
    "        if (self.x + self.y) > (other.x + other.y):\n",
    "            return f\"La suma del Vector({self.x}, {self.y}) es mayor que el Vector({other.x}, {other.y})\"\n",
    "        else:\n",
    "            return f\"La suma del Vector({self.x}, {self.y}) es menor o igual que el Vector({other.x}, {other.y})\"\n"
   ]
  },
  {
   "cell_type": "code",
   "execution_count": 30,
   "metadata": {},
   "outputs": [],
   "source": [
    "vector1 = Vector(2,1)\n",
    "vector2 = Vector(1,1)"
   ]
  },
  {
   "cell_type": "code",
   "execution_count": 31,
   "metadata": {},
   "outputs": [
    {
     "data": {
      "text/plain": [
       "'La suma del Vector(2, 1) es mayor que el Vector(1, 1)'"
      ]
     },
     "execution_count": 31,
     "metadata": {},
     "output_type": "execute_result"
    }
   ],
   "source": [
    "vector1 > vector2"
   ]
  },
  {
   "cell_type": "markdown",
   "metadata": {},
   "source": [
    "Faltaría implementar los siguientes métodos mágicos:\n",
    "\n",
    "* **__lt__**: Less Than\n",
    "* **__le__**: Less Equal\n",
    "* **__ge__**: Greater Equal\n"
   ]
  },
  {
   "cell_type": "markdown",
   "metadata": {},
   "source": [
    "### **1.4 Protocolo de Iteración**"
   ]
  },
  {
   "cell_type": "markdown",
   "metadata": {},
   "source": [
    "Podemos hacer que un objeto sea un iterable, esto nos permite recorrer el objeto. Por otro lado, podemos crear un objeto que sea un iterador."
   ]
  },
  {
   "cell_type": "markdown",
   "metadata": {},
   "source": [
    "tenemos los siguiente métodos:\n",
    "\n",
    "* __iter__\n",
    "* __next__ \n",
    "\n",
    "Para manejar recursos\n",
    "\n",
    "* __enter__\n",
    "* __exit__"
   ]
  },
  {
   "cell_type": "markdown",
   "metadata": {},
   "source": [
    "## **2. Método Estáticos**"
   ]
  },
  {
   "cell_type": "markdown",
   "metadata": {},
   "source": [
    "referencia https://realpython.com/python-classes/#static-methods-with-staticmethod"
   ]
  },
  {
   "cell_type": "markdown",
   "metadata": {},
   "source": [
    "### **1.1 Clases y Objetos**"
   ]
  },
  {
   "cell_type": "markdown",
   "metadata": {},
   "source": [
    "Primero debemos comprender que en Python todo es un objeto, ¿qué quiere decir eso?"
   ]
  },
  {
   "cell_type": "code",
   "execution_count": 1,
   "metadata": {},
   "outputs": [],
   "source": [
    "mensaje = \"Hola mundo!\""
   ]
  },
  {
   "cell_type": "markdown",
   "metadata": {},
   "source": [
    "Podemos ver que creamos una variable, utilizando la jerga de la POO, acabamos de instanciar un objeto llamado mensaje. En Python, existe una función llamada `type()` que nos retorna el tipo de objeto que es una instancia."
   ]
  },
  {
   "cell_type": "code",
   "execution_count": 3,
   "metadata": {},
   "outputs": [
    {
     "name": "stdout",
     "output_type": "stream",
     "text": [
      "<class 'str'>\n"
     ]
    }
   ],
   "source": [
    "print(type(mensaje))"
   ]
  },
  {
   "cell_type": "markdown",
   "metadata": {},
   "source": [
    "Esto nos indica el tipo de **dato str** viene de la **clase str**. Como instanciamos el objeto mensaje, podemos acceder a alguno de sus métodos."
   ]
  },
  {
   "cell_type": "code",
   "execution_count": 4,
   "metadata": {},
   "outputs": [
    {
     "name": "stdout",
     "output_type": "stream",
     "text": [
      " Hola mundo! \n"
     ]
    }
   ],
   "source": [
    "mensaje = \" Hola mundo! \"\n",
    "\n",
    "print(mensaje)\n",
    "# print(mensaje.strip()) # Descomenta esta línea"
   ]
  },
  {
   "cell_type": "markdown",
   "metadata": {},
   "source": [
    "#### **1.1.1 ¿Qué es una Clase y un Objeto?**"
   ]
  },
  {
   "cell_type": "markdown",
   "metadata": {},
   "source": [
    "Una clase se puede referir como el plano de construcción, una plantilla o un molde para construir algo. Con el plano de construcción podemos construir muchas casas y una casa construída vendría siendo un objeto, es una instancia de tal clase.\n",
    "\n",
    "* **Clase**: es un tipo de estructura fundamental que se utiliza para definir objetos y sus propiedades, así como para encapsular comportamientos relacionados en un solo lugar. Una clase es como un plano o un molde que se utiliza para crear objetos específicos, que se denominan \"instancias\" de la clase. Las clases permiten la programación orientada a objetos (POO), que es un paradigma de programación que se basa en la idea de organizar el código en torno a objetos que pueden contener datos (atributos) y funciones (métodos) que operan en esos datos.\n",
    "* **Objeto**: Es una instancia de una clase.\n",
    "\n",
    "Ejemplo:\n",
    "\n",
    "* Clase: Tenemos la clase humano.\n",
    "* Objeto: Juan, Diego, Rodrigo, etc.\n",
    "\n",
    "**Agregar una Figura**"
   ]
  },
  {
   "cell_type": "markdown",
   "metadata": {},
   "source": [
    "##### **Recordar Conveción**\n",
    "\n",
    "Antes de crear nuestra primera clase debemos recordar la convención PascalCase, donde cada palabra va en mayúscula al crear una clase. Por otro lado, para acceder a los atributos o métodos de la clase se utiliza la notación llamada **UnderScore**."
   ]
  },
  {
   "cell_type": "markdown",
   "metadata": {},
   "source": [
    "#### **1.1.2 Creando una Clase** "
   ]
  },
  {
   "cell_type": "markdown",
   "metadata": {},
   "source": [
    "A continaución, vamos a crear la **clase Perro**. ¿Qué hace un perro?"
   ]
  },
  {
   "cell_type": "code",
   "execution_count": 5,
   "metadata": {},
   "outputs": [],
   "source": [
    "class Perro():\n",
    "    # Siempre al crear una función dentro de una clase se debe pasar el parámetro self, el llamarse self es una convención.\n",
    "    def ladrar(self):\n",
    "        return f\"Guau guau!!\""
   ]
  },
  {
   "cell_type": "code",
   "execution_count": 6,
   "metadata": {},
   "outputs": [],
   "source": [
    "mi_perro = Perro()"
   ]
  },
  {
   "cell_type": "markdown",
   "metadata": {},
   "source": [
    "Acabamos de instanciar el objeto **mi_perro**. Ahora podemos acceder a su método."
   ]
  },
  {
   "cell_type": "code",
   "execution_count": 7,
   "metadata": {},
   "outputs": [
    {
     "data": {
      "text/plain": [
       "'Guau guau!!'"
      ]
     },
     "execution_count": 7,
     "metadata": {},
     "output_type": "execute_result"
    }
   ],
   "source": [
    "mi_perro.ladrar()"
   ]
  },
  {
   "cell_type": "markdown",
   "metadata": {},
   "source": [
    "¿Qué tipo de objeto es **mi_perro**?"
   ]
  },
  {
   "cell_type": "code",
   "execution_count": null,
   "metadata": {},
   "outputs": [],
   "source": [
    "# Muestre el tipo de objeto"
   ]
  },
  {
   "cell_type": "markdown",
   "metadata": {},
   "source": [
    "#### **1.1.3 Función isinstance()** "
   ]
  },
  {
   "cell_type": "markdown",
   "metadata": {},
   "source": [
    "¿Cómo podemos saber si una isntancia pertenece a una clase?"
   ]
  },
  {
   "cell_type": "code",
   "execution_count": 9,
   "metadata": {},
   "outputs": [
    {
     "data": {
      "text/plain": [
       "True"
      ]
     },
     "execution_count": 9,
     "metadata": {},
     "output_type": "execute_result"
    }
   ],
   "source": [
    "isinstance(mi_perro, Perro)"
   ]
  },
  {
   "cell_type": "markdown",
   "metadata": {},
   "source": [
    "Supongamos que tenemos una clase similar pero con otro nombre."
   ]
  },
  {
   "cell_type": "code",
   "execution_count": 10,
   "metadata": {},
   "outputs": [],
   "source": [
    "class MiPerro():\n",
    "    def ladrar(self):\n",
    "        return f\"Guau guau!!!\""
   ]
  },
  {
   "cell_type": "code",
   "execution_count": 11,
   "metadata": {},
   "outputs": [
    {
     "data": {
      "text/plain": [
       "False"
      ]
     },
     "execution_count": 11,
     "metadata": {},
     "output_type": "execute_result"
    }
   ],
   "source": [
    "isinstance(mi_perro, MiPerro)"
   ]
  },
  {
   "cell_type": "markdown",
   "metadata": {},
   "source": [
    "### **1.2 Constructor**"
   ]
  },
  {
   "cell_type": "markdown",
   "metadata": {},
   "source": [
    "En Python, el constructor es un **método especial** utilizado para inicializar los objetos recién creados de una clase. Se define con el nombre especial ``__init__``. Este método se llama automáticamente justo después de que se crea un nuevo objeto de esa clase, antes de que esté disponible para su uso.\n",
    "\n",
    "* **self** es una convención que se utiliza para poder acceder a los atributos y métodos de una clase. El parámetro self no es una palabra reservada en python pero sí es una convención utilizada por casi todos para construir sus clases."
   ]
  },
  {
   "cell_type": "markdown",
   "metadata": {},
   "source": [
    "Ahora podemos pasarle a la clase parámetros. Con self y la notación UnderScore vamos a poder realizar cosas con esos parámetros de entrada, como se muestra a continuación."
   ]
  },
  {
   "cell_type": "code",
   "execution_count": 13,
   "metadata": {},
   "outputs": [],
   "source": [
    "class Perro():\n",
    "    def __init__(self, nombre):\n",
    "        self.nombre = nombre\n",
    "\n",
    "    def ladrar(self, mi_parametro):\n",
    "        return f\"Guau guau!!!\"\n",
    "    \n",
    "    def decir_nombre(self):\n",
    "        return f\"Me llamo {self.nombre}, guau!!\""
   ]
  },
  {
   "cell_type": "code",
   "execution_count": null,
   "metadata": {},
   "outputs": [],
   "source": [
    "# Crea una instancia"
   ]
  },
  {
   "cell_type": "code",
   "execution_count": null,
   "metadata": {},
   "outputs": [],
   "source": [
    "# Accede al método decir nombre"
   ]
  },
  {
   "cell_type": "code",
   "execution_count": null,
   "metadata": {},
   "outputs": [],
   "source": [
    "# Accede al atributo nombre"
   ]
  },
  {
   "cell_type": "markdown",
   "metadata": {},
   "source": [
    "### **1.2.1 Atributos de Instancia**"
   ]
  },
  {
   "cell_type": "markdown",
   "metadata": {},
   "source": [
    "A continuación, vamos a crear una clase que contenga más atributos."
   ]
  },
  {
   "cell_type": "code",
   "execution_count": null,
   "metadata": {},
   "outputs": [],
   "source": [
    "class Perro():\n",
    "    def __init__(self, nombre, color, edad=None):\n",
    "        self.nombre = nombre # Atributo de instancia\n",
    "        self.color = color # Atributo de instancia\n",
    "        self.edad = edad # Atributo de instancia opcional\n",
    "\n",
    "    def ladrar(self, mi_parametro):\n",
    "        return f\"Guau guau!!!\"\n",
    "    \n",
    "    def decir_nombre(self):\n",
    "        return f\"Me llamo {self.nombre}, guau!!\"\n",
    "    \n",
    "    def decir_color(self):\n",
    "        return f\"El color de {self.nombre} es: {self.color}\"\n",
    "    \n",
    "    def decir_edad(self):\n",
    "        return f\"La edad de {self.nombre} es: {self.edad}\""
   ]
  },
  {
   "cell_type": "markdown",
   "metadata": {},
   "source": [
    "Si te fijas, dentro de los parámetros de entrada de la **clase Perro()**, nombre y color son parámetros obligatorios, mientras que edad es opcional."
   ]
  },
  {
   "cell_type": "code",
   "execution_count": 18,
   "metadata": {},
   "outputs": [],
   "source": [
    "mi_perro = Perro(\"Tito\", \"Negro\")"
   ]
  },
  {
   "cell_type": "code",
   "execution_count": 23,
   "metadata": {},
   "outputs": [
    {
     "name": "stdout",
     "output_type": "stream",
     "text": [
      "Me llamo Tito, guau!!\n",
      "El color de Tito es: Negro\n",
      "La edad de Tito es: None\n"
     ]
    }
   ],
   "source": [
    "# Veamos sus métodos\n",
    "print(mi_perro.decir_nombre())\n",
    "print(mi_perro.decir_color())\n",
    "print(mi_perro.decir_edad())"
   ]
  },
  {
   "cell_type": "markdown",
   "metadata": {},
   "source": [
    "### **1.2.2 Atributos de Clase**"
   ]
  },
  {
   "cell_type": "markdown",
   "metadata": {},
   "source": [
    "Además de los atributos de instancia, están los atributos de clase, podemos entenderlo como variables globales que compartirán todas las instancias de esa clase. En el caso de la clase **Perro()**, sabemos que los perros tienen 4 patas, 2 ojos, 1 cola, etc."
   ]
  },
  {
   "cell_type": "code",
   "execution_count": 24,
   "metadata": {},
   "outputs": [],
   "source": [
    "class Perro():\n",
    "    # Vamos a crear los atributos de clase\n",
    "    patas = 4\n",
    "    cola = 1\n",
    "    ojos = 2\n",
    "\n",
    "    def __init__(self, nombre, color, edad=None):\n",
    "        self.nombre = nombre # Atributo de instancia\n",
    "        self.color = color # Atributo de instancia\n",
    "        self.edad = edad # Atributo de instancia opcional\n",
    "\n",
    "    def ladrar(self, mi_parametro):\n",
    "        return f\"Guau guau!!!\"\n",
    "    \n",
    "    def decir_nombre(self):\n",
    "        return f\"Me llamo {self.nombre}, guau!!\"\n",
    "    \n",
    "    def decir_color(self):\n",
    "        return f\"El color de {self.nombre} es: {self.color}\"\n",
    "    \n",
    "    def decir_edad(self):\n",
    "        return f\"La edad de {self.nombre} es: {self.edad}\""
   ]
  },
  {
   "cell_type": "markdown",
   "metadata": {},
   "source": [
    "Ahora vamos a crear nuestra instancia..."
   ]
  },
  {
   "cell_type": "code",
   "execution_count": 26,
   "metadata": {},
   "outputs": [],
   "source": [
    "mi_perro_1 = Perro(\"Tito\", \"Negro\", 13)\n",
    "mi_perro_2 = Perro(\"Campeón\", \"Amarillo\", 5)"
   ]
  },
  {
   "cell_type": "code",
   "execution_count": 27,
   "metadata": {},
   "outputs": [
    {
     "data": {
      "text/plain": [
       "4"
      ]
     },
     "execution_count": 27,
     "metadata": {},
     "output_type": "execute_result"
    }
   ],
   "source": [
    "# Vamos a acceder a los atributos de clase de cada instancia\n",
    "mi_perro_1.patas"
   ]
  },
  {
   "cell_type": "code",
   "execution_count": 28,
   "metadata": {},
   "outputs": [
    {
     "data": {
      "text/plain": [
       "4"
      ]
     },
     "execution_count": 28,
     "metadata": {},
     "output_type": "execute_result"
    }
   ],
   "source": [
    "# Vamos a acceder a los atributos de clase de cada instancia\n",
    "mi_perro_2.patas"
   ]
  },
  {
   "cell_type": "markdown",
   "metadata": {},
   "source": [
    "Veamos si utilizamos el mismo método para cada instancia."
   ]
  },
  {
   "cell_type": "code",
   "execution_count": 29,
   "metadata": {},
   "outputs": [
    {
     "name": "stdout",
     "output_type": "stream",
     "text": [
      "Me llamo Tito, guau!!\n",
      "Me llamo Campeón, guau!!\n"
     ]
    }
   ],
   "source": [
    "print(mi_perro_1.decir_nombre())\n",
    "print(mi_perro_2.decir_nombre())"
   ]
  },
  {
   "cell_type": "markdown",
   "metadata": {},
   "source": [
    "Podemos concluir que los **atributos de clase** se comparten para toda las instancias y los atributos de instancia son internos para cada objeto creado."
   ]
  },
  {
   "cell_type": "code",
   "execution_count": 33,
   "metadata": {},
   "outputs": [
    {
     "data": {
      "text/plain": [
       "4"
      ]
     },
     "execution_count": 33,
     "metadata": {},
     "output_type": "execute_result"
    }
   ],
   "source": [
    "mi_perro_1.patas"
   ]
  },
  {
   "cell_type": "markdown",
   "metadata": {},
   "source": [
    "### **1.2.3 Modificando los Atributos**"
   ]
  },
  {
   "cell_type": "markdown",
   "metadata": {},
   "source": [
    "A continuación, veremos cómo al afectar los **atributos de clase**, afectamos a las instancias creadas."
   ]
  },
  {
   "cell_type": "code",
   "execution_count": 45,
   "metadata": {},
   "outputs": [],
   "source": [
    "class Perro():\n",
    "    # Vamos a crear los atributos de clase\n",
    "    patas = 4\n",
    "    cola = 1\n",
    "    ojos = 2\n",
    "\n",
    "    def __init__(self, nombre, color, edad=None):\n",
    "        self.nombre = nombre # Atributo de instancia\n",
    "        self.color = color # Atributo de instancia\n",
    "        self.edad = edad # Atributo de instancia opcional\n",
    "\n",
    "    def ladrar(self, mi_parametro):\n",
    "        return f\"Guau guau!!!\"\n",
    "    \n",
    "    def decir_nombre(self):\n",
    "        return f\"Me llamo {self.nombre}, guau!!\"\n",
    "    \n",
    "    def decir_color(self):\n",
    "        return f\"El color de {self.nombre} es: {self.color}\"\n",
    "    \n",
    "    def decir_edad(self):\n",
    "        return f\"La edad de {self.nombre} es: {self.edad}\""
   ]
  },
  {
   "cell_type": "code",
   "execution_count": 46,
   "metadata": {},
   "outputs": [],
   "source": [
    "perro_1 = Perro(\"Tito\", \"Negro\", 13)\n",
    "perro_2 = Perro(\"Nena\", \"Amarilla\", 5)"
   ]
  },
  {
   "cell_type": "code",
   "execution_count": 47,
   "metadata": {},
   "outputs": [
    {
     "name": "stdout",
     "output_type": "stream",
     "text": [
      "4\n",
      "4\n"
     ]
    }
   ],
   "source": [
    "print(perro_1.patas)\n",
    "print(perro_2.patas)"
   ]
  },
  {
   "cell_type": "markdown",
   "metadata": {},
   "source": [
    "**¿Qué ocurre si afectamos a la clase al cambiar el atributo de clase?**"
   ]
  },
  {
   "cell_type": "code",
   "execution_count": 48,
   "metadata": {},
   "outputs": [],
   "source": [
    "Perro.patas = 3"
   ]
  },
  {
   "cell_type": "code",
   "execution_count": 49,
   "metadata": {},
   "outputs": [
    {
     "name": "stdout",
     "output_type": "stream",
     "text": [
      "3\n"
     ]
    }
   ],
   "source": [
    "print(perro_1.patas)"
   ]
  },
  {
   "cell_type": "code",
   "execution_count": 51,
   "metadata": {},
   "outputs": [
    {
     "name": "stdout",
     "output_type": "stream",
     "text": [
      "3\n"
     ]
    }
   ],
   "source": [
    "print(perro_2.patas)"
   ]
  },
  {
   "cell_type": "markdown",
   "metadata": {},
   "source": [
    "Sucede que **estamos afectando a las instancias creadas**. En el caso de afecta a los atributos de instancia, no afecta a las demás instancias. Para comprobar, modifiquemos el atributo de instancia del **perro_1** y luego accedamos a su método y posterior a ello, mostremos el método del **perro_2**"
   ]
  },
  {
   "cell_type": "code",
   "execution_count": 52,
   "metadata": {},
   "outputs": [],
   "source": [
    "perro_1.nombre = \"Gabriel\" "
   ]
  },
  {
   "cell_type": "code",
   "execution_count": 53,
   "metadata": {},
   "outputs": [
    {
     "data": {
      "text/plain": [
       "'Me llamo Gabriel, guau!!'"
      ]
     },
     "execution_count": 53,
     "metadata": {},
     "output_type": "execute_result"
    }
   ],
   "source": [
    "perro_1.decir_nombre()"
   ]
  },
  {
   "cell_type": "code",
   "execution_count": 54,
   "metadata": {},
   "outputs": [
    {
     "data": {
      "text/plain": [
       "'Me llamo Nena, guau!!'"
      ]
     },
     "execution_count": 54,
     "metadata": {},
     "output_type": "execute_result"
    }
   ],
   "source": [
    "perro_2.decir_nombre()"
   ]
  },
  {
   "cell_type": "markdown",
   "metadata": {},
   "source": [
    "Pero si accedemos al atributo de clase, seguirá con la modificación realizada."
   ]
  },
  {
   "cell_type": "code",
   "execution_count": 55,
   "metadata": {},
   "outputs": [
    {
     "data": {
      "text/plain": [
       "3"
      ]
     },
     "execution_count": 55,
     "metadata": {},
     "output_type": "execute_result"
    }
   ],
   "source": [
    "perro_1.patas"
   ]
  },
  {
   "cell_type": "code",
   "execution_count": 56,
   "metadata": {},
   "outputs": [
    {
     "data": {
      "text/plain": [
       "3"
      ]
     },
     "execution_count": 56,
     "metadata": {},
     "output_type": "execute_result"
    }
   ],
   "source": [
    "perro_2.patas"
   ]
  },
  {
   "cell_type": "markdown",
   "metadata": {},
   "source": [
    "### **1.2.4 Métodos de Clase**"
   ]
  },
  {
   "cell_type": "markdown",
   "metadata": {},
   "source": [
    "Los métodos de clase son métodos en Python que están **asociados a la clase en lugar de a una instancia específica de esa clase**. Esto significa que un método de clase puede ser llamado a través de la propia clase, no necesariamente a través de un objeto instanciado. Para crear un método de clase, se debe utilizar el **decorador @classmethod** y los métodos utilizan la convención **cls** en vez de **self**."
   ]
  },
  {
   "cell_type": "code",
   "execution_count": 57,
   "metadata": {},
   "outputs": [],
   "source": [
    "class Coche:\n",
    "\n",
    "    marca = \"Toyota\"\n",
    "\n",
    "    @classmethod\n",
    "    def mostrar_marca(cls):\n",
    "        return f\"La marca de auto de la empresa es: {cls.marca}\""
   ]
  },
  {
   "cell_type": "code",
   "execution_count": 60,
   "metadata": {},
   "outputs": [
    {
     "data": {
      "text/plain": [
       "'La marca de auto de la empresa es: Toyota'"
      ]
     },
     "execution_count": 60,
     "metadata": {},
     "output_type": "execute_result"
    }
   ],
   "source": [
    "Coche.mostrar_marca()"
   ]
  },
  {
   "cell_type": "markdown",
   "metadata": {},
   "source": [
    "Ahora supongamos que tenemos dos autos."
   ]
  },
  {
   "cell_type": "code",
   "execution_count": 61,
   "metadata": {},
   "outputs": [],
   "source": [
    "auto_1 = Coche()\n",
    "auto_2 = Coche()"
   ]
  },
  {
   "cell_type": "code",
   "execution_count": 64,
   "metadata": {},
   "outputs": [
    {
     "data": {
      "text/plain": [
       "'La marca de auto de la empresa es: Toyota'"
      ]
     },
     "execution_count": 64,
     "metadata": {},
     "output_type": "execute_result"
    }
   ],
   "source": [
    "auto_1.mostrar_marca()"
   ]
  },
  {
   "cell_type": "markdown",
   "metadata": {},
   "source": [
    "Cambiamos el atributo de clase..."
   ]
  },
  {
   "cell_type": "code",
   "execution_count": 65,
   "metadata": {},
   "outputs": [],
   "source": [
    "Coche.marca = \"Chevrolet\""
   ]
  },
  {
   "cell_type": "code",
   "execution_count": 66,
   "metadata": {},
   "outputs": [
    {
     "data": {
      "text/plain": [
       "'La marca de auto de la empresa es: Chevrolet'"
      ]
     },
     "execution_count": 66,
     "metadata": {},
     "output_type": "execute_result"
    }
   ],
   "source": [
    "auto_1.mostrar_marca()"
   ]
  },
  {
   "cell_type": "markdown",
   "metadata": {},
   "source": [
    "Si te fijas, al cambiar el atributo de clase, y mostramos la instancia creada, se modifica su atributo de instancia. Por otro lado, los **métodos de clase** no se necesitan instanciar para acceder a los atributos, lo podemos hacer directamente desde la clase."
   ]
  },
  {
   "cell_type": "markdown",
   "metadata": {},
   "source": [
    "Por último, los métodos de clase tienen su aplicación en la creación de factories o fábricas, que permiten crear instancias de una clase de diferentes maneras a partir de diversos tipos de datos."
   ]
  },
  {
   "cell_type": "markdown",
   "metadata": {},
   "source": [
    "### **1.2.5 Atributos Privados**"
   ]
  },
  {
   "cell_type": "markdown",
   "metadata": {},
   "source": [
    "En Python, los atributos privados se utilizan para restringir el acceso a ciertas partes de una clase desde fuera de ella. Esta es una parte importante de la programación orientada a objetos, ya que permite encapsular y ocultar el estado interno y el comportamiento de la clase, exponiendo solo lo que es necesario para el uso externo y manteniendo el resto oculto como detalles de implementación."
   ]
  },
  {
   "cell_type": "code",
   "execution_count": 67,
   "metadata": {},
   "outputs": [],
   "source": [
    "class DatosPersonales:\n",
    "    def __init__(self, nombre, primero_apellido, segundo_apellido, num_telefono, edad=None):\n",
    "        self.nombre = nombre \n",
    "        self.apellido_1 = primero_apellido\n",
    "        self.apellido_2 = segundo_apellido\n",
    "        self.telefono = num_telefono\n",
    "        self.edad = edad\n",
    "\n",
    "    def show_name(self):\n",
    "        return f\"El usuario es: {self.nombre} {self.apellido_1} {self.apellido_2}\"\n",
    "    \n",
    "    def show_phone_number(self):\n",
    "        return f\"El número de teléfono es: {self.telefono}\"\n"
   ]
  },
  {
   "cell_type": "code",
   "execution_count": 68,
   "metadata": {},
   "outputs": [],
   "source": [
    "usuario_1 = DatosPersonales(\"Gabriel\", \"Olmos\", \"Leiva\", \"+56960102044\")"
   ]
  },
  {
   "cell_type": "markdown",
   "metadata": {},
   "source": [
    "Al crear la **instancia usuario_1**, podemos acceder a sus atributos de instancia."
   ]
  },
  {
   "cell_type": "code",
   "execution_count": null,
   "metadata": {},
   "outputs": [],
   "source": [
    "# Muestra el método show_name() y show_phone_number()"
   ]
  },
  {
   "cell_type": "markdown",
   "metadata": {},
   "source": [
    "Ocurre que me gustaría que cierto atributo de instancia sea privado, es decir, que no se pueda acceder desde afuera. **¿Cómo podemos hacer privado una tributo de instancia?**"
   ]
  },
  {
   "cell_type": "markdown",
   "metadata": {},
   "source": [
    "Para crear un atributo privado se debe utilizar la convención de usar dos guiones bajos (__), el cual es parte de la encapsulación, un principio de la programación orientada a objetos. Esta práctica protege los datos internos de una clase para que no puedan ser modificados o accedidos directamente desde fuera de la clase, permitiendo un mayor control sobre cómo se manipulan esos atributos."
   ]
  },
  {
   "cell_type": "markdown",
   "metadata": {},
   "source": [
    "¿Qué dato queremos que sea privado?\n",
    "\n",
    "Por ejemplo, el número de teléfono."
   ]
  },
  {
   "cell_type": "code",
   "execution_count": 72,
   "metadata": {},
   "outputs": [],
   "source": [
    "class DatosPersonales:\n",
    "    def __init__(self, nombre, primero_apellido, segundo_apellido, num_telefono, edad=None):\n",
    "        self.nombre = nombre \n",
    "        self.apellido_1 = primero_apellido\n",
    "        self.apellido_2 = segundo_apellido\n",
    "        self.__telefono = num_telefono # Creamos un atributo privado\n",
    "        self.edad = edad\n",
    "\n",
    "    def show_name(self):\n",
    "        return f\"El usuario es: {self.nombre} {self.apellido_1} {self.apellido_2}\"\n",
    "    \n",
    "    def show_phone_number(self):\n",
    "        return f\"El número de teléfono es: {self.__telefono}\"\n"
   ]
  },
  {
   "cell_type": "code",
   "execution_count": 73,
   "metadata": {},
   "outputs": [],
   "source": [
    "usuario_1 = DatosPersonales(\"Gabriel\", \"Olmos\", \"Leiva\", \"+56960102044\")"
   ]
  },
  {
   "cell_type": "code",
   "execution_count": 76,
   "metadata": {},
   "outputs": [
    {
     "data": {
      "text/plain": [
       "'El número de teléfono es: +56960102044'"
      ]
     },
     "execution_count": 76,
     "metadata": {},
     "output_type": "execute_result"
    }
   ],
   "source": [
    "usuario_1.show_phone_number()"
   ]
  },
  {
   "cell_type": "markdown",
   "metadata": {},
   "source": [
    "Pero ¿se hizo privado?, la respuesta es sí, podemos acceder obviamente desde el método, pero si accedemos como un atributo nos entrega un error."
   ]
  },
  {
   "cell_type": "code",
   "execution_count": 77,
   "metadata": {},
   "outputs": [
    {
     "ename": "AttributeError",
     "evalue": "'DatosPersonales' object has no attribute '__telefono'",
     "output_type": "error",
     "traceback": [
      "\u001b[1;31m---------------------------------------------------------------------------\u001b[0m",
      "\u001b[1;31mAttributeError\u001b[0m                            Traceback (most recent call last)",
      "Cell \u001b[1;32mIn[77], line 1\u001b[0m\n\u001b[1;32m----> 1\u001b[0m \u001b[43musuario_1\u001b[49m\u001b[38;5;241;43m.\u001b[39;49m\u001b[43m__telefono\u001b[49m\n",
      "\u001b[1;31mAttributeError\u001b[0m: 'DatosPersonales' object has no attribute '__telefono'"
     ]
    }
   ],
   "source": [
    "usuario_1.__telefono"
   ]
  },
  {
   "cell_type": "markdown",
   "metadata": {},
   "source": [
    "Por último, en otros lenguaje de programación los atributos privados realmente son privados, es decir, no se puede acceder a su contenido desde fuera. Para el caso de Python, aunque sea privado, podemos acceder de otro modo (no es recomendable)."
   ]
  },
  {
   "cell_type": "code",
   "execution_count": 80,
   "metadata": {},
   "outputs": [
    {
     "data": {
      "text/plain": [
       "'+56960102044'"
      ]
     },
     "execution_count": 80,
     "metadata": {},
     "output_type": "execute_result"
    }
   ],
   "source": [
    "usuario_1._DatosPersonales__telefono\n"
   ]
  },
  {
   "cell_type": "code",
   "execution_count": 81,
   "metadata": {},
   "outputs": [
    {
     "data": {
      "text/plain": [
       "{'nombre': 'Gabriel',\n",
       " 'apellido_1': 'Olmos',\n",
       " 'apellido_2': 'Leiva',\n",
       " '_DatosPersonales__telefono': '+56960102044',\n",
       " 'edad': None}"
      ]
     },
     "execution_count": 81,
     "metadata": {},
     "output_type": "execute_result"
    }
   ],
   "source": [
    "usuario_1.__dict__"
   ]
  },
  {
   "cell_type": "markdown",
   "metadata": {},
   "source": [
    "### **1.2.6 Métodos Privados**"
   ]
  },
  {
   "cell_type": "code",
   "execution_count": 82,
   "metadata": {},
   "outputs": [],
   "source": [
    "class MiClase:\n",
    "    def __init__(self, valor):\n",
    "        self.__valor = valor\n",
    "    \n",
    "    def __metodo_privado(self):\n",
    "        print(\"Este es un método privado.\")\n",
    "    \n",
    "    def metodo_publico(self):\n",
    "        print(\"Este es un método público.\")\n",
    "        self.__metodo_privado()  # Se puede llamar dentro de la clase"
   ]
  },
  {
   "cell_type": "code",
   "execution_count": 84,
   "metadata": {},
   "outputs": [],
   "source": [
    "mi_instancia = MiClase(5)"
   ]
  },
  {
   "cell_type": "code",
   "execution_count": 86,
   "metadata": {},
   "outputs": [
    {
     "name": "stdout",
     "output_type": "stream",
     "text": [
      "Este es un método público.\n",
      "Este es un método privado.\n"
     ]
    }
   ],
   "source": [
    "# Mostramos el método público\n",
    "mi_instancia.metodo_publico()"
   ]
  },
  {
   "cell_type": "code",
   "execution_count": 87,
   "metadata": {},
   "outputs": [
    {
     "ename": "AttributeError",
     "evalue": "'MiClase' object has no attribute '__metodo_privado'",
     "output_type": "error",
     "traceback": [
      "\u001b[1;31m---------------------------------------------------------------------------\u001b[0m",
      "\u001b[1;31mAttributeError\u001b[0m                            Traceback (most recent call last)",
      "Cell \u001b[1;32mIn[87], line 2\u001b[0m\n\u001b[0;32m      1\u001b[0m \u001b[38;5;66;03m# Qué ocurre si queremos acceder al método privado?\u001b[39;00m\n\u001b[1;32m----> 2\u001b[0m \u001b[43mmi_instancia\u001b[49m\u001b[38;5;241;43m.\u001b[39;49m\u001b[43m__metodo_privado\u001b[49m()\n",
      "\u001b[1;31mAttributeError\u001b[0m: 'MiClase' object has no attribute '__metodo_privado'"
     ]
    }
   ],
   "source": [
    "# Qué ocurre si queremos acceder al método privado?\n",
    "mi_instancia.__metodo_privado()"
   ]
  },
  {
   "cell_type": "markdown",
   "metadata": {},
   "source": [
    "## **2. Ejercicios** "
   ]
  },
  {
   "cell_type": "markdown",
   "metadata": {},
   "source": [
    "### **2.1 Crear clase**\n",
    "\n",
    "Debe crear una clase llamada Animal, la cual debe tener lo siguiente:\n",
    "\n",
    "#### **Atributos de clase:**\n",
    "\n",
    "* Especie\n",
    "* Cantidad de patas\n",
    "* Cola\n",
    "\n",
    "#### **Atributos de instancia:**\n",
    "\n",
    "* raza de animal (opcional).\n",
    "* Nombre del animal.\n",
    "* Edad del animal.\n",
    "* Si está en peligro (atributo privado) y debe ser booleano\n",
    "\n",
    "#### **Métodos de instancia:**\n",
    "\n",
    "* Mostrar nombre\n",
    "* Mostrar edad\n",
    "\n",
    "#### **Métodos de clase:**\n",
    "\n",
    "El método de clase debe permitir cambiar el tipo de especie\n",
    "\n",
    "#### **Debe:**\n",
    "\n",
    "Mostrar el método de su nombre, edad y cambiar la especie. Luego, debe crear otra instancia y visualizar al tipo de especie de la segunda instancia e indicar si hubo un cambio para la primera instancia."
   ]
  },
  {
   "cell_type": "code",
   "execution_count": 90,
   "metadata": {},
   "outputs": [],
   "source": [
    "class Animal:\n",
    "    especie = \"Perro\"\n",
    "    cantidad_patas = 4\n",
    "    cola = 1\n",
    "\n",
    "    def __init__(self, nombre, edad, peligro, raza=None):\n",
    "        self.nombre = nombre \n",
    "        self.raza = raza \n",
    "        self.edad = edad \n",
    "        self.__peligro = peligro\n",
    "\n",
    "    def mostrar_nombre(self):\n",
    "        return f\"El nombre es: {self.nombre}\"\n",
    "    \n",
    "    def mostrar_edad(self):\n",
    "        return f\"La edad es: {self.edad}\"\n",
    "    \n",
    "    @classmethod\n",
    "    def cambiar_especie(cls, nueva_especie):\n",
    "        cls.especie = nueva_especie"
   ]
  },
  {
   "cell_type": "code",
   "execution_count": 91,
   "metadata": {},
   "outputs": [],
   "source": [
    "mi_perro = Animal(\"Tito\", 13, False)"
   ]
  },
  {
   "cell_type": "code",
   "execution_count": 92,
   "metadata": {},
   "outputs": [
    {
     "data": {
      "text/plain": [
       "'El nombre es: Tito'"
      ]
     },
     "execution_count": 92,
     "metadata": {},
     "output_type": "execute_result"
    }
   ],
   "source": [
    "mi_perro.mostrar_nombre()"
   ]
  },
  {
   "cell_type": "code",
   "execution_count": 93,
   "metadata": {},
   "outputs": [
    {
     "data": {
      "text/plain": [
       "'La edad es: 13'"
      ]
     },
     "execution_count": 93,
     "metadata": {},
     "output_type": "execute_result"
    }
   ],
   "source": [
    "mi_perro.mostrar_edad()"
   ]
  },
  {
   "cell_type": "code",
   "execution_count": 94,
   "metadata": {},
   "outputs": [],
   "source": [
    "mi_perro.cambiar_especie(\"Pájaro\")"
   ]
  },
  {
   "cell_type": "code",
   "execution_count": 96,
   "metadata": {},
   "outputs": [
    {
     "data": {
      "text/plain": [
       "'Pájaro'"
      ]
     },
     "execution_count": 96,
     "metadata": {},
     "output_type": "execute_result"
    }
   ],
   "source": [
    "mi_perro.especie"
   ]
  },
  {
   "cell_type": "code",
   "execution_count": 97,
   "metadata": {},
   "outputs": [],
   "source": [
    "mi_perro_2 = Animal(\"pepe\", 5, True)"
   ]
  },
  {
   "cell_type": "code",
   "execution_count": 98,
   "metadata": {},
   "outputs": [
    {
     "data": {
      "text/plain": [
       "'Pájaro'"
      ]
     },
     "execution_count": 98,
     "metadata": {},
     "output_type": "execute_result"
    }
   ],
   "source": [
    "mi_perro_2.especie"
   ]
  },
  {
   "cell_type": "markdown",
   "metadata": {},
   "source": [
    "# **Recursos Extra!**"
   ]
  },
  {
   "cell_type": "markdown",
   "metadata": {},
   "source": [
    "A continuación, te dejo material por si quieres aprender más.\n",
    "\n",
    "* [Blog sobre POO](https://realpython.com/python-classes/)\n",
    "* [Python Full Course for free (YouTube)](https://youtu.be/XKHEtdqhLK8?si=4F9TlHbvY6sqw_Rk)"
   ]
  }
 ],
 "metadata": {
  "kernelspec": {
   "display_name": "programacion_2",
   "language": "python",
   "name": "python3"
  },
  "language_info": {
   "codemirror_mode": {
    "name": "ipython",
    "version": 3
   },
   "file_extension": ".py",
   "mimetype": "text/x-python",
   "name": "python",
   "nbconvert_exporter": "python",
   "pygments_lexer": "ipython3",
   "version": "3.10.16"
  }
 },
 "nbformat": 4,
 "nbformat_minor": 2
}
