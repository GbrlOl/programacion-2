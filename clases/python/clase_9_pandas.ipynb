{
 "cells": [
  {
   "cell_type": "markdown",
   "id": "6caa0c1d",
   "metadata": {},
   "source": [
    "# **[EIE409] Programación 2**"
   ]
  },
  {
   "cell_type": "markdown",
   "id": "ce1d6e6a",
   "metadata": {},
   "source": [
    "## **Clase 9:**\n",
    "\n",
    "### **Tabla de contenido**\n",
    "\n",
    "1. Pandas.\n",
    "\n",
    "\n"
   ]
  },
  {
   "cell_type": "markdown",
   "id": "0741c7b7",
   "metadata": {},
   "source": [
    "# **1. Pandas**"
   ]
  },
  {
   "cell_type": "markdown",
   "id": "4dd38505",
   "metadata": {},
   "source": [
    "| [Revisar documentación oficial para tener una guía](https://pandas.pydata.org/docs/getting_started/index.html#getting-started) |\n",
    "\n",
    "**Pandas** es una biblioteca de código abierto con [licencia BSD](https://es.wikipedia.org/wiki/Licencia_BSD#:~:text=La%20licencia%20BSD%20es%20la,OpenSSL%20o%20la%20MIT%20License.) que proporciona estructuras de datos y herramientas de análisis de datos de alto rendimiento y fáciles de usar para el lenguaje de programación Python."
   ]
  },
  {
   "cell_type": "markdown",
   "id": "ecd9d4fa",
   "metadata": {},
   "source": [
    "## **1.1 ¿Cómo podemos entender Pandas?**"
   ]
  },
  {
   "cell_type": "markdown",
   "id": "72ed4b26",
   "metadata": {},
   "source": [
    "Pandas es un framework donde las estructuras de datos están **etiquetada**, y tenemos dos estructuras principales:\n",
    "\n",
    "1. ``Series``: Es un array unidimensional etiquetado capaz de contener distintos tipos de datos (enteros, cadenas, números de coma flotante, objetos Python, etc).\n",
    "2. `DataFrame`: Es una estructura de datos de dos dimensiones etiqueta con columnas. Se puede pensar esta estructura de datos como un excel, o una tabla SQL. **Nota**: Es la estructura de datos más utilizada."
   ]
  },
  {
   "cell_type": "markdown",
   "id": "2924847b",
   "metadata": {},
   "source": [
    "## **1.2 Instalar Pandas**"
   ]
  },
  {
   "cell_type": "markdown",
   "id": "e724d252",
   "metadata": {},
   "source": [
    "Para utilizar Pandas debemos primero instalarlo en nuestro ambiente, en el caso de google colab ya viene instalado, simplemente se debe importar."
   ]
  },
  {
   "cell_type": "code",
   "execution_count": 1,
   "id": "df4590f4",
   "metadata": {},
   "outputs": [
    {
     "name": "stderr",
     "output_type": "stream",
     "text": [
      "\n",
      "[notice] A new release of pip is available: 24.0 -> 25.0.1\n",
      "[notice] To update, run: C:\\Users\\gol_m\\AppData\\Local\\Programs\\Python\\Python311\\python.exe -m pip install --upgrade pip\n"
     ]
    }
   ],
   "source": [
    "!pip install -q pandas"
   ]
  },
  {
   "cell_type": "markdown",
   "id": "3d388009",
   "metadata": {},
   "source": [
    "## **1.3 Importar Pandas**"
   ]
  },
  {
   "cell_type": "code",
   "execution_count": 3,
   "id": "30ebe13c",
   "metadata": {},
   "outputs": [],
   "source": [
    "import pandas as pd"
   ]
  },
  {
   "cell_type": "markdown",
   "id": "92b723bc",
   "metadata": {},
   "source": [
    "## **1.4 Series**"
   ]
  },
  {
   "cell_type": "markdown",
   "id": "d56e12ad",
   "metadata": {},
   "source": [
    "Para crear una estructura de datos `Series` utilizamos la notación del punto para pandas y recibe principalmente dos parámetros, los datos y la etiqueta, en este caso la indexación.\n",
    "\n",
    "* datos: Puede ser cualquier tipo de datos (puede entregarse una lista, escalar o un ndarray).\n",
    "* index: Debe ser una lista de string, que contiene la indexación.\n",
    "\n",
    "```python\n",
    "\n",
    "data = np.random.randint(1, 10, (4, )) # Datos que son objetos de numpy\n",
    "\n",
    "s = pd.Series(data, index=['a', 'b', 'c', 'd'])\n",
    "```"
   ]
  },
  {
   "cell_type": "code",
   "execution_count": null,
   "id": "f4fef808",
   "metadata": {},
   "outputs": [],
   "source": [
    "# Escriba el código anterior y muestre el resultado."
   ]
  },
  {
   "cell_type": "markdown",
   "id": "6af6ad2c",
   "metadata": {},
   "source": [
    "Se pueden crear Series de pandas pasando un diccionario como parámetro de entrada.\n",
    "\n",
    "```python\n",
    "diccionario = {\n",
    "    \"nombre\": \"Gabriel\",\n",
    "    \"apellido\": \"Olmos\"\n",
    "}\n",
    "s = pd.Series(diccionario)\n",
    "```\n"
   ]
  },
  {
   "cell_type": "code",
   "execution_count": null,
   "id": "3a39c9ea",
   "metadata": {},
   "outputs": [],
   "source": [
    "# Escriba el código y muestre el resultado"
   ]
  },
  {
   "cell_type": "markdown",
   "id": "88b9ecd6",
   "metadata": {},
   "source": [
    "Puedes replicar el mismo dato pero que contenga distintas indexaciones (o etiquetas)."
   ]
  },
  {
   "cell_type": "code",
   "execution_count": 11,
   "id": "7a1dba70",
   "metadata": {},
   "outputs": [],
   "source": [
    "scalar = 5.0\n",
    "index = ['param1', 'param2', 'param3', 'param4']\n",
    "\n",
    "s = pd.Series(scalar, index=index)"
   ]
  },
  {
   "cell_type": "code",
   "execution_count": 13,
   "id": "69175d46",
   "metadata": {},
   "outputs": [],
   "source": [
    "# Muestra el contenido de s"
   ]
  },
  {
   "cell_type": "markdown",
   "id": "08de2388",
   "metadata": {},
   "source": [
    "### **1.4.1 Acceder a los elementos**"
   ]
  },
  {
   "cell_type": "markdown",
   "id": "08961aaa",
   "metadata": {},
   "source": [
    "Para acceder al contenido de una **Serie**, podemos hacerlo de distintas formas:\n",
    "\n",
    "1. Método ``iloc[índice]``.\n",
    "2. Como si fuera un diccionario de Python."
   ]
  },
  {
   "cell_type": "code",
   "execution_count": 16,
   "id": "f32145e4",
   "metadata": {},
   "outputs": [],
   "source": [
    "np.random.seed(5)\n",
    "\n",
    "datos = np.random.randint(1, 10, (10,))\n",
    "abc = \"abcdefghij\"\n",
    "index = list(abc) # Creamos la etiquetas\n",
    "\n",
    "s = pd.Series(datos, index=index)\n",
    "# s # Mostrar s"
   ]
  },
  {
   "cell_type": "markdown",
   "id": "ccf23f27",
   "metadata": {},
   "source": [
    "Muestra los siguientes contenidos utilizando el slicing, pero con ``iloc[]``.\n",
    "\n",
    "* Acceder al primer elemento de la Serie.\n",
    "* Acceder al último elemento de la Serie.\n",
    "* Acceder a un conjunto de elementos, debe ser el segundo elemento hasta el quinto elemento (deben mostrarse cuatro elementos)."
   ]
  },
  {
   "cell_type": "code",
   "execution_count": null,
   "id": "b007e70f",
   "metadata": {},
   "outputs": [],
   "source": [
    "# Realice lo solicitado"
   ]
  },
  {
   "cell_type": "markdown",
   "id": "58a74ef4",
   "metadata": {},
   "source": [
    "Muestra los siguientes contenidos como si fuera un diccionario.\n",
    "\n",
    "* Acceder al primer elemento de la Serie.\n",
    "* Acceder al último elemento de la Serie.\n",
    "* Acceder a un conjunto de elementos, debe ser el segundo elemento hasta el quinto elemento (deben mostrarse cuatro elementos). Para realizar lo solicitado, debe entregarse una lista con las etiquetas."
   ]
  },
  {
   "cell_type": "code",
   "execution_count": null,
   "id": "befee346",
   "metadata": {},
   "outputs": [],
   "source": [
    "# Realice lo solicitado"
   ]
  },
  {
   "cell_type": "markdown",
   "id": "dfce8157",
   "metadata": {},
   "source": [
    "### **1.4.2 Operaciones con Series**"
   ]
  },
  {
   "cell_type": "markdown",
   "id": "8f1ae2d0",
   "metadata": {},
   "source": [
    "A una ``Series`` podemos aplicarle distintas operaciones matemáticas. Por ejemplo, podemos aplicar a cada elemento la potencia de n, exponencial de cada elemento, etc."
   ]
  },
  {
   "cell_type": "code",
   "execution_count": 28,
   "id": "7c1a83de",
   "metadata": {},
   "outputs": [],
   "source": [
    "np.random.seed(5)\n",
    "\n",
    "data = np.random.randint(1,10,(10,))\n",
    "etiquetas = \"abcdefghij\"\n",
    "index = list(etiquetas)\n",
    "\n",
    "s = pd.Series(data, index=index)"
   ]
  },
  {
   "cell_type": "markdown",
   "id": "1e3ba296",
   "metadata": {},
   "source": [
    "Al objeto s aplique las siguientes operaciones:\n",
    "\n",
    "1. Elevar al cuadrado.\n",
    "2. Aplicar la exponencial (utilice numpy).\n",
    "3. Sume un escalar que tenga el valor de 1.\n",
    "4. Sume s con la misma estructura (s+s)."
   ]
  },
  {
   "cell_type": "code",
   "execution_count": null,
   "id": "cb87cd6c",
   "metadata": {},
   "outputs": [],
   "source": [
    "# Relice las operaciones"
   ]
  },
  {
   "cell_type": "markdown",
   "id": "a5881d53",
   "metadata": {},
   "source": [
    "### **1.4.3 Atributos con Series**"
   ]
  },
  {
   "cell_type": "markdown",
   "id": "ae48c8af",
   "metadata": {},
   "source": [
    "Como todo objeto, Series tiene algunos atributos interesantes, podemos acceder al tipo de dato, su nombre, etc. \n",
    "\n",
    "**Nota**: A las estructuras de datos de Pandas, podemos asignarle un nombre.\n",
    "\n",
    "* ``pd.Series().dtype``\n",
    "* ``pd.Series().name``\n"
   ]
  },
  {
   "cell_type": "code",
   "execution_count": 39,
   "id": "53eb055f",
   "metadata": {},
   "outputs": [],
   "source": [
    "s = pd.Series(np.random.randn(5), name=\"Mi primera Series\")"
   ]
  },
  {
   "cell_type": "code",
   "execution_count": 43,
   "id": "97c2623b",
   "metadata": {},
   "outputs": [],
   "source": [
    "# Muestre s y acceda a esos dos atributos"
   ]
  },
  {
   "cell_type": "markdown",
   "id": "3e264e95",
   "metadata": {},
   "source": [
    "## **1.5 DataFrame**"
   ]
  },
  {
   "cell_type": "markdown",
   "id": "cfbecf22",
   "metadata": {},
   "source": [
    "| [Documentación DataFrame](https://pandas.pydata.org/docs/user_guide/dsintro.html#dataframe) |\n",
    "\n",
    "``DataFrame`` es una estructura de datos bidimensional (2-dimensional) etiquetada con columnas de tipos potencialmente diferentes. Se puede pensar en él como una hoja de cálculo (excel) o una tabla SQL, o como un dictado de objetos Series. Generalmente es el objeto pandas más utilizado. Al igual que Series, DataFrame acepta muchos tipos diferentes de entrada: \n",
    "\n",
    "* Dict de 1D ndarrays, listas, dicts, o Series \n",
    "* 2-D numpy.ndarray \n",
    "* ndarray estructurado o de registro \n",
    "* Una Series \n",
    "* Otro DataFrame."
   ]
  },
  {
   "cell_type": "markdown",
   "id": "a44c75eb",
   "metadata": {},
   "source": [
    "A continuación, se mostrarán distintas formas para crear un ``DataFrame``. Recordemos que hay que pensar en un DataFrame como si fuera un excel, que es una matriz que tiene filas y columnas etiquetadas."
   ]
  },
  {
   "cell_type": "markdown",
   "id": "618e7783",
   "metadata": {},
   "source": [
    "### **1.5.1 A partir de Listas**"
   ]
  },
  {
   "cell_type": "markdown",
   "id": "312c9074",
   "metadata": {},
   "source": [
    "Podemos crear un `DataFrame` a parti de **listas de listas** (cada sublista es una fila)"
   ]
  },
  {
   "cell_type": "code",
   "execution_count": 48,
   "id": "efd6b2bb",
   "metadata": {},
   "outputs": [],
   "source": [
    "datos = [\n",
    "    ['Gabriel', 50],\n",
    "    ['Juan', 45],\n",
    "    ['Ana', 30],\n",
    "    ['Luis', 28]\n",
    "]\n",
    "\n",
    "columnas = ['Nombres', 'Edades']\n",
    "\n",
    "df = pd.DataFrame(datos, columns=columnas)"
   ]
  },
  {
   "cell_type": "code",
   "execution_count": null,
   "id": "ee41c418",
   "metadata": {},
   "outputs": [],
   "source": [
    "# Muestre df"
   ]
  },
  {
   "cell_type": "markdown",
   "id": "f6ef7514",
   "metadata": {},
   "source": [
    "### **1.5.2 A partir de Listas de Diccionarios**"
   ]
  },
  {
   "cell_type": "markdown",
   "id": "ff39ba31",
   "metadata": {},
   "source": [
    "Cada diccionario es una fila."
   ]
  },
  {
   "cell_type": "code",
   "execution_count": 53,
   "id": "ff47a2a9",
   "metadata": {},
   "outputs": [],
   "source": [
    "datos = [\n",
    "    {'Nombres': \"Gabriel\", 'Edades': 50},\n",
    "    {'Nombres': \"Juan\", 'Edades': 45},\n",
    "    {'Nombres': \"Ana\", 'Edades': 30},\n",
    "    {'Nombres': \"Luis\", 'Edades': 28},\n",
    "]\n",
    "\n",
    "df = pd.DataFrame(datos)"
   ]
  },
  {
   "cell_type": "code",
   "execution_count": null,
   "id": "81ee6754",
   "metadata": {},
   "outputs": [],
   "source": [
    "# Muestre df"
   ]
  },
  {
   "cell_type": "markdown",
   "id": "d7d0b6bb",
   "metadata": {},
   "source": [
    "### **1.5.3 A partir de una única Lista**"
   ]
  },
  {
   "cell_type": "markdown",
   "id": "9b381d4a",
   "metadata": {},
   "source": [
    "Si es a partir de una única lista, contendría una única columna."
   ]
  },
  {
   "cell_type": "code",
   "execution_count": 55,
   "id": "88f0e6b7",
   "metadata": {},
   "outputs": [],
   "source": [
    "nombres = [\"Juan\", \"Ana\", \"Luis\"]\n",
    "df = pd.DataFrame(nombres, columns=[\"Nombres\"])"
   ]
  },
  {
   "cell_type": "code",
   "execution_count": null,
   "id": "f9316e8c",
   "metadata": {},
   "outputs": [],
   "source": [
    "# Muestre df"
   ]
  },
  {
   "cell_type": "markdown",
   "id": "ebac3178",
   "metadata": {},
   "source": [
    "### **1.5.4 A partir Diccionario de Listas**"
   ]
  },
  {
   "cell_type": "code",
   "execution_count": 57,
   "id": "3f43bcf5",
   "metadata": {},
   "outputs": [],
   "source": [
    "datos = {\n",
    "    \"Nombres\": [\"Gabriel\", \"Juan\", \"Pedro\", \"Felipe\"],\n",
    "    \"Edades\": [50, 48, 45, 42]\n",
    "}\n",
    "\n",
    "df = pd.DataFrame(datos)"
   ]
  },
  {
   "cell_type": "code",
   "execution_count": null,
   "id": "230cb0e0",
   "metadata": {},
   "outputs": [],
   "source": [
    "# Mostrar s"
   ]
  },
  {
   "cell_type": "markdown",
   "id": "ba6be5b8",
   "metadata": {},
   "source": [
    "**Nota**: Este enfoque para mi es el más rápido para crear ``DataFrames``."
   ]
  },
  {
   "cell_type": "markdown",
   "id": "a6565e74",
   "metadata": {},
   "source": [
    "### **1.5.5 A partir Series**"
   ]
  },
  {
   "cell_type": "code",
   "execution_count": 16,
   "id": "645ec773",
   "metadata": {},
   "outputs": [],
   "source": [
    "s_nombre = pd.Series([\"Juan\", \"Ana\", \"Luis\"])\n",
    "s_edad = pd.Series([25, 30, 28])\n",
    "\n",
    "dic = {\n",
    "    \"Nombres\": s_nombre,\n",
    "    \"Edades\": s_edad\n",
    "}\n",
    "\n",
    "df = pd.DataFrame(dic)"
   ]
  },
  {
   "cell_type": "code",
   "execution_count": 64,
   "id": "a1073e38",
   "metadata": {},
   "outputs": [],
   "source": [
    "# Mostrar s"
   ]
  },
  {
   "cell_type": "markdown",
   "id": "7d1e812d",
   "metadata": {},
   "source": [
    "### **1.5.6 Slicing en DataFrame**"
   ]
  },
  {
   "cell_type": "markdown",
   "id": "fa8492ad",
   "metadata": {},
   "source": [
    "Para acceder a los elementos de un DataFrame se puede realizar de diferentes formas:\n",
    "\n",
    "#### **Acceder a las Columnas**\n",
    "\n",
    "1. ``df['clave]`` (como si fuera un diccionario de Python).\n",
    "2. ``df.Columns`` (Utilizando la notación del punto, solo si no tiene espacios ni caracteres especiales).\n",
    "\n",
    "#### **Acceder a las Filas**\n",
    "\n",
    "1. ``df.loc[índice]`` (Series) o ``df.loc[[índice]]`` (DataFrame).\n",
    "2. ``df.iloc[índice_fila]`` o ``df.iloc[[índice_fila]]``\n",
    "\n",
    "#### Comparación visual rápida\n",
    "\n",
    "| Método      | Significado                         | Ejemplo                          |\n",
    "|-------------|-------------------------------------|----------------------------------|\n",
    "| `loc[1, 'Col']`   | Fila con índice 1, columna `'Col'`   | Usa etiquetas                    |\n",
    "| `iloc[1, 1]`      | Segunda fila, segunda columna       | Usa posiciones numéricas         |"
   ]
  },
  {
   "cell_type": "code",
   "execution_count": 17,
   "id": "e945c07e",
   "metadata": {},
   "outputs": [],
   "source": [
    "s_nombre = pd.Series([\"Juan\", \"Ana\", \"Luis\"])\n",
    "s_edad = pd.Series([25, 30, 28])\n",
    "\n",
    "dic = {\n",
    "    \"Nombres\": s_nombre,\n",
    "    \"Edades\": s_edad\n",
    "}\n",
    "\n",
    "df = pd.DataFrame(dic)"
   ]
  },
  {
   "cell_type": "markdown",
   "id": "61dde4e0",
   "metadata": {},
   "source": [
    "Realicemos distintos ejercicios para aprender a acceder a los elementos de un DataFrame.\n",
    "\n",
    "1. Accede a las distintas columnas.\n",
    "2. Acceder a la primera fila, utilizando loc (``df.loc[0]``).\n",
    "3. Acceder a la primera fila junto con la segunda columna, utilizando loc (``df.loc[0, 'Edades']``).\n",
    "4. Accede a la primera fila, utilizando iloc (``df.iloc[0]``).\n",
    "4. Accede a la primera fila junto con la segunda columna, utilizando iloc (``df.iloc[0, 1]``)."
   ]
  },
  {
   "cell_type": "code",
   "execution_count": null,
   "id": "c6bbd519",
   "metadata": {},
   "outputs": [],
   "source": [
    "df['Nombres'] # Esto nos retorna una Series de Pandas"
   ]
  },
  {
   "cell_type": "code",
   "execution_count": null,
   "id": "d2c38882",
   "metadata": {},
   "outputs": [],
   "source": [
    "# Muestra la segunda columna"
   ]
  },
  {
   "cell_type": "markdown",
   "id": "a39d0f5b",
   "metadata": {},
   "source": [
    "## **1.6 Cargar Archivos a un DataFrames**"
   ]
  },
  {
   "cell_type": "markdown",
   "id": "d5f7f56f",
   "metadata": {},
   "source": [
    "| [Revisar la documentación para más información](https://pandas.pydata.org/docs/user_guide/io.html#io-tools-text-csv-hdf5) |\n",
    "\n",
    "Podemos cargar distintos tipos de archivos a un ``DataFrame`` de Pandas, algunos de los más comunes son:\n",
    "\n",
    "1. csv: ``pd.read_csv()``\n",
    "2. excel: ``pd.read_excel()``\n",
    "3. json: ``pd.read_json()``\n"
   ]
  },
  {
   "cell_type": "markdown",
   "id": "0dd7e084",
   "metadata": {},
   "source": [
    "## **1.6.1 Cargar CSV**"
   ]
  },
  {
   "cell_type": "code",
   "execution_count": 65,
   "id": "34469055",
   "metadata": {},
   "outputs": [],
   "source": [
    "ruta = r\"C:\\Users\\gol_m\\OneDrive\\Desktop\\Magíster en Ciencias de la Ingeniería\\2025\\Cursos Dictados\\Primer Semestre\\EIE409 - PROGRAMACIÓN 2\\CLASES\\materiales\\dataset.csv\"\n",
    "\n",
    "df = pd.read_csv(ruta)"
   ]
  },
  {
   "cell_type": "code",
   "execution_count": null,
   "id": "e1d1b534",
   "metadata": {},
   "outputs": [],
   "source": [
    "# Muestre el data frame"
   ]
  },
  {
   "cell_type": "markdown",
   "id": "aa00281b",
   "metadata": {},
   "source": [
    "## **1.6.2 Cargar EXCEL**"
   ]
  },
  {
   "cell_type": "markdown",
   "id": "126c496b",
   "metadata": {},
   "source": [
    "Si estás desde tu dispositivo, lo más probable es que debas instalar una biblioteca.\n",
    "\n",
    "```bash\n",
    "pip install -q openpyxl\n",
    "```"
   ]
  },
  {
   "cell_type": "code",
   "execution_count": 3,
   "id": "b2a00e9c",
   "metadata": {},
   "outputs": [],
   "source": [
    "ruta = r\"C:\\Users\\gol_m\\OneDrive\\Desktop\\Magíster en Ciencias de la Ingeniería\\2025\\Cursos Dictados\\Primer Semestre\\EIE409 - PROGRAMACIÓN 2\\CLASES\\materiales\\datos_excel.xlsx\"\n",
    "\n",
    "df = pd.read_excel(ruta)"
   ]
  },
  {
   "cell_type": "code",
   "execution_count": null,
   "id": "a73742cd",
   "metadata": {},
   "outputs": [],
   "source": [
    "# Muestre el data frame"
   ]
  },
  {
   "cell_type": "markdown",
   "id": "7b36a298",
   "metadata": {},
   "source": [
    "## **1.6.3 Cargar JSON**"
   ]
  },
  {
   "cell_type": "code",
   "execution_count": 5,
   "id": "d7c5fff2",
   "metadata": {},
   "outputs": [],
   "source": [
    "ruta = r\"C:\\Users\\gol_m\\OneDrive\\Desktop\\Magíster en Ciencias de la Ingeniería\\2025\\Cursos Dictados\\Primer Semestre\\EIE409 - PROGRAMACIÓN 2\\CLASES\\materiales\\test.json\"\n",
    "\n",
    "df = pd.read_json(ruta)"
   ]
  },
  {
   "cell_type": "code",
   "execution_count": null,
   "id": "c5096821",
   "metadata": {},
   "outputs": [],
   "source": [
    "# Mostra df"
   ]
  },
  {
   "cell_type": "markdown",
   "id": "23e19457",
   "metadata": {},
   "source": [
    "## **1.7 Exploración y Análisis de Datos con Pandas: Dataset Spotify**"
   ]
  },
  {
   "cell_type": "markdown",
   "id": "852704f0",
   "metadata": {},
   "source": [
    "*poner una breve descripción**"
   ]
  },
  {
   "cell_type": "markdown",
   "id": "27b06129",
   "metadata": {},
   "source": [
    "### **1.7.1 Cargar CSV**"
   ]
  },
  {
   "cell_type": "code",
   "execution_count": 8,
   "id": "65818a6f",
   "metadata": {},
   "outputs": [],
   "source": [
    "ruta = r\"C:\\Users\\gol_m\\OneDrive\\Desktop\\Magíster en Ciencias de la Ingeniería\\2025\\Cursos Dictados\\Primer Semestre\\EIE409 - PROGRAMACIÓN 2\\CLASES\\materiales\\dataset.csv\"\n",
    "\n",
    "df = pd.read_csv(ruta)"
   ]
  },
  {
   "cell_type": "markdown",
   "id": "dbedf4f6",
   "metadata": {},
   "source": [
    "### **1.7.2 Mostrar DataFrame y otros datos**"
   ]
  },
  {
   "cell_type": "markdown",
   "id": "8ad0e2f6",
   "metadata": {},
   "source": [
    "A continuación, vamos a utilizar algunos métodos y atributos que nos permiten obtener información sobre el archivo que hemos cargado.\n",
    "\n",
    "1. `df.head()`: Muestra el DataFrame (df).\n",
    "2. `df.info()`: Nos entrega información general del df.\n",
    "3. `df.dtypes`: Nos entrega el tipo de datos de cada columna.\n",
    "4. `df.columns`: Nos retorna un objeto con las columnas del df."
   ]
  },
  {
   "cell_type": "code",
   "execution_count": null,
   "id": "4899d68e",
   "metadata": {},
   "outputs": [],
   "source": [
    "# Para mostrar 5 elementos por defecto, se utiliza .head()\n",
    "df.head()"
   ]
  },
  {
   "cell_type": "code",
   "execution_count": null,
   "id": "ae74ba45",
   "metadata": {},
   "outputs": [],
   "source": [
    "# Para mostrar más elementos, se le entrega la cantidad de elementos a .head()\n",
    "df.head(10)"
   ]
  },
  {
   "cell_type": "code",
   "execution_count": null,
   "id": "0061b358",
   "metadata": {},
   "outputs": [],
   "source": [
    "# Obtener info general del dataframe\n",
    "print(df.info())"
   ]
  },
  {
   "cell_type": "code",
   "execution_count": null,
   "id": "fa6e0fe7",
   "metadata": {},
   "outputs": [],
   "source": [
    "# Obtener los tipos de datos de cada columna\n",
    "print(df.dtypes)"
   ]
  },
  {
   "cell_type": "code",
   "execution_count": null,
   "id": "8a0168d1",
   "metadata": {},
   "outputs": [],
   "source": [
    "# Obtener las columnas del dataframe\n",
    "df.columns"
   ]
  },
  {
   "cell_type": "code",
   "execution_count": 15,
   "id": "e9281a78",
   "metadata": {},
   "outputs": [
    {
     "data": {
      "text/plain": [
       "Index(['Unnamed: 0', 'track_id', 'artists', 'album_name', 'track_name',\n",
       "       'popularity', 'duration_ms', 'explicit', 'danceability', 'energy',\n",
       "       'key', 'loudness', 'mode', 'speechiness', 'acousticness',\n",
       "       'instrumentalness', 'liveness', 'valence', 'tempo', 'time_signature',\n",
       "       'track_genre'],\n",
       "      dtype='object')"
      ]
     },
     "execution_count": 15,
     "metadata": {},
     "output_type": "execute_result"
    }
   ],
   "source": [
    "# Obtener las columnas del dataframe\n",
    "df.columns"
   ]
  },
  {
   "cell_type": "markdown",
   "id": "db8cd8bb",
   "metadata": {},
   "source": [
    "### **1.7.3 Slicing**"
   ]
  },
  {
   "cell_type": "code",
   "execution_count": null,
   "id": "41381b87",
   "metadata": {},
   "outputs": [],
   "source": [
    "artist = df['']"
   ]
  },
  {
   "cell_type": "code",
   "execution_count": 2,
   "id": "e7a542c5",
   "metadata": {},
   "outputs": [],
   "source": [
    "file_path = r\"C:\\Users\\gol_m\\OneDrive\\Desktop\\Magíster en Ciencias de la Ingeniería\\2025\\Cursos Dictados\\Primer Semestre\\EIE409 - PROGRAMACIÓN 2\\CLASES\\materiales\\dataset.csv\"\n",
    "\n",
    "df = pd.read_csv(file_path)"
   ]
  },
  {
   "cell_type": "code",
   "execution_count": 4,
   "id": "dc351ed1",
   "metadata": {},
   "outputs": [
    {
     "data": {
      "text/plain": [
       "Index(['Unnamed: 0', 'track_id', 'artists', 'album_name', 'track_name',\n",
       "       'popularity', 'duration_ms', 'explicit', 'danceability', 'energy',\n",
       "       'key', 'loudness', 'mode', 'speechiness', 'acousticness',\n",
       "       'instrumentalness', 'liveness', 'valence', 'tempo', 'time_signature',\n",
       "       'track_genre'],\n",
       "      dtype='object')"
      ]
     },
     "execution_count": 4,
     "metadata": {},
     "output_type": "execute_result"
    }
   ],
   "source": [
    "df.columns"
   ]
  },
  {
   "cell_type": "code",
   "execution_count": 5,
   "id": "b5f9ce2c",
   "metadata": {},
   "outputs": [
    {
     "data": {
      "text/plain": [
       "0                    Gen Hoshino\n",
       "1                   Ben Woodward\n",
       "2         Ingrid Michaelson;ZAYN\n",
       "3                   Kina Grannis\n",
       "4               Chord Overstreet\n",
       "                   ...          \n",
       "113995             Rainy Lullaby\n",
       "113996             Rainy Lullaby\n",
       "113997             Cesária Evora\n",
       "113998          Michael W. Smith\n",
       "113999             Cesária Evora\n",
       "Name: artists, Length: 114000, dtype: object"
      ]
     },
     "execution_count": 5,
     "metadata": {},
     "output_type": "execute_result"
    }
   ],
   "source": [
    "df.artists"
   ]
  }
 ],
 "metadata": {
  "kernelspec": {
   "display_name": "programacion_2",
   "language": "python",
   "name": "python3"
  },
  "language_info": {
   "codemirror_mode": {
    "name": "ipython",
    "version": 3
   },
   "file_extension": ".py",
   "mimetype": "text/x-python",
   "name": "python",
   "nbconvert_exporter": "python",
   "pygments_lexer": "ipython3",
   "version": "3.10.16"
  }
 },
 "nbformat": 4,
 "nbformat_minor": 5
}
