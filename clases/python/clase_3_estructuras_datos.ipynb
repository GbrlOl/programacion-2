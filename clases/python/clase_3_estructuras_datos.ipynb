{
 "cells": [
  {
   "cell_type": "markdown",
   "metadata": {},
   "source": [
    "# **[EIE409] Programación 2**"
   ]
  },
  {
   "cell_type": "markdown",
   "metadata": {},
   "source": [
    "## **Clase 3:**\n",
    "\n",
    "### **Tabla de contenido**\n",
    "\n",
    "1. Funciones en Python.\n",
    "2. Breve introducción a la programación orientada a objetos.\n",
    "3. Estructuras de datos.\n"
   ]
  },
  {
   "cell_type": "markdown",
   "metadata": {},
   "source": [
    "## **1. Funciones**"
   ]
  },
  {
   "cell_type": "markdown",
   "metadata": {},
   "source": [
    "En Python, una función es un **bloque de código reutilizable** que realiza una tarea específica cuando se llama. Las funciones permiten **organizar el código en partes más pequeñas y manejables**, lo que facilita la lectura, escritura y mantenimiento del código.\n",
    "\n",
    "Una función en Python puede aceptar cero o más argumentos como entrada, realizar operaciones basadas en esos argumentos y, opcionalmente, devolver uno o más valores como resultado. Las funciones en Python siguen una sintaxis general:\n",
    "```python\n",
    "def nombre_de_la_funcion(parametro1, parametro2, ...):\n",
    "    \"\"\"Docstring de la función (opcional)\"\"\"\n",
    "    # Bloque de código de la función\n",
    "    # Puede incluir cálculos, operaciones, estructuras de control, etc.\n",
    "    return resultado  # (opcional)\n",
    "```\n",
    "---\n",
    "* ``def``: Esta palabra clave se utiliza para definir una función. nombre_de_la_funcion: Es el nombre de la función, que debe ser único dentro del ámbito en el que se define.\n",
    "* ``parametro1, parametro2, ...``: Son los parámetros que la función espera recibir como entrada. Estos son opcionales.\n",
    "* ``\"\"\"Docstring de la función\"\"\"``: Es una cadena de documentación opcional que describe el propósito y el funcionamiento de la función.\n",
    "* ``return resultado``: Esta instrucción es opcional y se utiliza para devolver un valor o una secuencia de valores como resultado de la función.\n",
    "Realicemos un ejemplo de crear una función que pida al usuario el nombre y lo imprima por pantalla.\n",
    "---\n",
    "\n",
    "`Nota Importante: Se recomienda escribir el nombre de las funciones en inglés, para efectos del curso esto no será estrictamente, por lo cual pueden escribirse en español.`"
   ]
  },
  {
   "cell_type": "markdown",
   "metadata": {},
   "source": [
    "A continuación, vamos a crear una función que permite decir el nombre del usuario."
   ]
  },
  {
   "cell_type": "code",
   "execution_count": 2,
   "metadata": {},
   "outputs": [],
   "source": [
    "def decir_nombre(nombre):\n",
    "    print(f\"Hola {nombre}!!!\")"
   ]
  },
  {
   "cell_type": "code",
   "execution_count": null,
   "metadata": {},
   "outputs": [],
   "source": [
    "# Agrega tu función acá"
   ]
  },
  {
   "cell_type": "code",
   "execution_count": 3,
   "metadata": {},
   "outputs": [],
   "source": [
    "def decir_nombre_2():\n",
    "    user = input(\"Dime tu nombre:\")\n",
    "    print(\"Hola\", user)"
   ]
  },
  {
   "cell_type": "code",
   "execution_count": 4,
   "metadata": {},
   "outputs": [
    {
     "name": "stdout",
     "output_type": "stream",
     "text": [
      "Hola Gabriel\n"
     ]
    }
   ],
   "source": [
    "# Agrega tu función acá\n",
    "decir_nombre_2()"
   ]
  },
  {
   "cell_type": "markdown",
   "metadata": {},
   "source": [
    "Podemos agregar un valor por defecto a los parámetros de entrada de una función. Para el ejemplo anterior, podemos agregar por defecto el apellido."
   ]
  },
  {
   "cell_type": "code",
   "execution_count": 5,
   "metadata": {},
   "outputs": [],
   "source": [
    "def decir_nombre_apellido(nombre, apellido=\"Olmos\"):\n",
    "    print(f\"Hola {nombre} {apellido}!!!\")"
   ]
  },
  {
   "cell_type": "code",
   "execution_count": 6,
   "metadata": {},
   "outputs": [
    {
     "name": "stdout",
     "output_type": "stream",
     "text": [
      "Hola Gabriel Olmos!!!\n"
     ]
    }
   ],
   "source": [
    "# Agrega tu función acá\n",
    "decir_nombre_apellido(\"Gabriel\")"
   ]
  },
  {
   "cell_type": "markdown",
   "metadata": {},
   "source": [
    "El apellido podemos ponerlo por defecto, pero ¿Podemos cambiarlo?"
   ]
  },
  {
   "cell_type": "code",
   "execution_count": 7,
   "metadata": {},
   "outputs": [
    {
     "name": "stdout",
     "output_type": "stream",
     "text": [
      "Hola Gabriel leiva!!!\n"
     ]
    }
   ],
   "source": [
    "# Agrega tu función acá\n",
    "decir_nombre_apellido(\"Gabriel\", apellido=\"leiva\")"
   ]
  },
  {
   "cell_type": "markdown",
   "metadata": {},
   "source": [
    "### **1.1 Tipado estático**"
   ]
  },
  {
   "cell_type": "markdown",
   "metadata": {},
   "source": [
    "Python es un lenguaje de programación de `tipado dinámico`. Esto significa que en Python no es necesario especificar el tipo de datos de una variable cuando se declara; el tipo de datos se infiere automáticamente en tiempo de ejecución. Además, el tipo de datos de una variable puede cambiar durante la ejecución del programa. Aunque estas anotaciones son opcionales y no afectan al comportamiento de la función en tiempo de ejecución, ``pueden ser útiles para la documentación, el análisis estático del código y el autocompletado en algunos editores de texto``.\n",
    "\n",
    "##### **Dato Interesante**\n",
    "\n",
    "Los `Agentes de IA` es obligatorio utilizar el tipado estático."
   ]
  },
  {
   "cell_type": "code",
   "execution_count": 9,
   "metadata": {},
   "outputs": [],
   "source": [
    "def decir_nombre(nombre: str, apellido_1: str, apellido_2: str) -> str:\n",
    "  return print(f\"Hola {nombre, apellido_1, apellido_2}\")"
   ]
  },
  {
   "cell_type": "code",
   "execution_count": 11,
   "metadata": {},
   "outputs": [],
   "source": [
    "# Escribe tu código aquí"
   ]
  },
  {
   "cell_type": "code",
   "execution_count": 12,
   "metadata": {},
   "outputs": [],
   "source": [
    "def suma(a: int, b: int) -> int:\n",
    "    \"\"\"Esta función suma dos números enteros y devuelve un entero como resultado.\"\"\"\n",
    "    return a + b"
   ]
  },
  {
   "cell_type": "code",
   "execution_count": null,
   "metadata": {},
   "outputs": [],
   "source": [
    "# Escribe tu código aquí"
   ]
  },
  {
   "cell_type": "markdown",
   "metadata": {},
   "source": [
    "Incluso, podemos utilizar lenguaje de etiquetado markdown para documentar nuestras funciones."
   ]
  },
  {
   "cell_type": "code",
   "execution_count": 13,
   "metadata": {},
   "outputs": [],
   "source": [
    "def suma(a: int, b: int) -> int:\n",
    "    \"\"\"\n",
    "    # Función Sumar\n",
    "\n",
    "    Esta función nos permite sumar dos números de entrada.\n",
    "\n",
    "    * a: Es el primer argumento de entrada\n",
    "    * b: Es el segundo argumento de entrada\n",
    "    \"\"\"\n",
    "    return a + b"
   ]
  },
  {
   "cell_type": "code",
   "execution_count": null,
   "metadata": {},
   "outputs": [],
   "source": [
    "# Escribe tu código aquí"
   ]
  },
  {
   "cell_type": "markdown",
   "metadata": {},
   "source": [
    "**¿Cómo podríamos sumar distintos argumentos de entrada, sin especificar la cantidad n de argumentos?**"
   ]
  },
  {
   "cell_type": "markdown",
   "metadata": {},
   "source": [
    "### **1.2 Argumentos posicionales variables**"
   ]
  },
  {
   "cell_type": "markdown",
   "metadata": {},
   "source": [
    "Los argumentos posicionales variables significan que puedes pasar un número indeterminado de argumentos a una función."
   ]
  },
  {
   "cell_type": "markdown",
   "metadata": {},
   "source": [
    "#### **1.2.1 \\*args**"
   ]
  },
  {
   "cell_type": "markdown",
   "metadata": {},
   "source": [
    "args es una tupla que guarda los valores que uno le entrega a la función"
   ]
  },
  {
   "cell_type": "code",
   "execution_count": 14,
   "metadata": {},
   "outputs": [],
   "source": [
    "def my_func(*args):\n",
    "    print(\"Los argumentos que pasaste a la función son los siguientes:\")\n",
    "    for arg in args:\n",
    "        print(arg)"
   ]
  },
  {
   "cell_type": "code",
   "execution_count": 16,
   "metadata": {},
   "outputs": [
    {
     "name": "stdout",
     "output_type": "stream",
     "text": [
      "Los argumentos que pasaste a la función son los siguientes:\n",
      "1\n",
      "hola\n",
      "True\n",
      "2.56\n"
     ]
    }
   ],
   "source": [
    "# Escribe tu código aquí\n",
    "my_func(1, \"hola\", True, 2.56)"
   ]
  },
  {
   "cell_type": "markdown",
   "metadata": {},
   "source": [
    "Verifiquemos que los valores entregados se almacenan en una tupla."
   ]
  },
  {
   "cell_type": "code",
   "execution_count": 11,
   "metadata": {},
   "outputs": [],
   "source": [
    "def my_func(*args):\n",
    "    print(args)"
   ]
  },
  {
   "cell_type": "code",
   "execution_count": null,
   "metadata": {},
   "outputs": [
    {
     "name": "stdout",
     "output_type": "stream",
     "text": [
      "('hola', 'cómo', 'estás?')\n"
     ]
    }
   ],
   "source": [
    "# Escribe tu código aquí"
   ]
  },
  {
   "cell_type": "markdown",
   "metadata": {},
   "source": [
    "Es importante mencionar que podemos llamar la variable como nosotros estimemos conveniente."
   ]
  },
  {
   "cell_type": "code",
   "execution_count": 13,
   "metadata": {},
   "outputs": [],
   "source": [
    "def my_func(*mi_variable):\n",
    "    print(mi_variable)"
   ]
  },
  {
   "cell_type": "code",
   "execution_count": null,
   "metadata": {},
   "outputs": [],
   "source": [
    "# Escribe tu código aquí"
   ]
  },
  {
   "cell_type": "markdown",
   "metadata": {},
   "source": [
    "#### **1.2.2 \\*\\*kwargs**"
   ]
  },
  {
   "cell_type": "markdown",
   "metadata": {},
   "source": [
    "El ``**kwargs`` permite que una función reciba un número variable de argumentos de palabra clave (es decir, argumentos pasados por nombre). kwargs también es solo un nombre convencional, pero el doble asterisco (**) es lo que indica que los argumentos se pasan como un diccionario."
   ]
  },
  {
   "cell_type": "code",
   "execution_count": 25,
   "metadata": {},
   "outputs": [],
   "source": [
    "def using_kwargs(**kwargs):\n",
    "    print(kwargs)"
   ]
  },
  {
   "cell_type": "code",
   "execution_count": 16,
   "metadata": {},
   "outputs": [
    {
     "name": "stdout",
     "output_type": "stream",
     "text": [
      "{'nombre': 'Gabriel', 'edad': 26, 'ciudad': 'Valparaíso'}\n"
     ]
    }
   ],
   "source": [
    "using_kwargs(nombre=\"Gabriel\", edad=26, ciudad=\"Valparaíso\")"
   ]
  },
  {
   "cell_type": "markdown",
   "metadata": {},
   "source": [
    "### **1.3 Scope (Alcance)**"
   ]
  },
  {
   "cell_type": "markdown",
   "metadata": {},
   "source": [
    "#### Alcances en general\n",
    "\n",
    "* **Alcance local**: Las variables definidas dentro de una función tienen un alcance local. Esto significa que solo pueden ser utilizadas dentro de esa función y no son accesibles desde fuera de ella.\n",
    "\n",
    "* **Alcance global**: Las variables definidas fuera de todas las funciones tienen un alcance global. Son accesibles desde cualquier lugar del código, incluidas las funciones (a menos que haya una variable local con el mismo nombre dentro de una función)."
   ]
  },
  {
   "cell_type": "markdown",
   "metadata": {},
   "source": [
    "Veamos un ejemplo con el alcance global"
   ]
  },
  {
   "cell_type": "code",
   "execution_count": 18,
   "metadata": {},
   "outputs": [
    {
     "name": "stdout",
     "output_type": "stream",
     "text": [
      "10\n"
     ]
    }
   ],
   "source": [
    "x = 10  # Variable global\n",
    "\n",
    "def mi_funcion():\n",
    "    print(x)  # Se puede acceder a la variable global x dentro de la función\n",
    "\n",
    "mi_funcion()  # Imprime 10"
   ]
  },
  {
   "cell_type": "markdown",
   "metadata": {},
   "source": [
    "Veamos un ejemplo con el alcance local"
   ]
  },
  {
   "cell_type": "code",
   "execution_count": 17,
   "metadata": {},
   "outputs": [
    {
     "name": "stdout",
     "output_type": "stream",
     "text": [
      "10\n"
     ]
    }
   ],
   "source": [
    "def mi_funcion():\n",
    "    if True:\n",
    "        x = 10  # Definida dentro de un bloque condicional\n",
    "\n",
    "    print(x)  # 'x' es accesible aquí porque su alcance es local a la función\n",
    "\n",
    "mi_funcion()"
   ]
  },
  {
   "cell_type": "markdown",
   "metadata": {},
   "source": [
    "Podemos hacer que una variable local sea global, utilizando la palabra reservada global."
   ]
  },
  {
   "cell_type": "code",
   "execution_count": 19,
   "metadata": {},
   "outputs": [
    {
     "name": "stdout",
     "output_type": "stream",
     "text": [
      "Antes de cambiar: 5\n",
      "Después de cambiar: 10\n"
     ]
    }
   ],
   "source": [
    "x = 5  # Variable global\n",
    "\n",
    "def cambiar_variable():\n",
    "    global x  # Declara que x es la variable global\n",
    "    x = 10  # Modifica la variable global 'x'\n",
    "\n",
    "print(\"Antes de cambiar:\", x)\n",
    "cambiar_variable()\n",
    "print(\"Después de cambiar:\", x)"
   ]
  },
  {
   "cell_type": "markdown",
   "metadata": {},
   "source": [
    "### **1.4 Funciones lambda**"
   ]
  },
  {
   "cell_type": "markdown",
   "metadata": {},
   "source": [
    "Las **funciones lambda** en Python son funciones anónimas, es decir, funciones que no requieren un nombre explícito. Son una forma concisa de escribir funciones pequeñas y se utilizan comúnmente cuando se necesita una función rápida para ser usada en una sola línea de código. La sintaxis es la siguiente:\n",
    "\n",
    "```python\n",
    "lambda argumentos: expresión\n",
    "```\n",
    "* **lambda**: Es la palabra clave que define una función anónima.\n",
    "* **argumentos**: Son los parámetros que la función recibe, de manera similar a las funciones tradicionales.\n",
    "* **expresión**: Es el valor que la función devuelve. Esta expresión se evalúa y se devuelve automáticamente."
   ]
  },
  {
   "cell_type": "code",
   "execution_count": 26,
   "metadata": {},
   "outputs": [],
   "source": [
    "suma = lambda a, b: print(\"La suma es:\", a + b)"
   ]
  },
  {
   "cell_type": "code",
   "execution_count": 28,
   "metadata": {},
   "outputs": [
    {
     "name": "stdout",
     "output_type": "stream",
     "text": [
      "La suma es: 12\n"
     ]
    }
   ],
   "source": [
    "# Escribe tu código aquí\n",
    "suma(5, 7)"
   ]
  },
  {
   "cell_type": "markdown",
   "metadata": {},
   "source": [
    "#### **1.4.1 Funciones Built-in**\n",
    "\n",
    "| [Documentación oficial](https://docs.python.org/3/library/functions.html) |\n",
    "\n",
    "Las funciones **built-in** son funciones que ya vienen incorporada en python. Veremos algunas a continuación.\n",
    "\n"
   ]
  },
  {
   "cell_type": "markdown",
   "metadata": {},
   "source": [
    "##### **1 Función map()**"
   ]
  },
  {
   "cell_type": "markdown",
   "metadata": {},
   "source": [
    "La sintaxis es la siguiente:\n",
    "\n",
    "```python\n",
    "map(funcion, iterable)\n",
    "```\n",
    "\n",
    "Donde:\n",
    "* ``funcion``: Es la función que se aplicará a cada elemento del iterable.\n",
    "* ``iterable``: Es la colección de datos (lista, tupla, etc.) sobre la que queremos aplicar la función.\n",
    "\n",
    "Podemos apreciar que la función map recibe como parámetro de entrada una función (la cual podemos escribir utilizando lambda) y luego recibe el iterable al cual se le aplicará la función."
   ]
  },
  {
   "cell_type": "code",
   "execution_count": 35,
   "metadata": {},
   "outputs": [],
   "source": [
    "# Ejemplo: Elevar al cuadrado cada número de una lista\n",
    "lista_numeros = [1, 2, 3, 4, 5]\n",
    "\n",
    "\n",
    "result = map(lambda x: x**2, lista_numeros)"
   ]
  },
  {
   "cell_type": "code",
   "execution_count": null,
   "metadata": {},
   "outputs": [
    {
     "data": {
      "text/plain": [
       "<map at 0x1986c3f6260>"
      ]
     },
     "execution_count": 36,
     "metadata": {},
     "output_type": "execute_result"
    }
   ],
   "source": [
    "# Mostrar contenido\n",
    "result"
   ]
  },
  {
   "cell_type": "markdown",
   "metadata": {},
   "source": [
    "Ahora debemos convertir el resultado que retorna map en un iterable, podemos utilizar list()."
   ]
  },
  {
   "cell_type": "code",
   "execution_count": 37,
   "metadata": {},
   "outputs": [],
   "source": [
    "result = list(result)"
   ]
  },
  {
   "cell_type": "code",
   "execution_count": 38,
   "metadata": {},
   "outputs": [
    {
     "data": {
      "text/plain": [
       "[1, 4, 9, 16, 25]"
      ]
     },
     "execution_count": 38,
     "metadata": {},
     "output_type": "execute_result"
    }
   ],
   "source": [
    "# Escribe tu código aquí\n",
    "result"
   ]
  },
  {
   "cell_type": "markdown",
   "metadata": {},
   "source": [
    "##### **2 Función filter()**"
   ]
  },
  {
   "cell_type": "markdown",
   "metadata": {},
   "source": [
    "La función ``filter()`` se usa para seleccionar elementos de un iterable que cumplen con una condición. Retorna un iterador con los elementos que evaluaron True en la función dada. La sintáxis es la siguiente:\n",
    "\n",
    "```python\n",
    "filter(funcion, iterable)\n",
    "```\n",
    "\n",
    "* ``funcion``: Es la función que devuelve True o False para decidir si un elemento se mantiene en el nuevo iterable.\n",
    "* ``iterable``: Es la colección de datos que queremos filtrar."
   ]
  },
  {
   "cell_type": "code",
   "execution_count": 12,
   "metadata": {},
   "outputs": [],
   "source": [
    "# Ejemplo: Filtrar palabras que superen un cierto largo\n",
    "palabras = [\"programación\", \"hola\", \"EIE409\", \"Gabriel\"]\n",
    "\n",
    "result = list(filter(lambda palabra: len(palabra) > 5, palabras))"
   ]
  },
  {
   "cell_type": "code",
   "execution_count": null,
   "metadata": {},
   "outputs": [],
   "source": [
    "# Escriba su código aquí"
   ]
  },
  {
   "cell_type": "markdown",
   "metadata": {},
   "source": [
    "## **2. Breve introducción a la programación orientada a objetos**"
   ]
  },
  {
   "cell_type": "markdown",
   "metadata": {},
   "source": [
    "La Programación Orientada a Objetos (POO) en Python es un paradigma que permite modelar problemas de manera estructurada y modular. A continuación, se presentan los conceptos básicos de la POO en Python:\n",
    "\n",
    "### **1. Clases y Objetos**:\n",
    "\n",
    "* **Clase**: Es una plantilla o molde que define las propiedades y comportamientos de un objeto. Se define usando la palabra clave class.\n",
    "* **Objeto**: Es una instancia de una clase. Cada objeto tiene sus propias propiedades (atributos) y puede realizar acciones (métodos)."
   ]
  },
  {
   "cell_type": "code",
   "execution_count": 39,
   "metadata": {},
   "outputs": [],
   "source": [
    "class Coche:\n",
    "    pass\n",
    "\n",
    "mi_coche = Coche()  # Objeto mi_coche de la clase Coche"
   ]
  },
  {
   "cell_type": "markdown",
   "metadata": {},
   "source": [
    "### **2. Métodos**\n",
    "\n",
    "Son funciones definidas dentro de una clase. Se utilizan para definir las acciones que puede realizar un objeto."
   ]
  },
  {
   "cell_type": "code",
   "execution_count": 48,
   "metadata": {},
   "outputs": [
    {
     "name": "stdout",
     "output_type": "stream",
     "text": [
      "El coche de ha arrancado.\n"
     ]
    }
   ],
   "source": [
    "class Coche:\n",
    "    def arrancar(self):\n",
    "        print(f\"El coche de ha arrancado.\")\n",
    "\n",
    "mi_coche = Coche()\n",
    "mi_coche.arrancar()  # Salida: El coche ha arrancado."
   ]
  },
  {
   "cell_type": "markdown",
   "metadata": {},
   "source": [
    "### **3. Atributos**\n",
    "\n",
    "Son datos asociados a una clase o a una instancia de la clase. Pueden ser:\n",
    "\n",
    "* Atributos de clase: Compartidos por todos los objetos de la clase.\n",
    "* Atributos de instancia: Únicos para cada objeto."
   ]
  },
  {
   "cell_type": "code",
   "execution_count": null,
   "metadata": {},
   "outputs": [],
   "source": [
    "class Coche:\n",
    "    color = \"Negro\"  # Atributo de clase\n",
    "\n",
    "    def __init__(self, marca, modelo):\n",
    "        self.marca = marca  # Atributo de instancia\n",
    "        self.modelo = modelo  # Atributo de instancia\n",
    "\n",
    "    def arrancar(self):\n",
    "        return f\"El coche ha arrancado\"\n",
    "\n",
    "mi_coche = Coche(\"Toyota\", \"Corolla\")"
   ]
  },
  {
   "cell_type": "code",
   "execution_count": null,
   "metadata": {},
   "outputs": [],
   "source": [
    "# Muestre el atributo marca y modelo"
   ]
  },
  {
   "cell_type": "code",
   "execution_count": null,
   "metadata": {},
   "outputs": [],
   "source": [
    "# Muestre el qué hace el método arrancar"
   ]
  },
  {
   "cell_type": "markdown",
   "metadata": {},
   "source": [
    "## **3. Estructuras de datos**"
   ]
  },
  {
   "cell_type": "markdown",
   "metadata": {},
   "source": [
    "En la clase 2 se abordaron las estructuras de datos pero a continuación se verán en profundidad."
   ]
  },
  {
   "cell_type": "markdown",
   "metadata": {},
   "source": [
    "### **3.1 Listas**"
   ]
  },
  {
   "cell_type": "markdown",
   "metadata": {},
   "source": [
    "En Python, una lista es una estructura de datos que permite almacenar múltiples elementos en un solo objeto. Es una colección ordenada, mutable (se puede modificar después de su creación) y puede contener elementos de diferentes tipos de datos. En resumen:\n",
    "\n",
    "1. **Ordenadas**: Los elementos mantienen el orden en que se agregan.\n",
    "2. **Mutables**: Se pueden modificar agregando, eliminando o cambiando elementos.\n",
    "3. **Permiten duplicados**: Se pueden tener múltiples elementos con el mismo valor.\n",
    "4. **Pueden contener diferentes tipos de datos**: Aunque no es común, una lista puede almacenar enteros, cadenas, booleanos, otras listas, etc."
   ]
  },
  {
   "cell_type": "markdown",
   "metadata": {},
   "source": [
    "#### **3.1.1 Breve uso de las listas**"
   ]
  },
  {
   "cell_type": "code",
   "execution_count": 1,
   "metadata": {},
   "outputs": [],
   "source": [
    "number_list = [1, 5, 4, 2, 3, 1, 5]"
   ]
  },
  {
   "cell_type": "code",
   "execution_count": null,
   "metadata": {},
   "outputs": [],
   "source": [
    "# Muestre la lista"
   ]
  },
  {
   "cell_type": "code",
   "execution_count": null,
   "metadata": {},
   "outputs": [],
   "source": [
    "# Podemos saber el largo de la lista utilizando len()\n",
    "len(number_list) # Esto nos retornará la cantidad de elementos"
   ]
  },
  {
   "cell_type": "code",
   "execution_count": 2,
   "metadata": {},
   "outputs": [],
   "source": [
    "my_list = [\"hola\", 2, True, 5.46]"
   ]
  },
  {
   "cell_type": "code",
   "execution_count": null,
   "metadata": {},
   "outputs": [],
   "source": [
    "# Muestre my_list"
   ]
  },
  {
   "cell_type": "markdown",
   "metadata": {},
   "source": [
    "En resumen, en una lista puedo contener datos del mismo tipo o de distinto tipo."
   ]
  },
  {
   "cell_type": "markdown",
   "metadata": {},
   "source": [
    "**¿Podemos tener una lista de lista?**"
   ]
  },
  {
   "cell_type": "code",
   "execution_count": 3,
   "metadata": {},
   "outputs": [],
   "source": [
    "matriz = [[1,2,3], [4,5,6], [7,8,9]]"
   ]
  },
  {
   "cell_type": "code",
   "execution_count": null,
   "metadata": {},
   "outputs": [],
   "source": [
    "# Muestre la matriz"
   ]
  },
  {
   "cell_type": "code",
   "execution_count": null,
   "metadata": {},
   "outputs": [],
   "source": [
    "# Esto es otra forma de visualizar, pero es lo mismo que arriba.\n",
    "matriz = [\n",
    "    [1,2,3],\n",
    "    [4,5,6], \n",
    "    [7,8,9]\n",
    "]\n",
    "matriz"
   ]
  },
  {
   "cell_type": "markdown",
   "metadata": {},
   "source": [
    "Podemos expandir nuestra lista si tiene un tamaño fijo para repetir su valor."
   ]
  },
  {
   "cell_type": "code",
   "execution_count": 16,
   "metadata": {},
   "outputs": [],
   "source": [
    "expand = [0] "
   ]
  },
  {
   "cell_type": "code",
   "execution_count": null,
   "metadata": {},
   "outputs": [],
   "source": [
    "# Ejecute la siguiente celda\n",
    "print(expand * 5)"
   ]
  },
  {
   "cell_type": "code",
   "execution_count": 18,
   "metadata": {},
   "outputs": [],
   "source": [
    "expand = [1, \"true\", True, 1.5] "
   ]
  },
  {
   "cell_type": "code",
   "execution_count": null,
   "metadata": {},
   "outputs": [],
   "source": [
    "# Ejecute la siguiente celda\n",
    "print(expand * 5)"
   ]
  },
  {
   "cell_type": "markdown",
   "metadata": {},
   "source": [
    "**Podemos \"sumar\" listas que contengan elementos iguales o distintos**. La forma correcta de decir esto es `concatenar` dos listas (juntar)."
   ]
  },
  {
   "cell_type": "code",
   "execution_count": 20,
   "metadata": {},
   "outputs": [],
   "source": [
    "number = [1, 2, 3, 4, 5]\n",
    "char = ['a', 'b', 'c', 'd']"
   ]
  },
  {
   "cell_type": "code",
   "execution_count": null,
   "metadata": {},
   "outputs": [],
   "source": [
    "# Ejecute la siguiente celda\n",
    "concatenated = number + char\n",
    "print(concatenated)"
   ]
  },
  {
   "cell_type": "markdown",
   "metadata": {},
   "source": [
    "Existe la función (built-in) o función integrada en python `range()` que retorna una secuencia de números. A continuación, se describe la sintáxis de range().\n",
    "\n",
    "La función recibe tres argumentos:\n",
    "\n",
    "* start: Valor de inicio (opcional),\n",
    "* stop: valor de termino (obligatorio),\n",
    "* step: pasos (opcional) "
   ]
  },
  {
   "cell_type": "code",
   "execution_count": 22,
   "metadata": {},
   "outputs": [
    {
     "data": {
      "text/plain": [
       "range(0, 5)"
      ]
     },
     "execution_count": 22,
     "metadata": {},
     "output_type": "execute_result"
    }
   ],
   "source": [
    "seq_number = range(5)\n",
    "seq_number"
   ]
  },
  {
   "cell_type": "markdown",
   "metadata": {},
   "source": [
    "Ahora tenemos una secuencia de números que van de 0 a 4, y esa secuencia podemos convertirlo a una lista, utilizando ``list()``."
   ]
  },
  {
   "cell_type": "code",
   "execution_count": 23,
   "metadata": {},
   "outputs": [
    {
     "data": {
      "text/plain": [
       "[0, 1, 2, 3, 4]"
      ]
     },
     "execution_count": 23,
     "metadata": {},
     "output_type": "execute_result"
    }
   ],
   "source": [
    "list(seq_number)"
   ]
  },
  {
   "cell_type": "code",
   "execution_count": 28,
   "metadata": {},
   "outputs": [],
   "source": [
    "seq_number_2 = range(5,10,2)"
   ]
  },
  {
   "cell_type": "code",
   "execution_count": null,
   "metadata": {},
   "outputs": [],
   "source": [
    "# Ejecute la celda\n",
    "list(seq_number_2)"
   ]
  },
  {
   "cell_type": "code",
   "execution_count": 30,
   "metadata": {},
   "outputs": [],
   "source": [
    "char_list = list(\"Gabriel Olmos\")"
   ]
  },
  {
   "cell_type": "code",
   "execution_count": null,
   "metadata": {},
   "outputs": [],
   "source": [
    "# Ejecute la celda\n",
    "list(char_list)"
   ]
  },
  {
   "cell_type": "markdown",
   "metadata": {},
   "source": [
    "#### **3.1.2 Manipulación de listas**"
   ]
  },
  {
   "cell_type": "markdown",
   "metadata": {},
   "source": [
    "Dado que la lista es una estructura de datos, podemos acceder a sus valores, modificarlos o eliminaros. Para ello, se debe utilizar el índice para acceder a algún valor de la lista.\n",
    "\n",
    "```python\n",
    "lista_numeros = [1, 2, 3, 4, 5, 6, 7]\n",
    "```\n",
    "\n",
    "Cada valor separado por coma, tiene asociado un índice, empezando por 0 hasta n.\n",
    "\n",
    "```python\n",
    "# índice         0  1  2  3  4  5  6\n",
    "lista_numeros = [1, 2, 3, 4, 5, 6, 7]\n",
    "```"
   ]
  },
  {
   "cell_type": "code",
   "execution_count": 34,
   "metadata": {},
   "outputs": [],
   "source": [
    "number_list = list(range(1,11))\n",
    "# number_list"
   ]
  },
  {
   "cell_type": "code",
   "execution_count": null,
   "metadata": {},
   "outputs": [],
   "source": [
    "# Accediendo al primer, tercer y último elemento\n",
    "print(\"Accediendo al primer elemento de la lista:\", number_list[0])\n",
    "print(\"Accediendo al tercer elemento de la lista:\", number_list[2])\n",
    "print(\"Accediendo al último elemento de la lista:\", number_list[-1])"
   ]
  },
  {
   "cell_type": "markdown",
   "metadata": {},
   "source": [
    "Veamos otro ejemplo con otros tipos de datos, por ejemplo con strings."
   ]
  },
  {
   "cell_type": "code",
   "execution_count": 37,
   "metadata": {},
   "outputs": [],
   "source": [
    "frutas = ['manzanas', 'peras', 'naranjas', 'kiwi', 'uvas']"
   ]
  },
  {
   "cell_type": "code",
   "execution_count": null,
   "metadata": {},
   "outputs": [],
   "source": [
    "# Escriba su código aquí"
   ]
  },
  {
   "cell_type": "markdown",
   "metadata": {},
   "source": [
    "#### **3.1.3 Modificando elementos**"
   ]
  },
  {
   "cell_type": "code",
   "execution_count": null,
   "metadata": {},
   "outputs": [],
   "source": [
    "frutas = ['manzanas', 'peras', 'naranjas', 'kiwi', 'uvas']"
   ]
  },
  {
   "cell_type": "code",
   "execution_count": 38,
   "metadata": {},
   "outputs": [],
   "source": [
    "# Cambiando el último elemento\n",
    "frutas[-1] = 'plátano'"
   ]
  },
  {
   "cell_type": "code",
   "execution_count": null,
   "metadata": {},
   "outputs": [],
   "source": [
    "# Muestre por pantalla el resultado"
   ]
  },
  {
   "cell_type": "code",
   "execution_count": 40,
   "metadata": {},
   "outputs": [],
   "source": [
    "# Cambiando el primer elemento por un número\n",
    "frutas[0] = 1564"
   ]
  },
  {
   "cell_type": "code",
   "execution_count": null,
   "metadata": {},
   "outputs": [],
   "source": [
    "# Muestre por pantalla el resultado"
   ]
  },
  {
   "cell_type": "markdown",
   "metadata": {},
   "source": [
    "Es importante mencionar que los índices pueden enumerarse desde el final al inicio\n",
    "\n",
    "```python\n",
    "# índice        -5 -4 -3 -2 -1 \n",
    "lista_numeros = [5, 4, 3, 5, 6]\n",
    "```"
   ]
  },
  {
   "cell_type": "code",
   "execution_count": 41,
   "metadata": {},
   "outputs": [],
   "source": [
    "lista_numeros = [5, 4, 3, 5, 6]"
   ]
  },
  {
   "cell_type": "code",
   "execution_count": 43,
   "metadata": {},
   "outputs": [],
   "source": [
    "# Acceda al primer elemento usando índices negativos"
   ]
  },
  {
   "cell_type": "markdown",
   "metadata": {},
   "source": [
    "#### **3.1.4 Slicing**"
   ]
  },
  {
   "cell_type": "markdown",
   "metadata": {},
   "source": [
    "Podemos acceder a un conjunto de elementos dentro de una lista utilizando slicing, la notación es la siguiente:\n",
    "\n",
    "$$\\textbf{lista[\\textit{inicio}: \\textit{final}: \\textit{salto}]}$$"
   ]
  },
  {
   "cell_type": "code",
   "execution_count": null,
   "metadata": {},
   "outputs": [],
   "source": [
    "lista = [1, 2, 3, 4, 5, 6, 7, 8]\n",
    "lista[0:4]"
   ]
  },
  {
   "cell_type": "markdown",
   "metadata": {},
   "source": [
    "Puedo no especificar el inicio dejando en blanco pero sí especificando el final."
   ]
  },
  {
   "cell_type": "code",
   "execution_count": 46,
   "metadata": {},
   "outputs": [
    {
     "data": {
      "text/plain": [
       "[1, 2, 3, 4, 5, 6]"
      ]
     },
     "execution_count": 46,
     "metadata": {},
     "output_type": "execute_result"
    }
   ],
   "source": [
    "lista = [1, 2, 3, 4, 5, 6, 7, 8]\n",
    "lista[:6]"
   ]
  },
  {
   "cell_type": "code",
   "execution_count": null,
   "metadata": {},
   "outputs": [],
   "source": [
    "rango = list(range(11)) # Creamos una lista con 11 elementos, partiendo del 0\n",
    "print(rango)"
   ]
  },
  {
   "cell_type": "code",
   "execution_count": null,
   "metadata": {},
   "outputs": [],
   "source": [
    "# Muestra los valores pares utilizando slicing\n",
    "rango[::2]"
   ]
  },
  {
   "cell_type": "code",
   "execution_count": null,
   "metadata": {},
   "outputs": [],
   "source": [
    "# Muestra los valores impares utilizando slicing\n",
    "rango[1::2]"
   ]
  },
  {
   "cell_type": "code",
   "execution_count": 3,
   "metadata": {},
   "outputs": [
    {
     "data": {
      "text/plain": [
       "[10, 9, 8, 7, 6, 5, 4, 3, 2, 1, 0]"
      ]
     },
     "execution_count": 3,
     "metadata": {},
     "output_type": "execute_result"
    }
   ],
   "source": [
    "# Invertir los elementos de una lista\n",
    "rango[::-1]"
   ]
  },
  {
   "cell_type": "markdown",
   "metadata": {},
   "source": [
    "#### **3.1.5 Iterando sobre listas**"
   ]
  },
  {
   "cell_type": "markdown",
   "metadata": {},
   "source": [
    "En esta sección, veremos cómo recorrer las listas para mostrar su contenido."
   ]
  },
  {
   "cell_type": "code",
   "execution_count": null,
   "metadata": {},
   "outputs": [],
   "source": [
    "my_list = ['Gabriel', 'Juan', 'Felipe', 'Sebastián', 'Eduardo'] # Creamos nuesta lista con nombres"
   ]
  },
  {
   "cell_type": "code",
   "execution_count": null,
   "metadata": {},
   "outputs": [
    {
     "name": "stdout",
     "output_type": "stream",
     "text": [
      "Nombre: Gabriel\n",
      "Nombre: Juan\n",
      "Nombre: Felipe\n",
      "Nombre: Sebastián\n",
      "Nombre: Eduardo\n"
     ]
    }
   ],
   "source": [
    "for i in my_list: # el ínidce i está directamente tomando el contenido de la lista\n",
    "    print(\"Nombre:\", i)"
   ]
  },
  {
   "cell_type": "markdown",
   "metadata": {},
   "source": [
    "**¿Cómo puedo agregar el número del índice?**"
   ]
  },
  {
   "cell_type": "code",
   "execution_count": null,
   "metadata": {},
   "outputs": [
    {
     "name": "stdout",
     "output_type": "stream",
     "text": [
      "Nombre 1: Gabriel\n",
      "Nombre 2: Juan\n",
      "Nombre 3: Felipe\n",
      "Nombre 4: Sebastián\n",
      "Nombre 5: Eduardo\n"
     ]
    }
   ],
   "source": [
    "for i in range(len(my_list)): # estamos creando un iterable que va de 0 a 4\n",
    "    print(f\"Nombre {i+1}:\", my_list[i])"
   ]
  },
  {
   "cell_type": "markdown",
   "metadata": {},
   "source": [
    "**Podemos utilizar la función enumerate() para más simplicidad**"
   ]
  },
  {
   "cell_type": "code",
   "execution_count": 4,
   "metadata": {},
   "outputs": [
    {
     "name": "stdout",
     "output_type": "stream",
     "text": [
      "(0, 'Gabriel')\n",
      "(1, 'Juan')\n",
      "(2, 'Felipe')\n",
      "(3, 'Sebastián')\n",
      "(4, 'Eduardo')\n"
     ]
    }
   ],
   "source": [
    "for i in enumerate(my_list):\n",
    "    print(i)"
   ]
  },
  {
   "cell_type": "markdown",
   "metadata": {},
   "source": [
    "Podemos apreciar que nos retorna una tupla con el índice y el contenido en ese índice."
   ]
  },
  {
   "cell_type": "code",
   "execution_count": 7,
   "metadata": {},
   "outputs": [
    {
     "name": "stdout",
     "output_type": "stream",
     "text": [
      "Nombre 1: Gabriel\n",
      "Nombre 2: Juan\n",
      "Nombre 3: Felipe\n",
      "Nombre 4: Sebastián\n",
      "Nombre 5: Eduardo\n"
     ]
    }
   ],
   "source": [
    "for i, contenido in enumerate(my_list):\n",
    "    print(f\"Nombre {i+1}: {contenido}\")"
   ]
  },
  {
   "cell_type": "markdown",
   "metadata": {},
   "source": [
    "#### **3.1.6 Buscando elementos de una lista**"
   ]
  },
  {
   "cell_type": "markdown",
   "metadata": {},
   "source": [
    "En esta sección utilizaremos métodos que traen las listas (funciones interna de la clase lista)."
   ]
  },
  {
   "cell_type": "code",
   "execution_count": 8,
   "metadata": {},
   "outputs": [],
   "source": [
    "nombres = [\"Gabriel\", \"Juan\", \"Pepito\", \"Roberto\"]"
   ]
  },
  {
   "cell_type": "code",
   "execution_count": null,
   "metadata": {},
   "outputs": [],
   "source": [
    "# Podemos utilizar el método index para que nos retorne el índice de un contenido\n",
    "print(nombres.index(\"Roberto\"))"
   ]
  },
  {
   "cell_type": "markdown",
   "metadata": {},
   "source": [
    "**¿Qué ocurre si preguntamos por un elemento que no existe?**"
   ]
  },
  {
   "cell_type": "code",
   "execution_count": null,
   "metadata": {},
   "outputs": [],
   "source": [
    "print(nombres.index(\"Felipe\"))"
   ]
  },
  {
   "cell_type": "code",
   "execution_count": null,
   "metadata": {},
   "outputs": [],
   "source": [
    "# Podemos realizar una búsqueda más elegante para que no nos entregue un error.\n",
    "if \"Felipe\" in nombres:\n",
    "  print(nombres.index(\"Felipe\"))\n",
    "else:\n",
    "  print(\"Felipe no está en la lista\")"
   ]
  },
  {
   "cell_type": "markdown",
   "metadata": {},
   "source": [
    "#### **3.1.7 Agregar y elminar elementos**"
   ]
  },
  {
   "cell_type": "code",
   "execution_count": 11,
   "metadata": {},
   "outputs": [],
   "source": [
    "nombres = [\"Gabriel\", \"Juan\", \"Pepito\", \"Roberto\"]"
   ]
  },
  {
   "cell_type": "code",
   "execution_count": 12,
   "metadata": {},
   "outputs": [],
   "source": [
    "# Para agregar contenido al final de la lista se utiliza el método append()\n",
    "nombres.append(\"Felipe\")"
   ]
  },
  {
   "cell_type": "code",
   "execution_count": null,
   "metadata": {},
   "outputs": [],
   "source": [
    "# Muestra si se ha agregado el contenido a nombres"
   ]
  },
  {
   "cell_type": "code",
   "execution_count": 14,
   "metadata": {},
   "outputs": [],
   "source": [
    "# Podemos indicar en qué lugar queremos agregar el contenido\n",
    "nombres.insert(0, \"Sebastián\")"
   ]
  },
  {
   "cell_type": "code",
   "execution_count": null,
   "metadata": {},
   "outputs": [],
   "source": [
    "# Muestra si se ha agregado el contenido a nombres"
   ]
  },
  {
   "cell_type": "code",
   "execution_count": 16,
   "metadata": {},
   "outputs": [],
   "source": [
    "# Para eliminar un contenido se utiliza remove()\n",
    "nombres.remove(\"Sebastián\")"
   ]
  },
  {
   "cell_type": "code",
   "execution_count": null,
   "metadata": {},
   "outputs": [],
   "source": [
    "# Muestra si se ha eliminado el contenido en nombres"
   ]
  },
  {
   "cell_type": "code",
   "execution_count": 18,
   "metadata": {},
   "outputs": [
    {
     "data": {
      "text/plain": [
       "'Juan'"
      ]
     },
     "execution_count": 18,
     "metadata": {},
     "output_type": "execute_result"
    }
   ],
   "source": [
    "# Para eliminar un contenido indicando el índice o no con pop, si no lo indico se elimina el último elemento\n",
    "nombres.pop(1)"
   ]
  },
  {
   "cell_type": "code",
   "execution_count": null,
   "metadata": {},
   "outputs": [],
   "source": [
    "# Muestra si se ha eliminado el contenido en nombres"
   ]
  },
  {
   "cell_type": "code",
   "execution_count": 20,
   "metadata": {},
   "outputs": [],
   "source": [
    "# Podemos eliminar contenido de una lista utilizando la palabra reservada del\n",
    "del nombres[-1]"
   ]
  },
  {
   "cell_type": "code",
   "execution_count": null,
   "metadata": {},
   "outputs": [],
   "source": [
    "# Muestra si se ha eliminado el contenido en nombres"
   ]
  },
  {
   "cell_type": "code",
   "execution_count": 22,
   "metadata": {},
   "outputs": [],
   "source": [
    "# Podemos limpiar completamente una lista con el método clear()\n",
    "nombres.clear()"
   ]
  },
  {
   "cell_type": "code",
   "execution_count": 23,
   "metadata": {},
   "outputs": [
    {
     "data": {
      "text/plain": [
       "[]"
      ]
     },
     "execution_count": 23,
     "metadata": {},
     "output_type": "execute_result"
    }
   ],
   "source": [
    "nombres"
   ]
  },
  {
   "cell_type": "markdown",
   "metadata": {},
   "source": [
    "#### **3.1.8 Ordenando elementos**"
   ]
  },
  {
   "cell_type": "code",
   "execution_count": null,
   "metadata": {},
   "outputs": [],
   "source": [
    "# Añade 6 numeros del 1 al 100 desordenados\n",
    "unordered_list = []"
   ]
  },
  {
   "cell_type": "code",
   "execution_count": 26,
   "metadata": {},
   "outputs": [],
   "source": [
    "# Orden ascendente\n",
    "unordered_list.sort()"
   ]
  },
  {
   "cell_type": "code",
   "execution_count": null,
   "metadata": {},
   "outputs": [],
   "source": [
    "# Muestra el resultado"
   ]
  },
  {
   "cell_type": "code",
   "execution_count": 28,
   "metadata": {},
   "outputs": [],
   "source": [
    "# Orden descendente\n",
    "unordered_list.sort(reverse=True)"
   ]
  },
  {
   "cell_type": "markdown",
   "metadata": {},
   "source": [
    "Si te fijas, estamos afectando a la instancia creada **unordered_list** al utilizar esos métodos. Pero si no queremos afectar a la lista desordenada y queremos ordenar esa misma instancia pero en otra variable, ¿qué debemos hacer?"
   ]
  },
  {
   "cell_type": "code",
   "execution_count": 30,
   "metadata": {},
   "outputs": [],
   "source": [
    "unordered_list = [66, 78, 100, 5, 4, 3]\n",
    "\n",
    "lista_ordenada = sorted(unordered_list)"
   ]
  },
  {
   "cell_type": "code",
   "execution_count": 34,
   "metadata": {},
   "outputs": [],
   "source": [
    "# Muestra con un print la instancia desordenada y la instancia ordenada"
   ]
  },
  {
   "cell_type": "markdown",
   "metadata": {},
   "source": [
    "#### **3.1.9 Compresión de listas**"
   ]
  },
  {
   "cell_type": "markdown",
   "metadata": {},
   "source": [
    "La compresión de lista nos permite reducir líneas de código en una sola."
   ]
  },
  {
   "cell_type": "code",
   "execution_count": 35,
   "metadata": {},
   "outputs": [],
   "source": [
    "matriz = [\n",
    "    [\"Gabriel\", \"Olmos\"],\n",
    "    [\"Juan\", \"Pérez\"],\n",
    "    [\"Pedro\", \"González\"],\n",
    "    [\"Felipe\", \"Vallejos\"],\n",
    "]"
   ]
  },
  {
   "cell_type": "markdown",
   "metadata": {},
   "source": [
    "Podemos obtener el primer elemento de cada lista y guardarlo en una única lista."
   ]
  },
  {
   "cell_type": "code",
   "execution_count": 38,
   "metadata": {},
   "outputs": [
    {
     "data": {
      "text/plain": [
       "['Gabriel', 'Juan', 'Pedro', 'Felipe']"
      ]
     },
     "execution_count": 38,
     "metadata": {},
     "output_type": "execute_result"
    }
   ],
   "source": [
    "lista_nombres = [i[0] for i in matriz]\n",
    "lista_nombres"
   ]
  },
  {
   "cell_type": "markdown",
   "metadata": {},
   "source": [
    "**¿Cómo hubiese sido sin la compresión de lista?**"
   ]
  },
  {
   "cell_type": "code",
   "execution_count": 41,
   "metadata": {},
   "outputs": [],
   "source": [
    "lista_nombres_2 = []\n",
    "\n",
    "for _ in matriz:\n",
    "    lista_nombres_2.append(_[0])"
   ]
  },
  {
   "cell_type": "code",
   "execution_count": 42,
   "metadata": {},
   "outputs": [
    {
     "data": {
      "text/plain": [
       "['Gabriel', 'Juan', 'Pedro', 'Felipe']"
      ]
     },
     "execution_count": 42,
     "metadata": {},
     "output_type": "execute_result"
    }
   ],
   "source": [
    "lista_nombres_2"
   ]
  },
  {
   "cell_type": "markdown",
   "metadata": {},
   "source": [
    "### **3.2 Diccionarios**"
   ]
  },
  {
   "cell_type": "markdown",
   "metadata": {},
   "source": [
    "En Python, un diccionario es una estructura de datos que almacena pares de elementos ``clave-valor``. Es una colección mutable, sin orden, y que permite elementos duplicados en los valores, pero no en las claves.\n",
    "\n",
    "```python\n",
    "# La clave siempre es un string y el valor puede ser cualquier tipo básico\n",
    "dic = {\"\": }\n",
    "```\n",
    "\n",
    "* **Clave**: Cada elemento en un diccionario tiene una clave única. Las claves son inmutables y típicamente son cadenas, números o tuplas, pero pueden ser de cualquier tipo inmutable.\n",
    "* **Valor**: Asociado a cada clave hay un valor. Los valores pueden ser de cualquier tipo de datos en Python, incluyendo otras estructuras de datos, objetos definidos por el usuario o incluso funciones."
   ]
  },
  {
   "cell_type": "code",
   "execution_count": 1,
   "metadata": {},
   "outputs": [],
   "source": [
    "dic = {\n",
    "    'Nombre': 'Gabriel',\n",
    "    'Apellido': 'Olmos',\n",
    "    'Cursos': ['Inteligencia Artificial Generativa', 'Programación 2'],\n",
    "    'Estudiantes': {\n",
    "        'Estudiantes': [\n",
    "            {'Juan', 'Francisco', 'Javier'}\n",
    "        ]\n",
    "    }\n",
    "}"
   ]
  },
  {
   "cell_type": "code",
   "execution_count": null,
   "metadata": {},
   "outputs": [],
   "source": [
    "# Acceder a cada elemento de dic"
   ]
  },
  {
   "cell_type": "markdown",
   "metadata": {},
   "source": [
    "#### **3.2.1 Métodos de los diccionarios**\n",
    "\n",
    "* **keys()**: Retorna las llaves.\n",
    "* **get()**: Recupera los valores de las claves.\n",
    "* **values()**: Devuelve una vista (view) de todos los valores del diccionario.\n",
    "* **items()**: Devuelve una vista de todos los pares de clave y valor del diccionario. Cada par de clave-valor se representa como una tupla en el formato (clave, valor). Esta vista es iterable, lo que significa que puedes recorrerla con un bucle o convertirla a una lista de tuplas.\n",
    "* **pop()**: Elimina un elemento del diccionario usando su clave y devuelve el valor asociado a esa clave. Si la clave no existe, se lanzará una excepción KeyError a menos que se proporcione un valor por defecto\n",
    "* **update()**: Permite actualizar un diccionario con los pares clave-valor de otro diccionario o de un iterable de tuplas. Si las claves ya existen, sus valores serán reemplazados por los nuevos valores. Si las claves no existen, se agregarán al diccionario."
   ]
  },
  {
   "cell_type": "code",
   "execution_count": 2,
   "metadata": {},
   "outputs": [],
   "source": [
    "llaves = dic.keys()"
   ]
  },
  {
   "cell_type": "code",
   "execution_count": 3,
   "metadata": {},
   "outputs": [],
   "source": [
    "# Muestra qué retorna"
   ]
  },
  {
   "cell_type": "code",
   "execution_count": 12,
   "metadata": {},
   "outputs": [],
   "source": [
    "valor = dic.get('Gabriel')"
   ]
  },
  {
   "cell_type": "code",
   "execution_count": null,
   "metadata": {},
   "outputs": [],
   "source": [
    "# Muestra qué retorna"
   ]
  },
  {
   "cell_type": "code",
   "execution_count": 14,
   "metadata": {},
   "outputs": [],
   "source": [
    "valores = dic.values()"
   ]
  },
  {
   "cell_type": "code",
   "execution_count": null,
   "metadata": {},
   "outputs": [],
   "source": [
    "# Muestra qué retorna valores"
   ]
  },
  {
   "cell_type": "code",
   "execution_count": null,
   "metadata": {},
   "outputs": [],
   "source": [
    "elementos = dic.items() # Retorna un objeto iterable y podemos convertirlo a una tupla"
   ]
  },
  {
   "cell_type": "code",
   "execution_count": null,
   "metadata": {},
   "outputs": [],
   "source": [
    "# Muestra qué retorna elementos"
   ]
  },
  {
   "cell_type": "code",
   "execution_count": 19,
   "metadata": {},
   "outputs": [],
   "source": [
    "valor_eliminado = dic.pop('Estudiantes')"
   ]
  },
  {
   "cell_type": "code",
   "execution_count": null,
   "metadata": {},
   "outputs": [],
   "source": [
    "# Muestra el valor eliminado"
   ]
  },
  {
   "cell_type": "code",
   "execution_count": null,
   "metadata": {},
   "outputs": [],
   "source": [
    "# Muestra cómo quedó el diccionario"
   ]
  },
  {
   "cell_type": "code",
   "execution_count": 22,
   "metadata": {},
   "outputs": [],
   "source": [
    "dic.update({'Cursos': ['Ninguno'], 'Estudiantes': ['Juan', 'Pedro']})"
   ]
  },
  {
   "cell_type": "code",
   "execution_count": null,
   "metadata": {},
   "outputs": [],
   "source": [
    "# Muestra cómo quedó el diccionario"
   ]
  },
  {
   "cell_type": "markdown",
   "metadata": {},
   "source": [
    "### **3.3 Tuplas**"
   ]
  },
  {
   "cell_type": "markdown",
   "metadata": {},
   "source": [
    "Las tuplas son una de las estructuras de datos más importantes y útiles en Python. Son similares a las listas, pero con la diferencia clave de que son **inmutables**, lo que significa que una vez que se crean, no pueden modificarse.\n",
    "\n",
    "Algunas características:\n",
    "\n",
    "* **Inmutabilidad**: Una vez creada una tupla, no puedes agregar, modificar ni eliminar elementos.\n",
    "* **Ordenadas**: Los elementos de una tupla mantienen un orden, por lo que puedes acceder a ellos por índice.\n",
    "* **Permiten elementos duplicados**: Al igual que las listas, las tuplas pueden contener elementos repetidos.\n",
    "* **Pueden contener elementos de diferentes tipos**: Las tuplas pueden almacenar enteros, cadenas, listas y otros tipos de objetos."
   ]
  },
  {
   "cell_type": "code",
   "execution_count": 25,
   "metadata": {},
   "outputs": [],
   "source": [
    "mi_tupla = (1, 2, 3, \"Python\", [1, 2, 3])"
   ]
  },
  {
   "cell_type": "code",
   "execution_count": 27,
   "metadata": {},
   "outputs": [
    {
     "data": {
      "text/plain": [
       "(1, 2, 3, 'Python', [1, 2, 3])"
      ]
     },
     "execution_count": 27,
     "metadata": {},
     "output_type": "execute_result"
    }
   ],
   "source": [
    "mi_tupla"
   ]
  },
  {
   "cell_type": "markdown",
   "metadata": {},
   "source": [
    "Ahora comprobemos la inmutabilidad en las tuplas."
   ]
  },
  {
   "cell_type": "code",
   "execution_count": null,
   "metadata": {},
   "outputs": [
    {
     "ename": "TypeError",
     "evalue": "'tuple' object does not support item assignment",
     "output_type": "error",
     "traceback": [
      "\u001b[1;31m---------------------------------------------------------------------------\u001b[0m",
      "\u001b[1;31mTypeError\u001b[0m                                 Traceback (most recent call last)",
      "Cell \u001b[1;32mIn[26], line 1\u001b[0m\n\u001b[1;32m----> 1\u001b[0m \u001b[43mmi_tupla\u001b[49m\u001b[43m[\u001b[49m\u001b[38;5;241;43m0\u001b[39;49m\u001b[43m]\u001b[49m \u001b[38;5;241m=\u001b[39m \u001b[38;5;241m5\u001b[39m\n",
      "\u001b[1;31mTypeError\u001b[0m: 'tuple' object does not support item assignment"
     ]
    }
   ],
   "source": [
    "# Inmutabilidad\n",
    "\n",
    "mi_tupla[0] = 5"
   ]
  },
  {
   "cell_type": "markdown",
   "metadata": {},
   "source": [
    "#### **3.3.1 Algunos métodos**"
   ]
  },
  {
   "cell_type": "markdown",
   "metadata": {},
   "source": [
    "* **count()**: Este método devuelve cuántas veces aparece un elemento específico en la tupla."
   ]
  },
  {
   "cell_type": "code",
   "execution_count": 31,
   "metadata": {},
   "outputs": [],
   "source": [
    "tupla = (5, 4, 8, 1, 2, 3, 3)"
   ]
  },
  {
   "cell_type": "code",
   "execution_count": 32,
   "metadata": {},
   "outputs": [
    {
     "data": {
      "text/plain": [
       "2"
      ]
     },
     "execution_count": 32,
     "metadata": {},
     "output_type": "execute_result"
    }
   ],
   "source": [
    "tupla.count(3)"
   ]
  },
  {
   "cell_type": "markdown",
   "metadata": {},
   "source": [
    "* **index()**: Este método devuelve el índice de la primera aparición de un elemento específico. Si el elemento no existe, lanza un ValueError."
   ]
  },
  {
   "cell_type": "code",
   "execution_count": null,
   "metadata": {},
   "outputs": [
    {
     "data": {
      "text/plain": [
       "2"
      ]
     },
     "execution_count": 33,
     "metadata": {},
     "output_type": "execute_result"
    }
   ],
   "source": [
    "# PReguntemos por el valor de 8\n",
    "tupla.index(8)"
   ]
  },
  {
   "cell_type": "code",
   "execution_count": null,
   "metadata": {},
   "outputs": [
    {
     "ename": "ValueError",
     "evalue": "tuple.index(x): x not in tuple",
     "output_type": "error",
     "traceback": [
      "\u001b[1;31m---------------------------------------------------------------------------\u001b[0m",
      "\u001b[1;31mValueError\u001b[0m                                Traceback (most recent call last)",
      "Cell \u001b[1;32mIn[34], line 1\u001b[0m\n\u001b[1;32m----> 1\u001b[0m \u001b[43mtupla\u001b[49m\u001b[38;5;241;43m.\u001b[39;49m\u001b[43mindex\u001b[49m\u001b[43m(\u001b[49m\u001b[38;5;241;43m6\u001b[39;49m\u001b[43m)\u001b[49m\n",
      "\u001b[1;31mValueError\u001b[0m: tuple.index(x): x not in tuple"
     ]
    }
   ],
   "source": [
    "# Preguntemos por el valor de 6 (que no está en la tupla)\n",
    "tupla.index(6)"
   ]
  },
  {
   "cell_type": "markdown",
   "metadata": {},
   "source": [
    "#### **3.3.2 ¿Qué más puedo hacer con las Tuplas?**"
   ]
  },
  {
   "cell_type": "markdown",
   "metadata": {},
   "source": [
    "Se pueden realizar las mismas manipulaciones que las listas, slicing, acceder a un elemento, concatenar tuplas, tener una tupla de tupla, repetir elementos de una tupla, etc."
   ]
  },
  {
   "cell_type": "markdown",
   "metadata": {},
   "source": [
    "### **3.4 Set**\n"
   ]
  },
  {
   "cell_type": "markdown",
   "metadata": {},
   "source": [
    "Los **sets** en Python son estructuras de datos que representan conjuntos no ordenados de elementos únicos. Se pueden utilizar para eliminar duplicados, realizar operaciones de conjuntos como uniones e intersecciones, y optimizar búsquedas."
   ]
  },
  {
   "cell_type": "code",
   "execution_count": 35,
   "metadata": {},
   "outputs": [],
   "source": [
    "mi_set = {5, 2, 3, 4, 4}"
   ]
  },
  {
   "cell_type": "code",
   "execution_count": null,
   "metadata": {},
   "outputs": [],
   "source": [
    "# Muestra lo que obtienes"
   ]
  },
  {
   "cell_type": "code",
   "execution_count": 37,
   "metadata": {},
   "outputs": [],
   "source": [
    "lista = [1, 2, 2, 3, 3, 4, 4, 5, 5, \"hola\"]\n",
    "\n",
    "set_1 = set(lista)"
   ]
  },
  {
   "cell_type": "markdown",
   "metadata": {},
   "source": [
    "#### **3.4.1 Agregar o eliminar elementos**\n"
   ]
  },
  {
   "cell_type": "code",
   "execution_count": null,
   "metadata": {},
   "outputs": [],
   "source": [
    "mi_set = {1, 2, 3}"
   ]
  },
  {
   "cell_type": "code",
   "execution_count": null,
   "metadata": {},
   "outputs": [],
   "source": [
    "# Agregar un elemento\n",
    "mi_set.add(4)  "
   ]
  },
  {
   "cell_type": "code",
   "execution_count": null,
   "metadata": {},
   "outputs": [],
   "source": [
    "# Muestra el elemento agregado"
   ]
  },
  {
   "cell_type": "code",
   "execution_count": null,
   "metadata": {},
   "outputs": [],
   "source": [
    "# Agregar múltiples elementos\n",
    "mi_set.update([5, 6, 7])"
   ]
  },
  {
   "cell_type": "code",
   "execution_count": null,
   "metadata": {},
   "outputs": [],
   "source": [
    "# Muestra los elementos agregados"
   ]
  },
  {
   "cell_type": "code",
   "execution_count": null,
   "metadata": {},
   "outputs": [],
   "source": [
    "# Eliminar un elemento (lanza error si no existe)\n",
    "mi_set.remove(3)  "
   ]
  },
  {
   "cell_type": "code",
   "execution_count": null,
   "metadata": {},
   "outputs": [],
   "source": [
    "# Muestra el elemento eliminado"
   ]
  },
  {
   "cell_type": "code",
   "execution_count": null,
   "metadata": {},
   "outputs": [],
   "source": [
    "# Vaciar el set\n",
    "mi_set.clear()"
   ]
  },
  {
   "cell_type": "code",
   "execution_count": null,
   "metadata": {},
   "outputs": [],
   "source": [
    "# Muestra el set vacío"
   ]
  },
  {
   "cell_type": "markdown",
   "metadata": {},
   "source": [
    "Por último, existen más métodos, los anteriores son algunos."
   ]
  },
  {
   "cell_type": "markdown",
   "metadata": {},
   "source": [
    "#### **3.4.2 Operaciones de conjunto**\n"
   ]
  },
  {
   "cell_type": "code",
   "execution_count": 43,
   "metadata": {},
   "outputs": [],
   "source": [
    "A = {1, 2, 3, 4}\n",
    "B = {3, 4, 5, 6}"
   ]
  },
  {
   "cell_type": "code",
   "execution_count": 40,
   "metadata": {},
   "outputs": [
    {
     "name": "stdout",
     "output_type": "stream",
     "text": [
      "{1, 2, 3, 4, 5, 6}\n"
     ]
    }
   ],
   "source": [
    "# Unión (A ∪ B) -> Combina ambos sets\n",
    "print(A | B)"
   ]
  },
  {
   "cell_type": "code",
   "execution_count": null,
   "metadata": {},
   "outputs": [],
   "source": [
    "# Unión (A ∪ B) -> Combina ambos sets\n",
    "print(A.union(B))"
   ]
  },
  {
   "cell_type": "code",
   "execution_count": 41,
   "metadata": {},
   "outputs": [
    {
     "name": "stdout",
     "output_type": "stream",
     "text": [
      "{3, 4}\n",
      "{3, 4}\n"
     ]
    }
   ],
   "source": [
    "# Intersección (A ∩ B) -> Elementos en común\n",
    "print(A & B)     \n",
    "print(A.intersection(B))"
   ]
  },
  {
   "cell_type": "code",
   "execution_count": 44,
   "metadata": {},
   "outputs": [
    {
     "name": "stdout",
     "output_type": "stream",
     "text": [
      "{1, 2}\n",
      "{1, 2}\n"
     ]
    }
   ],
   "source": [
    "# Diferencia (A - B) -> Elementos en A que no están en B\n",
    "print(A - B)           \n",
    "print(A.difference(B)) "
   ]
  },
  {
   "cell_type": "code",
   "execution_count": 45,
   "metadata": {},
   "outputs": [
    {
     "name": "stdout",
     "output_type": "stream",
     "text": [
      "{1, 2, 5, 6}\n",
      "{1, 2, 5, 6}\n"
     ]
    }
   ],
   "source": [
    "# Diferencia simétrica (A △ B) -> Elementos en A o B, pero no en ambos\n",
    "print(A ^ B)           # {1, 2, 5, 6}\n",
    "print(A.symmetric_difference(B)) # {1, 2, 5, 6}"
   ]
  },
  {
   "cell_type": "markdown",
   "metadata": {},
   "source": [
    "Finalmente, existen más operaciones que se pueden realizar con los set, estás son algunas."
   ]
  },
  {
   "cell_type": "markdown",
   "metadata": {},
   "source": [
    "### **3.5 Strings**\n"
   ]
  },
  {
   "cell_type": "code",
   "execution_count": 54,
   "metadata": {},
   "outputs": [],
   "source": [
    "string_1 = \"Hola me llamo Gabriel\"\n",
    "string_2 = 'Hola me llamo Gabriel'\n",
    "string_1 = \"\"\"\n",
    "Hola,\n",
    "me llamo Gabriel Olmos\n",
    "\"\"\""
   ]
  },
  {
   "cell_type": "code",
   "execution_count": null,
   "metadata": {},
   "outputs": [],
   "source": [
    "# Muestra con un print cada resultado"
   ]
  },
  {
   "cell_type": "code",
   "execution_count": null,
   "metadata": {},
   "outputs": [
    {
     "data": {
      "text/plain": [
       "'H'"
      ]
     },
     "execution_count": 56,
     "metadata": {},
     "output_type": "execute_result"
    }
   ],
   "source": [
    "# El string es un iterable, por lo cual puedo utilizar el slicing\n",
    "string_1[1]"
   ]
  },
  {
   "cell_type": "code",
   "execution_count": 57,
   "metadata": {},
   "outputs": [
    {
     "data": {
      "text/plain": [
       "'\\nHola'"
      ]
     },
     "execution_count": 57,
     "metadata": {},
     "output_type": "execute_result"
    }
   ],
   "source": [
    "# El string es un iterable, por lo cual puedo utilizar el slicing\n",
    "string_1[:5]"
   ]
  },
  {
   "cell_type": "code",
   "execution_count": 58,
   "metadata": {},
   "outputs": [
    {
     "name": "stdout",
     "output_type": "stream",
     "text": [
      "Hola me llamo Gabriel\n"
     ]
    }
   ],
   "source": [
    "# Insertar valores dentro de un string\n",
    "nombre = \"Gabriel\"\n",
    "\n",
    "mensaje = f\"Hola me llamo {nombre}\"\n",
    "\n",
    "print(mensaje)"
   ]
  },
  {
   "cell_type": "markdown",
   "metadata": {},
   "source": [
    "#### **3.5.1 Métodos del string**\n"
   ]
  },
  {
   "cell_type": "markdown",
   "metadata": {},
   "source": [
    "\n",
    "##### **1. Métodos de modificación y transformación**\n",
    "Estos métodos devuelven una nueva cadena con la modificación aplicada, ya que los strings son inmutables.\n",
    "\n",
    "| Método | Descripción | Ejemplo |\n",
    "|--------|------------|---------|\n",
    "| `upper()` | Convierte a mayúsculas | `\"hola\".upper()` → `'HOLA'` |\n",
    "| `lower()` | Convierte a minúsculas | `\"HOLA\".lower()` → `'hola'` |\n",
    "| `capitalize()` | Pone la primera letra en mayúscula | `\"python\".capitalize()` → `'Python'` |\n",
    "| `title()` | Pone en mayúscula la primera letra de cada palabra | `\"hola mundo\".title()` → `'Hola Mundo'` |\n",
    "| `swapcase()` | Invierte mayúsculas y minúsculas | `\"HoLa\".swapcase()` → `'hOlA'` |\n",
    "\n"
   ]
  },
  {
   "cell_type": "markdown",
   "metadata": {},
   "source": [
    "A continuación, prueba los métodos que se muestran en la tabla. Por último, cuando termine con la tabla puede seguir con las otras."
   ]
  },
  {
   "cell_type": "code",
   "execution_count": null,
   "metadata": {},
   "outputs": [],
   "source": [
    "palabra = \"HoLa me Llamo Gabriel  \""
   ]
  },
  {
   "cell_type": "markdown",
   "metadata": {},
   "source": [
    "##### **2. Métodos de búsqueda**\n",
    "Estos métodos ayudan a encontrar subcadenas dentro de una cadena.\n",
    "\n",
    "| Método | Descripción | Ejemplo |\n",
    "|--------|------------|---------|\n",
    "| `find(sub)` | Devuelve el índice de la primera aparición de `sub`, o `-1` si no se encuentra | `\"Hola mundo\".find(\"mundo\")` → `5` |\n",
    "| `index(sub)` | Igual que `find()`, pero lanza un error si no encuentra `sub` | `\"Hola mundo\".index(\"mundo\")` → `5` |\n",
    "| `rfind(sub)` | Igual que `find()`, pero busca desde el final | `\"Hola mundo mundo\".rfind(\"mundo\")` → `11` |\n",
    "| `count(sub)` | Devuelve cuántas veces aparece `sub` | `\"banana\".count(\"a\")` → `3` |"
   ]
  },
  {
   "cell_type": "markdown",
   "metadata": {},
   "source": [
    "##### **3. Métodos de verificación**\n",
    "Devuelven `True` o `False` dependiendo del contenido de la cadena.\n",
    "\n",
    "| Método | Descripción | Ejemplo |\n",
    "|--------|------------|---------|\n",
    "| `startswith(sub)` | Verifica si la cadena empieza con `sub` | `\"Hola\".startswith(\"Ho\")` → `True` |\n",
    "| `endswith(sub)` | Verifica si la cadena termina con `sub` | `\"Hola\".endswith(\"la\")` → `True` |\n",
    "| `isalpha()` | Verifica si contiene solo letras | `\"Hola\".isalpha()` → `True` |\n",
    "| `isdigit()` | Verifica si contiene solo dígitos | `\"123\".isdigit()` → `True` |\n",
    "| `isalnum()` | Verifica si es alfanumérico (solo letras y números) | `\"Hola123\".isalnum()` → `True` |\n",
    "| `isspace()` | Verifica si solo tiene espacios | `\"   \".isspace()` → `True` |"
   ]
  },
  {
   "cell_type": "markdown",
   "metadata": {},
   "source": [
    "##### **4. Métodos de reemplazo y eliminación de espacios**\n",
    "Estos métodos sirven para limpiar o modificar partes de una cadena.\n",
    "\n",
    "| Método | Descripción | Ejemplo |\n",
    "|--------|------------|---------|\n",
    "| `replace(old, new)` | Reemplaza todas las apariciones de `old` por `new` | `\"Hola mundo\".replace(\"mundo\", \"Python\")` → `'Hola Python'` |\n",
    "| `strip()` | Elimina espacios al inicio y al final | `\"  hola  \".strip()` → `'hola'` |\n",
    "| `lstrip()` | Elimina espacios solo a la izquierda | `\"  hola\".lstrip()` → `'hola'` |\n",
    "| `rstrip()` | Elimina espacios solo a la derecha | `\"hola  \".rstrip()` → `'hola'` |\n",
    "\n",
    "\n"
   ]
  },
  {
   "cell_type": "markdown",
   "metadata": {},
   "source": [
    "##### **5. Métodos de división y unión**\n",
    "Estos métodos permiten dividir y unir strings.\n",
    "\n",
    "| Método | Descripción | Ejemplo |\n",
    "|--------|------------|---------|\n",
    "| `split(sep)` | Divide la cadena en una lista según `sep` | `\"a,b,c\".split(\",\")` → `['a', 'b', 'c']` |\n",
    "| `splitlines()` | Divide la cadena en líneas | `\"Hola\\nMundo\".splitlines()` → `['Hola', 'Mundo']` |\n",
    "| `join(iterable)` | Une una lista de strings en una sola cadena usando un separador | `\"-\".join(['a', 'b', 'c'])` → `'a-b-c'` |"
   ]
  },
  {
   "cell_type": "markdown",
   "metadata": {},
   "source": [
    "##### **6. Métodos de alineación**\n",
    "Permiten alinear texto dentro de un ancho fijo.\n",
    "\n",
    "| Método | Descripción | Ejemplo |\n",
    "|--------|------------|---------|\n",
    "| `center(width, fillchar)` | Centra la cadena en un ancho de `width` usando `fillchar` como relleno | `\"Hola\".center(10, \"-\")` → `'---Hola---'` |\n",
    "| `ljust(width, fillchar)` | Alinea a la izquierda dentro de `width` | `\"Hola\".ljust(10, \"-\")` → `'Hola------'` |\n",
    "| `rjust(width, fillchar)` | Alinea a la derecha dentro de `width` | `\"Hola\".rjust(10, \"-\")` → `'------Hola'` |\n",
    "| `zfill(width)` | Agrega ceros a la izquierda hasta alcanzar `width` | `\"42\".zfill(5)` → `'00042'` |"
   ]
  },
  {
   "cell_type": "markdown",
   "metadata": {},
   "source": [
    "## **4. Ejercicios**"
   ]
  },
  {
   "cell_type": "markdown",
   "metadata": {},
   "source": [
    "### **4.1 Ejercicios con Listas**\n",
    "\n",
    "1. **Suma de elementos en una lista**  \n",
    "   Escribe una función que reciba una lista de números y retorne la suma de sus elementos.\n",
    "\n",
    "2. **Eliminar duplicados**  \n",
    "   Escribe una función que elimine los elementos duplicados de una lista y devuelva una lista sin repetidos.\n",
    "\n",
    "3. **Lista inversa**  \n",
    "   Escribe una función que tome una lista y devuelva otra lista con los elementos en orden inverso sin usar `reverse()` ni `[::-1]`.\n",
    "\n",
    "4. **Multiplicación de elementos**  \n",
    "   Escribe una función que tome una lista de números y devuelva una nueva lista donde cada elemento sea el producto de todos los números excepto el de su posición.\n",
    "\n",
    "5. **Ordenar lista sin `sort()`**  \n",
    "   Implementa el algoritmo de ordenamiento burbuja (`bubble sort`) para ordenar una lista de números de menor a mayor."
   ]
  },
  {
   "cell_type": "markdown",
   "metadata": {},
   "source": [
    "### **4.2 Ejercicios con Listas de Listas**\n",
    "\n",
    "6. **Suma de filas y columnas**  \n",
    "   Dada una matriz representada como una lista de listas, escribe una función que retorne la suma de cada fila y la suma de cada columna.\n",
    "\n",
    "7. **Transposición de una matriz**  \n",
    "   Escribe una función que tome una matriz cuadrada y retorne su transpuesta (intercambiando filas por columnas).\n",
    "\n",
    "8. **Multiplicación de matrices**  \n",
    "   Escribe una función que realice la multiplicación de dos matrices representadas como listas de listas.\n",
    "\n",
    "9. **Encontrar el valor máximo en una matriz**  \n",
    "   Escribe una función que encuentre el valor más grande en una matriz y retorne su posición (fila, columna).\n",
    "\n",
    "10. **Búsqueda en matriz**  \n",
    "    Escribe una función que tome una matriz y un número, y devuelva `True` si el número está en la matriz, y `False` en caso contrario."
   ]
  },
  {
   "cell_type": "markdown",
   "metadata": {},
   "source": [
    "### **4.3 Ejercicios con Diccionarios**\n",
    "\n",
    "11. **Contar frecuencia de elementos**  \n",
    "    Dada una lista de palabras, escribe una función que devuelva un diccionario con la frecuencia de cada palabra.\n",
    "\n",
    "12. **Invertir un diccionario**  \n",
    "    Escribe una función que tome un diccionario e invierta sus claves y valores (asumiendo que los valores son únicos).\n",
    "\n",
    "13. **Fusionar diccionarios**  \n",
    "    Escribe una función que tome dos diccionarios y los combine, sumando los valores si una clave está presente en ambos.\n",
    "\n",
    "14. **Filtrar un diccionario**  \n",
    "    Escribe una función que tome un diccionario y una lista de claves, y devuelva un nuevo diccionario solo con las claves especificadas.\n",
    "\n",
    "15. **Ordenar un diccionario por valores**  \n",
    "    Escribe una función que ordene un diccionario de menor a mayor según sus valores y retorne una lista de tuplas `(clave, valor)`.\n"
   ]
  }
 ],
 "metadata": {
  "kernelspec": {
   "display_name": "programacion_2",
   "language": "python",
   "name": "python3"
  },
  "language_info": {
   "codemirror_mode": {
    "name": "ipython",
    "version": 3
   },
   "file_extension": ".py",
   "mimetype": "text/x-python",
   "name": "python",
   "nbconvert_exporter": "python",
   "pygments_lexer": "ipython3",
   "version": "3.10.16"
  }
 },
 "nbformat": 4,
 "nbformat_minor": 2
}
