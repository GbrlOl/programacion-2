{
 "cells": [
  {
   "cell_type": "markdown",
   "id": "faa1f356",
   "metadata": {},
   "source": [
    "# **1. Clase Ejercicios Prueba 2**"
   ]
  },
  {
   "cell_type": "markdown",
   "id": "6172707d",
   "metadata": {},
   "source": [
    "## **1.1 NumPy**"
   ]
  },
  {
   "cell_type": "markdown",
   "id": "8bf95757",
   "metadata": {},
   "source": [
    "1. Crear un tensor 1D con 9 elementos.\n",
    "2. Mostrar el tipo de datos del tensor creado.\n",
    "3. Crear un tensor 2D de tamaño 25x25 con datos aleatorios.\n",
    "4. Mostrar la forma del tensor creado.\n",
    "5. Crear un tensor 1D con 30 números unos.\n",
    "6. Convertir el tensor 1D a 2D y que sea de la forma 3x10.\n",
    "7. Crear un tensor que tenga 20 elementos y que estén entre 0 y 1.\n",
    "8. Suma dos tensores 1D de tamaño 5 con valores aleatorios manteniendo la misma semilla.\n",
    "9. Encuentra el promedio y desviación estándar de un tensor 1D con 20 elementos aleatorios (utiliza semilla).\n",
    "10. Crea un tensor 2D de tamaño 50x50 con valores aleatorios que estén entre 0 y 255, utilizando semilla=3. Luego, recorre la matriz contando cuántas veces aparece el valor 0."
   ]
  },
  {
   "cell_type": "markdown",
   "id": "bae9aed2",
   "metadata": {},
   "source": [
    "## **1.2 PyTorch**"
   ]
  },
  {
   "cell_type": "markdown",
   "id": "f53dcbeb",
   "metadata": {},
   "source": [
    "Haz los mismos ejercicios anteriores utilizando PyTorch."
   ]
  },
  {
   "cell_type": "markdown",
   "id": "9e18baea",
   "metadata": {},
   "source": [
    "## **1.3 Matplotlib**"
   ]
  },
  {
   "cell_type": "markdown",
   "id": "3863dc44",
   "metadata": {},
   "source": [
    "1. Grafica una línea de puntos (x vs y) donde x = [1,2,3], y = [4,5,1].\n",
    "2. Muestra una gráfica con título, etiquetas de eje X y Y.\n",
    "3. Dibuja un histograma de valores aleatorios.\n",
    "4. Grafica dos líneas en la misma figura.\n",
    "5. Cambia el color y estilo de una línea.\n",
    "6. Utilizando NumPy o Pytorch muesta una matriz de 500x500 datos aleatorios entre 0 y 255 utilizando imshow y cmap='gray'.\n",
    "7. Haz el mismo ejercicio anterior pero utilizando subplot, donde la primera imagen los valores están entre 0 y 255, y la segunda imagen los valores están entre 0 y 1. (Utiliza la misma semilla).\n",
    "8. Gráfica una función matemática como sen(x) o cos(x). Esta funciones matemáticas deben estar dentro de una función que al ejecutarse, le pregunta al usuario si quiere una señal sin(x) o cos(x), también le pregunta al usuario cuántos periodos quiere ver, qué color quiere para la gráfica."
   ]
  },
  {
   "cell_type": "markdown",
   "id": "5cdeabb1",
   "metadata": {},
   "source": [
    "## **1.4 PIL**"
   ]
  },
  {
   "cell_type": "markdown",
   "id": "3a097e72",
   "metadata": {},
   "source": [
    "1. Abre una imagen y muestra su tamaño.\n",
    "2. Guarda una imagen con otro formato (por ejemplo, de PNG a JPG).\n",
    "3. Recorta una región de una imagen.\n",
    "4. Cambia el brillo de una imagen.\n",
    "5. Convierte una imagen a escala de grises.\n",
    "6. Crea una matriz de 500x500 utilizando PyTorch con valores aleatorios entre 0 y 1, averiguar si se puede mostrar con PIL y luego guardar esa imagen creada."
   ]
  }
 ],
 "metadata": {
  "kernelspec": {
   "display_name": "programacion_2",
   "language": "python",
   "name": "python3"
  },
  "language_info": {
   "name": "python",
   "version": "3.10.16"
  }
 },
 "nbformat": 4,
 "nbformat_minor": 5
}
