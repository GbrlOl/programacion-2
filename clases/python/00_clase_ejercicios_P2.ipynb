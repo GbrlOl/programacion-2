{
 "cells": [
  {
   "cell_type": "markdown",
   "id": "faa1f356",
   "metadata": {},
   "source": [
    "# **1. Clase Ejercicios Prueba 2**"
   ]
  },
  {
   "cell_type": "markdown",
   "id": "6172707d",
   "metadata": {},
   "source": [
    "## **1.1 PyTorch**"
   ]
  },
  {
   "cell_type": "markdown",
   "id": "8bf95757",
   "metadata": {},
   "source": [
    "1. Crear un tensor 1D con 9 elementos.\n",
    "2. Mostrar el tipo de datos del tensor creado.\n",
    "3. Crear un tensor 2D de tamaño 25x25 con datos aleatorios.\n",
    "4. Mostrar la forma del tensor creado.\n",
    "5. Crear un tensor 1D con 30 números unos.\n",
    "6. Convertir el tensor 1D a 2D y que sea de la forma 3x10.\n",
    "7. Crear un tensor que tenga 20 elementos y que estén entre 0 y 1.\n",
    "8. Suma dos tensores 1D de tamaño 5 con valores aleatorios manteniendo la misma semilla.\n",
    "9. "
   ]
  }
 ],
 "metadata": {
  "kernelspec": {
   "display_name": "programacion_2",
   "language": "python",
   "name": "python3"
  },
  "language_info": {
   "name": "python",
   "version": "3.10.16"
  }
 },
 "nbformat": 4,
 "nbformat_minor": 5
}
