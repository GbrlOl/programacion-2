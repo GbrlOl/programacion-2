{
 "cells": [
  {
   "cell_type": "markdown",
   "id": "faa1f356",
   "metadata": {},
   "source": [
    "# **1. Clase Ejercicios Prueba 2**"
   ]
  }
 ],
 "metadata": {
  "kernelspec": {
   "display_name": "programacion_2",
   "language": "python",
   "name": "python3"
  },
  "language_info": {
   "name": "python",
   "version": "3.10.16"
  }
 },
 "nbformat": 4,
 "nbformat_minor": 5
}
