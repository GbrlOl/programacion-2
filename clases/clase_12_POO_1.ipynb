{
 "cells": [
  {
   "cell_type": "markdown",
   "metadata": {},
   "source": [
    "# **[EIE409] Programación 2**"
   ]
  },
  {
   "cell_type": "markdown",
   "metadata": {},
   "source": [
    "## **Clase 12:**\n",
    "\n",
    "### **Tabla de contenido**\n",
    "\n",
    "1. Introducción a la Programación Orientada a Objetos.\n",
    "2. Encapsulation.\n",
    "3. Inheritance.\n",
    "4. Polymorphism.\n",
    "5. Abstraction.\n",
    "\n",
    "**Después modificar este índice**\n",
    "\n",
    "\n",
    "\n"
   ]
  },
  {
   "cell_type": "markdown",
   "metadata": {},
   "source": [
    "## **1. Introducción a la Programación Orientada a Objetos (POO)** "
   ]
  },
  {
   "cell_type": "markdown",
   "metadata": {},
   "source": [
    "Las clases Python forman la columna vertebral de la programación orientada a objetos, permitiéndote encapsular datos y comportamiento en una única entidad. Cuando trabajas con una clase Python, defines atributos para almacenar datos y métodos para realizar acciones. Esta estructura permite modelar objetos del mundo real y crear código organizado y reutilizable.\n",
    "\n",
    "Una clase en Python sirve como modelo para crear objetos, que son instancias de la clase. Las clases se utilizan cuando se necesita encapsular datos y funciones relacionadas, haciendo que el código sea modular y más fácil de manejar. Al definir clases, puedes crear múltiples objetos que comparten los mismos atributos y métodos, mientras mantienen su propio estado único."
   ]
  },
  {
   "cell_type": "markdown",
   "metadata": {},
   "source": [
    "### **1.1 Clases y Objetos**"
   ]
  },
  {
   "cell_type": "markdown",
   "metadata": {},
   "source": [
    "Primero debemos comprender que en Python todo es un objeto, ¿qué quiere decir eso?"
   ]
  },
  {
   "cell_type": "code",
   "execution_count": 1,
   "metadata": {},
   "outputs": [],
   "source": [
    "mensaje = \"Hola mundo!\""
   ]
  },
  {
   "cell_type": "markdown",
   "metadata": {},
   "source": [
    "Podemos ver que creamos una variable, utilizando la jerga de la POO, acabamos de instanciar un objeto llamado mensaje. En Python, existe una función llamada `type()` que nos retorna el tipo de objeto que es una instancia."
   ]
  },
  {
   "cell_type": "code",
   "execution_count": 3,
   "metadata": {},
   "outputs": [
    {
     "name": "stdout",
     "output_type": "stream",
     "text": [
      "<class 'str'>\n"
     ]
    }
   ],
   "source": [
    "print(type(mensaje))"
   ]
  },
  {
   "cell_type": "markdown",
   "metadata": {},
   "source": [
    "Esto nos indica el tipo de **dato str** viene de la **clase str**. Como instanciamos el objeto mensaje, podemos acceder a alguno de sus métodos."
   ]
  },
  {
   "cell_type": "code",
   "execution_count": 4,
   "metadata": {},
   "outputs": [
    {
     "name": "stdout",
     "output_type": "stream",
     "text": [
      " Hola mundo! \n"
     ]
    }
   ],
   "source": [
    "mensaje = \" Hola mundo! \"\n",
    "\n",
    "print(mensaje)\n",
    "# print(mensaje.strip()) # Descomenta esta línea"
   ]
  },
  {
   "cell_type": "markdown",
   "metadata": {},
   "source": [
    "#### **1.1.1 ¿Qué es una Clase y un Objeto?**"
   ]
  },
  {
   "cell_type": "markdown",
   "metadata": {},
   "source": [
    "Una clase se puede referir como el plano de construcción, una plantilla o un molde para construir algo. Con el plano de construcción podemos construir muchas casas y una casa construída vendría siendo un objeto, es una instancia de tal clase.\n",
    "\n",
    "* **Clase**: es un tipo de estructura fundamental que se utiliza para definir objetos y sus propiedades, así como para encapsular comportamientos relacionados en un solo lugar. Una clase es como un plano o un molde que se utiliza para crear objetos específicos, que se denominan \"instancias\" de la clase. Las clases permiten la programación orientada a objetos (POO), que es un paradigma de programación que se basa en la idea de organizar el código en torno a objetos que pueden contener datos (atributos) y funciones (métodos) que operan en esos datos.\n",
    "* **Objeto**: Es una instancia de una clase.\n",
    "\n",
    "Ejemplo:\n",
    "\n",
    "* Clase: Tenemos la clase humano.\n",
    "* Objeto: Juan, Diego, Rodrigo, etc.\n",
    "\n",
    "**Agregar una Figura**"
   ]
  },
  {
   "cell_type": "markdown",
   "metadata": {},
   "source": [
    "##### **Recordar Conveción**\n",
    "\n",
    "Antes de crear nuestra primera clase debemos recordar la convención PascalCase, donde cada palabra va en mayúscula al crear una clase. Por otro lado, para acceder a los atributos o métodos de la clase se utiliza la notación llamada **UnderScore**."
   ]
  },
  {
   "cell_type": "markdown",
   "metadata": {},
   "source": [
    "#### **1.1.2 Creando una Clase** "
   ]
  },
  {
   "cell_type": "markdown",
   "metadata": {},
   "source": [
    "A continaución, vamos a crear la **clase Perro**. ¿Qué hace un perro?"
   ]
  },
  {
   "cell_type": "code",
   "execution_count": 5,
   "metadata": {},
   "outputs": [],
   "source": [
    "class Perro():\n",
    "    # Siempre al crear una función dentro de una clase se debe pasar el parámetro self, el llamarse self es una convención.\n",
    "    def ladrar(self):\n",
    "        return f\"Guau guau!!\""
   ]
  },
  {
   "cell_type": "code",
   "execution_count": 6,
   "metadata": {},
   "outputs": [],
   "source": [
    "mi_perro = Perro()"
   ]
  },
  {
   "cell_type": "markdown",
   "metadata": {},
   "source": [
    "Acabamos de instanciar el objeto **mi_perro**. Ahora podemos acceder a su método."
   ]
  },
  {
   "cell_type": "code",
   "execution_count": 7,
   "metadata": {},
   "outputs": [
    {
     "data": {
      "text/plain": [
       "'Guau guau!!'"
      ]
     },
     "execution_count": 7,
     "metadata": {},
     "output_type": "execute_result"
    }
   ],
   "source": [
    "mi_perro.ladrar()"
   ]
  },
  {
   "cell_type": "markdown",
   "metadata": {},
   "source": [
    "¿Qué tipo de objeto es **mi_perro**?"
   ]
  },
  {
   "cell_type": "code",
   "execution_count": null,
   "metadata": {},
   "outputs": [],
   "source": [
    "# Muestre el tipo de objeto"
   ]
  },
  {
   "cell_type": "markdown",
   "metadata": {},
   "source": [
    "#### **1.1.3 Función isinstance()** "
   ]
  },
  {
   "cell_type": "markdown",
   "metadata": {},
   "source": [
    "¿Cómo podemos saber si una isntancia pertenece a una clase?"
   ]
  },
  {
   "cell_type": "code",
   "execution_count": 9,
   "metadata": {},
   "outputs": [
    {
     "data": {
      "text/plain": [
       "True"
      ]
     },
     "execution_count": 9,
     "metadata": {},
     "output_type": "execute_result"
    }
   ],
   "source": [
    "isinstance(mi_perro, Perro)"
   ]
  },
  {
   "cell_type": "markdown",
   "metadata": {},
   "source": [
    "Supongamos que tenemos una clase similar pero con otro nombre."
   ]
  },
  {
   "cell_type": "code",
   "execution_count": 10,
   "metadata": {},
   "outputs": [],
   "source": [
    "class MiPerro():\n",
    "    def ladrar(self):\n",
    "        return f\"Guau guau!!!\""
   ]
  },
  {
   "cell_type": "code",
   "execution_count": 11,
   "metadata": {},
   "outputs": [
    {
     "data": {
      "text/plain": [
       "False"
      ]
     },
     "execution_count": 11,
     "metadata": {},
     "output_type": "execute_result"
    }
   ],
   "source": [
    "isinstance(mi_perro, MiPerro)"
   ]
  },
  {
   "cell_type": "markdown",
   "metadata": {},
   "source": [
    "### **1.2 Constructor**"
   ]
  },
  {
   "cell_type": "markdown",
   "metadata": {},
   "source": [
    "En Python, el constructor es un **método especial** utilizado para inicializar los objetos recién creados de una clase. Se define con el nombre especial ``__init__``. Este método se llama automáticamente justo después de que se crea un nuevo objeto de esa clase, antes de que esté disponible para su uso.\n",
    "\n",
    "* **self** es una convención que se utiliza para poder acceder a los atributos y métodos de una clase. El parámetro self no es una palabra reservada en python pero sí es una convención utilizada por casi todos para construir sus clases."
   ]
  },
  {
   "cell_type": "markdown",
   "metadata": {},
   "source": [
    "Ahora podemos pasarle a la clase parámetros. Con self y la notación UnderScore vamos a poder realizar cosas con esos parámetros de entrada, como se muestra a continuación."
   ]
  },
  {
   "cell_type": "code",
   "execution_count": 13,
   "metadata": {},
   "outputs": [],
   "source": [
    "class Perro():\n",
    "    def __init__(self, nombre):\n",
    "        self.nombre = nombre\n",
    "\n",
    "    def ladrar(self, mi_parametro):\n",
    "        return f\"Guau guau!!!\"\n",
    "    \n",
    "    def decir_nombre(self):\n",
    "        return f\"Me llamo {self.nombre}, guau!!\""
   ]
  },
  {
   "cell_type": "code",
   "execution_count": null,
   "metadata": {},
   "outputs": [],
   "source": [
    "# Crea una instancia"
   ]
  },
  {
   "cell_type": "code",
   "execution_count": null,
   "metadata": {},
   "outputs": [],
   "source": [
    "# Accede al método decir nombre"
   ]
  },
  {
   "cell_type": "code",
   "execution_count": null,
   "metadata": {},
   "outputs": [],
   "source": [
    "# Accede al atributo nombre"
   ]
  },
  {
   "cell_type": "markdown",
   "metadata": {},
   "source": [
    "### **1.2.1 Atributos de Instancia**"
   ]
  },
  {
   "cell_type": "markdown",
   "metadata": {},
   "source": [
    "A continuación, vamos a crear una clase que contenga más atributos."
   ]
  },
  {
   "cell_type": "code",
   "execution_count": null,
   "metadata": {},
   "outputs": [],
   "source": [
    "class Perro():\n",
    "    def __init__(self, nombre, color, edad=None):\n",
    "        self.nombre = nombre # Atributo de instancia\n",
    "        self.color = color # Atributo de instancia\n",
    "        self.edad = edad # Atributo de instancia opcional\n",
    "\n",
    "    def ladrar(self, mi_parametro):\n",
    "        return f\"Guau guau!!!\"\n",
    "    \n",
    "    def decir_nombre(self):\n",
    "        return f\"Me llamo {self.nombre}, guau!!\"\n",
    "    \n",
    "    def decir_color(self):\n",
    "        return f\"El color de {self.nombre} es: {self.color}\"\n",
    "    \n",
    "    def decir_edad(self):\n",
    "        return f\"La edad de {self.nombre} es: {self.edad}\""
   ]
  },
  {
   "cell_type": "markdown",
   "metadata": {},
   "source": [
    "Si te fijas, dentro de los parámetros de entrada de la **clase Perro()**, nombre y color son parámetros obligatorios, mientras que edad es opcional."
   ]
  },
  {
   "cell_type": "code",
   "execution_count": 18,
   "metadata": {},
   "outputs": [],
   "source": [
    "mi_perro = Perro(\"Tito\", \"Negro\")"
   ]
  },
  {
   "cell_type": "code",
   "execution_count": 23,
   "metadata": {},
   "outputs": [
    {
     "name": "stdout",
     "output_type": "stream",
     "text": [
      "Me llamo Tito, guau!!\n",
      "El color de Tito es: Negro\n",
      "La edad de Tito es: None\n"
     ]
    }
   ],
   "source": [
    "# Veamos sus métodos\n",
    "print(mi_perro.decir_nombre())\n",
    "print(mi_perro.decir_color())\n",
    "print(mi_perro.decir_edad())"
   ]
  },
  {
   "cell_type": "markdown",
   "metadata": {},
   "source": [
    "### **1.2.2 Atributos de Clase**"
   ]
  },
  {
   "cell_type": "markdown",
   "metadata": {},
   "source": [
    "Además de los atributos de instancia, están los atributos de clase, podemos entenderlo como variables globales que compartirán todas las instancias de esa clase. En el caso de la clase **Perro()**, sabemos que los perros tienen 4 patas, 2 ojos, 1 cola, etc."
   ]
  },
  {
   "cell_type": "code",
   "execution_count": 24,
   "metadata": {},
   "outputs": [],
   "source": [
    "class Perro():\n",
    "    # Vamos a crear los atributos de clase\n",
    "    patas = 4\n",
    "    cola = 1\n",
    "    ojos = 2\n",
    "\n",
    "    def __init__(self, nombre, color, edad=None):\n",
    "        self.nombre = nombre # Atributo de instancia\n",
    "        self.color = color # Atributo de instancia\n",
    "        self.edad = edad # Atributo de instancia opcional\n",
    "\n",
    "    def ladrar(self, mi_parametro):\n",
    "        return f\"Guau guau!!!\"\n",
    "    \n",
    "    def decir_nombre(self):\n",
    "        return f\"Me llamo {self.nombre}, guau!!\"\n",
    "    \n",
    "    def decir_color(self):\n",
    "        return f\"El color de {self.nombre} es: {self.color}\"\n",
    "    \n",
    "    def decir_edad(self):\n",
    "        return f\"La edad de {self.nombre} es: {self.edad}\""
   ]
  },
  {
   "cell_type": "markdown",
   "metadata": {},
   "source": [
    "Ahora vamos a crear nuestra instancia..."
   ]
  },
  {
   "cell_type": "code",
   "execution_count": 26,
   "metadata": {},
   "outputs": [],
   "source": [
    "mi_perro_1 = Perro(\"Tito\", \"Negro\", 13)\n",
    "mi_perro_2 = Perro(\"Campeón\", \"Amarillo\", 5)"
   ]
  },
  {
   "cell_type": "code",
   "execution_count": 27,
   "metadata": {},
   "outputs": [
    {
     "data": {
      "text/plain": [
       "4"
      ]
     },
     "execution_count": 27,
     "metadata": {},
     "output_type": "execute_result"
    }
   ],
   "source": [
    "# Vamos a acceder a los atributos de clase de cada instancia\n",
    "mi_perro_1.patas"
   ]
  },
  {
   "cell_type": "code",
   "execution_count": 28,
   "metadata": {},
   "outputs": [
    {
     "data": {
      "text/plain": [
       "4"
      ]
     },
     "execution_count": 28,
     "metadata": {},
     "output_type": "execute_result"
    }
   ],
   "source": [
    "# Vamos a acceder a los atributos de clase de cada instancia\n",
    "mi_perro_2.patas"
   ]
  },
  {
   "cell_type": "markdown",
   "metadata": {},
   "source": [
    "Veamos si utilizamos el mismo método para cada instancia."
   ]
  },
  {
   "cell_type": "code",
   "execution_count": 29,
   "metadata": {},
   "outputs": [
    {
     "name": "stdout",
     "output_type": "stream",
     "text": [
      "Me llamo Tito, guau!!\n",
      "Me llamo Campeón, guau!!\n"
     ]
    }
   ],
   "source": [
    "print(mi_perro_1.decir_nombre())\n",
    "print(mi_perro_2.decir_nombre())"
   ]
  },
  {
   "cell_type": "markdown",
   "metadata": {},
   "source": [
    "Podemos concluir que los **atributos de clase** se comparten para toda las instancias y los atributos de instancia son internos para cada objeto creado."
   ]
  },
  {
   "cell_type": "code",
   "execution_count": 33,
   "metadata": {},
   "outputs": [
    {
     "data": {
      "text/plain": [
       "4"
      ]
     },
     "execution_count": 33,
     "metadata": {},
     "output_type": "execute_result"
    }
   ],
   "source": [
    "mi_perro_1.patas"
   ]
  },
  {
   "cell_type": "markdown",
   "metadata": {},
   "source": [
    "### **1.2.3 Modificando los Atributos**"
   ]
  },
  {
   "cell_type": "markdown",
   "metadata": {},
   "source": []
  },
  {
   "cell_type": "code",
   "execution_count": 45,
   "metadata": {},
   "outputs": [],
   "source": [
    "class Perro():\n",
    "    # Vamos a crear los atributos de clase\n",
    "    patas = 4\n",
    "    cola = 1\n",
    "    ojos = 2\n",
    "\n",
    "    def __init__(self, nombre, color, edad=None):\n",
    "        self.nombre = nombre # Atributo de instancia\n",
    "        self.color = color # Atributo de instancia\n",
    "        self.edad = edad # Atributo de instancia opcional\n",
    "\n",
    "    def ladrar(self, mi_parametro):\n",
    "        return f\"Guau guau!!!\"\n",
    "    \n",
    "    def decir_nombre(self):\n",
    "        return f\"Me llamo {self.nombre}, guau!!\"\n",
    "    \n",
    "    def decir_color(self):\n",
    "        return f\"El color de {self.nombre} es: {self.color}\"\n",
    "    \n",
    "    def decir_edad(self):\n",
    "        return f\"La edad de {self.nombre} es: {self.edad}\""
   ]
  },
  {
   "cell_type": "code",
   "execution_count": 46,
   "metadata": {},
   "outputs": [],
   "source": [
    "perro_1 = Perro(\"Tito\", \"Negro\", 13)\n",
    "perro_2 = Perro(\"Nena\", \"Amarilla\", 5)"
   ]
  },
  {
   "cell_type": "code",
   "execution_count": 47,
   "metadata": {},
   "outputs": [
    {
     "name": "stdout",
     "output_type": "stream",
     "text": [
      "4\n",
      "4\n"
     ]
    }
   ],
   "source": [
    "print(perro_1.patas)\n",
    "print(perro_2.patas)"
   ]
  },
  {
   "cell_type": "markdown",
   "metadata": {},
   "source": [
    "**¿Qué ocurre si afectamos a la clase al cambiar el atributo de clase?**"
   ]
  },
  {
   "cell_type": "code",
   "execution_count": 48,
   "metadata": {},
   "outputs": [],
   "source": [
    "Perro.patas = 3"
   ]
  },
  {
   "cell_type": "code",
   "execution_count": 49,
   "metadata": {},
   "outputs": [
    {
     "name": "stdout",
     "output_type": "stream",
     "text": [
      "3\n"
     ]
    }
   ],
   "source": [
    "print(perro_1.patas)"
   ]
  },
  {
   "cell_type": "code",
   "execution_count": 51,
   "metadata": {},
   "outputs": [
    {
     "name": "stdout",
     "output_type": "stream",
     "text": [
      "3\n"
     ]
    }
   ],
   "source": [
    "print(perro_2.patas)"
   ]
  },
  {
   "cell_type": "markdown",
   "metadata": {},
   "source": [
    "Sucede que **estamos afectando a las instancias creadas**. En el caso de afecta a los atributos de instancia, no afecta a las demás instancias. Para comprobar, modifiquemos el atributo de instancia del **perro_1** y luego accedamos a su método y posterior a ello, mostremos el método del **perro_2**"
   ]
  },
  {
   "cell_type": "code",
   "execution_count": 52,
   "metadata": {},
   "outputs": [],
   "source": [
    "perro_1.nombre = \"Gabriel\" "
   ]
  },
  {
   "cell_type": "code",
   "execution_count": 53,
   "metadata": {},
   "outputs": [
    {
     "data": {
      "text/plain": [
       "'Me llamo Gabriel, guau!!'"
      ]
     },
     "execution_count": 53,
     "metadata": {},
     "output_type": "execute_result"
    }
   ],
   "source": [
    "perro_1.decir_nombre()"
   ]
  },
  {
   "cell_type": "code",
   "execution_count": 54,
   "metadata": {},
   "outputs": [
    {
     "data": {
      "text/plain": [
       "'Me llamo Nena, guau!!'"
      ]
     },
     "execution_count": 54,
     "metadata": {},
     "output_type": "execute_result"
    }
   ],
   "source": [
    "perro_2.decir_nombre()"
   ]
  },
  {
   "cell_type": "markdown",
   "metadata": {},
   "source": [
    "Pero si accedemos al atributo de clase, seguirá con la modificación realizada."
   ]
  },
  {
   "cell_type": "code",
   "execution_count": 55,
   "metadata": {},
   "outputs": [
    {
     "data": {
      "text/plain": [
       "3"
      ]
     },
     "execution_count": 55,
     "metadata": {},
     "output_type": "execute_result"
    }
   ],
   "source": [
    "perro_1.patas"
   ]
  },
  {
   "cell_type": "code",
   "execution_count": 56,
   "metadata": {},
   "outputs": [
    {
     "data": {
      "text/plain": [
       "3"
      ]
     },
     "execution_count": 56,
     "metadata": {},
     "output_type": "execute_result"
    }
   ],
   "source": [
    "perro_2.patas"
   ]
  },
  {
   "cell_type": "markdown",
   "metadata": {},
   "source": [
    "# **Recursos Extra!**"
   ]
  },
  {
   "cell_type": "markdown",
   "metadata": {},
   "source": [
    "A continuación, te dejo material por si quieres aprender más.\n",
    "\n",
    "* [Blog sobre POO](https://realpython.com/python-classes/)\n",
    "* [Python Full Course for free (YouTube)](https://youtu.be/XKHEtdqhLK8?si=4F9TlHbvY6sqw_Rk)"
   ]
  }
 ],
 "metadata": {
  "kernelspec": {
   "display_name": "programacion_2",
   "language": "python",
   "name": "python3"
  },
  "language_info": {
   "codemirror_mode": {
    "name": "ipython",
    "version": 3
   },
   "file_extension": ".py",
   "mimetype": "text/x-python",
   "name": "python",
   "nbconvert_exporter": "python",
   "pygments_lexer": "ipython3",
   "version": "3.10.16"
  }
 },
 "nbformat": 4,
 "nbformat_minor": 2
}
