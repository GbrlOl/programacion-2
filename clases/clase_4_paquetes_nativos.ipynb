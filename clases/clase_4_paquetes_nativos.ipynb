{
 "cells": [
  {
   "cell_type": "markdown",
   "metadata": {},
   "source": [
    "# **[EIE409] Programación 2**"
   ]
  },
  {
   "cell_type": "markdown",
   "metadata": {},
   "source": [
    "## **Clase 4:**\n",
    "\n",
    "### **Tabla de contenido**\n",
    "\n",
    "1. Paquetes Nativos.\n",
    "1. Paquete OS.\n",
    "1. Paquetes Nativos.\n",
    "\n"
   ]
  },
  {
   "cell_type": "markdown",
   "metadata": {},
   "source": [
    "## **1 Paquetes Nativos en Python**"
   ]
  },
  {
   "cell_type": "markdown",
   "metadata": {},
   "source": [
    "Python contiene módulos nativos, que no hay necesidad de instalarlos, algunos de ellos son:\n",
    "\n",
    "1. ``sys``: Proporciona acceso a algunas variables y funciones que interactúan con el intérprete de Python.\n",
    "2. ``os``: Ofrece una manera de usar funcionalidades dependientes del sistema operativo, como leer o escribir archivos.\n",
    "3. ``datetime``: Para manipular fechas y tiempos.\n",
    "4. ``math``: Proporciona acceso a las funciones matemáticas básicas.\n",
    "5. ``random``: Ofrece funciones que generan números pseudoaleatorios.\n",
    "6. ``collections``: Implementa tipos de datos de contenedor especializados, proporcionando alternativas a los contenedores generales de Python como dict, list, set, y tuple.\n",
    "7. ``json``: Para codificar y decodificar datos en formato JSON. http: Contiene módulos para trabajar con HyperText Transfer Protocol.\n",
    "8. ``urllib``: Se usa para abrir y leer URLs.\n",
    "9. ``threading``: Facilita la ejecución concurrente de código.\n",
    "10. ``multiprocessing``: Permite la creación de procesos, ofreciendo concurrencia local como alternativa al módulo threading.\n",
    "11. ``sqlite3``: Implementa una interfaz SQL para trabajar con bases de datos SQLite."
   ]
  },
  {
   "cell_type": "markdown",
   "metadata": {},
   "source": [
    "A continuación, veremos algunos módulos y paquetes que ofrece Python."
   ]
  },
  {
   "cell_type": "markdown",
   "metadata": {},
   "source": [
    "### **1.2 Módulo os**"
   ]
  },
  {
   "cell_type": "markdown",
   "metadata": {},
   "source": [
    "El módulo `os` en Python proporciona funciones para **interactuar con el sistema operativo**, permitiendo realizar tareas como manipulación de archivos y directorios, gestión de procesos y acceso a variables de entorno.\n",
    "\n",
    "1. Primero, para poder llamar un módulo a python debemos utilizar la palabra reservada **import** y luego el nombre del archivo."
   ]
  },
  {
   "cell_type": "code",
   "execution_count": 17,
   "metadata": {},
   "outputs": [],
   "source": [
    "import os"
   ]
  },
  {
   "cell_type": "markdown",
   "metadata": {},
   "source": [
    "#### **1.2.1 Directorio Actual**"
   ]
  },
  {
   "cell_type": "code",
   "execution_count": 18,
   "metadata": {},
   "outputs": [],
   "source": [
    "directorio_actual = os.getcwd()"
   ]
  },
  {
   "cell_type": "code",
   "execution_count": null,
   "metadata": {},
   "outputs": [],
   "source": [
    "# Muestre por pantalla el directorio actual"
   ]
  },
  {
   "cell_type": "markdown",
   "metadata": {},
   "source": [
    "#### **1.2.2 Cambiar del Directorio Actual**"
   ]
  },
  {
   "cell_type": "code",
   "execution_count": 5,
   "metadata": {},
   "outputs": [
    {
     "name": "stdout",
     "output_type": "stream",
     "text": [
      "c:\\Users\\gol_m\\OneDrive\\Desktop\\Magíster en Ciencias de la Ingeniería\\2025\\Cursos Dictados\\Primer Semestre\\EIE409 - PROGRAMACIÓN 2\\CLASES\n"
     ]
    }
   ],
   "source": [
    "# Cambiar el directorio de trabajo\n",
    "os.chdir(r'c:\\Users\\gol_m\\OneDrive\\Desktop\\Magíster en Ciencias de la Ingeniería\\2025\\Cursos Dictados\\Primer Semestre\\EIE409 - PROGRAMACIÓN 2\\CLASES')\n",
    "print(os.getcwd())"
   ]
  },
  {
   "cell_type": "markdown",
   "metadata": {},
   "source": [
    "**Nota Importante**: En Window debemos utilizar raw string (cadena sin procesar o cadena cruda). Se utiliza anteponiendo una r antes de la cadena para evitar que los caracteres de escape (\\) sean interpretados por Python."
   ]
  },
  {
   "cell_type": "markdown",
   "metadata": {},
   "source": [
    "#### **1.2.3 Listar Archivos y Subdirectorios**"
   ]
  },
  {
   "cell_type": "code",
   "execution_count": 6,
   "metadata": {},
   "outputs": [
    {
     "name": "stdout",
     "output_type": "stream",
     "text": [
      "['.git', 'clases', 'README.md']\n"
     ]
    }
   ],
   "source": [
    "# Listar archivos y directorios en una ruta específica\n",
    "print(os.listdir('.'))  # Lista los archivos en el directorio actual"
   ]
  },
  {
   "cell_type": "code",
   "execution_count": 7,
   "metadata": {},
   "outputs": [
    {
     "name": "stdout",
     "output_type": "stream",
     "text": [
      "['.git', 'clases', 'README.md']\n"
     ]
    }
   ],
   "source": [
    "# Listar archivos y directorios en una ruta específica\n",
    "print(os.listdir())  # Lista los archivos en el directorio actual"
   ]
  },
  {
   "cell_type": "code",
   "execution_count": 8,
   "metadata": {},
   "outputs": [
    {
     "name": "stdout",
     "output_type": "stream",
     "text": [
      "['clase_2_introducción_python.ipynb', 'clase_3_estructuras_datos.ipynb', 'clase_4_módulos.ipynb']\n"
     ]
    }
   ],
   "source": [
    "# Listar archivos y directorios en una ruta específica\n",
    "print(os.listdir('clases'))  # Lista los archivos en el directorio actual"
   ]
  },
  {
   "cell_type": "markdown",
   "metadata": {},
   "source": [
    "#### **1.2.4 Crear un directorio**"
   ]
  },
  {
   "cell_type": "code",
   "execution_count": 20,
   "metadata": {},
   "outputs": [],
   "source": [
    "os.mkdir(\"mi_primera_carpeta\")"
   ]
  },
  {
   "cell_type": "markdown",
   "metadata": {},
   "source": [
    "#### **1.2.5 Eliminar un directorio**"
   ]
  },
  {
   "cell_type": "markdown",
   "metadata": {},
   "source": [
    "Con el siguiente método se elimina un directorio vacío."
   ]
  },
  {
   "cell_type": "code",
   "execution_count": 25,
   "metadata": {},
   "outputs": [
    {
     "ename": "PermissionError",
     "evalue": "[WinError 5] Acceso denegado: 'mi_primera_carpeta'",
     "output_type": "error",
     "traceback": [
      "\u001b[1;31m---------------------------------------------------------------------------\u001b[0m",
      "\u001b[1;31mPermissionError\u001b[0m                           Traceback (most recent call last)",
      "Cell \u001b[1;32mIn[25], line 1\u001b[0m\n\u001b[1;32m----> 1\u001b[0m \u001b[43mos\u001b[49m\u001b[38;5;241;43m.\u001b[39;49m\u001b[43mrmdir\u001b[49m\u001b[43m(\u001b[49m\u001b[38;5;124;43m\"\u001b[39;49m\u001b[38;5;124;43mmi_primera_carpeta\u001b[39;49m\u001b[38;5;124;43m\"\u001b[39;49m\u001b[43m)\u001b[49m\n",
      "\u001b[1;31mPermissionError\u001b[0m: [WinError 5] Acceso denegado: 'mi_primera_carpeta'"
     ]
    }
   ],
   "source": [
    "os.rmdir(\"mi_primera_carpeta\")"
   ]
  },
  {
   "cell_type": "markdown",
   "metadata": {},
   "source": [
    "Si estás desde Google Colab no debería haber ningún problema (linux). Otro módulo que podría solucionar el problema es utilizar **shutil**."
   ]
  },
  {
   "cell_type": "markdown",
   "metadata": {},
   "source": [
    "#### **1.2.6 Renombrar un directorio**"
   ]
  },
  {
   "cell_type": "code",
   "execution_count": 28,
   "metadata": {},
   "outputs": [],
   "source": [
    "os.rename(\"mi_primera_carpeta\", \"carpeta_renombrada\")"
   ]
  },
  {
   "cell_type": "markdown",
   "metadata": {},
   "source": [
    "#### **1.2.7 Variable de ambiente**"
   ]
  },
  {
   "cell_type": "markdown",
   "metadata": {},
   "source": [
    "Estas variables permiten conectarse a la API de algún proovedor de servicio y acceder a recursos en sus servidores."
   ]
  },
  {
   "cell_type": "code",
   "execution_count": null,
   "metadata": {},
   "outputs": [],
   "source": [
    "os.environ[\"OPENAI_API_KEY\"] = \"sk-....\""
   ]
  },
  {
   "cell_type": "markdown",
   "metadata": {},
   "source": [
    "#### **1.2.8 Crear Directorios Anidados**"
   ]
  },
  {
   "cell_type": "code",
   "execution_count": 31,
   "metadata": {},
   "outputs": [],
   "source": [
    "os.makedirs(\"carpeta_1/carpeta_2/carpeta_3\")"
   ]
  },
  {
   "cell_type": "markdown",
   "metadata": {},
   "source": [
    "#### **1.2.9 Obtener una variable de entorno**"
   ]
  },
  {
   "cell_type": "code",
   "execution_count": 32,
   "metadata": {},
   "outputs": [
    {
     "data": {
      "text/plain": [
       "'C:\\\\Users\\\\gol_m'"
      ]
     },
     "execution_count": 32,
     "metadata": {},
     "output_type": "execute_result"
    }
   ],
   "source": [
    "os.getenv('HOME')"
   ]
  },
  {
   "cell_type": "markdown",
   "metadata": {},
   "source": [
    "#### **1.3.0 Ejecutar comandos de sistema**"
   ]
  },
  {
   "cell_type": "code",
   "execution_count": null,
   "metadata": {},
   "outputs": [
    {
     "data": {
      "text/plain": [
       "0"
      ]
     },
     "execution_count": 36,
     "metadata": {},
     "output_type": "execute_result"
    }
   ],
   "source": [
    "# Mostrar el conteido de tu directorio\n",
    "os.system('dir')"
   ]
  },
  {
   "cell_type": "code",
   "execution_count": null,
   "metadata": {},
   "outputs": [],
   "source": [
    "# En linux debe ser ls\n",
    "os.system('ls')"
   ]
  },
  {
   "cell_type": "markdown",
   "metadata": {},
   "source": [
    "#### **Resumen**"
   ]
  },
  {
   "cell_type": "markdown",
   "metadata": {},
   "source": [
    "| **Categoría**                 | **Método**                  | **Descripción**                                  | **Ejemplo**                             |\n",
    "|-------------------------------|-----------------------------|--------------------------------------------------|-----------------------------------------|\n",
    "| **Directorios**               | `os.getcwd()`               | Obtiene el directorio de trabajo actual         | `os.getcwd()`                           |\n",
    "|                               | `os.chdir(ruta)`            | Cambia el directorio de trabajo                 | `os.chdir('C:\\\\nuevo_directorio')`     |\n",
    "|                               | `os.listdir(ruta)`          | Lista archivos y carpetas en un directorio      | `os.listdir('.')`                       |\n",
    "|                               | `os.mkdir(ruta)`            | Crea un directorio                             | `os.mkdir('mi_carpeta')`               |\n",
    "|                               | `os.rmdir(ruta)`            | Elimina un directorio vacío                    | `os.rmdir('mi_carpeta')`               |\n",
    "|                               | `os.makedirs(ruta)`         | Crea directorios anidados                      | `os.makedirs('carpeta1/carpeta2')`     |\n",
    "|                               | `os.removedirs(ruta)`       | Elimina directorios anidados                   | `os.removedirs('carpeta1/carpeta2')`   |\n",
    "| **Archivos**                  | `os.rename(viejo, nuevo)`   | Renombra un archivo                            | `os.rename('a.txt', 'b.txt')`          |\n",
    "|                               | `os.remove(archivo)`        | Elimina un archivo                             | `os.remove('b.txt')`                   |\n",
    "| **Variables de Entorno**       | `os.getenv(variable)`       | Obtiene una variable de entorno                | `os.getenv('HOME')`                     |\n",
    "|                               | `os.environ['VAR'] = valor` | Establece una variable de entorno              | `os.environ['NUEVA'] = 'valor'`         |\n",
    "| **Comandos del Sistema**       | `os.system(comando)`        | Ejecuta un comando del sistema                 | `os.system('ls' o 'dir')`              |\n",
    "|                               | `os.popen(comando).read()`  | Obtiene la salida de un comando del sistema    | `os.popen('ls').read()`                |\n",
    "| **Información del Sistema**    | `os.getpid()`               | Obtiene el ID del proceso actual               | `os.getpid()`                           |\n",
    "|                               | `os.getlogin()`             | Obtiene el usuario actual                      | `os.getlogin()`                         |"
   ]
  },
  {
   "cell_type": "markdown",
   "metadata": {},
   "source": [
    "### **1.3 Gestión de Archivos**"
   ]
  },
  {
   "cell_type": "markdown",
   "metadata": {},
   "source": [
    "En Python, se usa la declaración **with** para abrir archivos de forma segura y eficiente. La sintaxis básica es:\n",
    "\n",
    "```python\n",
    "with open(\"archivo.txt\", \"r\") as archivo:\n",
    "    contenido = archivo.read()\n",
    "    print(contenido)\n",
    "```\n",
    "\n",
    "La palabra reservada **with** permite manejar archivos de manera automática, asegurando que el archivo se cierre correctamente, incluso si ocurre un error. Por otro lado, tenemos que:\n",
    "\n",
    "* ``open(\"archivo.txt\", \"r\")``: Abre el archivo en modo lectura (\"r\").\n",
    "* ``as archivo``: Le da un nombre (archivo) al objeto del archivo para referenciarlo dentro del bloque.\n",
    "* ``archivo.read()``: Lee todo el contenido del archivo.\n",
    "\n",
    "Existen diferentes **modos de aperturas**:\n",
    "\n",
    "* **\"r\"**\tLectura (error si el archivo no existe).\n",
    "* **\"w\"**\tEscritura (crea o sobrescribe el archivo).\n",
    "* **\"a\"**\tAgregar contenido sin sobrescribir.\n",
    "* **\"rb\"**, **\"wb\"**\tLectura/escritura en modo binario."
   ]
  },
  {
   "cell_type": "markdown",
   "metadata": {},
   "source": [
    "#### **1.3.1 Crear un archivo de texto**"
   ]
  },
  {
   "cell_type": "code",
   "execution_count": 38,
   "metadata": {},
   "outputs": [],
   "source": [
    "nombre_archivo = \"mi_primer_archivo.txt\"\n",
    "contenido = \"\"\" \n",
    "Este es mi primer archivo txt\n",
    "\"\"\".strip()\n",
    "\n",
    "with open(nombre_archivo, 'w') as archivo:\n",
    "    archivo.write(contenido)"
   ]
  },
  {
   "cell_type": "markdown",
   "metadata": {},
   "source": [
    "#### **1.3.2 Leer un archivo de texto**"
   ]
  },
  {
   "cell_type": "markdown",
   "metadata": {},
   "source": [
    "**Recordar**: En windows no funcionan siempre las rutas relativas, por lo cual se necesita de la ruta completa."
   ]
  },
  {
   "cell_type": "code",
   "execution_count": 43,
   "metadata": {},
   "outputs": [],
   "source": [
    "path = r\"C:\\Users\\gol_m\\OneDrive\\Desktop\\Magíster en Ciencias de la Ingeniería\\2025\\Cursos Dictados\\Primer Semestre\\EIE409 - PROGRAMACIÓN 2\\CLASES\\materiales\\cuento.txt\"\n",
    "\n",
    "with open(path, 'r') as archivo:\n",
    "    contenido = archivo.read()"
   ]
  },
  {
   "cell_type": "code",
   "execution_count": 44,
   "metadata": {},
   "outputs": [
    {
     "data": {
      "text/plain": [
       "'El Bosque de los Sueños Olvidados\\n\\nHabía una vez, en un rincón apartado del mundo, un pequeño pueblo llamado Lunasol. Este lugar era famoso por su quietud y belleza, rodeado de vastos campos verdes y un denso bosque que parecía tocar el cielo. Nadie sabía cómo se llamaba ese bosque ni qué secretos guardaba, pero se decía que, en su corazón, existía un lugar especial: el Bosque de los Sueños Olvidados.\\n\\nCuenta la leyenda que, durante años, los habitantes del pueblo habían soñado con un portal oculto dentro del bosque. Un portal que, al ser atravesado, podía llevar a quien lo cruzara a sus sueños más profundos. Sin embargo, nadie había logrado encontrarlo, y muchos decían que era solo una fantasía, un cuento para dormir.\\n\\nUn día, una niña llamada Clara, con una curiosidad infinita y un corazón lleno de valentía, decidió que ella sería la primera en encontrar ese portal. Acompañada de su fiel perro, Lince, se adentró en el bosque al amanecer. Sabía que sería un viaje largo y difícil, pero estaba decidida a descubrir lo que se escondía entre los árboles.\\n\\nA medida que avanzaban, Clara notó algo extraño. Los árboles no eran como los de su pueblo. Sus hojas brillaban con un resplandor suave, como si estuvieran cubiertas de estrellas diminutas. A veces, escuchaba susurros, como si el viento le hablara, pero no podía entender sus palabras. El bosque parecía estar vivo, observándola, guiándola, y a la vez probando su determinación.\\n\\nDespués de horas de caminar, llegaron a un claro donde el sol parecía brillar con más fuerza. En el centro, había una piedra grande, redonda, cubierta de musgo. Clara se acercó y, al tocarla, la piedra comenzó a vibrar, como si despertara de un largo sueño. De repente, el suelo debajo de ella se abrió lentamente, revelando una escalera descendente. Clara y Lince intercambiaron una mirada, y sin dudar, comenzaron a bajar.\\n\\nLa escalera los condujo a una cueva subterránea donde el aire era fresco y olía a tierra. En el fondo de la cueva, Clara vio una luz brillante que emanaba de una puerta dorada, casi etérea. Se acercó con cautela, y al tocar la puerta, esta se abrió lentamente.\\n\\nAl cruzarla, Clara se encontró en un mundo completamente diferente: un paisaje en constante cambio, lleno de criaturas extrañas y paisajes que parecían sacados de los sueños más vivos. Ahí, los colores eran más brillantes, los sonidos más claros, y todo parecía posible. Era el lugar donde los sueños olvidados cobraban vida, un espacio donde todo lo que alguna vez se había deseado y perdido existía.\\n\\nClara se dio cuenta de que, al entrar en ese lugar, podía ver sus propios sueños que había olvidado a lo largo de los años. Recibió una cálida bienvenida de figuras misteriosas que le explicaron que el Bosque de los Sueños Olvidados era el lugar donde los deseos y esperanzas que no se habían cumplido flotaban en el aire, esperando ser redescubiertos.\\n\\nClara caminó por ese mundo durante lo que parecieron días, redescubriendo sus sueños de infancia, y poco a poco comprendió que no había nada que estuviera perdido para siempre. Incluso los sueños olvidados podían volver a la vida, solo si uno se atrevía a buscarlos.\\n\\nFinalmente, cuando Clara regresó al claro del bosque, la puerta dorada se cerró suavemente detrás de ella. El bosque volvió a su calma habitual, y Clara, con una sonrisa en el rostro, regresó a su hogar, sabiendo que el verdadero tesoro no era el portal en sí, sino el entendimiento de que nuestros sueños nunca se pierden del todo, solo esperan ser recordados.\\n\\nDesde ese día, Clara compartió su historia con el pueblo, y todos comenzaron a mirar el bosque con nuevos ojos. Nadie volvió a dudar de la magia que guardaba en su interior.\\n\\nFin.'"
      ]
     },
     "execution_count": 44,
     "metadata": {},
     "output_type": "execute_result"
    }
   ],
   "source": [
    "contenido"
   ]
  },
  {
   "cell_type": "code",
   "execution_count": 45,
   "metadata": {},
   "outputs": [
    {
     "name": "stdout",
     "output_type": "stream",
     "text": [
      "El Bosque de los Sueños Olvidados\n",
      "\n",
      "Había una vez, en un rincón apartado del mundo, un pequeño pueblo llamado Lunasol. Este lugar era famoso por su quietud y belleza, rodeado de vastos campos verdes y un denso bosque que parecía tocar el cielo. Nadie sabía cómo se llamaba ese bosque ni qué secretos guardaba, pero se decía que, en su corazón, existía un lugar especial: el Bosque de los Sueños Olvidados.\n",
      "\n",
      "Cuenta la leyenda que, durante años, los habitantes del pueblo habían soñado con un portal oculto dentro del bosque. Un portal que, al ser atravesado, podía llevar a quien lo cruzara a sus sueños más profundos. Sin embargo, nadie había logrado encontrarlo, y muchos decían que era solo una fantasía, un cuento para dormir.\n",
      "\n",
      "Un día, una niña llamada Clara, con una curiosidad infinita y un corazón lleno de valentía, decidió que ella sería la primera en encontrar ese portal. Acompañada de su fiel perro, Lince, se adentró en el bosque al amanecer. Sabía que sería un viaje largo y difícil, pero estaba decidida a descubrir lo que se escondía entre los árboles.\n",
      "\n",
      "A medida que avanzaban, Clara notó algo extraño. Los árboles no eran como los de su pueblo. Sus hojas brillaban con un resplandor suave, como si estuvieran cubiertas de estrellas diminutas. A veces, escuchaba susurros, como si el viento le hablara, pero no podía entender sus palabras. El bosque parecía estar vivo, observándola, guiándola, y a la vez probando su determinación.\n",
      "\n",
      "Después de horas de caminar, llegaron a un claro donde el sol parecía brillar con más fuerza. En el centro, había una piedra grande, redonda, cubierta de musgo. Clara se acercó y, al tocarla, la piedra comenzó a vibrar, como si despertara de un largo sueño. De repente, el suelo debajo de ella se abrió lentamente, revelando una escalera descendente. Clara y Lince intercambiaron una mirada, y sin dudar, comenzaron a bajar.\n",
      "\n",
      "La escalera los condujo a una cueva subterránea donde el aire era fresco y olía a tierra. En el fondo de la cueva, Clara vio una luz brillante que emanaba de una puerta dorada, casi etérea. Se acercó con cautela, y al tocar la puerta, esta se abrió lentamente.\n",
      "\n",
      "Al cruzarla, Clara se encontró en un mundo completamente diferente: un paisaje en constante cambio, lleno de criaturas extrañas y paisajes que parecían sacados de los sueños más vivos. Ahí, los colores eran más brillantes, los sonidos más claros, y todo parecía posible. Era el lugar donde los sueños olvidados cobraban vida, un espacio donde todo lo que alguna vez se había deseado y perdido existía.\n",
      "\n",
      "Clara se dio cuenta de que, al entrar en ese lugar, podía ver sus propios sueños que había olvidado a lo largo de los años. Recibió una cálida bienvenida de figuras misteriosas que le explicaron que el Bosque de los Sueños Olvidados era el lugar donde los deseos y esperanzas que no se habían cumplido flotaban en el aire, esperando ser redescubiertos.\n",
      "\n",
      "Clara caminó por ese mundo durante lo que parecieron días, redescubriendo sus sueños de infancia, y poco a poco comprendió que no había nada que estuviera perdido para siempre. Incluso los sueños olvidados podían volver a la vida, solo si uno se atrevía a buscarlos.\n",
      "\n",
      "Finalmente, cuando Clara regresó al claro del bosque, la puerta dorada se cerró suavemente detrás de ella. El bosque volvió a su calma habitual, y Clara, con una sonrisa en el rostro, regresó a su hogar, sabiendo que el verdadero tesoro no era el portal en sí, sino el entendimiento de que nuestros sueños nunca se pierden del todo, solo esperan ser recordados.\n",
      "\n",
      "Desde ese día, Clara compartió su historia con el pueblo, y todos comenzaron a mirar el bosque con nuevos ojos. Nadie volvió a dudar de la magia que guardaba en su interior.\n",
      "\n",
      "Fin.\n"
     ]
    }
   ],
   "source": [
    "print(contenido)"
   ]
  },
  {
   "cell_type": "markdown",
   "metadata": {},
   "source": [
    "#### **1.3.3 Agregar contenido a un archivo**"
   ]
  },
  {
   "cell_type": "code",
   "execution_count": 46,
   "metadata": {},
   "outputs": [],
   "source": [
    "path = r\"C:\\Users\\gol_m\\OneDrive\\Desktop\\Magíster en Ciencias de la Ingeniería\\2025\\Cursos Dictados\\Primer Semestre\\EIE409 - PROGRAMACIÓN 2\\CLASES\\materiales\\cuento.txt\"\n",
    "\n",
    "with open(path, \"a\") as archivo:\n",
    "    archivo.write(\"\\nNueva línea añadida a mi archivo.\")\n"
   ]
  },
  {
   "cell_type": "markdown",
   "metadata": {},
   "source": [
    "### **1.3 Datatime**"
   ]
  },
  {
   "cell_type": "markdown",
   "metadata": {},
   "source": [
    "Para saber más del módulo **datatime** puedes revisar la página oficial:\n",
    "\n",
    "* [Módulo Datatime](https://docs.python.org/3/library/datetime.html)"
   ]
  },
  {
   "cell_type": "markdown",
   "metadata": {},
   "source": [
    "## **n. Instalar Librerías o Frameworks**"
   ]
  },
  {
   "cell_type": "markdown",
   "metadata": {},
   "source": [
    "Dependiendo de si se está utilizando Google Colab o Python con algún IDE en tu dispositivo, para instalar una dependencia externa se debe utilizar el comando de consola `pip install <framework>`. Es importante recordar que si se está trabajando con tu dispositivo se debe de crear un ambiente de trabajo para instalar las dependencias."
   ]
  },
  {
   "cell_type": "markdown",
   "metadata": {},
   "source": [
    "## **Diferencia entre Módulo, Librería, Paquete, Framework**"
   ]
  },
  {
   "cell_type": "markdown",
   "metadata": {},
   "source": [
    "### **Resumen** \n",
    "\n",
    "| Concepto  | ¿Qué es? | Ejemplo |\n",
    "|-----------|---------|---------|\n",
    "| **Módulo** | Un solo archivo `.py` con funciones o clases. | `math`, `random`, `math_utils.py` |\n",
    "| **Paquete** | Carpeta con varios módulos organizados. | `scipy`, `utilidades/` |\n",
    "| **Librería** | Conjunto de módulos con funciones específicas. | `NumPy`, `Pandas`, `Requests` |\n",
    "| **Framework** | Conjunto de librerías y reglas que estructuran el código. | `Django`, `Flask`, `FastAPI` |\n",
    "| **SDK** | Kit de herramientas para desarrollar con una tecnología. | Google Cloud SDK, Android SDK |\n",
    "| **API** | Interfaz para que programas se comuniquen. | API de Twitter, API de GitHub |\n",
    "| **CLI** | Interfaz de línea de comandos para ejecutar comandos. | `python --version`, `git status` |"
   ]
  }
 ],
 "metadata": {
  "kernelspec": {
   "display_name": "programacion_2",
   "language": "python",
   "name": "python3"
  },
  "language_info": {
   "codemirror_mode": {
    "name": "ipython",
    "version": 3
   },
   "file_extension": ".py",
   "mimetype": "text/x-python",
   "name": "python",
   "nbconvert_exporter": "python",
   "pygments_lexer": "ipython3",
   "version": "3.10.16"
  }
 },
 "nbformat": 4,
 "nbformat_minor": 2
}
