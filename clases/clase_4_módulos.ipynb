{
 "cells": [
  {
   "cell_type": "markdown",
   "metadata": {},
   "source": [
    "# **[EIE409] Programación 2**"
   ]
  },
  {
   "cell_type": "markdown",
   "metadata": {},
   "source": [
    "## **Clase 4:**\n",
    "\n",
    "### **Tabla de contenido**\n",
    "\n",
    "1. Funciones en Python.\n",
    "\n"
   ]
  },
  {
   "cell_type": "markdown",
   "metadata": {},
   "source": [
    "## **1. Módulos**"
   ]
  },
  {
   "cell_type": "markdown",
   "metadata": {},
   "source": [
    "En Python, un módulo es un archivo que contiene código Python reutilizable. Los módulos pueden incluir variables, funciones y clases que pueden ser importadas y utilizadas en otros programas de Python. La creación de módulos permite organizar el código en archivos separados para facilitar la lectura, la escritura y el mantenimiento del código.\n",
    "\n",
    "Algunas características clave de los módulos en Python incluyen:\n",
    "\n",
    "* ``Reutilización de código``: Los módulos permiten definir funciones, variables y clases una vez y luego importarlas en otros programas o scripts de Python según sea necesario.\n",
    "\n",
    "* ``Organización``: Los módulos ayudan a organizar el código relacionado en archivos separados, lo que facilita la navegación y la gestión de proyectos de software más grandes.\n",
    "\n",
    "* ``Encapsulación``: Los módulos proporcionan un nivel de encapsulación, lo que significa que el código definido en un módulo puede ser ocultado de otros módulos a menos que se importe explícitamente.\n",
    "\n",
    "Para crear un módulo en Python, simplemente debes escribir el código que deseas incluir en el archivo de Python y guardarlo con la extensión \".py\". Por ejemplo, si deseas crear un módulo llamado \"mi_modulo.py\" que contiene una función llamada \"saludar\", puedes escribir lo siguiente en el archivo \"mi_modulo.py\":"
   ]
  },
  {
   "cell_type": "markdown",
   "metadata": {},
   "source": [
    "### **1.1 Crear tus módulos y llamarlos**"
   ]
  },
  {
   "cell_type": "code",
   "execution_count": null,
   "metadata": {},
   "outputs": [],
   "source": []
  },
  {
   "cell_type": "markdown",
   "metadata": {},
   "source": [
    "## **2 Paquetes nativos en Python**"
   ]
  },
  {
   "cell_type": "markdown",
   "metadata": {},
   "source": [
    "Python contiene módulos nativos, que no hay necesidad de instalarlos, algunos de ellos son:\n",
    "\n",
    "1. ``sys``: Proporciona acceso a algunas variables y funciones que interactúan con el intérprete de Python.\n",
    "2. ``os``: Ofrece una manera de usar funcionalidades dependientes del sistema operativo, como leer o escribir archivos.\n",
    "3. ``datetime``: Para manipular fechas y tiempos.\n",
    "4. ``math``: Proporciona acceso a las funciones matemáticas básicas.\n",
    "5. ``random``: Ofrece funciones que generan números pseudoaleatorios.\n",
    "6. ``collections``: Implementa tipos de datos de contenedor especializados, proporcionando alternativas a los contenedores generales de Python como dict, list, set, y tuple.\n",
    "7. ``json``: Para codificar y decodificar datos en formato JSON. http: Contiene módulos para trabajar con HyperText Transfer Protocol.\n",
    "8. ``urllib``: Se usa para abrir y leer URLs.\n",
    "9. ``threading``: Facilita la ejecución concurrente de código.\n",
    "10. ``multiprocessing``: Permite la creación de procesos, ofreciendo concurrencia local como alternativa al módulo threading.\n",
    "11. ``sqlite3``: Implementa una interfaz SQL para trabajar con bases de datos SQLite."
   ]
  },
  {
   "cell_type": "markdown",
   "metadata": {},
   "source": [
    "#### **1.2.1 Módulo os**"
   ]
  },
  {
   "cell_type": "markdown",
   "metadata": {},
   "source": [
    "El módulo `os` en Python proporciona funciones para interactuar con el sistema operativo, permitiendo realizar tareas como manipulación de archivos y directorios, gestión de procesos y acceso a variables de entorno."
   ]
  },
  {
   "cell_type": "markdown",
   "metadata": {},
   "source": [
    "| **Categoría**                 | **Método**                  | **Descripción**                                  | **Ejemplo**                             |\n",
    "|-------------------------------|-----------------------------|--------------------------------------------------|-----------------------------------------|\n",
    "| **Directorios**               | `os.getcwd()`               | Obtiene el directorio de trabajo actual         | `os.getcwd()`                           |\n",
    "|                               | `os.chdir(ruta)`            | Cambia el directorio de trabajo                 | `os.chdir('C:\\\\nuevo_directorio')`     |\n",
    "|                               | `os.listdir(ruta)`          | Lista archivos y carpetas en un directorio      | `os.listdir('.')`                       |\n",
    "|                               | `os.mkdir(ruta)`            | Crea un directorio                             | `os.mkdir('mi_carpeta')`               |\n",
    "|                               | `os.rmdir(ruta)`            | Elimina un directorio vacío                    | `os.rmdir('mi_carpeta')`               |\n",
    "|                               | `os.makedirs(ruta)`         | Crea directorios anidados                      | `os.makedirs('carpeta1/carpeta2')`     |\n",
    "|                               | `os.removedirs(ruta)`       | Elimina directorios anidados                   | `os.removedirs('carpeta1/carpeta2')`   |\n",
    "| **Archivos**                  | `os.rename(viejo, nuevo)`   | Renombra un archivo                            | `os.rename('a.txt', 'b.txt')`          |\n",
    "|                               | `os.remove(archivo)`        | Elimina un archivo                             | `os.remove('b.txt')`                   |\n",
    "| **Variables de Entorno**       | `os.getenv(variable)`       | Obtiene una variable de entorno                | `os.getenv('HOME')`                     |\n",
    "|                               | `os.environ['VAR'] = valor` | Establece una variable de entorno              | `os.environ['NUEVA'] = 'valor'`         |\n",
    "| **Comandos del Sistema**       | `os.system(comando)`        | Ejecuta un comando del sistema                 | `os.system('ls' o 'dir')`              |\n",
    "|                               | `os.popen(comando).read()`  | Obtiene la salida de un comando del sistema    | `os.popen('ls').read()`                |\n",
    "| **Información del Sistema**    | `os.getpid()`               | Obtiene el ID del proceso actual               | `os.getpid()`                           |\n",
    "|                               | `os.getlogin()`             | Obtiene el usuario actual                      | `os.getlogin()`                         |"
   ]
  },
  {
   "cell_type": "code",
   "execution_count": 2,
   "metadata": {},
   "outputs": [],
   "source": [
    "import os"
   ]
  },
  {
   "cell_type": "code",
   "execution_count": 3,
   "metadata": {},
   "outputs": [
    {
     "name": "stdout",
     "output_type": "stream",
     "text": [
      "c:\\Users\\gol_m\\OneDrive\\Desktop\\Magíster en Ciencias de la Ingeniería\\2025\\Cursos Dictados\\Primer Semestre\\EIE409 - PROGRAMACIÓN 2\\CLASES\\clases\n"
     ]
    }
   ],
   "source": [
    "# Obtener el directorio de trabajo actual\n",
    "\n",
    "print(os.getcwd())"
   ]
  },
  {
   "cell_type": "code",
   "execution_count": 4,
   "metadata": {},
   "outputs": [],
   "source": [
    "directorio_actual = os.getcwd()"
   ]
  },
  {
   "cell_type": "code",
   "execution_count": null,
   "metadata": {},
   "outputs": [],
   "source": [
    "# Muestre por pantalla el directorio actual"
   ]
  },
  {
   "cell_type": "code",
   "execution_count": 5,
   "metadata": {},
   "outputs": [
    {
     "name": "stdout",
     "output_type": "stream",
     "text": [
      "c:\\Users\\gol_m\\OneDrive\\Desktop\\Magíster en Ciencias de la Ingeniería\\2025\\Cursos Dictados\\Primer Semestre\\EIE409 - PROGRAMACIÓN 2\\CLASES\n"
     ]
    }
   ],
   "source": [
    "# Cambiar el directorio de trabajo\n",
    "os.chdir(r'c:\\Users\\gol_m\\OneDrive\\Desktop\\Magíster en Ciencias de la Ingeniería\\2025\\Cursos Dictados\\Primer Semestre\\EIE409 - PROGRAMACIÓN 2\\CLASES')\n",
    "print(os.getcwd())"
   ]
  },
  {
   "cell_type": "markdown",
   "metadata": {},
   "source": [
    "**Nota Importante**: En Window debemos utilizar raw string (cadena sin procesar o cadena cruda). Se utiliza anteponiendo una r antes de la cadena para evitar que los caracteres de escape (\\) sean interpretados por Python."
   ]
  },
  {
   "cell_type": "code",
   "execution_count": 6,
   "metadata": {},
   "outputs": [
    {
     "name": "stdout",
     "output_type": "stream",
     "text": [
      "['.git', 'clases', 'README.md']\n"
     ]
    }
   ],
   "source": [
    "# Listar archivos y directorios en una ruta específica\n",
    "print(os.listdir('.'))  # Lista los archivos en el directorio actual"
   ]
  },
  {
   "cell_type": "code",
   "execution_count": 7,
   "metadata": {},
   "outputs": [
    {
     "name": "stdout",
     "output_type": "stream",
     "text": [
      "['.git', 'clases', 'README.md']\n"
     ]
    }
   ],
   "source": [
    "# Listar archivos y directorios en una ruta específica\n",
    "print(os.listdir())  # Lista los archivos en el directorio actual"
   ]
  },
  {
   "cell_type": "code",
   "execution_count": 8,
   "metadata": {},
   "outputs": [
    {
     "name": "stdout",
     "output_type": "stream",
     "text": [
      "['clase_2_introducción_python.ipynb', 'clase_3_estructuras_datos.ipynb', 'clase_4_módulos.ipynb']\n"
     ]
    }
   ],
   "source": [
    "# Listar archivos y directorios en una ruta específica\n",
    "print(os.listdir('clases'))  # Lista los archivos en el directorio actual"
   ]
  },
  {
   "cell_type": "markdown",
   "metadata": {},
   "source": [
    "#### Listar archivos y directorios en una ruta específica\n",
    "```python\n",
    "print(os.listdir('.'))  # Lista los archivos en el directorio actual\n",
    "```\n",
    "\n",
    "#### Crear y eliminar directorios\n",
    "```python\n",
    "os.mkdir('nuevo_directorio')  # Crea un directorio\n",
    "os.rmdir('nuevo_directorio')  # Elimina un directorio vacío\n",
    "```\n",
    "\n",
    "#### Crear directorios anidados\n",
    "```python\n",
    "os.makedirs('dir1/dir2/dir3')\n",
    "```\n",
    "\n",
    "#### Eliminar directorios anidados\n",
    "```python\n",
    "os.removedirs('dir1/dir2/dir3')\n",
    "```\n",
    "\n",
    "---\n",
    "\n",
    "### 2.2. Manipulación de Archivos\n",
    "\n",
    "#### Renombrar archivos\n",
    "```python\n",
    "os.rename('archivo_viejo.txt', 'archivo_nuevo.txt')\n",
    "```\n",
    "\n",
    "#### Eliminar archivos\n",
    "```python\n",
    "os.remove('archivo_nuevo.txt')\n",
    "```\n",
    "\n",
    "---\n",
    "\n",
    "### 2.3. Variables de Entorno\n",
    "\n",
    "#### Obtener una variable de entorno\n",
    "```python\n",
    "print(os.getenv('HOME'))\n",
    "```\n",
    "\n",
    "#### Establecer una variable de entorno\n",
    "```python\n",
    "os.environ['NUEVA_VAR'] = 'valor'\n",
    "print(os.getenv('NUEVA_VAR'))\n",
    "```\n",
    "\n",
    "---\n",
    "\n",
    "### 2.4. Ejecución de Comandos del Sistema\n",
    "\n",
    "#### Ejecutar un comando del sistema\n",
    "```python\n",
    "os.system('ls')  # En Windows usar 'dir'\n",
    "```\n",
    "\n",
    "#### Obtener la salida de un comando del sistema\n",
    "```python\n",
    "stream = os.popen('ls')\n",
    "print(stream.read())\n",
    "```\n",
    "\n",
    "---\n",
    "\n",
    "### 2.5. Información sobre el Sistema\n",
    "\n",
    "#### Obtener el ID del proceso actual\n",
    "```python\n",
    "print(os.getpid())\n",
    "```\n",
    "\n",
    "#### Obtener el usuario actual\n",
    "```python\n",
    "print(os.getlogin())\n",
    "```\n",
    "\n",
    "---\n",
    "\n",
    "## 3. Ejercicios Prácticos\n",
    "\n",
    "### Ejercicio 1: Creación y eliminación de directorios\n",
    "Escribe un script en Python que:\n",
    "1. Cree un directorio llamado `prueba_os`.\n",
    "2. Cambie al directorio `prueba_os`.\n",
    "3. Cree un archivo llamado `archivo.txt` dentro de `prueba_os`.\n",
    "4. Vuelva al directorio original y elimine `prueba_os`.\n",
    "\n",
    "```python\n",
    "import os\n",
    "\n",
    "# Paso 1\n",
    "os.mkdir('prueba_os')\n",
    "\n",
    "# Paso 2\n",
    "os.chdir('prueba_os')\n",
    "print(\"Directorio actual:\", os.getcwd())\n",
    "\n",
    "# Paso 3\n",
    "with open('archivo.txt', 'w') as f:\n",
    "    f.write(\"Hola, este es un archivo de prueba.\")\n",
    "\n",
    "# Volver al directorio original\n",
    "os.chdir('..')\n",
    "\n",
    "# Paso 4\n",
    "os.remove('prueba_os/archivo.txt')\n",
    "os.rmdir('prueba_os')\n",
    "print(\"Directorio eliminado correctamente.\")\n",
    "```\n",
    "\n",
    "### Ejercicio 2: Listar archivos con extensión `.txt`\n",
    "Escribe un script que liste únicamente los archivos con extensión `.txt` en el directorio actual.\n",
    "\n",
    "```python\n",
    "import os\n",
    "\n",
    "archivos_txt = [archivo for archivo in os.listdir('.') if archivo.endswith('.txt')]\n",
    "print(\"Archivos .txt en el directorio actual:\", archivos_txt)\n",
    "```\n",
    "\n",
    "---\n",
    "\n"
   ]
  },
  {
   "cell_type": "markdown",
   "metadata": {},
   "source": [
    "## **n. Instalar Librerías o Frameworks**"
   ]
  },
  {
   "cell_type": "markdown",
   "metadata": {},
   "source": [
    "Dependiendo de si se está utilizando Google Colab o Python con algún IDE en tu dispositivo, para instalar una dependencia externa se debe utilizar el comando de consola `pip install <framework>`. Es importante recordar que si se está trabajando con tu dispositivo se debe de crear un ambiente de trabajo para instalar las dependencias."
   ]
  },
  {
   "cell_type": "markdown",
   "metadata": {},
   "source": [
    "## **Diferencia entre Módulo, Librería, Paquete, Framework**"
   ]
  },
  {
   "cell_type": "markdown",
   "metadata": {},
   "source": [
    "### **Resumen** \n",
    "\n",
    "| Concepto  | ¿Qué es? | Ejemplo |\n",
    "|-----------|---------|---------|\n",
    "| **Módulo** | Un solo archivo `.py` con funciones o clases. | `math`, `random`, `math_utils.py` |\n",
    "| **Paquete** | Carpeta con varios módulos organizados. | `scipy`, `utilidades/` |\n",
    "| **Librería** | Conjunto de módulos con funciones específicas. | `NumPy`, `Pandas`, `Requests` |\n",
    "| **Framework** | Conjunto de librerías y reglas que estructuran el código. | `Django`, `Flask`, `FastAPI` |\n",
    "| **SDK** | Kit de herramientas para desarrollar con una tecnología. | Google Cloud SDK, Android SDK |\n",
    "| **API** | Interfaz para que programas se comuniquen. | API de Twitter, API de GitHub |\n",
    "| **CLI** | Interfaz de línea de comandos para ejecutar comandos. | `python --version`, `git status` |"
   ]
  }
 ],
 "metadata": {
  "kernelspec": {
   "display_name": "programacion_2",
   "language": "python",
   "name": "python3"
  },
  "language_info": {
   "codemirror_mode": {
    "name": "ipython",
    "version": 3
   },
   "file_extension": ".py",
   "mimetype": "text/x-python",
   "name": "python",
   "nbconvert_exporter": "python",
   "pygments_lexer": "ipython3",
   "version": "3.10.16"
  }
 },
 "nbformat": 4,
 "nbformat_minor": 2
}
