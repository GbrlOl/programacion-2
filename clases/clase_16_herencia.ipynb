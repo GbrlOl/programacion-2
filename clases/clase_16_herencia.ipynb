{
 "cells": [
  {
   "cell_type": "markdown",
   "metadata": {},
   "source": [
    "# **[EIE409] Programación 2**"
   ]
  },
  {
   "cell_type": "markdown",
   "metadata": {},
   "source": [
    "## **Unidad 3 - Clase 1:**\n",
    "\n",
    "### **Tabla de contenido**\n",
    "\n",
    "1. Herencia.\n",
    "2. "
   ]
  },
  {
   "cell_type": "markdown",
   "metadata": {},
   "source": [
    "## **1. Herencia**"
   ]
  },
  {
   "cell_type": "markdown",
   "metadata": {},
   "source": [
    "### **1.1 ¿Qué es la Herencia?**"
   ]
  },
  {
   "cell_type": "markdown",
   "metadata": {},
   "source": [
    "La herencia es un principio fundamental de la Programación Orientada a Objetos (POO) que permite a una clase derivada heredar atributos y métodos de una clase base. Esto promueve la reutilización del código y facilita la extensibilidad."
   ]
  },
  {
   "cell_type": "code",
   "execution_count": 1,
   "metadata": {},
   "outputs": [],
   "source": [
    "class ClaseBase:\n",
    "    def __init__(self, nombre):\n",
    "        self.nombre = nombre\n",
    "    \n",
    "    def mostrar_nombre(self):\n",
    "        print(f\"Nombre: {self.nombre}\")"
   ]
  },
  {
   "cell_type": "code",
   "execution_count": null,
   "metadata": {},
   "outputs": [
    {
     "name": "stdout",
     "output_type": "stream",
     "text": [
      "Nombre: Gabriel Olmos\n"
     ]
    }
   ],
   "source": [
    "mi_nombre = ClaseBase(\"Gabriel Olmos\")\n",
    "mi_nombre.mostrar_nombre() "
   ]
  },
  {
   "cell_type": "markdown",
   "metadata": {},
   "source": [
    "Ahora supongamos que queremos heredar los métodos y llamar al constructor de la **clase base**."
   ]
  },
  {
   "cell_type": "code",
   "execution_count": 13,
   "metadata": {},
   "outputs": [],
   "source": [
    "class ClaseDerivada(ClaseBase):\n",
    "    def __init__(self, nombre, edad): # Podemos apreciar que recibe dos argumentos, nombre y edad.\n",
    "        super().__init__(nombre) # Llama al constructor de la clase base, específicamente el atributo de instancia.\n",
    "        self.edad = edad"
   ]
  },
  {
   "cell_type": "code",
   "execution_count": 7,
   "metadata": {},
   "outputs": [],
   "source": [
    "otro_nombre = ClaseDerivada(\"Juan\", \"25\")"
   ]
  },
  {
   "cell_type": "markdown",
   "metadata": {},
   "source": [
    "Podemos apreciar que **ClaseDerivada** no tiene el método **mostrar_nombre()**, pero lo heredamos de la clase base, por tanto, podemos utilizarlo."
   ]
  },
  {
   "cell_type": "code",
   "execution_count": 11,
   "metadata": {},
   "outputs": [
    {
     "name": "stdout",
     "output_type": "stream",
     "text": [
      "Nombre: Juan\n"
     ]
    }
   ],
   "source": [
    "otro_nombre.mostrar_nombre()"
   ]
  },
  {
   "cell_type": "markdown",
   "metadata": {},
   "source": [
    "# **material:**\n",
    "\n",
    "* https://ellibrodepython.com/herencia-en-python#herencia-en-python"
   ]
  },
  {
   "cell_type": "markdown",
   "metadata": {},
   "source": []
  }
 ],
 "metadata": {
  "kernelspec": {
   "display_name": "programacion_2",
   "language": "python",
   "name": "python3"
  },
  "language_info": {
   "codemirror_mode": {
    "name": "ipython",
    "version": 3
   },
   "file_extension": ".py",
   "mimetype": "text/x-python",
   "name": "python",
   "nbconvert_exporter": "python",
   "pygments_lexer": "ipython3",
   "version": "3.10.16"
  }
 },
 "nbformat": 4,
 "nbformat_minor": 2
}
