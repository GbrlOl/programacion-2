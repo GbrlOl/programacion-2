{
 "cells": [
  {
   "cell_type": "markdown",
   "metadata": {},
   "source": [
    "# **[EIE409] Programación 2**"
   ]
  },
  {
   "cell_type": "markdown",
   "metadata": {},
   "source": [
    "## **Unidad 3 - Clase 1:**\n",
    "\n",
    "### **Tabla de contenido**\n",
    "\n",
    "1. Herencia.\n",
    "2. "
   ]
  },
  {
   "cell_type": "markdown",
   "metadata": {},
   "source": [
    "## **1. Herencia**"
   ]
  },
  {
   "cell_type": "markdown",
   "metadata": {},
   "source": [
    "### **1.1 ¿Qué es la Herencia?**"
   ]
  },
  {
   "cell_type": "markdown",
   "metadata": {},
   "source": [
    "La herencia es un principio fundamental de la Programación Orientada a Objetos (POO) que permite a una clase derivada heredar atributos y métodos de una clase base. Esto promueve la reutilización del código y facilita la extensibilidad."
   ]
  },
  {
   "cell_type": "code",
   "execution_count": 1,
   "metadata": {},
   "outputs": [],
   "source": [
    "class ClaseBase:\n",
    "    def __init__(self, nombre):\n",
    "        self.nombre = nombre\n",
    "    \n",
    "    def mostrar_nombre(self):\n",
    "        print(f\"Nombre: {self.nombre}\")"
   ]
  },
  {
   "cell_type": "code",
   "execution_count": 2,
   "metadata": {},
   "outputs": [
    {
     "name": "stdout",
     "output_type": "stream",
     "text": [
      "Nombre: Gabriel Olmos\n"
     ]
    }
   ],
   "source": [
    "mi_nombre = ClaseBase(\"Gabriel Olmos\")\n",
    "mi_nombre.mostrar_nombre() "
   ]
  },
  {
   "cell_type": "markdown",
   "metadata": {},
   "source": [
    "Ahora supongamos que queremos heredar los métodos y llamar al constructor de la **clase base**."
   ]
  },
  {
   "cell_type": "code",
   "execution_count": 3,
   "metadata": {},
   "outputs": [],
   "source": [
    "class ClaseDerivada(ClaseBase):\n",
    "    def __init__(self, nombre, edad): # Podemos apreciar que recibe dos argumentos, nombre y edad.\n",
    "        super().__init__(nombre) # Llama al constructor de la clase base, específicamente el atributo de instancia.\n",
    "        self.edad = edad"
   ]
  },
  {
   "cell_type": "code",
   "execution_count": 4,
   "metadata": {},
   "outputs": [],
   "source": [
    "otro_nombre = ClaseDerivada(\"Juan\", \"25\")"
   ]
  },
  {
   "cell_type": "markdown",
   "metadata": {},
   "source": [
    "Podemos apreciar que **ClaseDerivada** no tiene el método **mostrar_nombre()**, pero lo heredamos de la clase base, por tanto, podemos utilizarlo."
   ]
  },
  {
   "cell_type": "code",
   "execution_count": 5,
   "metadata": {},
   "outputs": [
    {
     "name": "stdout",
     "output_type": "stream",
     "text": [
      "Nombre: Juan\n"
     ]
    }
   ],
   "source": [
    "otro_nombre.mostrar_nombre()"
   ]
  },
  {
   "cell_type": "markdown",
   "metadata": {},
   "source": [
    "**¿Podemos verificar que la ClaseDerivada es hija de la ClaseBase?**"
   ]
  },
  {
   "cell_type": "code",
   "execution_count": 6,
   "metadata": {},
   "outputs": [
    {
     "data": {
      "text/plain": [
       "__main__.ClaseBase"
      ]
     },
     "execution_count": 6,
     "metadata": {},
     "output_type": "execute_result"
    }
   ],
   "source": [
    "ClaseDerivada.__base__"
   ]
  },
  {
   "cell_type": "markdown",
   "metadata": {},
   "source": [
    "### **1.2 Extendiendo y modificando métodos**"
   ]
  },
  {
   "cell_type": "markdown",
   "metadata": {},
   "source": [
    "Vamos a definir una clase padre ``Animal`` que tendrá todos los atributos y métodos genéricos que los animales pueden tener. Esta tarea de buscar el denominador común es muy importante en programación. \n",
    "\n",
    "**¿Qué atributos tienen en común los animales?**\n",
    "\n",
    "* Tenemos la **especie** ya que todos los animales pertenecen a una.\n",
    "* La **edad**, ya que todo ser vivo nace, crece, se reproduce y muere.\n",
    "\n",
    "**¿Qué métodos tienen en común los animales?**\n",
    "\n",
    "* El método ``hablar``, que cada animal implementará de una forma. Los perros ladran, las abejas zumban y los caballos relinchan.\n",
    "* Un método ``moverse``. Unos animales lo harán caminando, otros volando.`\n",
    "* Finalmente, un método ``descríbeme`` que será propio de cada animal."
   ]
  },
  {
   "cell_type": "code",
   "execution_count": 20,
   "metadata": {},
   "outputs": [],
   "source": [
    "class Animal:\n",
    "    def __init__(self, especie, edad):\n",
    "        self.especie = especie \n",
    "        self.edad = edad \n",
    "\n",
    "    # Este método lo dejamos sin nada\n",
    "    def hablar(self):\n",
    "        pass \n",
    "\n",
    "    # Este método lo dejamos sin nada\n",
    "    def moverse(self):\n",
    "        pass \n",
    "    \n",
    "    # Podemos utilizar el método mágico para describir\n",
    "    def __str__(self):\n",
    "        des = f\"\"\" \n",
    "Soy de la especie {self.especie} y tengo {self.edad}\n",
    "\"\"\".strip()\n",
    "        return des "
   ]
  },
  {
   "cell_type": "markdown",
   "metadata": {},
   "source": [
    "Una vez creada la clase `Animal`, vamos a crear la clase `Perro` que heredará los atributos y métodos. Primero veremos cómo hereda las funcionalidades y luego agregaremos más."
   ]
  },
  {
   "cell_type": "code",
   "execution_count": 8,
   "metadata": {},
   "outputs": [],
   "source": [
    "class Perro(Animal):\n",
    "    pass "
   ]
  },
  {
   "cell_type": "code",
   "execution_count": 9,
   "metadata": {},
   "outputs": [],
   "source": [
    "mi_perro = Perro(\"Mamífero\", 13)"
   ]
  },
  {
   "cell_type": "code",
   "execution_count": 10,
   "metadata": {},
   "outputs": [
    {
     "name": "stdout",
     "output_type": "stream",
     "text": [
      "Soy de la especie Mamífero y tengo 13\n"
     ]
    }
   ],
   "source": [
    "print(mi_perro)"
   ]
  },
  {
   "cell_type": "markdown",
   "metadata": {},
   "source": [
    "Podemos ver que la clase ``Perro`` heredó las funcionalidades de la clase `Animal`. Ahora vamos agregar nuestras propias funcionalidades."
   ]
  },
  {
   "cell_type": "code",
   "execution_count": 19,
   "metadata": {},
   "outputs": [],
   "source": [
    "class Perro(Animal):\n",
    "    def __init__(self, nombre, color_pelo, color_ojo):\n",
    "        # Fíjate que no declararemos la edad, ya que viene de animal\n",
    "        self.nombre = nombre \n",
    "        self.color_pelo = color_pelo\n",
    "        self.color_ojo = color_ojo \n",
    "\n",
    "    def hablar(self):\n",
    "        return f\"Guau guau!!\"\n",
    "    \n",
    "    def __str__(self):\n",
    "        return f\"Hola me llamo {self.nombre}, tengo {self.edad} años, mi color de pelo es {self.color_pelo} y mis ojos de color {self.color_ojo}\""
   ]
  },
  {
   "cell_type": "code",
   "execution_count": 15,
   "metadata": {},
   "outputs": [
    {
     "ename": "TypeError",
     "evalue": "Perro.__init__() takes 4 positional arguments but 6 were given",
     "output_type": "error",
     "traceback": [
      "\u001b[1;31m---------------------------------------------------------------------------\u001b[0m",
      "\u001b[1;31mTypeError\u001b[0m                                 Traceback (most recent call last)",
      "Cell \u001b[1;32mIn[15], line 1\u001b[0m\n\u001b[1;32m----> 1\u001b[0m mi_perro \u001b[38;5;241m=\u001b[39m \u001b[43mPerro\u001b[49m\u001b[43m(\u001b[49m\u001b[38;5;124;43m\"\u001b[39;49m\u001b[38;5;124;43mTito\u001b[39;49m\u001b[38;5;124;43m\"\u001b[39;49m\u001b[43m,\u001b[49m\u001b[43m \u001b[49m\u001b[38;5;124;43m\"\u001b[39;49m\u001b[38;5;124;43mNegro\u001b[39;49m\u001b[38;5;124;43m\"\u001b[39;49m\u001b[43m,\u001b[49m\u001b[43m \u001b[49m\u001b[38;5;124;43m\"\u001b[39;49m\u001b[38;5;124;43mCafé\u001b[39;49m\u001b[38;5;124;43m\"\u001b[39;49m\u001b[43m,\u001b[49m\u001b[43m \u001b[49m\u001b[38;5;241;43m13\u001b[39;49m\u001b[43m,\u001b[49m\u001b[43m \u001b[49m\u001b[38;5;124;43m\"\u001b[39;49m\u001b[38;5;124;43mMamífero\u001b[39;49m\u001b[38;5;124;43m\"\u001b[39;49m\u001b[43m)\u001b[49m\n",
      "\u001b[1;31mTypeError\u001b[0m: Perro.__init__() takes 4 positional arguments but 6 were given"
     ]
    }
   ],
   "source": [
    "mi_perro = Perro(\"Tito\", \"Negro\", \"Café\", 13, \"Mamífero\")"
   ]
  },
  {
   "cell_type": "code",
   "execution_count": 16,
   "metadata": {},
   "outputs": [],
   "source": [
    "mi_perro = Perro(\"Tito\", \"Negro\", \"Café\")"
   ]
  },
  {
   "cell_type": "markdown",
   "metadata": {},
   "source": [
    "**¿Cómo podemos heredar los atributos de la clase `Animal`?**"
   ]
  },
  {
   "cell_type": "markdown",
   "metadata": {},
   "source": [
    "#### **1.2.1 Función super()**"
   ]
  },
  {
   "cell_type": "code",
   "execution_count": 24,
   "metadata": {},
   "outputs": [],
   "source": [
    "class Animal:\n",
    "    def __init__(self, edad, especie=\"Mamífero\"):\n",
    "        self.especie = especie \n",
    "        self.edad = edad \n",
    "\n",
    "    # Este método lo dejamos sin nada\n",
    "    def hablar(self):\n",
    "        pass \n",
    "\n",
    "    # Este método lo dejamos sin nada\n",
    "    def moverse(self):\n",
    "        pass \n",
    "    \n",
    "    # Podemos utilizar el método mágico para describir\n",
    "    def __str__(self):\n",
    "        des = f\"\"\" \n",
    "Soy de la especie {self.especie} y tengo {self.edad}\n",
    "\"\"\".strip()\n",
    "        return des "
   ]
  },
  {
   "cell_type": "code",
   "execution_count": 25,
   "metadata": {},
   "outputs": [],
   "source": [
    "class Perro(Animal):\n",
    "    def __init__(self, nombre, color_pelo, color_ojo):\n",
    "        super().__init__(especie, edad)\n",
    "        self.especie = especie\n",
    "        self.edad = edad\n",
    "        self.nombre = nombre \n",
    "        self.color_pelo = color_pelo\n",
    "        self.color_ojo = color_ojo \n",
    "\n",
    "    def hablar(self):\n",
    "        return f\"Guau guau!!\"\n",
    "    \n",
    "    def __str__(self):\n",
    "        return f\"Hola me llamo {self.nombre}, tengo {self.edad} años, mi color de pelo es {self.color_pelo} y mis ojos de color {self.color_ojo}\""
   ]
  },
  {
   "cell_type": "code",
   "execution_count": 26,
   "metadata": {},
   "outputs": [
    {
     "ename": "TypeError",
     "evalue": "Perro.__init__() takes 4 positional arguments but 5 were given",
     "output_type": "error",
     "traceback": [
      "\u001b[1;31m---------------------------------------------------------------------------\u001b[0m",
      "\u001b[1;31mTypeError\u001b[0m                                 Traceback (most recent call last)",
      "Cell \u001b[1;32mIn[26], line 1\u001b[0m\n\u001b[1;32m----> 1\u001b[0m mi_perro \u001b[38;5;241m=\u001b[39m \u001b[43mPerro\u001b[49m\u001b[43m(\u001b[49m\u001b[38;5;241;43m13\u001b[39;49m\u001b[43m,\u001b[49m\u001b[43m \u001b[49m\u001b[38;5;124;43m\"\u001b[39;49m\u001b[38;5;124;43mTito\u001b[39;49m\u001b[38;5;124;43m\"\u001b[39;49m\u001b[43m,\u001b[49m\u001b[43m \u001b[49m\u001b[38;5;124;43m\"\u001b[39;49m\u001b[38;5;124;43mNegro\u001b[39;49m\u001b[38;5;124;43m\"\u001b[39;49m\u001b[43m,\u001b[49m\u001b[43m \u001b[49m\u001b[38;5;124;43m\"\u001b[39;49m\u001b[38;5;124;43mCafé\u001b[39;49m\u001b[38;5;124;43m\"\u001b[39;49m\u001b[43m)\u001b[49m\n",
      "\u001b[1;31mTypeError\u001b[0m: Perro.__init__() takes 4 positional arguments but 5 were given"
     ]
    }
   ],
   "source": [
    "mi_perro = Perro(13, \"Tito\", \"Negro\", \"Café\")"
   ]
  },
  {
   "cell_type": "markdown",
   "metadata": {},
   "source": [
    "### **1.3 Herencia Múltiple**"
   ]
  },
  {
   "cell_type": "markdown",
   "metadata": {},
   "source": [
    "### **1.4 Ejemplo Práctico (PyTorch)**"
   ]
  },
  {
   "cell_type": "markdown",
   "metadata": {},
   "source": [
    "# **material:**\n",
    "\n",
    "* https://ellibrodepython.com/herencia-en-python#herencia-en-python"
   ]
  },
  {
   "cell_type": "markdown",
   "metadata": {},
   "source": []
  }
 ],
 "metadata": {
  "kernelspec": {
   "display_name": "programacion_2",
   "language": "python",
   "name": "python3"
  },
  "language_info": {
   "codemirror_mode": {
    "name": "ipython",
    "version": 3
   },
   "file_extension": ".py",
   "mimetype": "text/x-python",
   "name": "python",
   "nbconvert_exporter": "python",
   "pygments_lexer": "ipython3",
   "version": "3.10.16"
  }
 },
 "nbformat": 4,
 "nbformat_minor": 2
}
