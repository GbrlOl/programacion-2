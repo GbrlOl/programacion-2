{
 "cells": [
  {
   "cell_type": "markdown",
   "metadata": {},
   "source": [
    "# **[EIE409] Programación 2**"
   ]
  },
  {
   "cell_type": "markdown",
   "metadata": {},
   "source": [
    "## **Clase 8:**\n",
    "\n",
    "### **Tabla de contenido**\n",
    "\n",
    "1. Matplotlib.\n",
    "2. Pil.\n",
    "3. OpenCV\n",
    "\n"
   ]
  }
 ],
 "metadata": {
  "language_info": {
   "name": "python"
  }
 },
 "nbformat": 4,
 "nbformat_minor": 2
}
