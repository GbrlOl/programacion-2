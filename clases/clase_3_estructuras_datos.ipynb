{
 "cells": [
  {
   "cell_type": "markdown",
   "metadata": {},
   "source": [
    "# **[EIE409] Programación 2**"
   ]
  },
  {
   "cell_type": "markdown",
   "metadata": {},
   "source": [
    "## **Clase 3:**\n",
    "\n",
    "### **Tabla de contenido**\n",
    "\n",
    "1. Funciones en Python.\n",
    "2. Breve introducción a la programación orientada a objetos.\n",
    "3. Estructuras de datos.\n",
    "4. Módulos en Python.\n"
   ]
  },
  {
   "cell_type": "markdown",
   "metadata": {},
   "source": [
    "## **1. Funciones**"
   ]
  },
  {
   "cell_type": "markdown",
   "metadata": {},
   "source": [
    "En Python, una función es un bloque de código reutilizable que realiza una tarea específica cuando se llama. Las funciones permiten organizar el código en partes más pequeñas y manejables, lo que facilita la lectura, escritura y mantenimiento del código.\n",
    "\n",
    "Una función en Python puede aceptar cero o más argumentos como entrada, realizar operaciones basadas en esos argumentos y, opcionalmente, devolver uno o más valores como resultado. Las funciones en Python siguen una sintaxis general:\n",
    "```python\n",
    "def nombre_de_la_funcion(parametro1, parametro2, ...):\n",
    "    \"\"\"Docstring de la función (opcional)\"\"\"\n",
    "    # Bloque de código de la función\n",
    "    # Puede incluir cálculos, operaciones, estructuras de control, etc.\n",
    "    return resultado  # (opcional)\n",
    "```\n",
    "---\n",
    "* ``def``: Esta palabra clave se utiliza para definir una función. nombre_de_la_funcion: Es el nombre de la función, que debe ser único dentro del ámbito en el que se define.\n",
    "* ``parametro1, parametro2, ...``: Son los parámetros que la función espera recibir como entrada. Estos son opcionales.\n",
    "* ``\"\"\"Docstring de la función\"\"\"``: Es una cadena de documentación opcional que describe el propósito y el funcionamiento de la función.\n",
    "* ``return resultado``: Esta instrucción es opcional y se utiliza para devolver un valor o una secuencia de valores como resultado de la función.\n",
    "Realicemos un ejemplo de crear una función que pida al usuario el nombre y lo imprima por pantalla.\n",
    "---\n",
    "\n",
    "`Nota Importante: Se recomienda escribir el nombre de las funciones en inglés, para efectos del curso esto no será estrictamente, por lo cual pueden escribirse en español.`"
   ]
  },
  {
   "cell_type": "markdown",
   "metadata": {},
   "source": [
    "A continuación, vamos a crear una función que permite decir el nombre del usuario."
   ]
  },
  {
   "cell_type": "code",
   "execution_count": 1,
   "metadata": {},
   "outputs": [],
   "source": [
    "def decir_nombre(nombre):\n",
    "    print(f\"Hola {nombre}!!!\")"
   ]
  },
  {
   "cell_type": "code",
   "execution_count": null,
   "metadata": {},
   "outputs": [],
   "source": [
    "# Agrega tu función acá"
   ]
  },
  {
   "cell_type": "code",
   "execution_count": null,
   "metadata": {},
   "outputs": [],
   "source": [
    "def decir_nombre_2():\n",
    "    user = input(\"Dime tu nombre:\")\n",
    "    print(\"Hola\", user)"
   ]
  },
  {
   "cell_type": "code",
   "execution_count": null,
   "metadata": {},
   "outputs": [],
   "source": [
    "# Agrega tu función acá"
   ]
  },
  {
   "cell_type": "markdown",
   "metadata": {},
   "source": [
    "Podemos agregar un valor por defecto a los parámetros de entrada de una función. Para el ejemplo anterior, podemos agregar por defecto el apellido."
   ]
  },
  {
   "cell_type": "code",
   "execution_count": 6,
   "metadata": {},
   "outputs": [],
   "source": [
    "def decir_nombre_apellido(nombre, apellido=\"Olmos\"):\n",
    "    print(f\"Hola {nombre} {apellido}!!!\")"
   ]
  },
  {
   "cell_type": "code",
   "execution_count": null,
   "metadata": {},
   "outputs": [],
   "source": [
    "# Agrega tu función acá"
   ]
  },
  {
   "cell_type": "markdown",
   "metadata": {},
   "source": [
    "El apellido podemos ponerlo por defecto, pero ¿Podemos cambiarlo?"
   ]
  },
  {
   "cell_type": "code",
   "execution_count": null,
   "metadata": {},
   "outputs": [],
   "source": [
    "# Agrega tu función acá"
   ]
  },
  {
   "cell_type": "markdown",
   "metadata": {},
   "source": [
    "### **1.1 Tipado estático**"
   ]
  },
  {
   "cell_type": "markdown",
   "metadata": {},
   "source": [
    "Python es un lenguaje de programación de `tipado dinámico`. Esto significa que en Python no es necesario especificar el tipo de datos de una variable cuando se declara; el tipo de datos se infiere automáticamente en tiempo de ejecución. Además, el tipo de datos de una variable puede cambiar durante la ejecución del programa. Aunque estas anotaciones son opcionales y no afectan al comportamiento de la función en tiempo de ejecución, ``pueden ser útiles para la documentación, el análisis estático del código y el autocompletado en algunos editores de texto``.\n",
    "\n",
    "##### **Dato Interesante**\n",
    "\n",
    "Los `Agentes de IA` es obligatorio utilizar el tipado estático."
   ]
  },
  {
   "cell_type": "code",
   "execution_count": 7,
   "metadata": {},
   "outputs": [],
   "source": [
    "def decir_nombre(nombre: str, apellido_1: str, apellido_2: str) -> str:\n",
    "  return print(f\"Hola {nombre, apellido_1, apellido_2}\")"
   ]
  },
  {
   "cell_type": "code",
   "execution_count": null,
   "metadata": {},
   "outputs": [],
   "source": [
    "# Escribe tu código aquí"
   ]
  },
  {
   "cell_type": "code",
   "execution_count": null,
   "metadata": {},
   "outputs": [],
   "source": [
    "def suma(a: int, b: int) -> int:\n",
    "    \"\"\"Esta función suma dos números enteros y devuelve el resultado.\"\"\"\n",
    "    return a + b"
   ]
  },
  {
   "cell_type": "code",
   "execution_count": null,
   "metadata": {},
   "outputs": [],
   "source": [
    "# Escribe tu código aquí"
   ]
  },
  {
   "cell_type": "markdown",
   "metadata": {},
   "source": [
    "Incluso, podemos utilizar lenguaje de etiquetado markdown para documentar nuestras funciones."
   ]
  },
  {
   "cell_type": "code",
   "execution_count": 8,
   "metadata": {},
   "outputs": [],
   "source": [
    "def suma(a: int, b: int) -> int:\n",
    "    \"\"\"\n",
    "    # Función Sumar\n",
    "\n",
    "    Esta función nos permite sumar dos números de entrada.\n",
    "\n",
    "    * a: Es el primer argumento de entrada\n",
    "    * b: Es el segundo argumento de entrada\n",
    "    \"\"\"\n",
    "    return a + b"
   ]
  },
  {
   "cell_type": "code",
   "execution_count": null,
   "metadata": {},
   "outputs": [],
   "source": [
    "# Escribe tu código aquí"
   ]
  },
  {
   "cell_type": "markdown",
   "metadata": {},
   "source": [
    "**¿Cómo podríamos sumar distintos argumentos de entrada, sin especificar la cantidad n de argumentos?**"
   ]
  },
  {
   "cell_type": "markdown",
   "metadata": {},
   "source": [
    "### **1.2 Argumentos posicionales variables**"
   ]
  },
  {
   "cell_type": "markdown",
   "metadata": {},
   "source": [
    "Los argumentos posicionales variables significan que puedes pasar un número indeterminado de argumentos a una función."
   ]
  },
  {
   "cell_type": "markdown",
   "metadata": {},
   "source": [
    "#### **1.2.1 \\*args**"
   ]
  },
  {
   "cell_type": "markdown",
   "metadata": {},
   "source": [
    "args es una tupla que guarda los valores que uno le entrega a la función"
   ]
  },
  {
   "cell_type": "code",
   "execution_count": 9,
   "metadata": {},
   "outputs": [],
   "source": [
    "def my_func(*args):\n",
    "    print(\"Los argumentos que pasaste a la función son los siguientes:\")\n",
    "    for arg in args:\n",
    "        print(arg)"
   ]
  },
  {
   "cell_type": "code",
   "execution_count": null,
   "metadata": {},
   "outputs": [
    {
     "name": "stdout",
     "output_type": "stream",
     "text": [
      "Los argumentos que pasaste a la función son los siguientes:\n",
      "15\n",
      "hola\n",
      "2\n",
      "3\n",
      "3.4\n"
     ]
    }
   ],
   "source": [
    "# Escribe tu código aquí"
   ]
  },
  {
   "cell_type": "markdown",
   "metadata": {},
   "source": [
    "Verifiquemos que los valores entregados se almacenan en una tupla."
   ]
  },
  {
   "cell_type": "code",
   "execution_count": 11,
   "metadata": {},
   "outputs": [],
   "source": [
    "def my_func(*args):\n",
    "    print(args)"
   ]
  },
  {
   "cell_type": "code",
   "execution_count": null,
   "metadata": {},
   "outputs": [
    {
     "name": "stdout",
     "output_type": "stream",
     "text": [
      "('hola', 'cómo', 'estás?')\n"
     ]
    }
   ],
   "source": [
    "# Escribe tu código aquí"
   ]
  },
  {
   "cell_type": "markdown",
   "metadata": {},
   "source": [
    "Es importante mencionar que podemos llamar la variable como nosotros estimemos conveniente."
   ]
  },
  {
   "cell_type": "code",
   "execution_count": 13,
   "metadata": {},
   "outputs": [],
   "source": [
    "def my_func(*mi_variable):\n",
    "    print(mi_variable)"
   ]
  },
  {
   "cell_type": "code",
   "execution_count": null,
   "metadata": {},
   "outputs": [],
   "source": [
    "# Escribe tu código aquí"
   ]
  },
  {
   "cell_type": "markdown",
   "metadata": {},
   "source": [
    "#### **1.2.2 \\*\\*kwargs**"
   ]
  },
  {
   "cell_type": "markdown",
   "metadata": {},
   "source": [
    "El ``\\*\\*kwargs`` permite que una función reciba un número variable de argumentos de palabra clave (es decir, argumentos pasados por nombre). kwargs también es solo un nombre convencional, pero el doble asterisco (**) es lo que indica que los argumentos se pasan como un diccionario."
   ]
  },
  {
   "cell_type": "code",
   "execution_count": 15,
   "metadata": {},
   "outputs": [],
   "source": [
    "def using_kwargs(**kwargs):\n",
    "    print(kwargs)"
   ]
  },
  {
   "cell_type": "code",
   "execution_count": 16,
   "metadata": {},
   "outputs": [
    {
     "name": "stdout",
     "output_type": "stream",
     "text": [
      "{'nombre': 'Gabriel', 'edad': 26, 'ciudad': 'Valparaíso'}\n"
     ]
    }
   ],
   "source": [
    "using_kwargs(nombre=\"Gabriel\", edad=26, ciudad=\"Valparaíso\")"
   ]
  },
  {
   "cell_type": "markdown",
   "metadata": {},
   "source": [
    "### **1.3 Scope (Alcance)**"
   ]
  },
  {
   "cell_type": "markdown",
   "metadata": {},
   "source": [
    "#### Alcances en general\n",
    "\n",
    "* **Alcance local**: Las variables definidas dentro de una función tienen un alcance local. Esto significa que solo pueden ser utilizadas dentro de esa función y no son accesibles desde fuera de ella.\n",
    "\n",
    "* **Alcance global**: Las variables definidas fuera de todas las funciones tienen un alcance global. Son accesibles desde cualquier lugar del código, incluidas las funciones (a menos que haya una variable local con el mismo nombre dentro de una función)."
   ]
  },
  {
   "cell_type": "markdown",
   "metadata": {},
   "source": [
    "Veamos un ejemplo con el alcance global"
   ]
  },
  {
   "cell_type": "code",
   "execution_count": 18,
   "metadata": {},
   "outputs": [
    {
     "name": "stdout",
     "output_type": "stream",
     "text": [
      "10\n"
     ]
    }
   ],
   "source": [
    "x = 10  # Variable global\n",
    "\n",
    "def mi_funcion():\n",
    "    print(x)  # Se puede acceder a la variable global x dentro de la función\n",
    "\n",
    "mi_funcion()  # Imprime 10"
   ]
  },
  {
   "cell_type": "markdown",
   "metadata": {},
   "source": [
    "Veamos un ejemplo con el alcance local"
   ]
  },
  {
   "cell_type": "code",
   "execution_count": 17,
   "metadata": {},
   "outputs": [
    {
     "name": "stdout",
     "output_type": "stream",
     "text": [
      "10\n"
     ]
    }
   ],
   "source": [
    "def mi_funcion():\n",
    "    if True:\n",
    "        x = 10  # Definida dentro de un bloque condicional\n",
    "\n",
    "    print(x)  # 'x' es accesible aquí porque su alcance es local a la función\n",
    "\n",
    "mi_funcion()"
   ]
  },
  {
   "cell_type": "markdown",
   "metadata": {},
   "source": [
    "Podemos hacer que una variable local sea global, utilizando la palabra reservada global."
   ]
  },
  {
   "cell_type": "code",
   "execution_count": 19,
   "metadata": {},
   "outputs": [
    {
     "name": "stdout",
     "output_type": "stream",
     "text": [
      "Antes de cambiar: 5\n",
      "Después de cambiar: 10\n"
     ]
    }
   ],
   "source": [
    "x = 5  # Variable global\n",
    "\n",
    "def cambiar_variable():\n",
    "    global x  # Declara que x es la variable global\n",
    "    x = 10  # Modifica la variable global 'x'\n",
    "\n",
    "print(\"Antes de cambiar:\", x)\n",
    "cambiar_variable()\n",
    "print(\"Después de cambiar:\", x)"
   ]
  },
  {
   "cell_type": "markdown",
   "metadata": {},
   "source": [
    "### **1.4 Funciones lambda**"
   ]
  },
  {
   "cell_type": "markdown",
   "metadata": {},
   "source": [
    "Las **funciones lambda** en Python son funciones anónimas, es decir, funciones que no requieren un nombre explícito. Son una forma concisa de escribir funciones pequeñas y se utilizan comúnmente cuando se necesita una función rápida para ser usada en una sola línea de código. La sintaxis es la siguiente:\n",
    "\n",
    "```python\n",
    "lambda argumentos: expresión\n",
    "```\n",
    "* **lambda**: Es la palabra clave que define una función anónima.\n",
    "* **argumentos**: Son los parámetros que la función recibe, de manera similar a las funciones tradicionales.\n",
    "* **expresión**: Es el valor que la función devuelve. Esta expresión se evalúa y se devuelve automáticamente."
   ]
  },
  {
   "cell_type": "code",
   "execution_count": 5,
   "metadata": {},
   "outputs": [],
   "source": [
    "suma = lambda a, b: print(\"La suma es:\", a + b)"
   ]
  },
  {
   "cell_type": "code",
   "execution_count": null,
   "metadata": {},
   "outputs": [],
   "source": [
    "# Escribe tu código aquí"
   ]
  },
  {
   "cell_type": "markdown",
   "metadata": {},
   "source": [
    "#### **1.4.1 Funciones Built-in**\n",
    "\n",
    "| [Documentación oficial](https://docs.python.org/3/library/functions.html) |\n",
    "\n",
    "Las funciones **built-in** son funciones que ya vienen incorporada en python. Veremos algunas a continuación.\n",
    "\n"
   ]
  },
  {
   "cell_type": "markdown",
   "metadata": {},
   "source": [
    "##### **1 Función map()**"
   ]
  },
  {
   "cell_type": "markdown",
   "metadata": {},
   "source": [
    "La sintaxis es la siguiente:\n",
    "\n",
    "```python\n",
    "map(funcion, iterable)\n",
    "```\n",
    "\n",
    "Donde:\n",
    "* ``funcion``: Es la función que se aplicará a cada elemento del iterable.\n",
    "* ``iterable``: Es la colección de datos (lista, tupla, etc.) sobre la que queremos aplicar la función.\n",
    "\n",
    "Podemos apreciar que la función map recibe como parámetro de entrada una función (la cual podemos escribir utilizando lambda) y luego recibe el iterable al cual se le aplicará la función."
   ]
  },
  {
   "cell_type": "code",
   "execution_count": null,
   "metadata": {},
   "outputs": [],
   "source": [
    "# Ejemplo: Elevar al cuadrado cada número de una lista\n",
    "lista_numeros = [1, 2, 3, 4, 5]\n",
    "\n",
    "result = map(lambda x: x**2, lista_numeros)"
   ]
  },
  {
   "cell_type": "code",
   "execution_count": 8,
   "metadata": {},
   "outputs": [
    {
     "data": {
      "text/plain": [
       "<map at 0x2383727aa40>"
      ]
     },
     "execution_count": 8,
     "metadata": {},
     "output_type": "execute_result"
    }
   ],
   "source": [
    "result"
   ]
  },
  {
   "cell_type": "markdown",
   "metadata": {},
   "source": [
    "Ahora debemos convertir el resultado que retorna map en un iterable, podemos utilizar list()."
   ]
  },
  {
   "cell_type": "code",
   "execution_count": 9,
   "metadata": {},
   "outputs": [],
   "source": [
    "result = list(result)"
   ]
  },
  {
   "cell_type": "code",
   "execution_count": null,
   "metadata": {},
   "outputs": [],
   "source": [
    "# Escribe tu código aquí"
   ]
  },
  {
   "cell_type": "markdown",
   "metadata": {},
   "source": [
    "##### **2 Función filter()**"
   ]
  },
  {
   "cell_type": "markdown",
   "metadata": {},
   "source": [
    "La función ``filter()`` se usa para seleccionar elementos de un iterable que cumplen con una condición. Retorna un iterador con los elementos que evaluaron True en la función dada. La sintáxis es la siguiente:\n",
    "\n",
    "```python\n",
    "filter(funcion, iterable)\n",
    "```\n",
    "\n",
    "* ``funcion``: Es la función que devuelve True o False para decidir si un elemento se mantiene en el nuevo iterable.\n",
    "* ``iterable``: Es la colección de datos que queremos filtrar."
   ]
  },
  {
   "cell_type": "code",
   "execution_count": 12,
   "metadata": {},
   "outputs": [],
   "source": [
    "# Ejemplo: Filtrar palabras que superen un cierto largo\n",
    "palabras = [\"programación\", \"hola\", \"EIE409\", \"Gabriel\"]\n",
    "\n",
    "result = list(filter(lambda palabra: len(palabra) > 5, palabras))"
   ]
  },
  {
   "cell_type": "code",
   "execution_count": null,
   "metadata": {},
   "outputs": [],
   "source": [
    "# Escriba su código aquí"
   ]
  },
  {
   "cell_type": "markdown",
   "metadata": {},
   "source": [
    "## **2. Breve introducción a la programación orientada a objetos**"
   ]
  },
  {
   "cell_type": "markdown",
   "metadata": {},
   "source": [
    "La Programación Orientada a Objetos (POO) en Python es un paradigma que permite modelar problemas de manera estructurada y modular. A continuación, se presentan los conceptos básicos de la POO en Python:\n",
    "\n",
    "### **1. Clases y Objetos**:\n",
    "\n",
    "* **Clase**: Es una plantilla o molde que define las propiedades y comportamientos de un objeto. Se define usando la palabra clave class.\n",
    "* **Objeto**: Es una instancia de una clase. Cada objeto tiene sus propias propiedades (atributos) y puede realizar acciones (métodos)."
   ]
  },
  {
   "cell_type": "code",
   "execution_count": 2,
   "metadata": {},
   "outputs": [],
   "source": [
    "class Coche:\n",
    "    pass\n",
    "\n",
    "mi_coche = Coche()  # Objeto mi_coche de la clase Coche"
   ]
  },
  {
   "cell_type": "markdown",
   "metadata": {},
   "source": [
    "### **2. Métodos**\n",
    "\n",
    "Son funciones definidas dentro de una clase. Se utilizan para definir las acciones que puede realizar un objeto."
   ]
  },
  {
   "cell_type": "code",
   "execution_count": 3,
   "metadata": {},
   "outputs": [
    {
     "name": "stdout",
     "output_type": "stream",
     "text": [
      "El coche ha arrancado.\n"
     ]
    }
   ],
   "source": [
    "class Coche:\n",
    "    def arrancar(self):\n",
    "        print(\"El coche ha arrancado.\")\n",
    "\n",
    "mi_coche = Coche()\n",
    "mi_coche.arrancar()  # Salida: El coche ha arrancado."
   ]
  },
  {
   "cell_type": "markdown",
   "metadata": {},
   "source": [
    "### **3. Atributos**\n",
    "\n",
    "Son datos asociados a una clase o a una instancia de la clase. Pueden ser:\n",
    "\n",
    "* Atributos de clase: Compartidos por todos los objetos de la clase.\n",
    "* Atributos de instancia: Únicos para cada objeto."
   ]
  },
  {
   "cell_type": "code",
   "execution_count": 4,
   "metadata": {},
   "outputs": [
    {
     "name": "stdout",
     "output_type": "stream",
     "text": [
      "Toyota\n",
      "Negro\n"
     ]
    }
   ],
   "source": [
    "class Coche:\n",
    "    color = \"Negro\"  # Atributo de clase\n",
    "\n",
    "    def __init__(self, marca, modelo):\n",
    "        self.marca = marca  # Atributo de instancia\n",
    "        self.modelo = modelo  # Atributo de instancia\n",
    "\n",
    "mi_coche = Coche(\"Toyota\", \"Corolla\")\n",
    "print(mi_coche.marca)  # Salida: Toyota\n",
    "print(Coche.color)     # Salida: Negro"
   ]
  },
  {
   "cell_type": "markdown",
   "metadata": {},
   "source": [
    "## **3. Estructuras de datos**"
   ]
  },
  {
   "cell_type": "markdown",
   "metadata": {},
   "source": [
    "En la clase 2 se abordaron las estructuras de datos pero a continuación se verá en profundidad."
   ]
  },
  {
   "cell_type": "markdown",
   "metadata": {},
   "source": [
    "### **3.1 Listas**"
   ]
  },
  {
   "cell_type": "markdown",
   "metadata": {},
   "source": [
    "En Python, una lista es una estructura de datos que permite almacenar múltiples elementos en un solo objeto. Es una colección ordenada, mutable (se puede modificar después de su creación) y puede contener elementos de diferentes tipos de datos. En resumen:\n",
    "\n",
    "1. **Ordenadas**: Los elementos mantienen el orden en que se agregan.\n",
    "2. **Mutables**: Se pueden modificar agregando, eliminando o cambiando elementos.\n",
    "3. **Permiten duplicados**: Se pueden tener múltiples elementos con el mismo valor.\n",
    "4. **Pueden contener diferentes tipos de datos**: Aunque no es común, una lista puede almacenar enteros, cadenas, booleanos, otras listas, etc."
   ]
  },
  {
   "cell_type": "markdown",
   "metadata": {},
   "source": [
    "#### **3.1.1 Breve uso de las listas**"
   ]
  },
  {
   "cell_type": "code",
   "execution_count": 13,
   "metadata": {},
   "outputs": [
    {
     "data": {
      "text/plain": [
       "[1, 5, 4, 2, 3, 1, 5]"
      ]
     },
     "execution_count": 13,
     "metadata": {},
     "output_type": "execute_result"
    }
   ],
   "source": [
    "number_list = [1, 5, 4, 2, 3, 1, 5]\n",
    "number_list"
   ]
  },
  {
   "cell_type": "code",
   "execution_count": null,
   "metadata": {},
   "outputs": [],
   "source": [
    "# Podemos saber el largo de la lista utilizando len()\n",
    "len(number_list) # Esto nos retornará la cantidad de elementos"
   ]
  },
  {
   "cell_type": "code",
   "execution_count": 14,
   "metadata": {},
   "outputs": [
    {
     "data": {
      "text/plain": [
       "['hola', 2, True, 5.46]"
      ]
     },
     "execution_count": 14,
     "metadata": {},
     "output_type": "execute_result"
    }
   ],
   "source": [
    "my_list = [\"hola\", 2, True, 5.46]\n",
    "my_list"
   ]
  },
  {
   "cell_type": "markdown",
   "metadata": {},
   "source": [
    "En resumen, en una lista puedo contener datos del mismo tipo o de distinto tipo."
   ]
  },
  {
   "cell_type": "markdown",
   "metadata": {},
   "source": [
    "**¿Podemos tener una lista de lista?**"
   ]
  },
  {
   "cell_type": "code",
   "execution_count": 15,
   "metadata": {},
   "outputs": [
    {
     "data": {
      "text/plain": [
       "[[1, 2, 3], [4, 5, 6], [7, 8, 9]]"
      ]
     },
     "execution_count": 15,
     "metadata": {},
     "output_type": "execute_result"
    }
   ],
   "source": [
    "matriz = [[1,2,3], [4,5,6], [7,8,9]]\n",
    "matriz"
   ]
  },
  {
   "cell_type": "code",
   "execution_count": null,
   "metadata": {},
   "outputs": [],
   "source": [
    "# Esto es otra forma de visualizar, pero es lo mismo que arriba.\n",
    "matriz = [\n",
    "    [1,2,3],\n",
    "    [4,5,6], \n",
    "    [7,8,9]\n",
    "]\n",
    "matriz"
   ]
  },
  {
   "cell_type": "markdown",
   "metadata": {},
   "source": [
    "Podemos expandir nuestra lista si tiene un tamaño fijo para repetir su valor."
   ]
  },
  {
   "cell_type": "code",
   "execution_count": 16,
   "metadata": {},
   "outputs": [],
   "source": [
    "expand = [0] "
   ]
  },
  {
   "cell_type": "code",
   "execution_count": null,
   "metadata": {},
   "outputs": [],
   "source": [
    "# Ejecute la siguiente celda\n",
    "print(expand * 5)"
   ]
  },
  {
   "cell_type": "code",
   "execution_count": 18,
   "metadata": {},
   "outputs": [],
   "source": [
    "expand = [1, \"true\", True, 1.5] "
   ]
  },
  {
   "cell_type": "code",
   "execution_count": null,
   "metadata": {},
   "outputs": [],
   "source": [
    "# Ejecute la siguiente celda\n",
    "print(expand * 5)"
   ]
  },
  {
   "cell_type": "markdown",
   "metadata": {},
   "source": [
    "**Podemos \"sumar\" listas que contengan elementos iguales o distintos**. La forma correcta de decir esto es `concatenar` dos listas (juntar)."
   ]
  },
  {
   "cell_type": "code",
   "execution_count": 20,
   "metadata": {},
   "outputs": [],
   "source": [
    "number = [1, 2, 3, 4, 5]\n",
    "char = ['a', 'b', 'c', 'd']"
   ]
  },
  {
   "cell_type": "code",
   "execution_count": null,
   "metadata": {},
   "outputs": [],
   "source": [
    "# Ejecute la siguiente celda\n",
    "concatenated = number + char\n",
    "print(concatenated)"
   ]
  },
  {
   "cell_type": "markdown",
   "metadata": {},
   "source": [
    "Existe la función (built-in) o función integrada en python `range()` que retorna una secuencia de números. A continuación, se describe la sintáxis de range().\n",
    "\n",
    "La función recibe tres argumentos:\n",
    "\n",
    "* start: Valor de inicio (opcional),\n",
    "* stop: valor de termino (obligatorio),\n",
    "* step: pasos (opcional) "
   ]
  },
  {
   "cell_type": "code",
   "execution_count": 22,
   "metadata": {},
   "outputs": [
    {
     "data": {
      "text/plain": [
       "range(0, 5)"
      ]
     },
     "execution_count": 22,
     "metadata": {},
     "output_type": "execute_result"
    }
   ],
   "source": [
    "seq_number = range(5)\n",
    "seq_number"
   ]
  },
  {
   "cell_type": "markdown",
   "metadata": {},
   "source": [
    "Ahora tenemos una secuencia de números que van de 0 a 4, y esa secuencia podemos convertirlo a una lista, utilizando ``list()``."
   ]
  },
  {
   "cell_type": "code",
   "execution_count": 23,
   "metadata": {},
   "outputs": [
    {
     "data": {
      "text/plain": [
       "[0, 1, 2, 3, 4]"
      ]
     },
     "execution_count": 23,
     "metadata": {},
     "output_type": "execute_result"
    }
   ],
   "source": [
    "list(seq_number)"
   ]
  },
  {
   "cell_type": "code",
   "execution_count": 28,
   "metadata": {},
   "outputs": [],
   "source": [
    "seq_number_2 = range(5,10,2)"
   ]
  },
  {
   "cell_type": "code",
   "execution_count": null,
   "metadata": {},
   "outputs": [],
   "source": [
    "# Ejecute la celda\n",
    "list(seq_number_2)"
   ]
  },
  {
   "cell_type": "code",
   "execution_count": 30,
   "metadata": {},
   "outputs": [],
   "source": [
    "char_list = list(\"Gabriel Olmos\")"
   ]
  },
  {
   "cell_type": "code",
   "execution_count": null,
   "metadata": {},
   "outputs": [],
   "source": [
    "# Ejecute la celda\n",
    "list(char_list)"
   ]
  },
  {
   "cell_type": "markdown",
   "metadata": {},
   "source": [
    "#### **3.1.2 Manipulación de listas**"
   ]
  },
  {
   "cell_type": "markdown",
   "metadata": {},
   "source": [
    "Dado que la lista es una estructura de datos, podemos acceder a sus valores, modificarlos o eliminaros. Para ello, se debe utilizar el índice para acceder a algún valor de la lista.\n",
    "\n",
    "```python\n",
    "lista_numeros = [1, 2, 3, 4, 5, 6, 7]\n",
    "```\n",
    "\n",
    "Cada valor separado por coma, tiene asociado un índice, empezando por 0 hasta n.\n",
    "\n",
    "```python\n",
    "# índice         0  1  2  3  4  5  6\n",
    "lista_numeros = [1, 2, 3, 4, 5, 6, 7]\n",
    "```"
   ]
  },
  {
   "cell_type": "code",
   "execution_count": 34,
   "metadata": {},
   "outputs": [],
   "source": [
    "number_list = list(range(1,11))\n",
    "# number_list"
   ]
  },
  {
   "cell_type": "code",
   "execution_count": null,
   "metadata": {},
   "outputs": [],
   "source": [
    "# Accediendo al primer, tercer y último elemento\n",
    "print(\"Accediendo al primer elemento de la lista:\", number_list[0])\n",
    "print(\"Accediendo al tercer elemento de la lista:\", number_list[2])\n",
    "print(\"Accediendo al último elemento de la lista:\", number_list[-1])"
   ]
  },
  {
   "cell_type": "markdown",
   "metadata": {},
   "source": [
    "Veamos otro ejemplo con otros tipos de datos, por ejemplo con strings."
   ]
  },
  {
   "cell_type": "code",
   "execution_count": 37,
   "metadata": {},
   "outputs": [],
   "source": [
    "frutas = ['manzanas', 'peras', 'naranjas', 'kiwi', 'uvas']"
   ]
  },
  {
   "cell_type": "code",
   "execution_count": null,
   "metadata": {},
   "outputs": [],
   "source": [
    "# Escriba su código aquí"
   ]
  },
  {
   "cell_type": "markdown",
   "metadata": {},
   "source": [
    "### **Recordatorio**"
   ]
  },
  {
   "cell_type": "markdown",
   "metadata": {},
   "source": []
  },
  {
   "cell_type": "markdown",
   "metadata": {},
   "source": []
  },
  {
   "cell_type": "code",
   "execution_count": null,
   "metadata": {},
   "outputs": [],
   "source": []
  },
  {
   "cell_type": "code",
   "execution_count": null,
   "metadata": {},
   "outputs": [],
   "source": []
  },
  {
   "cell_type": "markdown",
   "metadata": {},
   "source": [
    "## **3. Módulos**"
   ]
  },
  {
   "cell_type": "markdown",
   "metadata": {},
   "source": [
    "En Python, un módulo es un archivo que contiene código Python reutilizable. Los módulos pueden incluir variables, funciones y clases que pueden ser importadas y utilizadas en otros programas de Python. La creación de módulos permite organizar el código en archivos separados para facilitar la lectura, la escritura y el mantenimiento del código.\n",
    "\n",
    "Algunas características clave de los módulos en Python incluyen:\n",
    "\n",
    "* ``Reutilización de código``: Los módulos permiten definir funciones, variables y clases una vez y luego importarlas en otros programas o scripts de Python según sea necesario.\n",
    "\n",
    "* ``Organización``: Los módulos ayudan a organizar el código relacionado en archivos separados, lo que facilita la navegación y la gestión de proyectos de software más grandes.\n",
    "\n",
    "* ``Encapsulación``: Los módulos proporcionan un nivel de encapsulación, lo que significa que el código definido en un módulo puede ser ocultado de otros módulos a menos que se importe explícitamente.\n",
    "\n",
    "Para crear un módulo en Python, simplemente debes escribir el código que deseas incluir en el archivo de Python y guardarlo con la extensión \".py\". Por ejemplo, si deseas crear un módulo llamado \"mi_modulo.py\" que contiene una función llamada \"saludar\", puedes escribir lo siguiente en el archivo \"mi_modulo.py\":"
   ]
  },
  {
   "cell_type": "markdown",
   "metadata": {},
   "source": [
    "### **3.2 Paquetes nativos en Python**"
   ]
  },
  {
   "cell_type": "markdown",
   "metadata": {},
   "source": [
    "Python contiene módulos nativos, que no hay necesidad de instalarlos, algunos de ellos son:\n",
    "\n",
    "1. ``sys``: Proporciona acceso a algunas variables y funciones que interactúan con el intérprete de Python.\n",
    "2. ``os``: Ofrece una manera de usar funcionalidades dependientes del sistema operativo, como leer o escribir archivos.\n",
    "3. ``datetime``: Para manipular fechas y tiempos.\n",
    "4. ``math``: Proporciona acceso a las funciones matemáticas básicas.\n",
    "5. ``random``: Ofrece funciones que generan números pseudoaleatorios.\n",
    "6. ``collections``: Implementa tipos de datos de contenedor especializados, proporcionando alternativas a los contenedores generales de Python como dict, list, set, y tuple.\n",
    "7. ``json``: Para codificar y decodificar datos en formato JSON. http: Contiene módulos para trabajar con HyperText Transfer Protocol.\n",
    "8. ``urllib``: Se usa para abrir y leer URLs.\n",
    "9. ``threading``: Facilita la ejecución concurrente de código.\n",
    "10. ``multiprocessing``: Permite la creación de procesos, ofreciendo concurrencia local como alternativa al módulo threading.\n",
    "11. ``sqlite3``: Implementa una interfaz SQL para trabajar con bases de datos SQLite."
   ]
  },
  {
   "cell_type": "markdown",
   "metadata": {},
   "source": [
    "### **3.2.1 Módulo os**"
   ]
  },
  {
   "cell_type": "code",
   "execution_count": 1,
   "metadata": {},
   "outputs": [
    {
     "name": "stdout",
     "output_type": "stream",
     "text": [
      "['.git', 'clase_2_introducción_python.ipynb', 'clase_3_estructuras_datos.ipynb']\n"
     ]
    }
   ],
   "source": [
    "import os\n",
    "\n",
    "print(os.listdir())"
   ]
  },
  {
   "cell_type": "code",
   "execution_count": null,
   "metadata": {},
   "outputs": [],
   "source": []
  },
  {
   "cell_type": "code",
   "execution_count": null,
   "metadata": {},
   "outputs": [],
   "source": []
  }
 ],
 "metadata": {
  "kernelspec": {
   "display_name": "programacion_2",
   "language": "python",
   "name": "python3"
  },
  "language_info": {
   "codemirror_mode": {
    "name": "ipython",
    "version": 3
   },
   "file_extension": ".py",
   "mimetype": "text/x-python",
   "name": "python",
   "nbconvert_exporter": "python",
   "pygments_lexer": "ipython3",
   "version": "3.10.16"
  }
 },
 "nbformat": 4,
 "nbformat_minor": 2
}
