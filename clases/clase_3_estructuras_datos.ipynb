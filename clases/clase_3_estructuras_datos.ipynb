{
 "cells": [
  {
   "cell_type": "markdown",
   "metadata": {},
   "source": [
    "# **[EIE409] Programación 2**"
   ]
  },
  {
   "cell_type": "markdown",
   "metadata": {},
   "source": [
    "## **Clase 3:**\n",
    "\n",
    "### **Tabla de contenido**\n",
    "\n",
    "1. Breve introducción a la programación orientada a objetos.\n",
    "2. Estructuras de datos.\n",
    "3. Módulos en Python.\n"
   ]
  },
  {
   "cell_type": "markdown",
   "metadata": {},
   "source": [
    "## **1. Breve introducción a la programación orientada a objetos**"
   ]
  },
  {
   "cell_type": "markdown",
   "metadata": {},
   "source": [
    "La Programación Orientada a Objetos (POO) en Python es un paradigma que permite modelar problemas de manera estructurada y modular. A continuación, se presentan los conceptos básicos de la POO en Python:\n",
    "\n",
    "### **1. Clases y Objetos**:\n",
    "\n",
    "* **Clase**: Es una plantilla o molde que define las propiedades y comportamientos de un objeto. Se define usando la palabra clave class.\n",
    "* **Objeto**: Es una instancia de una clase. Cada objeto tiene sus propias propiedades (atributos) y puede realizar acciones (métodos)."
   ]
  },
  {
   "cell_type": "code",
   "execution_count": 2,
   "metadata": {},
   "outputs": [],
   "source": [
    "class Coche:\n",
    "    pass\n",
    "\n",
    "mi_coche = Coche()  # Objeto mi_coche de la clase Coche"
   ]
  },
  {
   "cell_type": "markdown",
   "metadata": {},
   "source": [
    "### **2. Métodos**\n",
    "\n",
    "Son funciones definidas dentro de una clase. Se utilizan para definir las acciones que puede realizar un objeto."
   ]
  },
  {
   "cell_type": "code",
   "execution_count": 3,
   "metadata": {},
   "outputs": [
    {
     "name": "stdout",
     "output_type": "stream",
     "text": [
      "El coche ha arrancado.\n"
     ]
    }
   ],
   "source": [
    "class Coche:\n",
    "    def arrancar(self):\n",
    "        print(\"El coche ha arrancado.\")\n",
    "\n",
    "mi_coche = Coche()\n",
    "mi_coche.arrancar()  # Salida: El coche ha arrancado."
   ]
  },
  {
   "cell_type": "markdown",
   "metadata": {},
   "source": [
    "### **3. Atributos**\n",
    "\n",
    "Son datos asociados a una clase o a una instancia de la clase. Pueden ser:\n",
    "\n",
    "* Atributos de clase: Compartidos por todos los objetos de la clase.\n",
    "* Atributos de instancia: Únicos para cada objeto."
   ]
  },
  {
   "cell_type": "code",
   "execution_count": 4,
   "metadata": {},
   "outputs": [
    {
     "name": "stdout",
     "output_type": "stream",
     "text": [
      "Toyota\n",
      "Negro\n"
     ]
    }
   ],
   "source": [
    "class Coche:\n",
    "    color = \"Negro\"  # Atributo de clase\n",
    "\n",
    "    def __init__(self, marca, modelo):\n",
    "        self.marca = marca  # Atributo de instancia\n",
    "        self.modelo = modelo  # Atributo de instancia\n",
    "\n",
    "mi_coche = Coche(\"Toyota\", \"Corolla\")\n",
    "print(mi_coche.marca)  # Salida: Toyota\n",
    "print(Coche.color)     # Salida: Negro"
   ]
  },
  {
   "cell_type": "markdown",
   "metadata": {},
   "source": [
    "## **2. Estructuras de datos**"
   ]
  },
  {
   "cell_type": "markdown",
   "metadata": {},
   "source": [
    "### **Recordatorio**"
   ]
  },
  {
   "cell_type": "markdown",
   "metadata": {},
   "source": []
  },
  {
   "cell_type": "markdown",
   "metadata": {},
   "source": []
  },
  {
   "cell_type": "code",
   "execution_count": null,
   "metadata": {},
   "outputs": [],
   "source": []
  },
  {
   "cell_type": "code",
   "execution_count": null,
   "metadata": {},
   "outputs": [],
   "source": []
  },
  {
   "cell_type": "markdown",
   "metadata": {},
   "source": [
    "## **3. Módulos**"
   ]
  },
  {
   "cell_type": "markdown",
   "metadata": {},
   "source": [
    "En Python, un módulo es un archivo que contiene código Python reutilizable. Los módulos pueden incluir variables, funciones y clases que pueden ser importadas y utilizadas en otros programas de Python. La creación de módulos permite organizar el código en archivos separados para facilitar la lectura, la escritura y el mantenimiento del código.\n",
    "\n",
    "Algunas características clave de los módulos en Python incluyen:\n",
    "\n",
    "* ``Reutilización de código``: Los módulos permiten definir funciones, variables y clases una vez y luego importarlas en otros programas o scripts de Python según sea necesario.\n",
    "\n",
    "* ``Organización``: Los módulos ayudan a organizar el código relacionado en archivos separados, lo que facilita la navegación y la gestión de proyectos de software más grandes.\n",
    "\n",
    "* ``Encapsulación``: Los módulos proporcionan un nivel de encapsulación, lo que significa que el código definido en un módulo puede ser ocultado de otros módulos a menos que se importe explícitamente.\n",
    "\n",
    "Para crear un módulo en Python, simplemente debes escribir el código que deseas incluir en el archivo de Python y guardarlo con la extensión \".py\". Por ejemplo, si deseas crear un módulo llamado \"mi_modulo.py\" que contiene una función llamada \"saludar\", puedes escribir lo siguiente en el archivo \"mi_modulo.py\":"
   ]
  },
  {
   "cell_type": "markdown",
   "metadata": {},
   "source": [
    "### **3.2 Paquetes nativos en Python**"
   ]
  },
  {
   "cell_type": "markdown",
   "metadata": {},
   "source": [
    "Python contiene módulos nativos, que no hay necesidad de instalarlos, algunos de ellos son:\n",
    "\n",
    "1. ``sys``: Proporciona acceso a algunas variables y funciones que interactúan con el intérprete de Python.\n",
    "2. ``os``: Ofrece una manera de usar funcionalidades dependientes del sistema operativo, como leer o escribir archivos.\n",
    "3. ``datetime``: Para manipular fechas y tiempos.\n",
    "4. ``math``: Proporciona acceso a las funciones matemáticas básicas.\n",
    "5. ``random``: Ofrece funciones que generan números pseudoaleatorios.\n",
    "6. ``collections``: Implementa tipos de datos de contenedor especializados, proporcionando alternativas a los contenedores generales de Python como dict, list, set, y tuple.\n",
    "7. ``json``: Para codificar y decodificar datos en formato JSON. http: Contiene módulos para trabajar con HyperText Transfer Protocol.\n",
    "8. ``urllib``: Se usa para abrir y leer URLs.\n",
    "9. ``threading``: Facilita la ejecución concurrente de código.\n",
    "10. ``multiprocessing``: Permite la creación de procesos, ofreciendo concurrencia local como alternativa al módulo threading.\n",
    "11. ``sqlite3``: Implementa una interfaz SQL para trabajar con bases de datos SQLite."
   ]
  },
  {
   "cell_type": "markdown",
   "metadata": {},
   "source": [
    "### **3.2.1 Módulo os**"
   ]
  },
  {
   "cell_type": "code",
   "execution_count": 1,
   "metadata": {},
   "outputs": [
    {
     "name": "stdout",
     "output_type": "stream",
     "text": [
      "['.git', 'clase_2_introducción_python.ipynb', 'clase_3_estructuras_datos.ipynb']\n"
     ]
    }
   ],
   "source": [
    "import os\n",
    "\n",
    "print(os.listdir())"
   ]
  },
  {
   "cell_type": "code",
   "execution_count": null,
   "metadata": {},
   "outputs": [],
   "source": []
  },
  {
   "cell_type": "code",
   "execution_count": null,
   "metadata": {},
   "outputs": [],
   "source": []
  }
 ],
 "metadata": {
  "kernelspec": {
   "display_name": "programacion_2",
   "language": "python",
   "name": "python3"
  },
  "language_info": {
   "codemirror_mode": {
    "name": "ipython",
    "version": 3
   },
   "file_extension": ".py",
   "mimetype": "text/x-python",
   "name": "python",
   "nbconvert_exporter": "python",
   "pygments_lexer": "ipython3",
   "version": "3.10.16"
  }
 },
 "nbformat": 4,
 "nbformat_minor": 2
}
