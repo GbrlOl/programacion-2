{
 "cells": [
  {
   "cell_type": "markdown",
   "metadata": {},
   "source": [
    "# **[EIE409] Programación 2**"
   ]
  },
  {
   "cell_type": "markdown",
   "metadata": {},
   "source": [
    "## **Clase 2:**\n",
    "\n",
    "### **Tabla de contenido**\n",
    "\n",
    "0. Primeros pasos.\n",
    "1. Convención para escribir código.\n"
   ]
  },
  {
   "cell_type": "markdown",
   "metadata": {},
   "source": [
    "Explicar VScode, colab, etc."
   ]
  },
  {
   "cell_type": "markdown",
   "metadata": {},
   "source": [
    "## **0. Primeros pasos en Python**"
   ]
  },
  {
   "cell_type": "code",
   "execution_count": 1,
   "metadata": {},
   "outputs": [
    {
     "name": "stdout",
     "output_type": "stream",
     "text": [
      "Hola mundo!\n"
     ]
    }
   ],
   "source": [
    "print(\"Hola mundo!\")"
   ]
  },
  {
   "cell_type": "markdown",
   "metadata": {},
   "source": [
    "## **1. Convención para escribir código**"
   ]
  },
  {
   "cell_type": "markdown",
   "metadata": {},
   "source": [
    "### **1.1 Snake Case**\n",
    "\n",
    "Para escribir nombres de **variables**, **funciones** y **métodos** se utiliza la convención `snake_case`."
   ]
  },
  {
   "cell_type": "markdown",
   "metadata": {},
   "source": [
    "Para escribir **variables** se realiza lo siguiente:"
   ]
  },
  {
   "cell_type": "code",
   "execution_count": 2,
   "metadata": {},
   "outputs": [
    {
     "name": "stdout",
     "output_type": "stream",
     "text": [
      "Gabriel Olmos\n"
     ]
    }
   ],
   "source": [
    "mi_nombre = \"Gabriel Olmos\"\n",
    "\n",
    "print(mi_nombre)"
   ]
  },
  {
   "cell_type": "markdown",
   "metadata": {},
   "source": [
    "Para escribir **funciones** se realiza lo siguiente:"
   ]
  },
  {
   "cell_type": "code",
   "execution_count": 3,
   "metadata": {},
   "outputs": [],
   "source": [
    "def mi_primera_funcion():\n",
    "    pass"
   ]
  },
  {
   "cell_type": "markdown",
   "metadata": {},
   "source": [
    "Para escribir **métodos** se realiza lo siguiente:"
   ]
  },
  {
   "cell_type": "code",
   "execution_count": 7,
   "metadata": {},
   "outputs": [],
   "source": [
    "class ClasePersona():\n",
    "    def __init__(self, nombre_persona):\n",
    "        self.nombre_persona = nombre_persona\n",
    "\n",
    "    # Esto es un método\n",
    "    def mostrar_nombre(self):\n",
    "        print(self.nombre_persona)"
   ]
  },
  {
   "cell_type": "code",
   "execution_count": 9,
   "metadata": {},
   "outputs": [
    {
     "name": "stdout",
     "output_type": "stream",
     "text": [
      "Gabriel Olmos\n"
     ]
    }
   ],
   "source": [
    "persona_gabriel = ClasePersona(\"Gabriel Olmos\")\n",
    "persona_gabriel.mostrar_nombre()"
   ]
  },
  {
   "cell_type": "markdown",
   "metadata": {},
   "source": [
    "No debe escribirse de la siguiente forma el nombre de las variables:\n",
    "\n",
    "```python\n",
    "1variable = \"mal escrita la variable\"\n",
    "Variable = \"mal escrita la variable\"\n",
    "Mivariable = \"Mal escrita la variable\"\n",
    "```"
   ]
  },
  {
   "cell_type": "markdown",
   "metadata": {},
   "source": [
    "### **1.2 Pascal Case**"
   ]
  },
  {
   "cell_type": "markdown",
   "metadata": {},
   "source": [
    "Para escribir el nombre de las **clases de Python** se utiliza la convención ``PascalCase``, la cual combina palabras poniéndolas todas con la primera letra en mayúscula."
   ]
  },
  {
   "cell_type": "code",
   "execution_count": 10,
   "metadata": {},
   "outputs": [],
   "source": [
    "# Esta es una clase en python utilizando la convención.\n",
    "class ClasePersona():\n",
    "    def __init__(self, nombre_persona):\n",
    "        self.nombre_persona = nombre_persona\n",
    "\n",
    "    # Esto es un método\n",
    "    def mostrar_nombre(self):\n",
    "        print(self.nombre_persona)"
   ]
  },
  {
   "cell_type": "markdown",
   "metadata": {},
   "source": [
    "### **1.3 Camel Case**"
   ]
  },
  {
   "cell_type": "markdown",
   "metadata": {},
   "source": [
    "La convención **Camel Case** es utilizada en el lenguaje **Javascripts** donde las variables se escriben con la primera letra de la palabra en minúscula y la segunda letra de la palabra con mayúscula."
   ]
  },
  {
   "cell_type": "code",
   "execution_count": 3,
   "metadata": {},
   "outputs": [
    {
     "name": "stdout",
     "output_type": "stream",
     "text": [
      "Gabriel Olmos\n"
     ]
    }
   ],
   "source": [
    "miNombre = \"Gabriel Olmos\"\n",
    "print(miNombre)"
   ]
  },
  {
   "cell_type": "code",
   "execution_count": 2,
   "metadata": {},
   "outputs": [
    {
     "name": "stdout",
     "output_type": "stream",
     "text": [
      "3.1415\n"
     ]
    }
   ],
   "source": [
    "CONSTANTE = 3.1415\n",
    "print(CONSTANTE)"
   ]
  },
  {
   "cell_type": "markdown",
   "metadata": {},
   "source": [
    "## **2. Markdown**"
   ]
  },
  {
   "cell_type": "markdown",
   "metadata": {},
   "source": [
    "Markdown es un lenguaje de marcado ligero que permite convertir texto plano en formato HTML. Es muy utilizado en documentación, README, foros y plataformas como GitHub.\n",
    "\n",
    "---\n",
    "### **1. Encabezados**\n",
    "\n",
    "Los encabezados se crean utilizando el símbolo `#`. Cuantos más `#`, menor será el tamaño del encabezado.\n",
    "\n",
    "```\n",
    "# Encabezado H1\n",
    "## Encabezado H2\n",
    "### Encabezado H3\n",
    "```\n",
    "---\n",
    "\n",
    "### **2. Énfasis en el texto**\n",
    "\n",
    "- **Negrita**: Usa `**` alrededor del texto.\n",
    "  ```\n",
    "  **Este texto está en negrita**\n",
    "  ```\n",
    "\n",
    "- *Itálica*: Usa `*` alrededor del texto.\n",
    "  ```\n",
    "  *Este texto está en itálica*\n",
    "  ```\n",
    "\n",
    "- ***Negrita e itálica***: Usa `***` alrededor del texto.\n",
    "  ```\n",
    "  ***Este texto está en negrita e itálica***\n",
    "  ```\n",
    "---\n",
    "\n",
    "### **3. Listas**\n",
    "\n",
    "- **Lista ordenada**: Usa números seguidos de un punto y una espacio.\n",
    "  ```\n",
    "  1. Primer item\n",
    "  2. Segundo item\n",
    "  3. Tercer item\n",
    "  ```\n",
    "---\n",
    "\n",
    "- **Lista sin ordenar**: Usa un asterisco `*`, guion `-` o número `+` seguido de una espacio.\n",
    "  ```\n",
    "  - Primer item\n",
    "  - Segundo item\n",
    "  - Tercer item\n",
    "  ```\n",
    "---\n",
    "\n",
    "### **4. Enlaces**\n",
    "\n",
    "Los enlaces se crean con el formato `[texto del enlace](URL)`.\n",
    "\n",
    "```\n",
    "[Visita Google](https://www.google.com)\n",
    "```\n",
    "---\n",
    "\n",
    "### **5. Imágenes**\n",
    "\n",
    "Las imágenes se crean con el formato `![texto alternativo](URL de la imagen)`.\n",
    "\n",
    "```\n",
    "![Logo de GitHub](https://github.githubassets.com/images/modules/logos_page/Octocat.png)\n",
    "```\n",
    "---\n",
    "\n",
    "### **6. Código**\n",
    "\n",
    "- **Código en línea**: Usa comillas sencillas ` ` `.\n",
    "  ```\n",
    "  `print(\"Hola Mundo\")`\n",
    "  ```\n",
    "\n",
    "- **Bloque de código**: Usa triple comillas y especifica el lenguaje.\n",
    "  ```python\n",
    "  def hola_mundo():\n",
    "      print(\"Hola Mundo\")\n",
    "  ```\n",
    "---\n",
    "  \n",
    "### **7. Tablas**\n",
    "\n",
    "Las tablas se crean usando el símbolo `|` y guiones `-`.\n",
    "\n",
    "```\n",
    "| Columna 1 | Columna 2 |\n",
    "|-----------|-----------|\n",
    "| Dato 1    | Dato 2    |\n",
    "| Dato 3    | Dato 4    |\n",
    "```\n",
    "---\n",
    "\n",
    "### **8. Citaciones (Blockquotes)**\n",
    "\n",
    "Las citaciones se crean con el símbolo `>` al inicio de la línea.\n",
    "\n",
    "```\n",
    "> Este es un texto citado.\n",
    "```\n",
    "---\n",
    "\n",
    "### **9. Escapar caracteres**\n",
    "\n",
    "Si necesitas mostrar un símbolo de Markdown como texto, agrega una barra invertida `\\` antes del símbolo.\n",
    "\n",
    "```\n",
    "\\# Este no es un encabezado\n",
    "```\n",
    "---\n",
    "\n",
    "### **10. Mejores prácticas**\n",
    "\n",
    "- Usa espacios consistentemente.\n",
    "- Asegúrate de que las líneas no sean demasiado largas.\n",
    "- Revisa que las imágenes y enlaces estén correctamente formados.\n"
   ]
  },
  {
   "cell_type": "markdown",
   "metadata": {},
   "source": [
    "## **3. Variables y tipos de datos**"
   ]
  },
  {
   "cell_type": "markdown",
   "metadata": {},
   "source": [
    "En Python, una variable es un nombre que le damos a un valor. No necesitas declarar el tipo de dato, Python lo infiere automáticamente."
   ]
  },
  {
   "cell_type": "markdown",
   "metadata": {},
   "source": [
    "### **3.1 Tipos de datos básicos**"
   ]
  },
  {
   "cell_type": "markdown",
   "metadata": {},
   "source": [
    "#### **1. Enteros (int):** Números enteros, como `1, 2, 3`, etc."
   ]
  },
  {
   "cell_type": "code",
   "execution_count": 4,
   "metadata": {},
   "outputs": [],
   "source": [
    "edad = 25 # Variable de tipo entero (int)"
   ]
  },
  {
   "cell_type": "code",
   "execution_count": 6,
   "metadata": {},
   "outputs": [
    {
     "data": {
      "text/plain": [
       "25"
      ]
     },
     "execution_count": 6,
     "metadata": {},
     "output_type": "execute_result"
    }
   ],
   "source": [
    "edad"
   ]
  },
  {
   "cell_type": "code",
   "execution_count": 7,
   "metadata": {},
   "outputs": [
    {
     "name": "stdout",
     "output_type": "stream",
     "text": [
      "25\n"
     ]
    }
   ],
   "source": [
    "print(edad)"
   ]
  },
  {
   "cell_type": "markdown",
   "metadata": {},
   "source": [
    "#### **2. Flotantes (float):** Números decimales, como `3.14`, `-0.5`, etc."
   ]
  },
  {
   "cell_type": "code",
   "execution_count": 8,
   "metadata": {},
   "outputs": [
    {
     "data": {
      "text/plain": [
       "1.75"
      ]
     },
     "execution_count": 8,
     "metadata": {},
     "output_type": "execute_result"
    }
   ],
   "source": [
    "altura = 1.75\n",
    "altura"
   ]
  },
  {
   "cell_type": "markdown",
   "metadata": {},
   "source": [
    "#### **3. Complejos (Complex):** Números complejos, como `3.14 + 3.2i`."
   ]
  },
  {
   "cell_type": "code",
   "execution_count": 15,
   "metadata": {},
   "outputs": [
    {
     "data": {
      "text/plain": [
       "(3.14+3.2j)"
      ]
     },
     "execution_count": 15,
     "metadata": {},
     "output_type": "execute_result"
    }
   ],
   "source": [
    "complejo = 3.14 + 3.2j\n",
    "complejo"
   ]
  },
  {
   "cell_type": "markdown",
   "metadata": {},
   "source": [
    "#### **4. Cadenas (str):** Texto, siempre entre comillas."
   ]
  },
  {
   "cell_type": "code",
   "execution_count": 9,
   "metadata": {},
   "outputs": [
    {
     "name": "stdout",
     "output_type": "stream",
     "text": [
      "Juan\n",
      "Juan\n",
      "\n",
      "Juan\n",
      "\n"
     ]
    }
   ],
   "source": [
    "nombre_1 = \"Juan\"\n",
    "nombre_2 = 'Juan'\n",
    "nombre_3 = \"\"\"\n",
    "Juan\n",
    "\"\"\"\n",
    "\n",
    "print(nombre_1)\n",
    "print(nombre_2)\n",
    "print(nombre_3)"
   ]
  },
  {
   "cell_type": "markdown",
   "metadata": {},
   "source": [
    "#### **5. Booleanos (bool):** Valores lógicos, `True` (verdadero) o `False` (falso).\n"
   ]
  },
  {
   "cell_type": "code",
   "execution_count": 11,
   "metadata": {},
   "outputs": [
    {
     "name": "stdout",
     "output_type": "stream",
     "text": [
      "False\n",
      "True\n"
     ]
    }
   ],
   "source": [
    "estado_1 = False \n",
    "estado_2 = True \n",
    "\n",
    "print(estado_1)\n",
    "print(estado_2)"
   ]
  },
  {
   "cell_type": "markdown",
   "metadata": {},
   "source": [
    "#### **Ejercicios**\n",
    "\n",
    "a) Muestre por pantalla un número entero.\\\n",
    "b) Muestre por pantalla un número flotante.\\\n",
    "c) Muestre por pantalla un número complejo.\\\n",
    "d) Muestre por pantalla su nombre.\n",
    "\n"
   ]
  },
  {
   "cell_type": "code",
   "execution_count": null,
   "metadata": {},
   "outputs": [],
   "source": []
  },
  {
   "cell_type": "markdown",
   "metadata": {},
   "source": [
    "### **3.2 Estructuras de datos**"
   ]
  },
  {
   "cell_type": "markdown",
   "metadata": {},
   "source": [
    "Las estructuras de datos ..."
   ]
  },
  {
   "cell_type": "markdown",
   "metadata": {},
   "source": [
    "#### **1. Listas (list):** Colecciones ordenadas de elementos, entre corchetes `[]`."
   ]
  },
  {
   "cell_type": "code",
   "execution_count": 16,
   "metadata": {},
   "outputs": [
    {
     "name": "stdout",
     "output_type": "stream",
     "text": [
      "['manzanas', 'peras', 'uvas']\n"
     ]
    }
   ],
   "source": [
    "frutas = [\"manzanas\", \"peras\", \"uvas\"]\n",
    "print(frutas)"
   ]
  },
  {
   "cell_type": "code",
   "execution_count": 17,
   "metadata": {},
   "outputs": [
    {
     "name": "stdout",
     "output_type": "stream",
     "text": [
      "[1, 2, 3, 4]\n"
     ]
    }
   ],
   "source": [
    "lista_enteros = [1, 2, 3, 4]\n",
    "print(lista_enteros)"
   ]
  },
  {
   "cell_type": "code",
   "execution_count": 18,
   "metadata": {},
   "outputs": [
    {
     "name": "stdout",
     "output_type": "stream",
     "text": [
      "[1.2, 1.3, 1.4, 1.5]\n"
     ]
    }
   ],
   "source": [
    "lista_flotantes = [1.2, 1.3, 1.4, 1.5]\n",
    "print(lista_flotantes)"
   ]
  },
  {
   "cell_type": "markdown",
   "metadata": {},
   "source": [
    "#### **2. Diccionarios (dict):** Pares clave-valor, entre llaves `{}`."
   ]
  },
  {
   "cell_type": "code",
   "execution_count": 19,
   "metadata": {},
   "outputs": [
    {
     "name": "stdout",
     "output_type": "stream",
     "text": [
      "{'nombre': 'María', 'edad': 30, 'ciudad': 'Lima'}\n"
     ]
    }
   ],
   "source": [
    "persona = {\"nombre\": \"María\", \"edad\": 30, \"ciudad\": \"Lima\"}\n",
    "print(persona)"
   ]
  },
  {
   "cell_type": "markdown",
   "metadata": {},
   "source": [
    "#### **3. Tuplas (tuple):** Similar a las listas, pero inmutables, entre paréntesis `()`."
   ]
  },
  {
   "cell_type": "code",
   "execution_count": 20,
   "metadata": {},
   "outputs": [
    {
     "name": "stdout",
     "output_type": "stream",
     "text": [
      "('rojo', 'azul', 'verde')\n"
     ]
    }
   ],
   "source": [
    "colores = (\"rojo\", \"azul\", \"verde\")\n",
    "print(colores)"
   ]
  },
  {
   "cell_type": "markdown",
   "metadata": {},
   "source": [
    "#### **4. Set:** Similar a los diccionarios `{}`."
   ]
  },
  {
   "cell_type": "code",
   "execution_count": 21,
   "metadata": {},
   "outputs": [
    {
     "name": "stdout",
     "output_type": "stream",
     "text": [
      "{1, 2, 3, 4}\n"
     ]
    }
   ],
   "source": [
    "sets = {1, 2, 3, 4}\n",
    "print(sets)"
   ]
  },
  {
   "cell_type": "markdown",
   "metadata": {},
   "source": [
    "## **4. Operadores**"
   ]
  },
  {
   "cell_type": "markdown",
   "metadata": {},
   "source": [
    "### **4.1 Operadores aritméticos**"
   ]
  },
  {
   "cell_type": "code",
   "execution_count": 22,
   "metadata": {},
   "outputs": [],
   "source": [
    "a = 5\n",
    "b = 3\n",
    "\n",
    "suma = a + b      # 8\n",
    "resta = a - b     # 2\n",
    "multiplicación = a * b  # 15\n",
    "división = a / b   # 1.666...\n",
    "división_entera = a // b  # 1\n",
    "módulo = a % b     # 2\n",
    "potencia = a ** b  # 125"
   ]
  },
  {
   "cell_type": "code",
   "execution_count": 25,
   "metadata": {},
   "outputs": [
    {
     "name": "stdout",
     "output_type": "stream",
     "text": [
      "La suma es: 8\n",
      "La resta es: 2\n",
      "La multiplicación es: 15\n",
      "La división es: 1.6666666666666667\n",
      "La división entera es: 1\n",
      "El módulo es: 2\n",
      "La potencia es: 125\n"
     ]
    }
   ],
   "source": [
    "print(\"La suma es:\", suma)\n",
    "print(\"La resta es:\", resta)\n",
    "print(\"La multiplicación es:\", multiplicación)\n",
    "print(\"La división es:\", división)\n",
    "print(\"La división entera es:\", división_entera)\n",
    "print(\"El módulo es:\", módulo)\n",
    "print(\"La potencia es:\", potencia)\n"
   ]
  },
  {
   "cell_type": "markdown",
   "metadata": {},
   "source": [
    "### **4.2 Operadores de comparación**"
   ]
  },
  {
   "cell_type": "code",
   "execution_count": 26,
   "metadata": {},
   "outputs": [],
   "source": [
    "a = 5\n",
    "b = 3\n",
    "\n",
    "igual = a == b    # False\n",
    "diferente = a != b  # True\n",
    "mayor = a > b      # True\n",
    "menor = a < b      # False\n",
    "mayor_igual = a >= b  # True\n",
    "menor_igual = a <= b  # False"
   ]
  },
  {
   "cell_type": "code",
   "execution_count": 29,
   "metadata": {},
   "outputs": [
    {
     "name": "stdout",
     "output_type": "stream",
     "text": [
      "¿5 es igual a 3?: False\n"
     ]
    }
   ],
   "source": [
    "print(f\"¿{a} es igual a {b}?:\", igual)"
   ]
  },
  {
   "cell_type": "code",
   "execution_count": 30,
   "metadata": {},
   "outputs": [
    {
     "name": "stdout",
     "output_type": "stream",
     "text": [
      "¿5 es diferente a 3?: True\n"
     ]
    }
   ],
   "source": [
    "print(f\"¿{a} es diferente a {b}?:\", diferente)"
   ]
  },
  {
   "cell_type": "code",
   "execution_count": 31,
   "metadata": {},
   "outputs": [
    {
     "name": "stdout",
     "output_type": "stream",
     "text": [
      "¿5 es mayor a 3?: True\n"
     ]
    }
   ],
   "source": [
    "print(f\"¿{a} es mayor a {b}?:\", mayor)"
   ]
  },
  {
   "cell_type": "code",
   "execution_count": 32,
   "metadata": {},
   "outputs": [
    {
     "name": "stdout",
     "output_type": "stream",
     "text": [
      "¿5 es menor a 3?: False\n"
     ]
    }
   ],
   "source": [
    "print(f\"¿{a} es menor a {b}?:\", menor)"
   ]
  },
  {
   "cell_type": "code",
   "execution_count": 33,
   "metadata": {},
   "outputs": [
    {
     "name": "stdout",
     "output_type": "stream",
     "text": [
      "¿5 es mayor o igual a 3?: True\n"
     ]
    }
   ],
   "source": [
    "print(f\"¿{a} es mayor o igual a {b}?:\", mayor_igual)"
   ]
  },
  {
   "cell_type": "code",
   "execution_count": 34,
   "metadata": {},
   "outputs": [
    {
     "name": "stdout",
     "output_type": "stream",
     "text": [
      "¿5 es menor o igual a 3?: False\n"
     ]
    }
   ],
   "source": [
    "print(f\"¿{a} es menor o igual a {b}?:\", menor_igual)"
   ]
  },
  {
   "cell_type": "markdown",
   "metadata": {},
   "source": [
    "### **4.3 Operadores lógicos**"
   ]
  },
  {
   "cell_type": "markdown",
   "metadata": {},
   "source": [
    "Podemos utilizar los operadores lógicos como compuerta."
   ]
  },
  {
   "cell_type": "code",
   "execution_count": 35,
   "metadata": {},
   "outputs": [
    {
     "name": "stdout",
     "output_type": "stream",
     "text": [
      "False\n",
      "True\n",
      "False\n"
     ]
    }
   ],
   "source": [
    "# and (y)\n",
    "verdadero = True\n",
    "falso = False\n",
    "resultado = verdadero and falso  # False\n",
    "print(resultado)\n",
    "\n",
    "# or (o)\n",
    "resultado = verdadero or falso  # True\n",
    "print(resultado)\n",
    "\n",
    "# not (negación)\n",
    "resultado = not verdadero  # False\n",
    "print(resultado)"
   ]
  },
  {
   "cell_type": "code",
   "execution_count": 36,
   "metadata": {},
   "outputs": [
    {
     "data": {
      "text/plain": [
       "True"
      ]
     },
     "execution_count": 36,
     "metadata": {},
     "output_type": "execute_result"
    }
   ],
   "source": [
    "valor_1 = 5\n",
    "valor_2 = 2\n",
    "\n",
    "valor_1 > valor_2"
   ]
  },
  {
   "cell_type": "code",
   "execution_count": 37,
   "metadata": {},
   "outputs": [
    {
     "data": {
      "text/plain": [
       "False"
      ]
     },
     "execution_count": 37,
     "metadata": {},
     "output_type": "execute_result"
    }
   ],
   "source": [
    "valor_1 < valor_2"
   ]
  },
  {
   "cell_type": "markdown",
   "metadata": {},
   "source": [
    "## **5. Estructura de control**"
   ]
  },
  {
   "cell_type": "markdown",
   "metadata": {},
   "source": [
    "El control de flujo en Python se refiere a la manera en que el intérprete de Python ejecuta las instrucciones en un programa. Permite controlar el orden en que se ejecutan las instrucciones y tomar decisiones basadas en ciertas condiciones. El control de flujo en Python se puede lograr mediante diversas estructuras, como las que se muestran en los siguientes apartados."
   ]
  },
  {
   "cell_type": "markdown",
   "metadata": {},
   "source": [
    "Las estructuras de control nos permiten tomar decisiones o repetir acciones."
   ]
  },
  {
   "cell_type": "markdown",
   "metadata": {},
   "source": [
    "### **5.1 Condicionales (if, elif, else)**"
   ]
  },
  {
   "cell_type": "markdown",
   "metadata": {},
   "source": [
    "```python\n",
    "if condicion_1:\n",
    "    # Bloque de código si la condición_1 es verdadera\n",
    "elif condicion_2:\n",
    "    # Bloque de código si la condicion_1 es falsa y la condicion_2 es verdadera\n",
    "else:\n",
    "    # Bloque de código si ninguna de las condiciones anteriores es verdadera\n",
    "```\n",
    "\n",
    "**Nota: Tiene que todo estar identado para que funcione correctamente el código.**"
   ]
  },
  {
   "cell_type": "code",
   "execution_count": 38,
   "metadata": {},
   "outputs": [
    {
     "name": "stdout",
     "output_type": "stream",
     "text": [
      "Eres mayor de edad\n"
     ]
    }
   ],
   "source": [
    "edad = 18\n",
    "\n",
    "if edad >= 18:\n",
    "    print(\"Eres mayor de edad\")\n",
    "elif edad >= 13:\n",
    "    print(\"Eres adolescente\")\n",
    "else:\n",
    "    print(\"Eres menor de edad\")"
   ]
  },
  {
   "cell_type": "code",
   "execution_count": 39,
   "metadata": {},
   "outputs": [
    {
     "name": "stdout",
     "output_type": "stream",
     "text": [
      "Eres adolescente\n"
     ]
    }
   ],
   "source": [
    "edad = 13\n",
    "\n",
    "if edad >= 18:\n",
    "    print(\"Eres mayor de edad\")\n",
    "elif edad >= 13:\n",
    "    print(\"Eres adolescente\")\n",
    "else:\n",
    "    print(\"Eres menor de edad\")"
   ]
  },
  {
   "cell_type": "code",
   "execution_count": 40,
   "metadata": {},
   "outputs": [
    {
     "name": "stdout",
     "output_type": "stream",
     "text": [
      "Eres menor de edad\n"
     ]
    }
   ],
   "source": [
    "edad = 12\n",
    "\n",
    "if edad >= 18:\n",
    "    print(\"Eres mayor de edad\")\n",
    "elif edad >= 13:\n",
    "    print(\"Eres adolescente\")\n",
    "else:\n",
    "    print(\"Eres menor de edad\")"
   ]
  },
  {
   "cell_type": "markdown",
   "metadata": {},
   "source": [
    "### **5.2 Bucles for y while (if, elif, else)**"
   ]
  },
  {
   "cell_type": "code",
   "execution_count": 42,
   "metadata": {},
   "outputs": [
    {
     "name": "stdout",
     "output_type": "stream",
     "text": [
      "La fruta recorrida en la lista es: plátano\n",
      "La fruta recorrida en la lista es: manzana\n",
      "La fruta recorrida en la lista es: pera\n",
      "La fruta recorrida en la lista es: kiwi\n"
     ]
    }
   ],
   "source": [
    "frutas = [\"plátano\", \"manzana\", \"pera\", \"kiwi\"]\n",
    "\n",
    "for fruta in frutas:\n",
    "    print(\"La fruta recorrida en la lista es:\", fruta)"
   ]
  },
  {
   "cell_type": "code",
   "execution_count": 44,
   "metadata": {},
   "outputs": [
    {
     "name": "stdout",
     "output_type": "stream",
     "text": [
      "La fruta en la posición 1 corresponde a: plátano\n",
      "La fruta en la posición 2 corresponde a: manzana\n",
      "La fruta en la posición 3 corresponde a: pera\n",
      "La fruta en la posición 4 corresponde a: kiwi\n"
     ]
    }
   ],
   "source": [
    "frutas = [\"plátano\", \"manzana\", \"pera\", \"kiwi\"]\n",
    "\n",
    "for i in range(len(frutas)):\n",
    "    print(f\"La fruta en la posición {i+1} corresponde a: {frutas[i]}\")"
   ]
  },
  {
   "cell_type": "markdown",
   "metadata": {},
   "source": [
    "## **6. Funciones**"
   ]
  },
  {
   "cell_type": "markdown",
   "metadata": {},
   "source": [
    "En Python, una función es un bloque de código reutilizable que realiza una tarea específica cuando se llama. Las funciones permiten organizar el código en partes más pequeñas y manejables, lo que facilita la lectura, escritura y mantenimiento del código.\n",
    "\n",
    "Una función en Python puede aceptar cero o más argumentos como entrada, realizar operaciones basadas en esos argumentos y, opcionalmente, devolver uno o más valores como resultado. Las funciones en Python siguen una sintaxis general:\n",
    "```python\n",
    "def nombre_de_la_funcion(parametro1, parametro2, ...):\n",
    "    \"\"\"Docstring de la función (opcional)\"\"\"\n",
    "    # Bloque de código de la función\n",
    "    # Puede incluir cálculos, operaciones, estructuras de control, etc.\n",
    "    return resultado  # (opcional)\n",
    "```\n",
    "---\n",
    "* ``def``: Esta palabra clave se utiliza para definir una función. nombre_de_la_funcion: Es el nombre de la función, que debe ser único dentro del ámbito en el que se define.\n",
    "* ``parametro1, parametro2, ...``: Son los parámetros que la función espera recibir como entrada. Estos son opcionales.\n",
    "* ``\"\"\"Docstring de la función\"\"\"``: Es una cadena de documentación opcional que describe el propósito y el funcionamiento de la función.\n",
    "* ``return resultado``: Esta instrucción es opcional y se utiliza para devolver un valor o una secuencia de valores como resultado de la función.\n",
    "Realicemos un ejemplo de crear una función que pida al usuario el nombre y lo imprima por pantalla.\n",
    "\n",
    "---"
   ]
  },
  {
   "cell_type": "code",
   "execution_count": 45,
   "metadata": {},
   "outputs": [],
   "source": [
    "def decir_nombre(nombre):\n",
    "    print(f\"Hola {nombre}!!!\")"
   ]
  },
  {
   "cell_type": "code",
   "execution_count": 46,
   "metadata": {},
   "outputs": [
    {
     "name": "stdout",
     "output_type": "stream",
     "text": [
      "Hola Gabriel!!!\n"
     ]
    }
   ],
   "source": [
    "decir_nombre(\"Gabriel\")"
   ]
  },
  {
   "cell_type": "markdown",
   "metadata": {},
   "source": [
    "Podemos tener un valor al parámetro por defecto."
   ]
  },
  {
   "cell_type": "code",
   "execution_count": 47,
   "metadata": {},
   "outputs": [],
   "source": [
    "def decir_nombre_apellido(nombre, apellido=\"Olmos\"):\n",
    "    print(f\"Hola {nombre} {apellido}!!!\")"
   ]
  },
  {
   "cell_type": "code",
   "execution_count": 48,
   "metadata": {},
   "outputs": [
    {
     "name": "stdout",
     "output_type": "stream",
     "text": [
      "Hola Gabriel Olmos!!!\n"
     ]
    }
   ],
   "source": [
    "decir_nombre_apellido(\"Gabriel\")"
   ]
  },
  {
   "cell_type": "markdown",
   "metadata": {},
   "source": [
    "El apellido podemos ponerlo por defecto, pero ¿Podemos cambiarlo?"
   ]
  },
  {
   "cell_type": "code",
   "execution_count": 49,
   "metadata": {},
   "outputs": [
    {
     "name": "stdout",
     "output_type": "stream",
     "text": [
      "Hola Gabriel Leiva!!!\n"
     ]
    }
   ],
   "source": [
    "decir_nombre_apellido(\"Gabriel\", \"Leiva\")"
   ]
  }
 ],
 "metadata": {
  "kernelspec": {
   "display_name": "programacion_2",
   "language": "python",
   "name": "python3"
  },
  "language_info": {
   "codemirror_mode": {
    "name": "ipython",
    "version": 3
   },
   "file_extension": ".py",
   "mimetype": "text/x-python",
   "name": "python",
   "nbconvert_exporter": "python",
   "pygments_lexer": "ipython3",
   "version": "3.10.16"
  }
 },
 "nbformat": 4,
 "nbformat_minor": 2
}
