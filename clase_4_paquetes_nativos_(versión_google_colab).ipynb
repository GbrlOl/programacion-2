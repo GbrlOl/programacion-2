{
  "cells": [
    {
      "cell_type": "markdown",
      "metadata": {
        "id": "view-in-github",
        "colab_type": "text"
      },
      "source": [
        "<a href=\"https://colab.research.google.com/github/GbrlOl/programacion-2/blob/main/clase_4_paquetes_nativos_(versi%C3%B3n_google_colab).ipynb\" target=\"_parent\"><img src=\"https://colab.research.google.com/assets/colab-badge.svg\" alt=\"Open In Colab\"/></a>"
      ]
    },
    {
      "cell_type": "markdown",
      "metadata": {
        "id": "CwJe-Vc5W2bL"
      },
      "source": [
        "# **[EIE409] Programación 2**"
      ]
    },
    {
      "cell_type": "markdown",
      "metadata": {
        "id": "V9ajDc1rW2bN"
      },
      "source": [
        "## **Clase 4:**\n",
        "\n",
        "### **Tabla de contenido**\n",
        "\n",
        "1. Módulo OS, gestión de archivos, datatime y shutil.\n",
        "2. Instalar Librerías."
      ]
    },
    {
      "cell_type": "markdown",
      "metadata": {
        "id": "mJBILmi6W2bO"
      },
      "source": [
        "## **1 Paquetes Nativos en Python**"
      ]
    },
    {
      "cell_type": "markdown",
      "metadata": {
        "id": "BVY8XM1gW2bO"
      },
      "source": [
        "Python contiene módulos nativos, que no hay necesidad de instalarlos, algunos de ellos son:\n",
        "\n",
        "1. ``sys``: Proporciona acceso a algunas variables y funciones que interactúan con el intérprete de Python.\n",
        "2. ``os``: Ofrece una manera de usar funcionalidades dependientes del sistema operativo, como leer o escribir archivos.\n",
        "3. ``datetime``: Para manipular fechas y tiempos.\n",
        "4. ``math``: Proporciona acceso a las funciones matemáticas básicas.\n",
        "5. ``random``: Ofrece funciones que generan números pseudoaleatorios.\n",
        "6. ``collections``: Implementa tipos de datos de contenedor especializados, proporcionando alternativas a los contenedores generales de Python como dict, list, set, y tuple.\n",
        "7. ``json``: Para codificar y decodificar datos en formato JSON. http: Contiene módulos para trabajar con HyperText Transfer Protocol.\n",
        "8. ``urllib``: Se usa para abrir y leer URLs.\n",
        "9. ``threading``: Facilita la ejecución concurrente de código.\n",
        "10. ``multiprocessing``: Permite la creación de procesos, ofreciendo concurrencia local como alternativa al módulo threading.\n",
        "11. ``sqlite3``: Implementa una interfaz SQL para trabajar con bases de datos SQLite."
      ]
    },
    {
      "cell_type": "markdown",
      "metadata": {
        "id": "qRcnHEUIW2bP"
      },
      "source": [
        "A continuación, veremos algunos módulos y paquetes que ofrece Python."
      ]
    },
    {
      "cell_type": "markdown",
      "metadata": {
        "id": "N4TzxTEFW2bP"
      },
      "source": [
        "### **1.2 Módulo os**"
      ]
    },
    {
      "cell_type": "markdown",
      "metadata": {
        "id": "Lk5Vg0qUW2bP"
      },
      "source": [
        "El módulo `os` en Python proporciona funciones para **interactuar con el sistema operativo**, permitiendo realizar tareas como manipulación de archivos y directorios, gestión de procesos y acceso a variables de entorno.\n",
        "\n",
        "1. Primero, para poder llamar un módulo a python debemos utilizar la palabra reservada **import** y luego el nombre del archivo."
      ]
    },
    {
      "cell_type": "code",
      "execution_count": 2,
      "metadata": {
        "id": "vfYr19B3W2bQ"
      },
      "outputs": [],
      "source": [
        "import os"
      ]
    },
    {
      "cell_type": "markdown",
      "metadata": {
        "id": "Ihj7FbBfW2bQ"
      },
      "source": [
        "#### **1.2.1 Directorio Actual**"
      ]
    },
    {
      "cell_type": "code",
      "source": [
        "os.getcwd()"
      ],
      "metadata": {
        "colab": {
          "base_uri": "https://localhost:8080/",
          "height": 36
        },
        "id": "02JE4GJsZu2a",
        "outputId": "766f5b0e-038a-4147-f459-45df348264e1"
      },
      "execution_count": 3,
      "outputs": [
        {
          "output_type": "execute_result",
          "data": {
            "text/plain": [
              "'/content'"
            ],
            "application/vnd.google.colaboratory.intrinsic+json": {
              "type": "string"
            }
          },
          "metadata": {},
          "execution_count": 3
        }
      ]
    },
    {
      "cell_type": "markdown",
      "source": [
        "Utilizando comandos de consola:"
      ],
      "metadata": {
        "id": "akUf2qGi6u5S"
      }
    },
    {
      "cell_type": "code",
      "source": [
        "!pwd"
      ],
      "metadata": {
        "colab": {
          "base_uri": "https://localhost:8080/"
        },
        "id": "vTlhrauB6yDA",
        "outputId": "30a21da9-3eb1-41a6-eede-fe9c05fc1676"
      },
      "execution_count": 4,
      "outputs": [
        {
          "output_type": "stream",
          "name": "stdout",
          "text": [
            "/content\n"
          ]
        }
      ]
    },
    {
      "cell_type": "markdown",
      "source": [
        "Podemos asignar el contenido de getcwd al objeto `directorio_actual`."
      ],
      "metadata": {
        "id": "mPedk644622k"
      }
    },
    {
      "cell_type": "code",
      "execution_count": null,
      "metadata": {
        "id": "dDErOGWGW2bR"
      },
      "outputs": [],
      "source": [
        "directorio_actual = os.getcwd()"
      ]
    },
    {
      "cell_type": "code",
      "execution_count": 5,
      "metadata": {
        "id": "Ht0_RhiaW2bR"
      },
      "outputs": [],
      "source": [
        "# Muestre por pantalla el directorio actual"
      ]
    },
    {
      "cell_type": "markdown",
      "source": [
        "#### **1.2.2 Crear un directorio**"
      ],
      "metadata": {
        "id": "_ISdRA1t7Tou"
      }
    },
    {
      "cell_type": "code",
      "source": [
        "os.mkdir(\"primera_carpeta\")"
      ],
      "metadata": {
        "id": "3wED9UxO7XD_"
      },
      "execution_count": 6,
      "outputs": []
    },
    {
      "cell_type": "markdown",
      "metadata": {
        "id": "TkVokGtQW2bR"
      },
      "source": [
        "#### **1.2.3 Cambiar de directorios**"
      ]
    },
    {
      "cell_type": "code",
      "source": [
        "os.getcwd()"
      ],
      "metadata": {
        "colab": {
          "base_uri": "https://localhost:8080/",
          "height": 36
        },
        "id": "0S9i3DtB7juM",
        "outputId": "96c982b6-87fe-4c97-b12c-4e6346945780"
      },
      "execution_count": 7,
      "outputs": [
        {
          "output_type": "execute_result",
          "data": {
            "text/plain": [
              "'/content'"
            ],
            "application/vnd.google.colaboratory.intrinsic+json": {
              "type": "string"
            }
          },
          "metadata": {},
          "execution_count": 7
        }
      ]
    },
    {
      "cell_type": "markdown",
      "source": [
        "Ahora vamos a cambiar a la primera carpeta."
      ],
      "metadata": {
        "id": "zFO1dlj77lsT"
      }
    },
    {
      "cell_type": "code",
      "execution_count": 9,
      "metadata": {
        "id": "gcEYfzgBW2bR"
      },
      "outputs": [],
      "source": [
        "# Cambiar el directorio de trabajo\n",
        "os.chdir(\"/content/primera_carpeta\")"
      ]
    },
    {
      "cell_type": "code",
      "source": [
        "# Utilice el comando para mostrar el directorio actual"
      ],
      "metadata": {
        "id": "nnDSvpA07siT"
      },
      "execution_count": null,
      "outputs": []
    },
    {
      "cell_type": "markdown",
      "metadata": {
        "id": "luvyKrypW2bS"
      },
      "source": [
        "**Nota Importante**: En Window debemos utilizar raw string (cadena sin procesar o cadena cruda). Se utiliza anteponiendo una r antes de la cadena para evitar que los caracteres de escape (\\) sean interpretados por Python."
      ]
    },
    {
      "cell_type": "markdown",
      "metadata": {
        "id": "FpuUuO7eW2bS"
      },
      "source": [
        "#### **1.2.4 Listar Archivos y Subdirectorios**"
      ]
    },
    {
      "cell_type": "markdown",
      "source": [
        "Previamente hay que mover al directorio `/content`."
      ],
      "metadata": {
        "id": "5ijNRDsO7-P-"
      }
    },
    {
      "cell_type": "code",
      "source": [
        "os.chdir(\"/content\")"
      ],
      "metadata": {
        "id": "VnixPkRu8DSi"
      },
      "execution_count": 12,
      "outputs": []
    },
    {
      "cell_type": "code",
      "execution_count": 14,
      "metadata": {
        "id": "4SJSS16NW2bS",
        "outputId": "fd824305-fd40-48e4-a24f-2667ec32d1f1",
        "colab": {
          "base_uri": "https://localhost:8080/"
        }
      },
      "outputs": [
        {
          "output_type": "stream",
          "name": "stdout",
          "text": [
            "['.config', 'primera_carpeta', 'sample_data']\n"
          ]
        }
      ],
      "source": [
        "# Listar archivos y directorios en una ruta específica\n",
        "print(os.listdir('.'))  # Lista los archivos en el directorio actual"
      ]
    },
    {
      "cell_type": "code",
      "execution_count": 15,
      "metadata": {
        "id": "kUXLd3gvW2bS",
        "outputId": "6fbfc7b3-bdc5-4b62-c703-7620d00c8f84",
        "colab": {
          "base_uri": "https://localhost:8080/"
        }
      },
      "outputs": [
        {
          "output_type": "stream",
          "name": "stdout",
          "text": [
            "['.config', 'primera_carpeta', 'sample_data']\n"
          ]
        }
      ],
      "source": [
        "# Listar archivos y directorios en una ruta específica\n",
        "print(os.listdir())  # Lista los archivos en el directorio actual"
      ]
    },
    {
      "cell_type": "code",
      "execution_count": 16,
      "metadata": {
        "id": "_asetgolW2bS",
        "outputId": "c0840cfd-248f-46ed-885b-4dbd8d367f04",
        "colab": {
          "base_uri": "https://localhost:8080/"
        }
      },
      "outputs": [
        {
          "output_type": "stream",
          "name": "stdout",
          "text": [
            "['README.md', 'anscombe.json', 'california_housing_test.csv', 'mnist_train_small.csv', 'california_housing_train.csv', 'mnist_test.csv']\n"
          ]
        }
      ],
      "source": [
        "# Listar archivos y directorios en una ruta específica\n",
        "print(os.listdir('sample_data'))  # Lista los archivos en el directorio actual"
      ]
    },
    {
      "cell_type": "markdown",
      "metadata": {
        "id": "4lhkmM2yW2bS"
      },
      "source": [
        "#### **1.2.5 Crear directorios anidados**"
      ]
    },
    {
      "cell_type": "code",
      "execution_count": 17,
      "metadata": {
        "id": "mDggqPdhW2bS"
      },
      "outputs": [],
      "source": [
        "os.makedirs(\"anidada1/anidada2/anidada3\")"
      ]
    },
    {
      "cell_type": "markdown",
      "metadata": {
        "id": "NdW7fZYJW2bS"
      },
      "source": [
        "#### **1.2.6 Eliminar un directorio**"
      ]
    },
    {
      "cell_type": "markdown",
      "metadata": {
        "id": "ttA4d2z0W2bT"
      },
      "source": [
        "Con el siguiente método se elimina un directorio vacío."
      ]
    },
    {
      "cell_type": "code",
      "execution_count": 18,
      "metadata": {
        "id": "kVGHr3P9W2bT"
      },
      "outputs": [],
      "source": [
        "os.rmdir(\"primera_carpeta\")"
      ]
    },
    {
      "cell_type": "code",
      "source": [
        "os.rmdir(\"anidada1/anidada2/anidada3\")"
      ],
      "metadata": {
        "id": "KiA3vGUZ9LxX"
      },
      "execution_count": 20,
      "outputs": []
    },
    {
      "cell_type": "markdown",
      "metadata": {
        "id": "DmmsTWsOW2bT"
      },
      "source": [
        "#### **1.2.7 Renombrar un directorio**"
      ]
    },
    {
      "cell_type": "code",
      "execution_count": 21,
      "metadata": {
        "id": "eH4ueCqsW2bT"
      },
      "outputs": [],
      "source": [
        "os.mkdir(\"mi_primera_carpeta\")"
      ]
    },
    {
      "cell_type": "code",
      "execution_count": 22,
      "metadata": {
        "id": "OA9Biu0_W2bU"
      },
      "outputs": [],
      "source": [
        "os.rename(\"mi_primera_carpeta\", \"carpeta_renombrada\")"
      ]
    },
    {
      "cell_type": "markdown",
      "metadata": {
        "id": "kGfVGR_iW2bU"
      },
      "source": [
        "#### **1.2.8 Variable de ambiente**"
      ]
    },
    {
      "cell_type": "markdown",
      "metadata": {
        "id": "H9xbLjTjW2bU"
      },
      "source": [
        "Estas variables permiten conectarse a la API de algún proovedor de servicio y acceder a recursos en sus servidores."
      ]
    },
    {
      "cell_type": "code",
      "execution_count": null,
      "metadata": {
        "id": "QCcUei5TW2bU"
      },
      "outputs": [],
      "source": [
        "os.environ[\"OPENAI_API_KEY\"] = \"sk-....\""
      ]
    },
    {
      "cell_type": "markdown",
      "metadata": {
        "id": "EWsiyfp3W2bV"
      },
      "source": [
        "#### **1.2.9 Obtener una variable de entorno**"
      ]
    },
    {
      "cell_type": "code",
      "execution_count": 23,
      "metadata": {
        "id": "BE2OIyJJW2bW",
        "outputId": "46a42c3a-62d1-4197-c377-46ed7aeab044",
        "colab": {
          "base_uri": "https://localhost:8080/",
          "height": 36
        }
      },
      "outputs": [
        {
          "output_type": "execute_result",
          "data": {
            "text/plain": [
              "'/root'"
            ],
            "application/vnd.google.colaboratory.intrinsic+json": {
              "type": "string"
            }
          },
          "metadata": {},
          "execution_count": 23
        }
      ],
      "source": [
        "os.getenv('HOME')"
      ]
    },
    {
      "cell_type": "markdown",
      "metadata": {
        "id": "QzwnW4VNW2bW"
      },
      "source": [
        "#### **1.3.0 Ejecutar comandos de sistema**"
      ]
    },
    {
      "cell_type": "code",
      "execution_count": 24,
      "metadata": {
        "id": "xe4bcQOvW2bW",
        "outputId": "510b2aab-ca05-47ad-985d-46fef3d614d9",
        "colab": {
          "base_uri": "https://localhost:8080/"
        }
      },
      "outputs": [
        {
          "output_type": "execute_result",
          "data": {
            "text/plain": [
              "0"
            ]
          },
          "metadata": {},
          "execution_count": 24
        }
      ],
      "source": [
        "# Mostrar el conteido de tu directorio\n",
        "os.system('dir')"
      ]
    },
    {
      "cell_type": "code",
      "source": [
        "# En linux debe ser ls\n",
        "os.system('ls')"
      ],
      "metadata": {
        "id": "oJ1R2T3-9vC5"
      },
      "execution_count": null,
      "outputs": []
    },
    {
      "cell_type": "markdown",
      "metadata": {
        "id": "CM3CqDyqW2bW"
      },
      "source": [
        "#### **1.3.1 ¿Podemos ver el contenido del módulo os?**"
      ]
    },
    {
      "cell_type": "code",
      "source": [
        "# Ejecute esta celda\n",
        "print(os.__file__)"
      ],
      "metadata": {
        "id": "Bj5Ycg6W9zuC"
      },
      "execution_count": null,
      "outputs": []
    },
    {
      "cell_type": "markdown",
      "metadata": {
        "id": "F1dtIb25W2bX"
      },
      "source": [
        "#### **Resumen**"
      ]
    },
    {
      "cell_type": "markdown",
      "metadata": {
        "id": "WFAzbLfXW2bX"
      },
      "source": [
        "| **Categoría**                 | **Método**                  | **Descripción**                                  | **Ejemplo**                             |\n",
        "|-------------------------------|-----------------------------|--------------------------------------------------|-----------------------------------------|\n",
        "| **Directorios**               | `os.getcwd()`               | Obtiene el directorio de trabajo actual         | `os.getcwd()`                           |\n",
        "|                               | `os.chdir(ruta)`            | Cambia el directorio de trabajo                 | `os.chdir('C:\\\\nuevo_directorio')`     |\n",
        "|                               | `os.listdir(ruta)`          | Lista archivos y carpetas en un directorio      | `os.listdir('.')`                       |\n",
        "|                               | `os.mkdir(ruta)`            | Crea un directorio                             | `os.mkdir('mi_carpeta')`               |\n",
        "|                               | `os.rmdir(ruta)`            | Elimina un directorio vacío                    | `os.rmdir('mi_carpeta')`               |\n",
        "|                               | `os.makedirs(ruta)`         | Crea directorios anidados                      | `os.makedirs('carpeta1/carpeta2')`     |\n",
        "|                               | `os.removedirs(ruta)`       | Elimina directorios anidados                   | `os.removedirs('carpeta1/carpeta2')`   |\n",
        "| **Archivos**                  | `os.rename(viejo, nuevo)`   | Renombra un archivo                            | `os.rename('a.txt', 'b.txt')`          |\n",
        "|                               | `os.remove(archivo)`        | Elimina un archivo                             | `os.remove('b.txt')`                   |\n",
        "| **Variables de Entorno**       | `os.getenv(variable)`       | Obtiene una variable de entorno                | `os.getenv('HOME')`                     |\n",
        "|                               | `os.environ['VAR'] = valor` | Establece una variable de entorno              | `os.environ['NUEVA'] = 'valor'`         |\n",
        "| **Comandos del Sistema**       | `os.system(comando)`        | Ejecuta un comando del sistema                 | `os.system('ls' o 'dir')`              |\n",
        "|                               | `os.popen(comando).read()`  | Obtiene la salida de un comando del sistema    | `os.popen('ls').read()`                |\n",
        "| **Información del Sistema**    | `os.getpid()`               | Obtiene el ID del proceso actual               | `os.getpid()`                           |\n",
        "|                               | `os.getlogin()`             | Obtiene el usuario actual                      | `os.getlogin()`                         |"
      ]
    },
    {
      "cell_type": "markdown",
      "metadata": {
        "id": "jey6CD77W2bX"
      },
      "source": [
        "### **1.3 Gestión de Archivos**"
      ]
    },
    {
      "cell_type": "markdown",
      "metadata": {
        "id": "G7hrpL6IW2bX"
      },
      "source": [
        "En Python, se usa la declaración **with** para abrir archivos de forma segura y eficiente. La sintaxis básica es:\n",
        "\n",
        "```python\n",
        "with open(\"archivo.txt\", \"r\") as archivo:\n",
        "    contenido = archivo.read()\n",
        "    print(contenido)\n",
        "```\n",
        "\n",
        "La palabra reservada **with** permite manejar archivos de manera automática, asegurando que el archivo se cierre correctamente, incluso si ocurre un error. Por otro lado, tenemos que:\n",
        "\n",
        "* ``open(\"archivo.txt\", \"r\")``: Abre el archivo en modo lectura (\"r\").\n",
        "* ``as archivo``: Le da un nombre (archivo) al objeto del archivo para referenciarlo dentro del bloque.\n",
        "* ``archivo.read()``: Lee todo el contenido del archivo.\n",
        "\n",
        "Existen diferentes **modos de aperturas**:\n",
        "\n",
        "* **\"r\"**\tLectura (error si el archivo no existe).\n",
        "* **\"w\"**\tEscritura (crea o sobrescribe el archivo).\n",
        "* **\"a\"**\tAgregar contenido sin sobrescribir.\n",
        "* **\"rb\"**, **\"wb\"**\tLectura/escritura en modo binario."
      ]
    },
    {
      "cell_type": "markdown",
      "metadata": {
        "id": "AKIbizxIW2bX"
      },
      "source": [
        "#### **1.3.1 Crear un archivo de texto**"
      ]
    },
    {
      "cell_type": "code",
      "execution_count": 28,
      "metadata": {
        "id": "vp2EW8OjW2bX"
      },
      "outputs": [],
      "source": [
        "nombre_archivo = \"mi_primer_archivo.txt\" # Indico el nombre del archivo\n",
        "\n",
        "# Ahora le paso el contenido\n",
        "contenido = \"\"\"\n",
        "Este es mi primer archivo txt\n",
        "\"\"\".strip()\n",
        "\n",
        "with open(nombre_archivo, 'w') as archivo:\n",
        "    archivo.write(contenido)"
      ]
    },
    {
      "cell_type": "markdown",
      "source": [
        "Si te fijas, como estoy en la ruta `/content` se generó en ese espacio. Para cambiarlo utilizo las funciones vistas anteriormente."
      ],
      "metadata": {
        "id": "MrAT1rR2F0Yv"
      }
    },
    {
      "cell_type": "code",
      "source": [
        "os.getcwd()"
      ],
      "metadata": {
        "colab": {
          "base_uri": "https://localhost:8080/",
          "height": 36
        },
        "id": "vamZtZnOGJW9",
        "outputId": "99b871c2-a8b1-498e-bade-7399c379e50f"
      },
      "execution_count": 29,
      "outputs": [
        {
          "output_type": "execute_result",
          "data": {
            "text/plain": [
              "'/content'"
            ],
            "application/vnd.google.colaboratory.intrinsic+json": {
              "type": "string"
            }
          },
          "metadata": {},
          "execution_count": 29
        }
      ]
    },
    {
      "cell_type": "code",
      "source": [
        "os.chdir(\"/content/carpeta_renombrada\")"
      ],
      "metadata": {
        "id": "3IxLhpKUGFsj"
      },
      "execution_count": 30,
      "outputs": []
    },
    {
      "cell_type": "code",
      "source": [
        "os.getcwd()"
      ],
      "metadata": {
        "colab": {
          "base_uri": "https://localhost:8080/",
          "height": 36
        },
        "id": "iokUbqeQG4Lh",
        "outputId": "d851c275-d6d0-4105-bc23-4bcf5b967cb7"
      },
      "execution_count": 31,
      "outputs": [
        {
          "output_type": "execute_result",
          "data": {
            "text/plain": [
              "'/content/carpeta_renombrada'"
            ],
            "application/vnd.google.colaboratory.intrinsic+json": {
              "type": "string"
            }
          },
          "metadata": {},
          "execution_count": 31
        }
      ]
    },
    {
      "cell_type": "code",
      "source": [
        "name = \"archivo.txt\"\n",
        "\n",
        "content = \"\"\"\n",
        "Había una vez...\n",
        "Finalmente se obtuvo...\n",
        "\n",
        "Gabriel Olmos\n",
        "\"\"\".strip()\n",
        "\n",
        "with open(name, 'w') as archivo:\n",
        "  archivo.write(content)"
      ],
      "metadata": {
        "id": "m8c2vvZiGhMg"
      },
      "execution_count": 32,
      "outputs": []
    },
    {
      "cell_type": "markdown",
      "source": [
        "Ahora el archivo se creó en el directorio llamado `carpeta_renombrada`."
      ],
      "metadata": {
        "id": "LL7N8K13G9Lo"
      }
    },
    {
      "cell_type": "markdown",
      "metadata": {
        "id": "qO3td2qNW2bX"
      },
      "source": [
        "#### **1.3.2 Leer un archivo de texto**"
      ]
    },
    {
      "cell_type": "code",
      "source": [
        "!git clone https://github.com/GbrlOl/programacion-2.git"
      ],
      "metadata": {
        "id": "csbUYAqtFqKH"
      },
      "execution_count": null,
      "outputs": []
    },
    {
      "cell_type": "markdown",
      "metadata": {
        "id": "_-IIxD8AW2bX"
      },
      "source": [
        "**Recordar**: En windows no funcionan siempre las rutas relativas, por lo cual se necesita de la ruta completa."
      ]
    },
    {
      "cell_type": "code",
      "execution_count": 34,
      "metadata": {
        "id": "TDajqTFmW2bY"
      },
      "outputs": [],
      "source": [
        "# path = r\"/content/programacion-2/materiales/cuento.txt\"\n",
        "path = \"/content/programacion-2/materiales/cuento.txt\"\n",
        "\n",
        "with open(path, 'r') as archivo:\n",
        "    contenido = archivo.read()"
      ]
    },
    {
      "cell_type": "code",
      "source": [
        "contenido"
      ],
      "metadata": {
        "id": "aChJsCHvHWHg"
      },
      "execution_count": null,
      "outputs": []
    },
    {
      "cell_type": "code",
      "source": [
        "print(contenido)"
      ],
      "metadata": {
        "id": "ZDzQ0KeuHaXo"
      },
      "execution_count": null,
      "outputs": []
    },
    {
      "cell_type": "markdown",
      "metadata": {
        "id": "Gcnns1OlW2bY"
      },
      "source": [
        "#### **1.3.3 Agregar contenido a un archivo**"
      ]
    },
    {
      "cell_type": "code",
      "execution_count": 37,
      "metadata": {
        "id": "VyMiJiiyW2bZ"
      },
      "outputs": [],
      "source": [
        "path = \"/content/programacion-2/materiales/cuento.txt\"\n",
        "\n",
        "with open(path, \"a\") as archivo:\n",
        "    archivo.write(\"\\nNueva línea añadida a mi archivo.\")\n"
      ]
    },
    {
      "cell_type": "markdown",
      "metadata": {
        "id": "k8xceAzBW2bZ"
      },
      "source": [
        "### **1.4 Datatime**"
      ]
    },
    {
      "cell_type": "markdown",
      "metadata": {
        "id": "ButET1hoW2bZ"
      },
      "source": [
        "Para saber más del módulo **datatime** puedes revisar la página oficial:\n",
        "\n",
        "* [Módulo Datatime](https://docs.python.org/3/library/datetime.html)"
      ]
    },
    {
      "cell_type": "markdown",
      "metadata": {
        "id": "b0if3YwEW2bZ"
      },
      "source": [
        "#### **1.3.1 Importar módulo**"
      ]
    },
    {
      "cell_type": "code",
      "execution_count": null,
      "metadata": {
        "id": "8MtUiGCfW2bZ"
      },
      "outputs": [],
      "source": [
        "import datetime"
      ]
    },
    {
      "cell_type": "markdown",
      "metadata": {
        "id": "fJifuXXvW2bZ"
      },
      "source": [
        "#### **1.3.2 Obtener la fecha y hora actual**"
      ]
    },
    {
      "cell_type": "code",
      "execution_count": null,
      "metadata": {
        "id": "NZsZ4utLW2bZ",
        "outputId": "85e00391-0888-4504-a394-e51c18802851"
      },
      "outputs": [
        {
          "name": "stdout",
          "output_type": "stream",
          "text": [
            "2025-02-27 11:32:23.939690\n"
          ]
        }
      ],
      "source": [
        "ahora = datetime.datetime.now()\n",
        "print(ahora)  # Muestra la fecha y hora actuales"
      ]
    },
    {
      "cell_type": "markdown",
      "metadata": {
        "id": "tX4u-NQKW2bZ"
      },
      "source": [
        "#### **1.3.3 Obtener solo la fecha o solo la hora**"
      ]
    },
    {
      "cell_type": "code",
      "execution_count": null,
      "metadata": {
        "id": "b5MOVLH1W2ba",
        "outputId": "3bbd8469-2c63-4eb8-fc12-234a56e515a4"
      },
      "outputs": [
        {
          "name": "stdout",
          "output_type": "stream",
          "text": [
            "2025-02-27\n"
          ]
        }
      ],
      "source": [
        "# Solo la fecha\n",
        "fecha = ahora.date()\n",
        "print(fecha)  # Muestra solo la fecha sin la hora"
      ]
    },
    {
      "cell_type": "code",
      "execution_count": null,
      "metadata": {
        "id": "bQiJ1z1gW2ba",
        "outputId": "ef9c1c70-5d14-4efc-9b60-a42d6193e930"
      },
      "outputs": [
        {
          "name": "stdout",
          "output_type": "stream",
          "text": [
            "11:32:23.939690\n"
          ]
        }
      ],
      "source": [
        "# Solo la hora\n",
        "hora = ahora.time()\n",
        "print(hora)  # Muestra solo la hora sin la fecha"
      ]
    },
    {
      "cell_type": "markdown",
      "metadata": {
        "id": "rZ4xbQzOW2ba"
      },
      "source": [
        "#### **1.3.4 Crear una fecha específica**"
      ]
    },
    {
      "cell_type": "code",
      "execution_count": null,
      "metadata": {
        "id": "viHrQlBYW2ba",
        "outputId": "00d577dc-98b1-4124-aab4-9673c6f10c8d"
      },
      "outputs": [
        {
          "name": "stdout",
          "output_type": "stream",
          "text": [
            "2023-05-17 10:30:00\n"
          ]
        }
      ],
      "source": [
        "fecha_especifica = datetime.datetime(2023, 5, 17, 10, 30)\n",
        "print(fecha_especifica)"
      ]
    },
    {
      "cell_type": "markdown",
      "metadata": {
        "id": "SzswoOBrW2ba"
      },
      "source": [
        "#### **1.3.5 Formatear fechas y horas**"
      ]
    },
    {
      "cell_type": "code",
      "execution_count": null,
      "metadata": {
        "id": "2FwK6fE6W2bb",
        "outputId": "603b6e30-e4f9-401c-df2e-8a1a7a4cde2c"
      },
      "outputs": [
        {
          "name": "stdout",
          "output_type": "stream",
          "text": [
            "2025-02-27 11:36:15\n"
          ]
        }
      ],
      "source": [
        "ahora = datetime.datetime.now()\n",
        "formato = ahora.strftime(\"%Y-%m-%d %H:%M:%S\")\n",
        "print(formato)"
      ]
    },
    {
      "cell_type": "markdown",
      "metadata": {
        "id": "962sus7IW2bb"
      },
      "source": [
        "El significado de cada argumento lo puedes ver a continuación:\n",
        "\n",
        "* ``%Y``: Año con cuatro dígitos.\n",
        "* ``%m``: Mes con dos dígitos.\n",
        "* ``%d``: Día del mes con dos dígitos.\n",
        "* ``%H``: Hora en formato de 24 horas.\n",
        "* ``%M``: Minutos.\n",
        "* ``%S``: Segundos."
      ]
    },
    {
      "cell_type": "markdown",
      "metadata": {
        "id": "Mh7VclO8W2bb"
      },
      "source": [
        "#### **Importante**\n",
        "\n",
        "Pueden existir otros métodos, los mostrados anteriormente son algunos."
      ]
    },
    {
      "cell_type": "markdown",
      "metadata": {
        "id": "UisQwZAJW2bb"
      },
      "source": [
        "### **1.4 Módulo Shutil**"
      ]
    },
    {
      "cell_type": "markdown",
      "metadata": {
        "id": "RZHNt40vW2bb"
      },
      "source": [
        "**shutil** es un módulo en Python que ofrece una serie de operaciones de alto nivel sobre archivos y colecciones de archivos. Es muy útil para mover, copiar, eliminar archivos o directorios, y otras tareas relacionadas con la manipulación de archivos y carpetas."
      ]
    },
    {
      "cell_type": "markdown",
      "metadata": {
        "id": "jtG7TTZSW2bb"
      },
      "source": [
        "#### **1.4.1 Copiar archivos**"
      ]
    },
    {
      "cell_type": "markdown",
      "metadata": {
        "id": "qvAdGsN6W2bb"
      },
      "source": [
        "Para copiar archivos, puedes usar ``shutil.copy()`` o ``shutil.copy2()`` (que también conserva las marcas de tiempo del archivo original).\n",
        "\n",
        "```python\n",
        "shutil.copy('archivo_origen.txt', 'archivo_destino.txt')\n",
        "```"
      ]
    },
    {
      "cell_type": "code",
      "execution_count": null,
      "metadata": {
        "id": "bDauiLKAW2bb",
        "outputId": "aa2ac096-ef80-4173-dadf-a26d44e85ca4"
      },
      "outputs": [
        {
          "data": {
            "text/plain": [
              "'C:\\\\Users\\\\gol_m\\\\OneDrive\\\\Desktop\\\\Magíster en Ciencias de la Ingeniería\\\\2025\\\\Cursos Dictados\\\\Primer Semestre\\\\EIE409 - PROGRAMACIÓN 2\\\\CLASES\\\\cuento.txt'"
            ]
          },
          "execution_count": 1,
          "metadata": {},
          "output_type": "execute_result"
        }
      ],
      "source": [
        "import shutil\n",
        "\n",
        "archivo_origen = r\"C:\\Users\\gol_m\\OneDrive\\Desktop\\Magíster en Ciencias de la Ingeniería\\2025\\Cursos Dictados\\Primer Semestre\\EIE409 - PROGRAMACIÓN 2\\CLASES\\materiales\\cuento.txt\"\n",
        "archivo_destino = r\"C:\\Users\\gol_m\\OneDrive\\Desktop\\Magíster en Ciencias de la Ingeniería\\2025\\Cursos Dictados\\Primer Semestre\\EIE409 - PROGRAMACIÓN 2\\CLASES\"\n",
        "\n",
        "shutil.copy(archivo_origen, archivo_destino)"
      ]
    },
    {
      "cell_type": "markdown",
      "metadata": {
        "id": "IoEndi-QW2bc"
      },
      "source": [
        "#### **1.4.2 Mover archivos**"
      ]
    },
    {
      "cell_type": "markdown",
      "metadata": {
        "id": "RhTxOXjiW2bc"
      },
      "source": [
        "Si deseas mover o renombrar archivos, puedes usar ``shutil.move()``."
      ]
    },
    {
      "cell_type": "code",
      "execution_count": null,
      "metadata": {
        "id": "5LAvedUgW2bc",
        "outputId": "f44ccae5-a503-4c53-8b4e-ed505ed3c1aa"
      },
      "outputs": [
        {
          "data": {
            "text/plain": [
              "'C:\\\\Users\\\\gol_m\\\\OneDrive\\\\Desktop\\\\Magíster en Ciencias de la Ingeniería\\\\2025\\\\Cursos Dictados\\\\Primer Semestre\\\\EIE409 - PROGRAMACIÓN 2\\\\CLASES\\\\cuento_renombrado.txt'"
            ]
          },
          "execution_count": 2,
          "metadata": {},
          "output_type": "execute_result"
        }
      ],
      "source": [
        "# Fíjate que cambié el nombre del archivo\n",
        "archivo_origen = r\"C:\\Users\\gol_m\\OneDrive\\Desktop\\Magíster en Ciencias de la Ingeniería\\2025\\Cursos Dictados\\Primer Semestre\\EIE409 - PROGRAMACIÓN 2\\CLASES\\materiales\\cuento.txt\"\n",
        "archivo_destino = r\"C:\\Users\\gol_m\\OneDrive\\Desktop\\Magíster en Ciencias de la Ingeniería\\2025\\Cursos Dictados\\Primer Semestre\\EIE409 - PROGRAMACIÓN 2\\CLASES\\cuento_renombrado.txt\"\n",
        "\n",
        "shutil.move(archivo_origen, archivo_destino)"
      ]
    },
    {
      "cell_type": "markdown",
      "metadata": {
        "id": "op2Etl8TW2bc"
      },
      "source": [
        "#### **1.4.3 Eliminar directorios o archivos**"
      ]
    },
    {
      "cell_type": "code",
      "execution_count": null,
      "metadata": {
        "id": "X1ZX39hjW2bc"
      },
      "outputs": [],
      "source": [
        "# Primero crearemos un directorio\n",
        "import os\n",
        "\n",
        "ruta_directorio = r\"C:\\Users\\gol_m\\OneDrive\\Desktop\\Magíster en Ciencias de la Ingeniería\\2025\\Cursos Dictados\\Primer Semestre\\EIE409 - PROGRAMACIÓN 2\\CLASES\\materiales\\mi_directorio\"\n",
        "\n",
        "os.makedirs(ruta_directorio, exist_ok=True)"
      ]
    },
    {
      "cell_type": "code",
      "execution_count": null,
      "metadata": {
        "id": "sR3E6fFeW2bd"
      },
      "outputs": [],
      "source": [
        "# Vamos a realizar una copia de archivos en mi directorio\n",
        "\n",
        "archivos = r\"C:\\Users\\gol_m\\OneDrive\\Desktop\\Magíster en Ciencias de la Ingeniería\\2025\\Cursos Dictados\\Primer Semestre\\EIE409 - PROGRAMACIÓN 2\\CLASES\\materiales\"\n",
        "\n",
        "lista_archivos = os.listdir(archivos)"
      ]
    },
    {
      "cell_type": "markdown",
      "metadata": {
        "id": "ZCxeIS7EW2bd"
      },
      "source": [
        "Ahora debemos construir el path, iterar y copiar los archivos"
      ]
    },
    {
      "cell_type": "code",
      "execution_count": null,
      "metadata": {
        "id": "6dY1dQ0rW2bd",
        "outputId": "62594b6f-5c97-4b6a-a202-883a34621d66"
      },
      "outputs": [
        {
          "data": {
            "text/plain": [
              "['cuento.txt', 'dos_palos.png', 'mi_directorio', 'test.json']"
            ]
          },
          "execution_count": 5,
          "metadata": {},
          "output_type": "execute_result"
        }
      ],
      "source": [
        "lista_archivos"
      ]
    },
    {
      "cell_type": "markdown",
      "metadata": {
        "id": "SYR97RjfW2bd"
      },
      "source": [
        "Primero lo realizaremos de la manera más sencilla."
      ]
    },
    {
      "cell_type": "code",
      "execution_count": null,
      "metadata": {
        "id": "8EsiBnQoW2bd",
        "outputId": "f2c40e3e-28fe-4f0b-e112-3004313681c2"
      },
      "outputs": [
        {
          "data": {
            "text/plain": [
              "'C:\\\\Users\\\\gol_m\\\\OneDrive\\\\Desktop\\\\Magíster en Ciencias de la Ingeniería\\\\2025\\\\Cursos Dictados\\\\Primer Semestre\\\\EIE409 - PROGRAMACIÓN 2\\\\CLASES\\\\materiales\\\\mi_directorio\\\\cuento.txt'"
            ]
          },
          "execution_count": 8,
          "metadata": {},
          "output_type": "execute_result"
        }
      ],
      "source": [
        "archivo_copiar = r\"C:\\Users\\gol_m\\OneDrive\\Desktop\\Magíster en Ciencias de la Ingeniería\\2025\\Cursos Dictados\\Primer Semestre\\EIE409 - PROGRAMACIÓN 2\\CLASES\\materiales\\cuento.txt\"\n",
        "\n",
        "shutil.copy(archivo_copiar, ruta_directorio)"
      ]
    },
    {
      "cell_type": "code",
      "execution_count": null,
      "metadata": {
        "id": "VQpnz-wKW2bd",
        "outputId": "282fe706-1411-4eb7-80c6-7a034d98e077"
      },
      "outputs": [
        {
          "data": {
            "text/plain": [
              "'C:\\\\Users\\\\gol_m\\\\OneDrive\\\\Desktop\\\\Magíster en Ciencias de la Ingeniería\\\\2025\\\\Cursos Dictados\\\\Primer Semestre\\\\EIE409 - PROGRAMACIÓN 2\\\\CLASES\\\\materiales\\\\mi_directorio\\\\dos_palos.png'"
            ]
          },
          "execution_count": 9,
          "metadata": {},
          "output_type": "execute_result"
        }
      ],
      "source": [
        "archivo_copiar = r\"C:\\Users\\gol_m\\OneDrive\\Desktop\\Magíster en Ciencias de la Ingeniería\\2025\\Cursos Dictados\\Primer Semestre\\EIE409 - PROGRAMACIÓN 2\\CLASES\\materiales\\dos_palos.png\"\n",
        "\n",
        "shutil.copy(archivo_copiar, ruta_directorio)"
      ]
    },
    {
      "cell_type": "code",
      "execution_count": null,
      "metadata": {
        "id": "VFU-dzWjW2bd",
        "outputId": "9d4b7ad2-e4a9-45db-9676-904f363d332d"
      },
      "outputs": [
        {
          "data": {
            "text/plain": [
              "'C:\\\\Users\\\\gol_m\\\\OneDrive\\\\Desktop\\\\Magíster en Ciencias de la Ingeniería\\\\2025\\\\Cursos Dictados\\\\Primer Semestre\\\\EIE409 - PROGRAMACIÓN 2\\\\CLASES\\\\materiales\\\\mi_directorio\\\\test.json'"
            ]
          },
          "execution_count": 10,
          "metadata": {},
          "output_type": "execute_result"
        }
      ],
      "source": [
        "archivo_copiar = r\"C:\\Users\\gol_m\\OneDrive\\Desktop\\Magíster en Ciencias de la Ingeniería\\2025\\Cursos Dictados\\Primer Semestre\\EIE409 - PROGRAMACIÓN 2\\CLASES\\materiales\\test.json\"\n",
        "\n",
        "shutil.copy(archivo_copiar, ruta_directorio)"
      ]
    },
    {
      "cell_type": "code",
      "execution_count": null,
      "metadata": {
        "id": "VhVcLp3FW2be",
        "outputId": "4bee295b-ddee-4f8a-f5ab-29a355536fd4"
      },
      "outputs": [
        {
          "ename": "PermissionError",
          "evalue": "[WinError 5] Acceso denegado: 'C:\\\\Users\\\\gol_m\\\\OneDrive\\\\Desktop\\\\Magíster en Ciencias de la Ingeniería\\\\2025\\\\Cursos Dictados\\\\Primer Semestre\\\\EIE409 - PROGRAMACIÓN 2\\\\CLASES\\\\materiales\\\\mi_directorio'",
          "output_type": "error",
          "traceback": [
            "\u001b[1;31m---------------------------------------------------------------------------\u001b[0m",
            "\u001b[1;31mPermissionError\u001b[0m                           Traceback (most recent call last)",
            "Cell \u001b[1;32mIn[3], line 3\u001b[0m\n\u001b[0;32m      1\u001b[0m \u001b[38;5;66;03m# Para eliminar el direcotiro debemos:\u001b[39;00m\n\u001b[1;32m----> 3\u001b[0m \u001b[43mshutil\u001b[49m\u001b[38;5;241;43m.\u001b[39;49m\u001b[43mrmtree\u001b[49m\u001b[43m(\u001b[49m\u001b[43mruta_directorio\u001b[49m\u001b[43m)\u001b[49m\n",
            "File \u001b[1;32mc:\\Users\\gol_m\\anaconda3\\envs\\programacion_2\\lib\\shutil.py:750\u001b[0m, in \u001b[0;36mrmtree\u001b[1;34m(path, ignore_errors, onerror)\u001b[0m\n\u001b[0;32m    748\u001b[0m     \u001b[38;5;66;03m# can't continue even if onerror hook returns\u001b[39;00m\n\u001b[0;32m    749\u001b[0m     \u001b[38;5;28;01mreturn\u001b[39;00m\n\u001b[1;32m--> 750\u001b[0m \u001b[38;5;28;01mreturn\u001b[39;00m \u001b[43m_rmtree_unsafe\u001b[49m\u001b[43m(\u001b[49m\u001b[43mpath\u001b[49m\u001b[43m,\u001b[49m\u001b[43m \u001b[49m\u001b[43monerror\u001b[49m\u001b[43m)\u001b[49m\n",
            "File \u001b[1;32mc:\\Users\\gol_m\\anaconda3\\envs\\programacion_2\\lib\\shutil.py:624\u001b[0m, in \u001b[0;36m_rmtree_unsafe\u001b[1;34m(path, onerror)\u001b[0m\n\u001b[0;32m    622\u001b[0m     os\u001b[38;5;241m.\u001b[39mrmdir(path)\n\u001b[0;32m    623\u001b[0m \u001b[38;5;28;01mexcept\u001b[39;00m \u001b[38;5;167;01mOSError\u001b[39;00m:\n\u001b[1;32m--> 624\u001b[0m     \u001b[43monerror\u001b[49m\u001b[43m(\u001b[49m\u001b[43mos\u001b[49m\u001b[38;5;241;43m.\u001b[39;49m\u001b[43mrmdir\u001b[49m\u001b[43m,\u001b[49m\u001b[43m \u001b[49m\u001b[43mpath\u001b[49m\u001b[43m,\u001b[49m\u001b[43m \u001b[49m\u001b[43msys\u001b[49m\u001b[38;5;241;43m.\u001b[39;49m\u001b[43mexc_info\u001b[49m\u001b[43m(\u001b[49m\u001b[43m)\u001b[49m\u001b[43m)\u001b[49m\n",
            "File \u001b[1;32mc:\\Users\\gol_m\\anaconda3\\envs\\programacion_2\\lib\\shutil.py:622\u001b[0m, in \u001b[0;36m_rmtree_unsafe\u001b[1;34m(path, onerror)\u001b[0m\n\u001b[0;32m    620\u001b[0m             onerror(os\u001b[38;5;241m.\u001b[39munlink, fullname, sys\u001b[38;5;241m.\u001b[39mexc_info())\n\u001b[0;32m    621\u001b[0m \u001b[38;5;28;01mtry\u001b[39;00m:\n\u001b[1;32m--> 622\u001b[0m     \u001b[43mos\u001b[49m\u001b[38;5;241;43m.\u001b[39;49m\u001b[43mrmdir\u001b[49m\u001b[43m(\u001b[49m\u001b[43mpath\u001b[49m\u001b[43m)\u001b[49m\n\u001b[0;32m    623\u001b[0m \u001b[38;5;28;01mexcept\u001b[39;00m \u001b[38;5;167;01mOSError\u001b[39;00m:\n\u001b[0;32m    624\u001b[0m     onerror(os\u001b[38;5;241m.\u001b[39mrmdir, path, sys\u001b[38;5;241m.\u001b[39mexc_info())\n",
            "\u001b[1;31mPermissionError\u001b[0m: [WinError 5] Acceso denegado: 'C:\\\\Users\\\\gol_m\\\\OneDrive\\\\Desktop\\\\Magíster en Ciencias de la Ingeniería\\\\2025\\\\Cursos Dictados\\\\Primer Semestre\\\\EIE409 - PROGRAMACIÓN 2\\\\CLASES\\\\materiales\\\\mi_directorio'"
          ]
        }
      ],
      "source": [
        "# Para eliminar el direcotiro debemos:\n",
        "\n",
        "shutil.rmtree(ruta_directorio)"
      ]
    },
    {
      "cell_type": "markdown",
      "metadata": {
        "id": "AHOn6rJFW2be"
      },
      "source": [
        "#### **1.4.4 Copiar directorios**"
      ]
    },
    {
      "cell_type": "code",
      "execution_count": null,
      "metadata": {
        "id": "d_-Mf3qeW2be"
      },
      "outputs": [],
      "source": [
        "import shutil\n",
        "\n",
        "# Copiar un directorio y su contenido\n",
        "shutil.copytree('directorio_origen', 'directorio_destino')"
      ]
    },
    {
      "cell_type": "markdown",
      "metadata": {
        "id": "CxMgWLEzW2be"
      },
      "source": [
        "#### **1.4.5 Mover directorios**"
      ]
    },
    {
      "cell_type": "code",
      "execution_count": null,
      "metadata": {
        "id": "kctbzktNW2be"
      },
      "outputs": [],
      "source": [
        "import shutil\n",
        "\n",
        "# Mover un directorio\n",
        "shutil.move('directorio_origen', 'nuevo_directorio')\n"
      ]
    },
    {
      "cell_type": "markdown",
      "metadata": {
        "id": "wg2kNi_QW2be"
      },
      "source": [
        "#### **1.4.6 Crear un archivo comprimido**"
      ]
    },
    {
      "cell_type": "code",
      "execution_count": null,
      "metadata": {
        "id": "_TwmgN27W2be"
      },
      "outputs": [],
      "source": [
        "import shutil\n",
        "\n",
        "# Crear un archivo ZIP\n",
        "shutil.make_archive('archivo_comprimido', 'zip', 'directorio_a_comprimir')\n",
        "\n",
        "# Crear un archivo TAR\n",
        "shutil.make_archive('archivo_comprimido_tar', 'tar', 'directorio_a_comprimir')\n"
      ]
    },
    {
      "cell_type": "markdown",
      "metadata": {
        "id": "G_OLI2u3W2be"
      },
      "source": [
        "#### **1.4.7. Extraer archivos comprimidos**"
      ]
    },
    {
      "cell_type": "code",
      "execution_count": null,
      "metadata": {
        "id": "8Sbhfon6W2bf"
      },
      "outputs": [],
      "source": [
        "import shutil\n",
        "\n",
        "# Extraer archivo comprimido (ZIP o TAR)\n",
        "shutil.unpack_archive('archivo_comprimido.zip', 'directorio_destino')\n"
      ]
    },
    {
      "cell_type": "markdown",
      "metadata": {
        "id": "YTwdW1eUW2bf"
      },
      "source": [
        "#### **1.4.8 Verificar el uso de espacio en disco**"
      ]
    },
    {
      "cell_type": "code",
      "execution_count": null,
      "metadata": {
        "id": "bED9dZdzW2bf"
      },
      "outputs": [],
      "source": [
        "import shutil\n",
        "\n",
        "# Ver el uso de espacio en un directorio\n",
        "uso = shutil.disk_usage('/ruta/del/directorio')\n",
        "\n",
        "# Ver los resultados\n",
        "print(f\"Espacio total: {uso.total} bytes\")\n",
        "print(f\"Espacio usado: {uso.used} bytes\")\n",
        "print(f\"Espacio libre: {uso.free} bytes\")\n"
      ]
    },
    {
      "cell_type": "markdown",
      "metadata": {
        "id": "zPn5_LP3W2bf"
      },
      "source": [
        "## **2. Instalar Librerías o Frameworks**"
      ]
    },
    {
      "cell_type": "markdown",
      "metadata": {
        "id": "HoVLGnafW2bf"
      },
      "source": [
        "Dependiendo de si se está utilizando Google Colab o Python con algún IDE en tu dispositivo, para instalar una dependencia externa se debe utilizar el comando de consola `pip install <framework>`. Es importante recordar que si se está trabajando con tu dispositivo local se debe de crear un ambiente de trabajo para instalar las dependencias.\n",
        "\n",
        "```bash\n",
        "pip install framework_name\n",
        "```"
      ]
    },
    {
      "cell_type": "markdown",
      "metadata": {
        "id": "qQBrSw0TW2bf"
      },
      "source": [
        "## **3. Diferencia entre Módulo, Librería, Paquete, Framework**"
      ]
    },
    {
      "cell_type": "markdown",
      "metadata": {
        "id": "X7ZAlYeqW2bf"
      },
      "source": [
        "### **Resumen**\n",
        "\n",
        "| Concepto  | ¿Qué es? | Ejemplo |\n",
        "|-----------|---------|---------|\n",
        "| **Módulo** | Un solo archivo `.py` con funciones o clases. | `math`, `random`, `math_utils.py` |\n",
        "| **Paquete** | Carpeta con varios módulos organizados. | `scipy`, `utilidades/` |\n",
        "| **Librería** | Conjunto de módulos con funciones específicas. | `NumPy`, `Pandas`, `Requests` |\n",
        "| **Framework** | Conjunto de librerías y reglas que estructuran el código. | `Django`, `Flask`, `FastAPI` |\n",
        "| **SDK** | Kit de herramientas para desarrollar con una tecnología. | Google Cloud SDK, Android SDK |\n",
        "| **API** | Interfaz para que programas se comuniquen. | API de Twitter, API de GitHub |\n",
        "| **CLI** | Interfaz de línea de comandos para ejecutar comandos. | `python --version`, `git status` |"
      ]
    },
    {
      "cell_type": "markdown",
      "metadata": {
        "id": "_FQv1sH4W2bf"
      },
      "source": [
        "## **4. Ejercicios**"
      ]
    },
    {
      "cell_type": "markdown",
      "metadata": {
        "id": "2PooeOLgW2bg"
      },
      "source": [
        "### **4.1 Ejercicio 1: Gestión de archivos**"
      ]
    },
    {
      "cell_type": "markdown",
      "metadata": {
        "id": "jvv_Ob3bW2bg"
      },
      "source": [
        "Requisitos:\n",
        "1. Crear una carpeta principal llamada proyecto.\n",
        "2. Crear subcarpetas dentro de proyecto llamadas imagenes, documentos y archivos.\n",
        "3. Crear algunos archivos de texto dentro de documentos y archivos.\n",
        "4. Mover algunos archivos de un directorio a otro.\n",
        "5. Copiar un archivo a otro directorio.\n",
        "6. Renombrar un archivo.\n",
        "7. Eliminar un archivo y una carpeta."
      ]
    }
  ],
  "metadata": {
    "kernelspec": {
      "display_name": "programacion_2",
      "language": "python",
      "name": "python3"
    },
    "language_info": {
      "codemirror_mode": {
        "name": "ipython",
        "version": 3
      },
      "file_extension": ".py",
      "mimetype": "text/x-python",
      "name": "python",
      "nbconvert_exporter": "python",
      "pygments_lexer": "ipython3",
      "version": "3.10.16"
    },
    "colab": {
      "provenance": [],
      "collapsed_sections": [
        "TkVokGtQW2bR",
        "FpuUuO7eW2bS",
        "4lhkmM2yW2bS",
        "NdW7fZYJW2bS",
        "DmmsTWsOW2bT",
        "kGfVGR_iW2bU",
        "EWsiyfp3W2bV",
        "QzwnW4VNW2bW",
        "CM3CqDyqW2bW",
        "F1dtIb25W2bX"
      ],
      "include_colab_link": true
    }
  },
  "nbformat": 4,
  "nbformat_minor": 0
}